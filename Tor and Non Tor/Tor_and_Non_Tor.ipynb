{
  "cells": [
    {
      "cell_type": "code",
      "execution_count": null,
      "id": "1650faae",
      "metadata": {
        "id": "1650faae"
      },
      "outputs": [],
      "source": [
        "\n",
        "\n",
        "\n",
        "\n",
        "\n",
        "import pandas as pd\n",
        "import numpy as np\n",
        "import matplotlib.pyplot as plt\n",
        "from sklearn.preprocessing import MinMaxScaler\n",
        "from sklearn.model_selection import train_test_split \n",
        "# sklearn Models\n",
        "from sklearn.dummy import DummyClassifier\n",
        "from sklearn.tree import DecisionTreeClassifier\n",
        "from sklearn.neighbors import KNeighborsClassifier\n",
        "\n",
        "# Split data with stratified cv\n",
        "from sklearn.model_selection import StratifiedKFold, train_test_split\n",
        "\n",
        "# Encoding of classifications\n",
        "from sklearn.preprocessing import LabelEncoder\n"
      ]
    },
    {
      "cell_type": "code",
      "execution_count": null,
      "id": "38cdf16f",
      "metadata": {
        "id": "38cdf16f"
      },
      "outputs": [],
      "source": [
        "import numpy as np\n",
        "from sklearn.metrics import classification_report"
      ]
    },
    {
      "cell_type": "code",
      "execution_count": null,
      "id": "33f51a14",
      "metadata": {
        "id": "33f51a14"
      },
      "outputs": [],
      "source": [
        "from sklearn.preprocessing import StandardScaler\n",
        "from sklearn import svm"
      ]
    },
    {
      "cell_type": "code",
      "execution_count": null,
      "id": "69c9b90d",
      "metadata": {
        "id": "69c9b90d"
      },
      "outputs": [],
      "source": [
        "from tensorflow.keras.optimizers import Adam\n",
        "from tensorflow.keras.models import Sequential\n",
        "from tensorflow.keras.layers import Dense, Dropout\n",
        "from tensorflow.keras.activations import relu\n",
        "from sklearn.preprocessing import MinMaxScaler\n",
        "from sklearn.model_selection import train_test_split "
      ]
    },
    {
      "cell_type": "code",
      "execution_count": null,
      "id": "8a7c6265",
      "metadata": {
        "id": "8a7c6265"
      },
      "outputs": [],
      "source": [
        "from tensorflow.keras.metrics import CategoricalAccuracy, Precision, Recall\n",
        "from tensorflow.keras.utils import to_categorical, normalize"
      ]
    },
    {
      "cell_type": "code",
      "execution_count": null,
      "id": "39fc35a4",
      "metadata": {
        "id": "39fc35a4",
        "outputId": "431da3cf-d0b1-404b-9900-afef70e61f0a"
      },
      "outputs": [
        {
          "name": "stdout",
          "output_type": "stream",
          "text": [
            "(3311, 24)\n",
            "Columns: Index(['duration', 'total_fiat', 'total_biat', 'min_fiat', 'min_biat',\n",
            "       'max_fiat', 'max_biat', 'mean_fiat', 'mean_biat', 'flowPktsPerSecond',\n",
            "       'flowBytesPerSecond', 'min_flowiat', 'max_flowiat', 'mean_flowiat',\n",
            "       'std_flowiat', 'min_active', 'mean_active', 'max_active', 'std_active',\n",
            "       'min_idle', 'mean_idle', 'max_idle', 'std_idle', 'class1'],\n",
            "      dtype='object') \n",
            " Rows: RangeIndex(start=0, stop=3311, step=1)\n",
            "(2464, 24)\n",
            "Columns: Index(['duration', 'total_fiat', 'total_biat', 'min_fiat', 'min_biat',\n",
            "       'max_fiat', 'max_biat', 'mean_fiat', 'mean_biat', 'flowPktsPerSecond',\n",
            "       'flowBytesPerSecond', 'min_flowiat', 'max_flowiat', 'mean_flowiat',\n",
            "       'std_flowiat', 'min_active', 'mean_active', 'max_active', 'std_active',\n",
            "       'min_idle', 'mean_idle', 'max_idle', 'std_idle', 'class1'],\n",
            "      dtype='object') \n",
            " Rows: RangeIndex(start=0, stop=2464, step=1)\n",
            "(2465, 24)\n",
            "Columns: Index(['duration', 'total_fiat', 'total_biat', 'min_fiat', 'min_biat',\n",
            "       'max_fiat', 'max_biat', 'mean_fiat', 'mean_biat', 'flowPktsPerSecond',\n",
            "       'flowBytesPerSecond', 'min_flowiat', 'max_flowiat', 'mean_flowiat',\n",
            "       'std_flowiat', 'min_active', 'mean_active', 'max_active', 'std_active',\n",
            "       'min_idle', 'mean_idle', 'max_idle', 'std_idle', 'class1'],\n",
            "      dtype='object') \n",
            " Rows: RangeIndex(start=0, stop=2465, step=1)\n",
            "(1688, 24)\n",
            "Columns: Index(['duration', 'total_fiat', 'total_biat', 'min_fiat', 'min_biat',\n",
            "       'max_fiat', 'max_biat', 'mean_fiat', 'mean_biat', 'flowPktsPerSecond',\n",
            "       'flowBytesPerSecond', 'min_flowiat', 'max_flowiat', 'mean_flowiat',\n",
            "       'std_flowiat', 'min_active', 'mean_active', 'max_active', 'std_active',\n",
            "       'min_idle', 'mean_idle', 'max_idle', 'std_idle', 'class1'],\n",
            "      dtype='object') \n",
            " Rows: RangeIndex(start=0, stop=1688, step=1)\n",
            "(9928, 24)\n",
            "Columns: Index(['duration', 'total_fiat', 'total_biat', 'min_fiat', 'min_biat',\n",
            "       'max_fiat', 'max_biat', 'mean_fiat', 'mean_biat', 'flowPktsPerSecond',\n",
            "       'flowBytesPerSecond', 'min_flowiat', 'max_flowiat', 'mean_flowiat',\n",
            "       'std_flowiat', 'min_active', 'mean_active', 'max_active', 'std_active',\n",
            "       'min_idle', 'mean_idle', 'max_idle', 'std_idle', 'class1'],\n",
            "      dtype='object') \n",
            " Rows: Int64Index([   0,    1,    2,    3,    4,    5,    6,    7,    8,    9,\n",
            "            ...\n",
            "            1678, 1679, 1680, 1681, 1682, 1683, 1684, 1685, 1686, 1687],\n",
            "           dtype='int64', length=9928)\n"
          ]
        }
      ],
      "source": [
        "File_Addr1=r\"C:\\Users\\ASUS\\Desktop\\Project\\TorCSV\\CSV\\Scenario-A\\TimeBasedFeatures-15s-TOR-NonTOR-15.csv\"\n",
        "File_Addr2=r\"C:\\Users\\ASUS\\Desktop\\Project\\TorCSV\\CSV\\Scenario-A\\TimeBasedFeatures-30s-TORNonTOR-15.csv\"\n",
        "File_Addr3=r\"C:\\Users\\ASUS\\Desktop\\Project\\TorCSV\\CSV\\Scenario-A\\TimeBasedFeatures-60s-TOR-NonTOR-15.csv\"\n",
        "File_Addr4=r\"C:\\Users\\ASUS\\Desktop\\Project\\TorCSV\\CSV\\Scenario-A\\TimeBasedFeatures-120s-TOR-NonTOR-15.csv\"\n",
        "File_Addr_To_Save=r\"C:\\Users\\ASUS\\Desktop\\Project\\TorCSV\\CSV\\Scenario-A\\all.csv\"\n",
        "\n",
        "\n",
        "## DS1 Import ##\n",
        "DS1=pd.read_csv(File_Addr1)\n",
        "DS1.columns=['duration', 'total_fiat', 'total_biat', 'min_fiat', 'min_biat','max_fiat', 'max_biat', 'mean_fiat', 'mean_biat', 'flowPktsPerSecond','flowBytesPerSecond', 'min_flowiat', 'max_flowiat', 'mean_flowiat','std_flowiat', 'min_active', 'mean_active', 'max_active', 'std_active','min_idle', 'mean_idle', 'max_idle', 'std_idle', 'class1']\n",
        "shape1=DS1.shape\n",
        "print(shape1)\n",
        "print(\"Columns:\",DS1.columns,\"\\n\",\"Rows:\",DS1.index)\n",
        "DS1.head(10)\n",
        "\n",
        "\n",
        "## DS2 Import ##\n",
        "DS2=pd.read_csv(File_Addr2)\n",
        "DS2.columns=['duration', 'total_fiat', 'total_biat', 'min_fiat', 'min_biat','max_fiat', 'max_biat', 'mean_fiat', 'mean_biat', 'flowPktsPerSecond','flowBytesPerSecond', 'min_flowiat', 'max_flowiat', 'mean_flowiat','std_flowiat', 'min_active', 'mean_active', 'max_active', 'std_active','min_idle', 'mean_idle', 'max_idle', 'std_idle', 'class1']\n",
        "shape2=DS2.shape\n",
        "print(shape2)\n",
        "print(\"Columns:\",DS2.columns,\"\\n\",\"Rows:\",DS2.index)\n",
        "DS2.head(10)\n",
        "\n",
        "\n",
        "## DS3 Import ##\n",
        "DS3=pd.read_csv(File_Addr3)\n",
        "DS3.columns=['duration', 'total_fiat', 'total_biat', 'min_fiat', 'min_biat','max_fiat', 'max_biat', 'mean_fiat', 'mean_biat', 'flowPktsPerSecond','flowBytesPerSecond', 'min_flowiat', 'max_flowiat', 'mean_flowiat','std_flowiat', 'min_active', 'mean_active', 'max_active', 'std_active','min_idle', 'mean_idle', 'max_idle', 'std_idle', 'class1']\n",
        "shape3=DS3.shape\n",
        "print(shape3)\n",
        "print(\"Columns:\",DS3.columns,\"\\n\",\"Rows:\",DS3.index)\n",
        "DS3.head(10)\n",
        "\n",
        "\n",
        "## DS4 Import ##\n",
        "DS4=pd.read_csv(File_Addr4)\n",
        "DS4.columns=['duration', 'total_fiat', 'total_biat', 'min_fiat', 'min_biat','max_fiat', 'max_biat', 'mean_fiat', 'mean_biat', 'flowPktsPerSecond','flowBytesPerSecond', 'min_flowiat', 'max_flowiat', 'mean_flowiat','std_flowiat', 'min_active', 'mean_active', 'max_active', 'std_active','min_idle', 'mean_idle', 'max_idle', 'std_idle', 'class1']\n",
        "shape4=DS4.shape\n",
        "print(shape4)\n",
        "print(\"Columns:\",DS4.columns,\"\\n\",\"Rows:\",DS4.index)\n",
        "DS4.head(10)\n",
        "\n",
        "\"\"\" Merge 4 Dataset in DS \"\"\"\n",
        "\n",
        "temp = [DS1,DS2,DS3,DS4]\n",
        "DS=pd.concat(temp)\n",
        "shape=DS.shape\n",
        "print(shape)\n",
        "print(\"Columns:\",DS.columns,\"\\n\",\"Rows:\",DS.index)\n",
        "DS.head(10)\n",
        "\n",
        "\n",
        "\"\"\" Save in a New Dataset \"\"\"\n",
        "DS.to_csv(File_Addr_To_Save)\n",
        "\n",
        "\n",
        "\"\"\" Load DS \"\"\"\n",
        "\n",
        "\n",
        "\"\"\" ----------------------------  Dataset Preprocessing --------------------------\"\"\"\n",
        "\n",
        "\"\"\" Check the Null Value in DS \"\"\"\n",
        "tmp=DS.isna().sum() # if All Columns are 0 (Zero), This dataset is okey!!\n",
        "\n",
        "for i in range(len(tmp)):\n",
        "    if tmp[i]!=0:\n",
        "        print(\"Num:\", tmp[i], \"index:\", i)\n",
        "        \n",
        " ## ]In this section Index of Columns which have null value\n",
        " "
      ]
    },
    {
      "cell_type": "code",
      "execution_count": null,
      "id": "b1043a9a",
      "metadata": {
        "id": "b1043a9a",
        "outputId": "22adc01b-3e41-4b6a-9e57-0fd5cb2d19c9"
      },
      "outputs": [
        {
          "data": {
            "text/html": [
              "<div>\n",
              "<style scoped>\n",
              "    .dataframe tbody tr th:only-of-type {\n",
              "        vertical-align: middle;\n",
              "    }\n",
              "\n",
              "    .dataframe tbody tr th {\n",
              "        vertical-align: top;\n",
              "    }\n",
              "\n",
              "    .dataframe thead th {\n",
              "        text-align: right;\n",
              "    }\n",
              "</style>\n",
              "<table border=\"1\" class=\"dataframe\">\n",
              "  <thead>\n",
              "    <tr style=\"text-align: right;\">\n",
              "      <th></th>\n",
              "      <th>Unnamed: 0</th>\n",
              "      <th>duration</th>\n",
              "      <th>total_fiat</th>\n",
              "      <th>total_biat</th>\n",
              "      <th>min_fiat</th>\n",
              "      <th>min_biat</th>\n",
              "      <th>max_fiat</th>\n",
              "      <th>max_biat</th>\n",
              "      <th>mean_fiat</th>\n",
              "      <th>mean_biat</th>\n",
              "      <th>...</th>\n",
              "      <th>std_flowiat</th>\n",
              "      <th>min_active</th>\n",
              "      <th>mean_active</th>\n",
              "      <th>max_active</th>\n",
              "      <th>std_active</th>\n",
              "      <th>min_idle</th>\n",
              "      <th>mean_idle</th>\n",
              "      <th>max_idle</th>\n",
              "      <th>std_idle</th>\n",
              "      <th>class1</th>\n",
              "    </tr>\n",
              "  </thead>\n",
              "  <tbody>\n",
              "    <tr>\n",
              "      <th>0</th>\n",
              "      <td>0</td>\n",
              "      <td>13978645</td>\n",
              "      <td>17</td>\n",
              "      <td>7</td>\n",
              "      <td>2249885</td>\n",
              "      <td>2064514</td>\n",
              "      <td>215483.375000</td>\n",
              "      <td>254157.181818</td>\n",
              "      <td>484527.921325</td>\n",
              "      <td>462592.986971</td>\n",
              "      <td>...</td>\n",
              "      <td>334260.192004</td>\n",
              "      <td>1363299</td>\n",
              "      <td>2.254176e+06</td>\n",
              "      <td>3870047</td>\n",
              "      <td>1.010714e+06</td>\n",
              "      <td>1147658</td>\n",
              "      <td>1.533122e+06</td>\n",
              "      <td>2064514</td>\n",
              "      <td>4.218329e+05</td>\n",
              "      <td>NONTOR</td>\n",
              "    </tr>\n",
              "    <tr>\n",
              "      <th>1</th>\n",
              "      <td>1</td>\n",
              "      <td>5545334</td>\n",
              "      <td>30</td>\n",
              "      <td>6</td>\n",
              "      <td>2349340</td>\n",
              "      <td>2315198</td>\n",
              "      <td>267851.550000</td>\n",
              "      <td>291859.684211</td>\n",
              "      <td>662553.265035</td>\n",
              "      <td>667200.262669</td>\n",
              "      <td>...</td>\n",
              "      <td>468135.293018</td>\n",
              "      <td>2347008</td>\n",
              "      <td>2.656002e+06</td>\n",
              "      <td>2964996</td>\n",
              "      <td>4.369835e+05</td>\n",
              "      <td>1978303</td>\n",
              "      <td>2.138028e+06</td>\n",
              "      <td>2297754</td>\n",
              "      <td>2.258860e+05</td>\n",
              "      <td>NONTOR</td>\n",
              "    </tr>\n",
              "    <tr>\n",
              "      <th>2</th>\n",
              "      <td>2</td>\n",
              "      <td>14701087</td>\n",
              "      <td>20</td>\n",
              "      <td>5</td>\n",
              "      <td>5881392</td>\n",
              "      <td>5932194</td>\n",
              "      <td>284572.901961</td>\n",
              "      <td>341885.744186</td>\n",
              "      <td>889248.028147</td>\n",
              "      <td>946533.667755</td>\n",
              "      <td>...</td>\n",
              "      <td>649646.590333</td>\n",
              "      <td>2757283</td>\n",
              "      <td>4.248801e+06</td>\n",
              "      <td>6270335</td>\n",
              "      <td>1.815508e+06</td>\n",
              "      <td>1297996</td>\n",
              "      <td>3.043251e+06</td>\n",
              "      <td>5881355</td>\n",
              "      <td>2.479422e+06</td>\n",
              "      <td>NONTOR</td>\n",
              "    </tr>\n",
              "    <tr>\n",
              "      <th>3</th>\n",
              "      <td>3</td>\n",
              "      <td>57245</td>\n",
              "      <td>-1</td>\n",
              "      <td>-1</td>\n",
              "      <td>-1</td>\n",
              "      <td>-1</td>\n",
              "      <td>0.000000</td>\n",
              "      <td>0.000000</td>\n",
              "      <td>0.000000</td>\n",
              "      <td>0.000000</td>\n",
              "      <td>...</td>\n",
              "      <td>0.000000</td>\n",
              "      <td>-1</td>\n",
              "      <td>0.000000e+00</td>\n",
              "      <td>-1</td>\n",
              "      <td>0.000000e+00</td>\n",
              "      <td>-1</td>\n",
              "      <td>0.000000e+00</td>\n",
              "      <td>-1</td>\n",
              "      <td>0.000000e+00</td>\n",
              "      <td>NONTOR</td>\n",
              "    </tr>\n",
              "    <tr>\n",
              "      <th>4</th>\n",
              "      <td>4</td>\n",
              "      <td>57532</td>\n",
              "      <td>-1</td>\n",
              "      <td>-1</td>\n",
              "      <td>-1</td>\n",
              "      <td>-1</td>\n",
              "      <td>0.000000</td>\n",
              "      <td>0.000000</td>\n",
              "      <td>0.000000</td>\n",
              "      <td>0.000000</td>\n",
              "      <td>...</td>\n",
              "      <td>0.000000</td>\n",
              "      <td>-1</td>\n",
              "      <td>0.000000e+00</td>\n",
              "      <td>-1</td>\n",
              "      <td>0.000000e+00</td>\n",
              "      <td>-1</td>\n",
              "      <td>0.000000e+00</td>\n",
              "      <td>-1</td>\n",
              "      <td>0.000000e+00</td>\n",
              "      <td>NONTOR</td>\n",
              "    </tr>\n",
              "  </tbody>\n",
              "</table>\n",
              "<p>5 rows × 25 columns</p>\n",
              "</div>"
            ],
            "text/plain": [
              "   Unnamed: 0  duration  total_fiat  total_biat  min_fiat  min_biat  \\\n",
              "0           0  13978645          17           7   2249885   2064514   \n",
              "1           1   5545334          30           6   2349340   2315198   \n",
              "2           2  14701087          20           5   5881392   5932194   \n",
              "3           3     57245          -1          -1        -1        -1   \n",
              "4           4     57532          -1          -1        -1        -1   \n",
              "\n",
              "        max_fiat       max_biat      mean_fiat      mean_biat  ...  \\\n",
              "0  215483.375000  254157.181818  484527.921325  462592.986971  ...   \n",
              "1  267851.550000  291859.684211  662553.265035  667200.262669  ...   \n",
              "2  284572.901961  341885.744186  889248.028147  946533.667755  ...   \n",
              "3       0.000000       0.000000       0.000000       0.000000  ...   \n",
              "4       0.000000       0.000000       0.000000       0.000000  ...   \n",
              "\n",
              "     std_flowiat  min_active   mean_active  max_active    std_active  \\\n",
              "0  334260.192004     1363299  2.254176e+06     3870047  1.010714e+06   \n",
              "1  468135.293018     2347008  2.656002e+06     2964996  4.369835e+05   \n",
              "2  649646.590333     2757283  4.248801e+06     6270335  1.815508e+06   \n",
              "3       0.000000          -1  0.000000e+00          -1  0.000000e+00   \n",
              "4       0.000000          -1  0.000000e+00          -1  0.000000e+00   \n",
              "\n",
              "   min_idle     mean_idle  max_idle      std_idle  class1  \n",
              "0   1147658  1.533122e+06   2064514  4.218329e+05  NONTOR  \n",
              "1   1978303  2.138028e+06   2297754  2.258860e+05  NONTOR  \n",
              "2   1297996  3.043251e+06   5881355  2.479422e+06  NONTOR  \n",
              "3        -1  0.000000e+00        -1  0.000000e+00  NONTOR  \n",
              "4        -1  0.000000e+00        -1  0.000000e+00  NONTOR  \n",
              "\n",
              "[5 rows x 25 columns]"
            ]
          },
          "execution_count": 6,
          "metadata": {},
          "output_type": "execute_result"
        }
      ],
      "source": [
        "dataset=pd.read_csv(r'C:\\Users\\ASUS\\Desktop\\Project\\TorCSV\\CSV\\Scenario-A\\all.csv')\n",
        "dataset.head()"
      ]
    },
    {
      "cell_type": "code",
      "execution_count": null,
      "id": "d600d9db",
      "metadata": {
        "id": "d600d9db",
        "outputId": "2cd28e64-36d9-44ed-dcb1-2b2e53ced716"
      },
      "outputs": [
        {
          "name": "stdout",
          "output_type": "stream",
          "text": [
            "<class 'pandas.core.frame.DataFrame'>\n",
            "RangeIndex: 9928 entries, 0 to 9927\n",
            "Data columns (total 25 columns):\n",
            " #   Column              Non-Null Count  Dtype  \n",
            "---  ------              --------------  -----  \n",
            " 0   Unnamed: 0          9928 non-null   int64  \n",
            " 1   duration            9928 non-null   int64  \n",
            " 2   total_fiat          9928 non-null   int64  \n",
            " 3   total_biat          9928 non-null   int64  \n",
            " 4   min_fiat            9928 non-null   int64  \n",
            " 5   min_biat            9928 non-null   int64  \n",
            " 6   max_fiat            9928 non-null   float64\n",
            " 7   max_biat            9928 non-null   float64\n",
            " 8   mean_fiat           9928 non-null   float64\n",
            " 9   mean_biat           9928 non-null   float64\n",
            " 10  flowPktsPerSecond   9928 non-null   float64\n",
            " 11  flowBytesPerSecond  9928 non-null   float64\n",
            " 12  min_flowiat         9928 non-null   int64  \n",
            " 13  max_flowiat         9928 non-null   int64  \n",
            " 14  mean_flowiat        9928 non-null   float64\n",
            " 15  std_flowiat         9928 non-null   float64\n",
            " 16  min_active          9928 non-null   int64  \n",
            " 17  mean_active         9928 non-null   float64\n",
            " 18  max_active          9928 non-null   int64  \n",
            " 19  std_active          9928 non-null   float64\n",
            " 20  min_idle            9928 non-null   int64  \n",
            " 21  mean_idle           9928 non-null   float64\n",
            " 22  max_idle            9928 non-null   int64  \n",
            " 23  std_idle            9928 non-null   float64\n",
            " 24  class1              9928 non-null   object \n",
            "dtypes: float64(12), int64(12), object(1)\n",
            "memory usage: 1.9+ MB\n"
          ]
        }
      ],
      "source": [
        "dataset.info()"
      ]
    },
    {
      "cell_type": "code",
      "execution_count": null,
      "id": "224f8436",
      "metadata": {
        "id": "224f8436",
        "outputId": "8c95bad4-e8e3-48bb-bd45-61b06315450d"
      },
      "outputs": [
        {
          "data": {
            "text/plain": [
              "NONTOR    8946\n",
              "TOR        982\n",
              "Name: class1, dtype: int64"
            ]
          },
          "execution_count": 8,
          "metadata": {},
          "output_type": "execute_result"
        }
      ],
      "source": [
        "dataset.class1.value_counts()"
      ]
    },
    {
      "cell_type": "code",
      "execution_count": null,
      "id": "42632834",
      "metadata": {
        "id": "42632834",
        "outputId": "606ef047-b8c7-468a-c7ff-5c9af034febb"
      },
      "outputs": [
        {
          "data": {
            "text/plain": [
              "array([0, 1])"
            ]
          },
          "execution_count": 9,
          "metadata": {},
          "output_type": "execute_result"
        }
      ],
      "source": [
        "from sklearn import preprocessing \n",
        "label_encoder = preprocessing.LabelEncoder() \n",
        "dataset['class1']= label_encoder.fit_transform(dataset['class1']) \n",
        "dataset['class1'].unique()"
      ]
    },
    {
      "cell_type": "code",
      "execution_count": null,
      "id": "278513f8",
      "metadata": {
        "id": "278513f8",
        "outputId": "3a4d1597-e283-48a9-ce24-15a7d061d5b2"
      },
      "outputs": [
        {
          "data": {
            "text/html": [
              "<div>\n",
              "<style scoped>\n",
              "    .dataframe tbody tr th:only-of-type {\n",
              "        vertical-align: middle;\n",
              "    }\n",
              "\n",
              "    .dataframe tbody tr th {\n",
              "        vertical-align: top;\n",
              "    }\n",
              "\n",
              "    .dataframe thead th {\n",
              "        text-align: right;\n",
              "    }\n",
              "</style>\n",
              "<table border=\"1\" class=\"dataframe\">\n",
              "  <thead>\n",
              "    <tr style=\"text-align: right;\">\n",
              "      <th></th>\n",
              "      <th>Unnamed: 0</th>\n",
              "      <th>duration</th>\n",
              "      <th>total_fiat</th>\n",
              "      <th>total_biat</th>\n",
              "      <th>min_fiat</th>\n",
              "      <th>min_biat</th>\n",
              "      <th>max_fiat</th>\n",
              "      <th>max_biat</th>\n",
              "      <th>mean_fiat</th>\n",
              "      <th>mean_biat</th>\n",
              "      <th>...</th>\n",
              "      <th>std_flowiat</th>\n",
              "      <th>min_active</th>\n",
              "      <th>mean_active</th>\n",
              "      <th>max_active</th>\n",
              "      <th>std_active</th>\n",
              "      <th>min_idle</th>\n",
              "      <th>mean_idle</th>\n",
              "      <th>max_idle</th>\n",
              "      <th>std_idle</th>\n",
              "      <th>class1</th>\n",
              "    </tr>\n",
              "  </thead>\n",
              "  <tbody>\n",
              "    <tr>\n",
              "      <th>0</th>\n",
              "      <td>0</td>\n",
              "      <td>13978645</td>\n",
              "      <td>17</td>\n",
              "      <td>7</td>\n",
              "      <td>2249885</td>\n",
              "      <td>2064514</td>\n",
              "      <td>215483.375</td>\n",
              "      <td>254157.181818</td>\n",
              "      <td>484527.921325</td>\n",
              "      <td>462592.986971</td>\n",
              "      <td>...</td>\n",
              "      <td>334260.192004</td>\n",
              "      <td>1363299</td>\n",
              "      <td>2254176.2</td>\n",
              "      <td>3870047</td>\n",
              "      <td>1.010714e+06</td>\n",
              "      <td>1147658</td>\n",
              "      <td>1533121.8</td>\n",
              "      <td>2064514</td>\n",
              "      <td>421832.929403</td>\n",
              "      <td>0</td>\n",
              "    </tr>\n",
              "    <tr>\n",
              "      <th>1</th>\n",
              "      <td>1</td>\n",
              "      <td>5545334</td>\n",
              "      <td>30</td>\n",
              "      <td>6</td>\n",
              "      <td>2349340</td>\n",
              "      <td>2315198</td>\n",
              "      <td>267851.550</td>\n",
              "      <td>291859.684211</td>\n",
              "      <td>662553.265035</td>\n",
              "      <td>667200.262669</td>\n",
              "      <td>...</td>\n",
              "      <td>468135.293018</td>\n",
              "      <td>2347008</td>\n",
              "      <td>2656002.0</td>\n",
              "      <td>2964996</td>\n",
              "      <td>4.369835e+05</td>\n",
              "      <td>1978303</td>\n",
              "      <td>2138028.5</td>\n",
              "      <td>2297754</td>\n",
              "      <td>225885.968355</td>\n",
              "      <td>0</td>\n",
              "    </tr>\n",
              "  </tbody>\n",
              "</table>\n",
              "<p>2 rows × 25 columns</p>\n",
              "</div>"
            ],
            "text/plain": [
              "   Unnamed: 0  duration  total_fiat  total_biat  min_fiat  min_biat  \\\n",
              "0           0  13978645          17           7   2249885   2064514   \n",
              "1           1   5545334          30           6   2349340   2315198   \n",
              "\n",
              "     max_fiat       max_biat      mean_fiat      mean_biat  ...  \\\n",
              "0  215483.375  254157.181818  484527.921325  462592.986971  ...   \n",
              "1  267851.550  291859.684211  662553.265035  667200.262669  ...   \n",
              "\n",
              "     std_flowiat  min_active  mean_active  max_active    std_active  min_idle  \\\n",
              "0  334260.192004     1363299    2254176.2     3870047  1.010714e+06   1147658   \n",
              "1  468135.293018     2347008    2656002.0     2964996  4.369835e+05   1978303   \n",
              "\n",
              "   mean_idle  max_idle       std_idle  class1  \n",
              "0  1533121.8   2064514  421832.929403       0  \n",
              "1  2138028.5   2297754  225885.968355       0  \n",
              "\n",
              "[2 rows x 25 columns]"
            ]
          },
          "execution_count": 10,
          "metadata": {},
          "output_type": "execute_result"
        }
      ],
      "source": [
        "dataset.head(2)"
      ]
    },
    {
      "cell_type": "code",
      "execution_count": null,
      "id": "91a86036",
      "metadata": {
        "id": "91a86036"
      },
      "outputs": [],
      "source": [
        "N = 2\n",
        "# Drop first N columns of dataframe\n",
        "data = dataset.iloc[: , 1:]"
      ]
    },
    {
      "cell_type": "code",
      "execution_count": null,
      "id": "acfe184a",
      "metadata": {
        "id": "acfe184a",
        "outputId": "343a0f36-077e-4769-a0a7-844449a67e01"
      },
      "outputs": [
        {
          "data": {
            "text/html": [
              "<div>\n",
              "<style scoped>\n",
              "    .dataframe tbody tr th:only-of-type {\n",
              "        vertical-align: middle;\n",
              "    }\n",
              "\n",
              "    .dataframe tbody tr th {\n",
              "        vertical-align: top;\n",
              "    }\n",
              "\n",
              "    .dataframe thead th {\n",
              "        text-align: right;\n",
              "    }\n",
              "</style>\n",
              "<table border=\"1\" class=\"dataframe\">\n",
              "  <thead>\n",
              "    <tr style=\"text-align: right;\">\n",
              "      <th></th>\n",
              "      <th>duration</th>\n",
              "      <th>total_fiat</th>\n",
              "      <th>total_biat</th>\n",
              "      <th>min_fiat</th>\n",
              "      <th>min_biat</th>\n",
              "      <th>max_fiat</th>\n",
              "      <th>max_biat</th>\n",
              "      <th>mean_fiat</th>\n",
              "      <th>mean_biat</th>\n",
              "      <th>flowPktsPerSecond</th>\n",
              "      <th>...</th>\n",
              "      <th>max_flowiat</th>\n",
              "      <th>mean_flowiat</th>\n",
              "      <th>std_flowiat</th>\n",
              "      <th>min_active</th>\n",
              "      <th>mean_active</th>\n",
              "      <th>max_active</th>\n",
              "      <th>std_active</th>\n",
              "      <th>min_idle</th>\n",
              "      <th>mean_idle</th>\n",
              "      <th>max_idle</th>\n",
              "    </tr>\n",
              "  </thead>\n",
              "  <tbody>\n",
              "    <tr>\n",
              "      <th>0</th>\n",
              "      <td>13978645</td>\n",
              "      <td>17</td>\n",
              "      <td>7</td>\n",
              "      <td>2249885</td>\n",
              "      <td>2064514</td>\n",
              "      <td>215483.375000</td>\n",
              "      <td>254157.181818</td>\n",
              "      <td>484527.921325</td>\n",
              "      <td>462592.986971</td>\n",
              "      <td>8.656061</td>\n",
              "      <td>...</td>\n",
              "      <td>2064514</td>\n",
              "      <td>116488.708333</td>\n",
              "      <td>334260.192004</td>\n",
              "      <td>1363299</td>\n",
              "      <td>2.254176e+06</td>\n",
              "      <td>3870047</td>\n",
              "      <td>1.010714e+06</td>\n",
              "      <td>1147658</td>\n",
              "      <td>1.533122e+06</td>\n",
              "      <td>2064514</td>\n",
              "    </tr>\n",
              "    <tr>\n",
              "      <th>1</th>\n",
              "      <td>5545334</td>\n",
              "      <td>30</td>\n",
              "      <td>6</td>\n",
              "      <td>2349340</td>\n",
              "      <td>2315198</td>\n",
              "      <td>267851.550000</td>\n",
              "      <td>291859.684211</td>\n",
              "      <td>662553.265035</td>\n",
              "      <td>667200.262669</td>\n",
              "      <td>7.393603</td>\n",
              "      <td>...</td>\n",
              "      <td>2297754</td>\n",
              "      <td>138633.350000</td>\n",
              "      <td>468135.293018</td>\n",
              "      <td>2347008</td>\n",
              "      <td>2.656002e+06</td>\n",
              "      <td>2964996</td>\n",
              "      <td>4.369835e+05</td>\n",
              "      <td>1978303</td>\n",
              "      <td>2.138028e+06</td>\n",
              "      <td>2297754</td>\n",
              "    </tr>\n",
              "    <tr>\n",
              "      <th>2</th>\n",
              "      <td>14701087</td>\n",
              "      <td>20</td>\n",
              "      <td>5</td>\n",
              "      <td>5881392</td>\n",
              "      <td>5932194</td>\n",
              "      <td>284572.901961</td>\n",
              "      <td>341885.744186</td>\n",
              "      <td>889248.028147</td>\n",
              "      <td>946533.667755</td>\n",
              "      <td>6.530129</td>\n",
              "      <td>...</td>\n",
              "      <td>5881355</td>\n",
              "      <td>154748.284211</td>\n",
              "      <td>649646.590333</td>\n",
              "      <td>2757283</td>\n",
              "      <td>4.248801e+06</td>\n",
              "      <td>6270335</td>\n",
              "      <td>1.815508e+06</td>\n",
              "      <td>1297996</td>\n",
              "      <td>3.043251e+06</td>\n",
              "      <td>5881355</td>\n",
              "    </tr>\n",
              "    <tr>\n",
              "      <th>3</th>\n",
              "      <td>57245</td>\n",
              "      <td>-1</td>\n",
              "      <td>-1</td>\n",
              "      <td>-1</td>\n",
              "      <td>-1</td>\n",
              "      <td>0.000000</td>\n",
              "      <td>0.000000</td>\n",
              "      <td>0.000000</td>\n",
              "      <td>0.000000</td>\n",
              "      <td>34.937549</td>\n",
              "      <td>...</td>\n",
              "      <td>57245</td>\n",
              "      <td>57245.000000</td>\n",
              "      <td>0.000000</td>\n",
              "      <td>-1</td>\n",
              "      <td>0.000000e+00</td>\n",
              "      <td>-1</td>\n",
              "      <td>0.000000e+00</td>\n",
              "      <td>-1</td>\n",
              "      <td>0.000000e+00</td>\n",
              "      <td>-1</td>\n",
              "    </tr>\n",
              "    <tr>\n",
              "      <th>4</th>\n",
              "      <td>57532</td>\n",
              "      <td>-1</td>\n",
              "      <td>-1</td>\n",
              "      <td>-1</td>\n",
              "      <td>-1</td>\n",
              "      <td>0.000000</td>\n",
              "      <td>0.000000</td>\n",
              "      <td>0.000000</td>\n",
              "      <td>0.000000</td>\n",
              "      <td>34.763262</td>\n",
              "      <td>...</td>\n",
              "      <td>57532</td>\n",
              "      <td>57532.000000</td>\n",
              "      <td>0.000000</td>\n",
              "      <td>-1</td>\n",
              "      <td>0.000000e+00</td>\n",
              "      <td>-1</td>\n",
              "      <td>0.000000e+00</td>\n",
              "      <td>-1</td>\n",
              "      <td>0.000000e+00</td>\n",
              "      <td>-1</td>\n",
              "    </tr>\n",
              "  </tbody>\n",
              "</table>\n",
              "<p>5 rows × 22 columns</p>\n",
              "</div>"
            ],
            "text/plain": [
              "   duration  total_fiat  total_biat  min_fiat  min_biat       max_fiat  \\\n",
              "0  13978645          17           7   2249885   2064514  215483.375000   \n",
              "1   5545334          30           6   2349340   2315198  267851.550000   \n",
              "2  14701087          20           5   5881392   5932194  284572.901961   \n",
              "3     57245          -1          -1        -1        -1       0.000000   \n",
              "4     57532          -1          -1        -1        -1       0.000000   \n",
              "\n",
              "        max_biat      mean_fiat      mean_biat  flowPktsPerSecond  ...  \\\n",
              "0  254157.181818  484527.921325  462592.986971           8.656061  ...   \n",
              "1  291859.684211  662553.265035  667200.262669           7.393603  ...   \n",
              "2  341885.744186  889248.028147  946533.667755           6.530129  ...   \n",
              "3       0.000000       0.000000       0.000000          34.937549  ...   \n",
              "4       0.000000       0.000000       0.000000          34.763262  ...   \n",
              "\n",
              "   max_flowiat   mean_flowiat    std_flowiat  min_active   mean_active  \\\n",
              "0      2064514  116488.708333  334260.192004     1363299  2.254176e+06   \n",
              "1      2297754  138633.350000  468135.293018     2347008  2.656002e+06   \n",
              "2      5881355  154748.284211  649646.590333     2757283  4.248801e+06   \n",
              "3        57245   57245.000000       0.000000          -1  0.000000e+00   \n",
              "4        57532   57532.000000       0.000000          -1  0.000000e+00   \n",
              "\n",
              "   max_active    std_active  min_idle     mean_idle  max_idle  \n",
              "0     3870047  1.010714e+06   1147658  1.533122e+06   2064514  \n",
              "1     2964996  4.369835e+05   1978303  2.138028e+06   2297754  \n",
              "2     6270335  1.815508e+06   1297996  3.043251e+06   5881355  \n",
              "3          -1  0.000000e+00        -1  0.000000e+00        -1  \n",
              "4          -1  0.000000e+00        -1  0.000000e+00        -1  \n",
              "\n",
              "[5 rows x 22 columns]"
            ]
          },
          "execution_count": 41,
          "metadata": {},
          "output_type": "execute_result"
        }
      ],
      "source": [
        "data.head()"
      ]
    },
    {
      "cell_type": "code",
      "execution_count": null,
      "id": "885fe601",
      "metadata": {
        "id": "885fe601"
      },
      "outputs": [],
      "source": [
        "data=data.iloc[:,0:22]"
      ]
    },
    {
      "cell_type": "code",
      "execution_count": null,
      "id": "83b18108",
      "metadata": {
        "id": "83b18108"
      },
      "outputs": [],
      "source": [
        "features = dataset.iloc[:,1:23].values\n",
        "labels = dataset.iloc [:,24].values"
      ]
    },
    {
      "cell_type": "code",
      "execution_count": null,
      "id": "42020437",
      "metadata": {
        "id": "42020437",
        "outputId": "684ebfc6-6ff0-4f31-db15-82bd1aa34a62"
      },
      "outputs": [
        {
          "data": {
            "text/plain": [
              "array([0, 0, 0, ..., 1, 1, 1], dtype=int64)"
            ]
          },
          "execution_count": 23,
          "metadata": {},
          "output_type": "execute_result"
        }
      ],
      "source": [
        "labels"
      ]
    },
    {
      "cell_type": "code",
      "execution_count": null,
      "id": "181d1592",
      "metadata": {
        "id": "181d1592"
      },
      "outputs": [],
      "source": [
        "scaler = MinMaxScaler()\n",
        "features = scaler.fit_transform(features)"
      ]
    },
    {
      "cell_type": "code",
      "execution_count": null,
      "id": "ca8e660d",
      "metadata": {
        "id": "ca8e660d",
        "outputId": "d0cb8e64-807e-4af3-9b96-52518f5218b1"
      },
      "outputs": [
        {
          "data": {
            "image/png": "[encoded data removed]",
            "text/plain": [
              "<Figure size 1656x1296 with 2 Axes>"
            ]
          },
          "metadata": {
            "needs_background": "light"
          },
          "output_type": "display_data"
        }
      ],
      "source": [
        "\n",
        "import seaborn as sns\n",
        "fig,(ax0) = plt.subplots(nrows=1, figsize=(23,18))\n",
        "# checking correlation using heatmap\n",
        "#Loading dataset\n",
        "#flights = sns.load_dataset(\"dataset\")\n",
        "  \n",
        "#ploting the heatmap for correlation\n",
        "ax = sns.heatmap(data.corr(), annot=True)"
      ]
    },
    {
      "cell_type": "code",
      "execution_count": null,
      "id": "cfe35bc7",
      "metadata": {
        "id": "cfe35bc7"
      },
      "outputs": [],
      "source": [
        "from sklearn.feature_selection import SelectKBest\n",
        "from sklearn.feature_selection import chi2"
      ]
    },
    {
      "cell_type": "code",
      "execution_count": null,
      "id": "2187e48c",
      "metadata": {
        "id": "2187e48c"
      },
      "outputs": [],
      "source": [
        "features = dataset.iloc[:,1:23].values\n",
        "labels = dataset.iloc [:,-1].values"
      ]
    },
    {
      "cell_type": "code",
      "execution_count": null,
      "id": "b088bcc9",
      "metadata": {
        "id": "b088bcc9",
        "outputId": "4da7c0fd-7d14-4e62-f074-a8badbd2d220"
      },
      "outputs": [
        {
          "name": "stdout",
          "output_type": "stream",
          "text": [
            "[0.01414396 0.36403637 0.30765133 0.0477478  0.05110492 0.03047556\n",
            " 0.02997857 0.00751273 0.00729009 0.00826354 0.00936128 0.00404883\n",
            " 0.01108402 0.02370527 0.02519471 0.01349113 0.00327207 0.00625545\n",
            " 0.00128319 0.01313066 0.00979024 0.01117828]\n"
          ]
        },
        {
          "data": {
            "image/png": "[encoded data removed]",
            "text/plain": [
              "<Figure size 432x288 with 1 Axes>"
            ]
          },
          "metadata": {
            "needs_background": "light"
          },
          "output_type": "display_data"
        }
      ],
      "source": [
        "X = dataset.iloc[:,1:23].values #independent columns\n",
        "y =dataset.iloc [:,24].values   #target column i.e price range\n",
        "#apply SelectKBest class to extract top 10 best features\n",
        "from sklearn.ensemble import ExtraTreesClassifier\n",
        "import matplotlib.pyplot as plt\n",
        "model = ExtraTreesClassifier()\n",
        "model.fit(X,y)\n",
        "print(model.feature_importances_) #use inbuilt class feature_importances of tree based classifiers\n",
        "#plot graph of feature importances for better visualization\n",
        "feat_importances = pd.Series(model.feature_importances_, index=data.columns)\n",
        "feat_importances.nlargest(10).plot(kind='barh')\n",
        "plt.show()"
      ]
    },
    {
      "cell_type": "code",
      "execution_count": null,
      "id": "fce71805",
      "metadata": {
        "id": "fce71805"
      },
      "outputs": [],
      "source": [
        "training_data, testing_data, training_label, testing_label = train_test_split(features, labels , test_size=0.2, shuffle=True, stratify=labels)"
      ]
    },
    {
      "cell_type": "markdown",
      "id": "a5c2be71",
      "metadata": {
        "id": "a5c2be71"
      },
      "source": [
        "# Neural Network"
      ]
    },
    {
      "cell_type": "code",
      "execution_count": null,
      "id": "7477193d",
      "metadata": {
        "id": "7477193d",
        "outputId": "92a15dec-aba0-46f5-a25e-a0df50d095e2"
      },
      "outputs": [
        {
          "name": "stderr",
          "output_type": "stream",
          "text": [
            "C:\\Users\\ASUS\\anaconda3\\lib\\site-packages\\keras\\optimizer_v2\\adam.py:105: UserWarning: The `lr` argument is deprecated, use `learning_rate` instead.\n",
            "  super(Adam, self).__init__(name, **kwargs)\n"
          ]
        }
      ],
      "source": [
        "model = Sequential()\n",
        "model.add(Dense(units= 50, input_dim = training_data.shape[1], activation=relu))\n",
        "model.add(Dense(units= 50, activation=relu))\n",
        "model.add(Dense(units= 1, activation='sigmoid'))\n",
        "model.compile(optimizer=Adam(lr=0.001), loss='binary_crossentropy', metrics=['accuracy'])"
      ]
    },
    {
      "cell_type": "code",
      "execution_count": null,
      "id": "f17a6cf7",
      "metadata": {
        "id": "f17a6cf7",
        "outputId": "4122c6ff-e9da-45fa-b292-794627ba2896"
      },
      "outputs": [
        {
          "name": "stdout",
          "output_type": "stream",
          "text": [
            "Epoch 1/50\n",
            "125/125 [==============================] - 0s 3ms/step - loss: 0.0089 - accuracy: 0.9976 - val_loss: 0.0143 - val_accuracy: 0.9965\n",
            "Epoch 2/50\n",
            "125/125 [==============================] - 0s 3ms/step - loss: 0.0083 - accuracy: 0.9977 - val_loss: 0.0142 - val_accuracy: 0.9965\n",
            "Epoch 3/50\n",
            "125/125 [==============================] - 0s 3ms/step - loss: 0.0082 - accuracy: 0.9977 - val_loss: 0.0129 - val_accuracy: 0.9970\n",
            "Epoch 4/50\n",
            "125/125 [==============================] - 0s 3ms/step - loss: 0.0087 - accuracy: 0.9976 - val_loss: 0.0141 - val_accuracy: 0.9970\n",
            "Epoch 5/50\n",
            "125/125 [==============================] - 0s 3ms/step - loss: 0.0073 - accuracy: 0.9979 - val_loss: 0.0260 - val_accuracy: 0.9945\n",
            "Epoch 6/50\n",
            "125/125 [==============================] - 0s 3ms/step - loss: 0.0089 - accuracy: 0.9977 - val_loss: 0.0142 - val_accuracy: 0.9970\n",
            "Epoch 7/50\n",
            "125/125 [==============================] - 0s 3ms/step - loss: 0.0070 - accuracy: 0.9979 - val_loss: 0.0129 - val_accuracy: 0.9970\n",
            "Epoch 8/50\n",
            "125/125 [==============================] - 0s 3ms/step - loss: 0.0082 - accuracy: 0.9976 - val_loss: 0.0109 - val_accuracy: 0.9970\n",
            "Epoch 9/50\n",
            "125/125 [==============================] - 0s 3ms/step - loss: 0.0074 - accuracy: 0.9979 - val_loss: 0.0118 - val_accuracy: 0.9970\n",
            "Epoch 10/50\n",
            "125/125 [==============================] - 0s 3ms/step - loss: 0.0072 - accuracy: 0.9981 - val_loss: 0.0090 - val_accuracy: 0.9970\n",
            "Epoch 11/50\n",
            "125/125 [==============================] - 0s 4ms/step - loss: 0.0074 - accuracy: 0.9979 - val_loss: 0.0092 - val_accuracy: 0.9980\n",
            "Epoch 12/50\n",
            "125/125 [==============================] - 0s 3ms/step - loss: 0.0068 - accuracy: 0.9977 - val_loss: 0.0089 - val_accuracy: 0.9980\n",
            "Epoch 13/50\n",
            "125/125 [==============================] - 0s 3ms/step - loss: 0.0071 - accuracy: 0.9979 - val_loss: 0.0082 - val_accuracy: 0.9980\n",
            "Epoch 14/50\n",
            "125/125 [==============================] - 0s 3ms/step - loss: 0.0069 - accuracy: 0.9982 - val_loss: 0.0092 - val_accuracy: 0.9980\n",
            "Epoch 15/50\n",
            "125/125 [==============================] - 0s 3ms/step - loss: 0.0067 - accuracy: 0.9980 - val_loss: 0.0081 - val_accuracy: 0.9980\n",
            "Epoch 16/50\n",
            "125/125 [==============================] - 0s 3ms/step - loss: 0.0084 - accuracy: 0.9974 - val_loss: 0.0087 - val_accuracy: 0.9980\n",
            "Epoch 17/50\n",
            "125/125 [==============================] - 0s 3ms/step - loss: 0.0064 - accuracy: 0.9980 - val_loss: 0.0079 - val_accuracy: 0.9980\n",
            "Epoch 18/50\n",
            "125/125 [==============================] - 0s 3ms/step - loss: 0.0062 - accuracy: 0.9984 - val_loss: 0.0086 - val_accuracy: 0.9985\n",
            "Epoch 19/50\n",
            "125/125 [==============================] - 0s 3ms/step - loss: 0.0060 - accuracy: 0.9982 - val_loss: 0.0089 - val_accuracy: 0.9985\n",
            "Epoch 20/50\n",
            "125/125 [==============================] - 0s 3ms/step - loss: 0.0062 - accuracy: 0.9981 - val_loss: 0.0076 - val_accuracy: 0.9980\n",
            "Epoch 21/50\n",
            "125/125 [==============================] - 0s 3ms/step - loss: 0.0057 - accuracy: 0.9982 - val_loss: 0.0070 - val_accuracy: 0.9980\n",
            "Epoch 22/50\n",
            "125/125 [==============================] - 0s 3ms/step - loss: 0.0058 - accuracy: 0.9985 - val_loss: 0.0074 - val_accuracy: 0.9980\n",
            "Epoch 23/50\n",
            "125/125 [==============================] - 0s 3ms/step - loss: 0.0057 - accuracy: 0.9986 - val_loss: 0.0071 - val_accuracy: 0.9980\n",
            "Epoch 24/50\n",
            "125/125 [==============================] - 0s 3ms/step - loss: 0.0055 - accuracy: 0.9986 - val_loss: 0.0074 - val_accuracy: 0.9980\n",
            "Epoch 25/50\n",
            "125/125 [==============================] - 0s 3ms/step - loss: 0.0054 - accuracy: 0.9982 - val_loss: 0.0075 - val_accuracy: 0.9980\n",
            "Epoch 26/50\n",
            "125/125 [==============================] - 0s 3ms/step - loss: 0.0063 - accuracy: 0.9982 - val_loss: 0.0081 - val_accuracy: 0.9980\n",
            "Epoch 27/50\n",
            "125/125 [==============================] - 0s 3ms/step - loss: 0.0055 - accuracy: 0.9985 - val_loss: 0.0103 - val_accuracy: 0.9965\n",
            "Epoch 28/50\n",
            "125/125 [==============================] - 0s 3ms/step - loss: 0.0126 - accuracy: 0.9976 - val_loss: 0.0083 - val_accuracy: 0.9980\n",
            "Epoch 29/50\n",
            "125/125 [==============================] - 0s 3ms/step - loss: 0.0057 - accuracy: 0.9984 - val_loss: 0.0079 - val_accuracy: 0.9975\n",
            "Epoch 30/50\n",
            "125/125 [==============================] - 0s 3ms/step - loss: 0.0058 - accuracy: 0.9984 - val_loss: 0.0081 - val_accuracy: 0.9980\n",
            "Epoch 31/50\n",
            "125/125 [==============================] - 0s 3ms/step - loss: 0.0059 - accuracy: 0.9985 - val_loss: 0.0073 - val_accuracy: 0.9985\n",
            "Epoch 32/50\n",
            "125/125 [==============================] - 0s 3ms/step - loss: 0.0054 - accuracy: 0.9981 - val_loss: 0.0076 - val_accuracy: 0.9985\n",
            "Epoch 33/50\n",
            "125/125 [==============================] - 0s 3ms/step - loss: 0.0053 - accuracy: 0.9989 - val_loss: 0.0079 - val_accuracy: 0.9980\n",
            "Epoch 34/50\n",
            "125/125 [==============================] - 0s 3ms/step - loss: 0.0055 - accuracy: 0.9985 - val_loss: 0.0066 - val_accuracy: 0.9985\n",
            "Epoch 35/50\n",
            "125/125 [==============================] - 0s 3ms/step - loss: 0.0053 - accuracy: 0.9989 - val_loss: 0.0081 - val_accuracy: 0.9980\n",
            "Epoch 36/50\n",
            "125/125 [==============================] - 0s 3ms/step - loss: 0.0053 - accuracy: 0.9987 - val_loss: 0.0071 - val_accuracy: 0.9990\n",
            "Epoch 37/50\n",
            "125/125 [==============================] - 0s 3ms/step - loss: 0.0050 - accuracy: 0.9987 - val_loss: 0.0073 - val_accuracy: 0.9980\n",
            "Epoch 38/50\n",
            "125/125 [==============================] - 0s 3ms/step - loss: 0.0056 - accuracy: 0.9986 - val_loss: 0.0067 - val_accuracy: 0.9985\n",
            "Epoch 39/50\n",
            "125/125 [==============================] - 0s 3ms/step - loss: 0.0055 - accuracy: 0.9986 - val_loss: 0.0070 - val_accuracy: 0.9985\n",
            "Epoch 40/50\n",
            "125/125 [==============================] - 0s 3ms/step - loss: 0.0050 - accuracy: 0.9987 - val_loss: 0.0071 - val_accuracy: 0.9985\n",
            "Epoch 41/50\n",
            "125/125 [==============================] - 0s 3ms/step - loss: 0.0057 - accuracy: 0.9986 - val_loss: 0.0079 - val_accuracy: 0.9980\n",
            "Epoch 42/50\n",
            "125/125 [==============================] - 0s 3ms/step - loss: 0.0046 - accuracy: 0.9989 - val_loss: 0.0068 - val_accuracy: 0.9985\n",
            "Epoch 43/50\n",
            "125/125 [==============================] - 0s 3ms/step - loss: 0.0054 - accuracy: 0.9985 - val_loss: 0.0062 - val_accuracy: 0.9985\n",
            "Epoch 44/50\n",
            "125/125 [==============================] - 0s 3ms/step - loss: 0.0048 - accuracy: 0.9989 - val_loss: 0.0072 - val_accuracy: 0.9985\n",
            "Epoch 45/50\n",
            "125/125 [==============================] - 0s 3ms/step - loss: 0.0048 - accuracy: 0.9986 - val_loss: 0.0100 - val_accuracy: 0.9980\n",
            "Epoch 46/50\n",
            "125/125 [==============================] - 0s 3ms/step - loss: 0.0051 - accuracy: 0.9987 - val_loss: 0.0066 - val_accuracy: 0.9985\n",
            "Epoch 47/50\n",
            "125/125 [==============================] - 0s 3ms/step - loss: 0.0049 - accuracy: 0.9982 - val_loss: 0.0077 - val_accuracy: 0.9980\n",
            "Epoch 48/50\n",
            "125/125 [==============================] - 0s 3ms/step - loss: 0.0053 - accuracy: 0.9986 - val_loss: 0.0067 - val_accuracy: 0.9985\n",
            "Epoch 49/50\n",
            "125/125 [==============================] - 0s 3ms/step - loss: 0.0051 - accuracy: 0.9986 - val_loss: 0.0063 - val_accuracy: 0.9990\n",
            "Epoch 50/50\n",
            "125/125 [==============================] - 0s 3ms/step - loss: 0.0051 - accuracy: 0.9986 - val_loss: 0.0065 - val_accuracy: 0.9985\n",
            "63/63 [==============================] - 0s 2ms/step - loss: 0.0065 - accuracy: 0.9985\n",
            "Time Taken is:\n",
            "19.155622482299805\n"
          ]
        }
      ],
      "source": [
        "import time\n",
        "tic=time.time()\n",
        "acc_training = model.fit(training_data, training_label, validation_data=(testing_data, testing_label), batch_size=64, epochs=50)\n",
        "acc_testing  = model.evaluate(testing_data, testing_label)\n",
        "toc=time.time()\n",
        "print(\"Time Taken is:\")\n",
        "print(toc-tic)"
      ]
    },
    {
      "cell_type": "code",
      "execution_count": null,
      "id": "e5168974",
      "metadata": {
        "id": "e5168974",
        "outputId": "8c375704-c83d-4fdc-b7a5-06cdf11a8bfb"
      },
      "outputs": [
        {
          "data": {
            "text/plain": [
              "<matplotlib.legend.Legend at 0x20b8fe243a0>"
            ]
          },
          "execution_count": 16,
          "metadata": {},
          "output_type": "execute_result"
        },
        {
          "data": {
            "image/png": "[encoded data removed]",
            "text/plain": [
              "<Figure size 864x360 with 1 Axes>"
            ]
          },
          "metadata": {
            "needs_background": "light"
          },
          "output_type": "display_data"
        }
      ],
      "source": [
        "fig,(ax0) = plt.subplots(nrows=1, figsize=(12,5))\n",
        "ax0.plot(acc_training.history['accuracy'],'red', label='Accuracy Training')\n",
        "ax0.plot(acc_training.history['val_accuracy'], 'blue', label='Accuracy Validasi')\n",
        "ax0.plot(label='Accuracy', loc='upper left')\n",
        "ax0.set_title('Model Accuracy')\n",
        "ax0.set_xlabel(\"Epoch\")\n",
        "ax0.set_ylabel(\"Accuracy\")\n",
        "ax0.legend()"
      ]
    },
    {
      "cell_type": "code",
      "execution_count": null,
      "id": "dbaf573e",
      "metadata": {
        "id": "dbaf573e",
        "outputId": "153c6375-a6b8-4e18-c8bc-ac5f2c462b2c"
      },
      "outputs": [
        {
          "data": {
            "text/plain": [
              "<matplotlib.legend.Legend at 0x20b904fcc10>"
            ]
          },
          "execution_count": 17,
          "metadata": {},
          "output_type": "execute_result"
        },
        {
          "data": {
            "image/png": "[encoded data removed]",
            "text/plain": [
              "<Figure size 864x360 with 1 Axes>"
            ]
          },
          "metadata": {
            "needs_background": "light"
          },
          "output_type": "display_data"
        }
      ],
      "source": [
        "fig,(ax1) = plt.subplots(nrows=1, figsize=(12,5))\n",
        "ax1.plot(acc_training.history['loss'],'red', label='Loss Training')\n",
        "ax1.plot(acc_training.history['val_loss'], 'blue', label='Loss Validasi')\n",
        "ax1.plot(label='Loss', loc='upper left')\n",
        "ax1.set_title('Model Loss')\n",
        "ax1.set_xlabel(\"Epoch\")\n",
        "ax1.set_ylabel(\"Loss\")\n",
        "ax1.legend()"
      ]
    },
    {
      "cell_type": "code",
      "execution_count": null,
      "id": "e826c685",
      "metadata": {
        "id": "e826c685"
      },
      "outputs": [],
      "source": [
        "training_predicted = model.predict(training_data)\n",
        "testing_predicted = model.predict(testing_data)"
      ]
    },
    {
      "cell_type": "code",
      "execution_count": null,
      "id": "222f4f9c",
      "metadata": {
        "id": "222f4f9c"
      },
      "outputs": [],
      "source": [
        "from sklearn.metrics import confusion_matrix\n",
        "\n",
        "training_cm = confusion_matrix(training_label,training_predicted.round())\n",
        "testing_cm = confusion_matrix(testing_label,testing_predicted.round())"
      ]
    },
    {
      "cell_type": "code",
      "execution_count": null,
      "id": "df4aaa5a",
      "metadata": {
        "id": "df4aaa5a",
        "outputId": "b9113e01-a87e-421b-fab6-d6a92e778792"
      },
      "outputs": [
        {
          "name": "stdout",
          "output_type": "stream",
          "text": [
            "Accuracy testing 0.998992950654582\n",
            "Specificity testing 0.9897959183673469\n",
            "Sensitivity testing 1.0\n",
            "Precision testing 0.9988839285714286\n",
            "F1 Score testing 0.9994416527079844\n"
          ]
        }
      ],
      "source": [
        "testing_cm\n",
        "\n",
        "tp = testing_cm[0][0]\n",
        "fn = testing_cm[0][1]\n",
        "fp = testing_cm[1][0]\n",
        "tn = testing_cm[1][1]\n",
        "\n",
        "accuracy = (tp+tn)/(tp+tn+fp+fn)\n",
        "specificity = tn/(tn+fp)\n",
        "sensitivity = tp/(tp+fn)\n",
        "precision = tp/(tp+fp)\n",
        "f1_score = (2*sensitivity*precision)/(sensitivity+precision)\n",
        "\n",
        "print(\"Accuracy testing {0}\".format(accuracy))\n",
        "print(\"Specificity testing {0}\".format(specificity))\n",
        "print(\"Sensitivity testing {0}\".format(sensitivity))\n",
        "print(\"Precision testing {0}\".format(precision))\n",
        "print(\"F1 Score testing {0}\".format(f1_score))"
      ]
    },
    {
      "cell_type": "code",
      "execution_count": null,
      "id": "cff0dd93",
      "metadata": {
        "id": "cff0dd93"
      },
      "outputs": [],
      "source": [
        ""
      ]
    },
    {
      "cell_type": "code",
      "execution_count": null,
      "id": "41028cdf",
      "metadata": {
        "id": "41028cdf",
        "outputId": "c80f408e-b5d8-450d-f632-2d5875de5b8a"
      },
      "outputs": [
        {
          "data": {
            "text/plain": [
              "Text(0, 0.5, 'Frequency')"
            ]
          },
          "execution_count": 21,
          "metadata": {},
          "output_type": "execute_result"
        },
        {
          "data": {
            "image/png": "[encoded data removed]",
            "text/plain": [
              "<Figure size 432x288 with 1 Axes>"
            ]
          },
          "metadata": {
            "needs_background": "light"
          },
          "output_type": "display_data"
        }
      ],
      "source": [
        "label_l = ['nonTOR', 'TOR']\n",
        "classes = pd.value_counts(training_label,)\n",
        "classes.plot(kind = 'bar', rot = 0, color = \"blue\")\n",
        "plt.title(\"Network Traffic Distribution (Training Set)\")\n",
        "plt.xticks(range(2), label_l)\n",
        "plt.xlabel(\"Label\")\n",
        "plt.ylabel(\"Frequency\")\n"
      ]
    },
    {
      "cell_type": "code",
      "execution_count": null,
      "id": "96024ab6",
      "metadata": {
        "id": "96024ab6",
        "outputId": "f0eb1e53-0d0d-455f-f00e-7081457a2f99"
      },
      "outputs": [
        {
          "data": {
            "text/plain": [
              "Text(0, 0.5, 'Frequency')"
            ]
          },
          "execution_count": 22,
          "metadata": {},
          "output_type": "execute_result"
        },
        {
          "data": {
            "image/png": "[encoded data removed]",
            "text/plain": [
              "<Figure size 432x288 with 1 Axes>"
            ]
          },
          "metadata": {
            "needs_background": "light"
          },
          "output_type": "display_data"
        }
      ],
      "source": [
        "label_l = ['nonTOR', 'TOR']\n",
        "classes = pd.value_counts(testing_label,)\n",
        "classes.plot(kind = 'bar', rot = 0, color = \"red\")\n",
        "plt.title(\"Network Traffic Distribution (Testing Set)\")\n",
        "plt.xticks(range(2), label_l)\n",
        "plt.xlabel(\"Label\")\n",
        "plt.ylabel(\"Frequency\")"
      ]
    },
    {
      "cell_type": "markdown",
      "id": "c2317653",
      "metadata": {
        "id": "c2317653"
      },
      "source": [
        "# KNN"
      ]
    },
    {
      "cell_type": "code",
      "execution_count": null,
      "id": "3b2bcf9f",
      "metadata": {
        "id": "3b2bcf9f"
      },
      "outputs": [],
      "source": [
        "from sklearn.neighbors import KNeighborsClassifier"
      ]
    },
    {
      "cell_type": "code",
      "execution_count": null,
      "id": "e74db3c0",
      "metadata": {
        "id": "e74db3c0"
      },
      "outputs": [],
      "source": [
        "model = KNeighborsClassifier(n_neighbors=4,p=1 )\n",
        "tic=time.time()\n",
        "model.fit(training_data,  training_label)\n",
        "Accuracy = model.score(testing_data, testing_label)\n",
        "\n",
        "toc=time.time()"
      ]
    },
    {
      "cell_type": "code",
      "execution_count": null,
      "id": "08332a6e",
      "metadata": {
        "id": "08332a6e",
        "outputId": "3b97b861-07cb-4983-ba64-49d0f1636a96"
      },
      "outputs": [
        {
          "data": {
            "text/plain": [
              "0.9974823766364552"
            ]
          },
          "execution_count": 112,
          "metadata": {},
          "output_type": "execute_result"
        }
      ],
      "source": [
        "Accuracy"
      ]
    },
    {
      "cell_type": "code",
      "execution_count": null,
      "id": "a2403cf3",
      "metadata": {
        "id": "a2403cf3",
        "outputId": "ac0cd9a0-03e1-4767-b44b-4edd6885188b"
      },
      "outputs": [
        {
          "name": "stdout",
          "output_type": "stream",
          "text": [
            "1.0806093215942383\n"
          ]
        }
      ],
      "source": [
        "print(toc-tic)"
      ]
    },
    {
      "cell_type": "code",
      "execution_count": null,
      "id": "5a8a5507",
      "metadata": {
        "id": "5a8a5507"
      },
      "outputs": [],
      "source": [
        "X_train, X_test, y_train, y_test = train_test_split(features, labels, test_size=0.20, random_state=32)"
      ]
    },
    {
      "cell_type": "markdown",
      "id": "19f948a3",
      "metadata": {
        "id": "19f948a3"
      },
      "source": [
        "# SVM Time"
      ]
    },
    {
      "cell_type": "code",
      "execution_count": null,
      "id": "5918d764",
      "metadata": {
        "id": "5918d764",
        "outputId": "dc4f74c2-1020-44b5-96bf-dcf9a88fb538"
      },
      "outputs": [
        {
          "name": "stdout",
          "output_type": "stream",
          "text": [
            "              precision    recall  f1-score   support\n",
            "\n",
            "           0       0.99      1.00      1.00      1796\n",
            "           1       1.00      0.91      0.95       190\n",
            "\n",
            "    accuracy                           0.99      1986\n",
            "   macro avg       1.00      0.96      0.97      1986\n",
            "weighted avg       0.99      0.99      0.99      1986\n",
            "\n",
            "Time Taken:\n",
            "0.416856050491333\n"
          ]
        }
      ],
      "source": [
        "tic=time.time()\n",
        "clf = svm.SVC(kernel='linear')\n",
        "clf.fit(X_train,y_train)\n",
        "y_pred=clf.predict(X_test)\n",
        "print(classification_report(y_test,y_pred))\n",
        "toc=time.time()\n",
        "print(\"Time Taken:\")\n",
        "print(toc-tic)"
      ]
    },
    {
      "cell_type": "code",
      "execution_count": null,
      "id": "142628ee",
      "metadata": {
        "id": "142628ee"
      },
      "outputs": [],
      "source": [
        ""
      ]
    },
    {
      "cell_type": "code",
      "execution_count": null,
      "id": "392c94d4",
      "metadata": {
        "id": "392c94d4"
      },
      "outputs": [],
      "source": [
        ""
      ]
    },
    {
      "cell_type": "markdown",
      "id": "eba407c1",
      "metadata": {
        "id": "eba407c1"
      },
      "source": [
        "# Decision Tree Time"
      ]
    },
    {
      "cell_type": "code",
      "execution_count": null,
      "id": "5988e317",
      "metadata": {
        "id": "5988e317"
      },
      "outputs": [],
      "source": [
        "\n"
      ]
    },
    {
      "cell_type": "code",
      "execution_count": null,
      "id": "03329294",
      "metadata": {
        "id": "03329294",
        "outputId": "88402d82-888a-4578-dc39-60efa9d7e7f6"
      },
      "outputs": [
        {
          "name": "stdout",
          "output_type": "stream",
          "text": [
            "              precision    recall  f1-score   support\n",
            "\n",
            "           0       1.00      1.00      1.00      3569\n",
            "           1       0.99      0.99      0.99       403\n",
            "\n",
            "    accuracy                           1.00      3972\n",
            "   macro avg       1.00      1.00      1.00      3972\n",
            "weighted avg       1.00      1.00      1.00      3972\n",
            "\n",
            "Time Taken:\n",
            "0.08214187622070312\n"
          ]
        }
      ],
      "source": [
        "tic=time.time()\n",
        "classifier = DT(criterion='entropy', random_state=0)\n",
        "classifier.fit(X_train,y_train)\n",
        "y_pred = classifier.predict(X_test)\n",
        "print(classification_report(y_test,y_pred))\n",
        "toc=time.time()\n",
        "print(\"Time Taken:\")\n",
        "print(toc-tic)"
      ]
    },
    {
      "cell_type": "code",
      "execution_count": null,
      "id": "2d0b003f",
      "metadata": {
        "id": "2d0b003f"
      },
      "outputs": [],
      "source": [
        ""
      ]
    },
    {
      "cell_type": "code",
      "execution_count": null,
      "id": "c97cfc5f",
      "metadata": {
        "id": "c97cfc5f"
      },
      "outputs": [],
      "source": [
        ""
      ]
    },
    {
      "cell_type": "markdown",
      "id": "32b9249b",
      "metadata": {
        "id": "32b9249b"
      },
      "source": [
        "# Random Forest Time"
      ]
    },
    {
      "cell_type": "code",
      "execution_count": null,
      "id": "5f184eaf",
      "metadata": {
        "id": "5f184eaf",
        "outputId": "3882805a-d656-4e44-ddc6-861b08aa955a"
      },
      "outputs": [
        {
          "name": "stdout",
          "output_type": "stream",
          "text": [
            "              precision    recall  f1-score   support\n",
            "\n",
            "           0       1.00      1.00      1.00      1796\n",
            "           1       1.00      0.99      0.99       190\n",
            "\n",
            "    accuracy                           1.00      1986\n",
            "   macro avg       1.00      0.99      1.00      1986\n",
            "weighted avg       1.00      1.00      1.00      1986\n",
            "\n",
            "Time Taken:\n",
            "0.155625581741333\n"
          ]
        }
      ],
      "source": [
        "from sklearn.ensemble import RandomForestClassifier as RF\n",
        "tic=time.time()\n",
        "classifier = RF(n_estimators=8, criterion='entropy', random_state=0)\n",
        "classifier.fit(X_train,y_train)\n",
        "y_pred = classifier.predict(X_test)\n",
        "print(classification_report(y_test,y_pred))\n",
        "toc=time.time()\n",
        "print(\"Time Taken:\")\n",
        "print(toc-tic)"
      ]
    },
    {
      "cell_type": "code",
      "execution_count": null,
      "id": "66c5467b",
      "metadata": {
        "id": "66c5467b"
      },
      "outputs": [],
      "source": [
        ""
      ]
    },
    {
      "cell_type": "markdown",
      "id": "81c0c2db",
      "metadata": {
        "id": "81c0c2db"
      },
      "source": [
        "# Logistic Regression Time"
      ]
    },
    {
      "cell_type": "code",
      "execution_count": null,
      "id": "41405ebd",
      "metadata": {
        "id": "41405ebd"
      },
      "outputs": [],
      "source": [
        ""
      ]
    },
    {
      "cell_type": "code",
      "execution_count": null,
      "id": "d95e94db",
      "metadata": {
        "id": "d95e94db",
        "outputId": "cf8c6343-6704-406d-c25f-ba796f0a6ad0"
      },
      "outputs": [
        {
          "name": "stdout",
          "output_type": "stream",
          "text": [
            "              precision    recall  f1-score   support\n",
            "\n",
            "           0       0.98      1.00      0.99      1796\n",
            "           1       1.00      0.81      0.89       190\n",
            "\n",
            "    accuracy                           0.98      1986\n",
            "   macro avg       0.99      0.90      0.94      1986\n",
            "weighted avg       0.98      0.98      0.98      1986\n",
            "\n",
            "Time Taken:\n",
            "0.05485415458679199\n"
          ]
        }
      ],
      "source": [
        "from sklearn.linear_model import LogisticRegression\n",
        "tic=time.time()\n",
        "classifier = LogisticRegression()\n",
        "classifier.fit(X_train,y_train)\n",
        "y_pred = classifier.predict(X_test)\n",
        "print(classification_report(y_test,y_pred))\n",
        "toc=time.time()\n",
        "print(\"Time Taken:\")\n",
        "print(toc-tic)"
      ]
    },
    {
      "cell_type": "code",
      "execution_count": null,
      "id": "3d2283f4",
      "metadata": {
        "id": "3d2283f4"
      },
      "outputs": [],
      "source": [
        ""
      ]
    },
    {
      "cell_type": "markdown",
      "id": "50c0beca",
      "metadata": {
        "id": "50c0beca"
      },
      "source": [
        "# PCA  and TSNE Implementation"
      ]
    },
    {
      "cell_type": "code",
      "execution_count": null,
      "id": "6836bb42",
      "metadata": {
        "id": "6836bb42"
      },
      "outputs": [],
      "source": [
        "X = dataset.iloc[:,1:23].values\n",
        "y = dataset.iloc [:,24].values"
      ]
    },
    {
      "cell_type": "code",
      "execution_count": null,
      "id": "9af0811a",
      "metadata": {
        "id": "9af0811a"
      },
      "outputs": [],
      "source": [
        "from sklearn.decomposition import PCA"
      ]
    },
    {
      "cell_type": "code",
      "execution_count": null,
      "id": "371ce75a",
      "metadata": {
        "id": "371ce75a"
      },
      "outputs": [],
      "source": [
        "#from sklearn.cluster import KMeans\n"
      ]
    },
    {
      "cell_type": "code",
      "execution_count": null,
      "id": "c367b6a7",
      "metadata": {
        "id": "c367b6a7"
      },
      "outputs": [],
      "source": [
        "#kmeans = KMeans(n_clusters=2)\n",
        "#kmeans.fit(features)\n"
      ]
    },
    {
      "cell_type": "code",
      "execution_count": null,
      "id": "3c481c4e",
      "metadata": {
        "id": "3c481c4e"
      },
      "outputs": [],
      "source": [
        "#pca_e = PCA(n_components=2)\n",
        "#pca_e_result = pca_e.fit_transform(features)"
      ]
    },
    {
      "cell_type": "code",
      "execution_count": null,
      "id": "0421b68c",
      "metadata": {
        "id": "0421b68c"
      },
      "outputs": [],
      "source": [
        "#x = pca_e_result[:, 0]\n",
        "#y = pca_e_result[:, 1]\n",
        "\n",
        "#scatter = plt.scatter(x, y, c=kmeans.labels_, alpha=0.9, s= 800)\n",
        "#plt.title('Tor Non Tor')\n",
        "#plt.xlabel('PCA 1')\n",
        "#plt.ylabel('PCA 2')\n",
        "\n",
        "#plt.show()"
      ]
    },
    {
      "cell_type": "code",
      "execution_count": null,
      "id": "a285634b",
      "metadata": {
        "id": "a285634b"
      },
      "outputs": [],
      "source": [
        "from sklearn.decomposition import PCA\n",
        "train_PCA = PCA(n_components=2).fit_transform(features)\n",
        "import matplotlib\n",
        "%matplotlib inline\n",
        "matplotlib.rc('xtick', labelsize=10) \n",
        "matplotlib.rc('ytick', labelsize=10)\n",
        "plt.title('Tor Non Tor')\n",
        "plt.scatter(train_PCA[:,0],train_PCA[:,1],c=labels,cmap=plt.cm.jet)"
      ]
    },
    {
      "cell_type": "code",
      "execution_count": null,
      "id": "1b7ccb4a",
      "metadata": {
        "id": "1b7ccb4a",
        "outputId": "0c3c0b06-5e4f-4b02-bf49-ecebb0951c4a"
      },
      "outputs": [
        {
          "data": {
            "text/plain": [
              "array([[-0.08163698, -0.00837747],\n",
              "       [-0.08289481, -0.00891791],\n",
              "       [-0.07541383,  0.00245462],\n",
              "       ...,\n",
              "       [ 1.03874426, -0.81068221],\n",
              "       [ 0.98238468, -0.84387302],\n",
              "       [ 0.98218985, -0.8437258 ]])"
            ]
          },
          "execution_count": 18,
          "metadata": {},
          "output_type": "execute_result"
        }
      ],
      "source": [
        "train_PCA"
      ]
    },
    {
      "cell_type": "code",
      "execution_count": null,
      "id": "8df1dc86",
      "metadata": {
        "id": "8df1dc86",
        "outputId": "f823daf4-943c-4290-95d1-44f29a7f547c"
      },
      "outputs": [
        {
          "data": {
            "text/plain": [
              "<matplotlib.collections.PathCollection at 0x2be2d5d1970>"
            ]
          },
          "execution_count": 19,
          "metadata": {},
          "output_type": "execute_result"
        },
        {
          "data": {
            "image/png": "[encoded data removed]",
            "text/plain": [
              "<Figure size 432x288 with 1 Axes>"
            ]
          },
          "metadata": {
            "needs_background": "light"
          },
          "output_type": "display_data"
        }
      ],
      "source": [
        "import matplotlib\n",
        "%matplotlib inline\n",
        "matplotlib.rc('xtick', labelsize=10) \n",
        "matplotlib.rc('ytick', labelsize=10)\n",
        "plt.title('Tor Non Tor')\n",
        "plt.scatter(train_PCA[:,0],train_PCA[:,1],c=labels,cmap=plt.cm.jet)"
      ]
    },
    {
      "cell_type": "code",
      "execution_count": null,
      "id": "8deea710",
      "metadata": {
        "id": "8deea710",
        "outputId": "d56d0da2-0bcd-478c-d4e6-3876a38d5480"
      },
      "outputs": [
        {
          "name": "stderr",
          "output_type": "stream",
          "text": [
            "ERROR:root:Internal Python error in the inspect module.\n",
            "Below is the traceback from this internal error.\n",
            "\n"
          ]
        },
        {
          "name": "stdout",
          "output_type": "stream",
          "text": [
            "Traceback (most recent call last):\n",
            "  File \"C:\\Users\\ASUS\\anaconda3\\lib\\site-packages\\IPython\\core\\interactiveshell.py\", line 3444, in run_code\n",
            "    exec(code_obj, self.user_global_ns, self.user_ns)\n",
            "  File \"C:\\Users\\ASUS\\AppData\\Local\\Temp/ipykernel_35164/2304619155.py\", line 2, in <module>\n",
            "    train_tsne = TSNE(n_components=2).fit_transform(features)\n",
            "  File \"C:\\Users\\ASUS\\anaconda3\\lib\\site-packages\\sklearn\\manifold\\_t_sne.py\", line 932, in fit_transform\n",
            "    embedding = self._fit(X)\n",
            "  File \"C:\\Users\\ASUS\\anaconda3\\lib\\site-packages\\sklearn\\manifold\\_t_sne.py\", line 841, in _fit\n",
            "    return self._tsne(P, degrees_of_freedom, n_samples,\n",
            "  File \"C:\\Users\\ASUS\\anaconda3\\lib\\site-packages\\sklearn\\manifold\\_t_sne.py\", line 897, in _tsne\n",
            "    params, kl_divergence, it = _gradient_descent(obj_func, params,\n",
            "  File \"C:\\Users\\ASUS\\anaconda3\\lib\\site-packages\\sklearn\\manifold\\_t_sne.py\", line 363, in _gradient_descent\n",
            "    error, grad = objective(p, *args, **kwargs)\n",
            "  File \"C:\\Users\\ASUS\\anaconda3\\lib\\site-packages\\sklearn\\manifold\\_t_sne.py\", line 263, in _kl_divergence_bh\n",
            "    error = _barnes_hut_tsne.gradient(val_P, X_embedded, neighbors, indptr,\n",
            "KeyboardInterrupt\n",
            "\n",
            "During handling of the above exception, another exception occurred:\n",
            "\n",
            "Traceback (most recent call last):\n",
            "  File \"C:\\Users\\ASUS\\anaconda3\\lib\\site-packages\\IPython\\core\\interactiveshell.py\", line 2064, in showtraceback\n",
            "    stb = value._render_traceback_()\n",
            "AttributeError: 'KeyboardInterrupt' object has no attribute '_render_traceback_'\n",
            "\n",
            "During handling of the above exception, another exception occurred:\n",
            "\n",
            "Traceback (most recent call last):\n",
            "  File \"C:\\Users\\ASUS\\anaconda3\\lib\\site-packages\\IPython\\core\\ultratb.py\", line 1101, in get_records\n",
            "    return _fixed_getinnerframes(etb, number_of_lines_of_context, tb_offset)\n",
            "  File \"C:\\Users\\ASUS\\anaconda3\\lib\\site-packages\\IPython\\core\\ultratb.py\", line 248, in wrapped\n",
            "    return f(*args, **kwargs)\n",
            "  File \"C:\\Users\\ASUS\\anaconda3\\lib\\site-packages\\IPython\\core\\ultratb.py\", line 281, in _fixed_getinnerframes\n",
            "    records = fix_frame_records_filenames(inspect.getinnerframes(etb, context))\n",
            "  File \"C:\\Users\\ASUS\\anaconda3\\lib\\inspect.py\", line 1541, in getinnerframes\n",
            "    frameinfo = (tb.tb_frame,) + getframeinfo(tb, context)\n",
            "  File \"C:\\Users\\ASUS\\anaconda3\\lib\\inspect.py\", line 1503, in getframeinfo\n",
            "    lines, lnum = findsource(frame)\n",
            "  File \"C:\\Users\\ASUS\\anaconda3\\lib\\site-packages\\IPython\\core\\ultratb.py\", line 182, in findsource\n",
            "    lines = linecache.getlines(file, globals_dict)\n",
            "  File \"C:\\Users\\ASUS\\anaconda3\\lib\\linecache.py\", line 46, in getlines\n",
            "    return updatecache(filename, module_globals)\n",
            "  File \"C:\\Users\\ASUS\\anaconda3\\lib\\linecache.py\", line 137, in updatecache\n",
            "    lines = fp.readlines()\n",
            "  File \"C:\\Users\\ASUS\\anaconda3\\lib\\codecs.py\", line 319, in decode\n",
            "    def decode(self, input, final=False):\n",
            "KeyboardInterrupt\n"
          ]
        },
        {
          "ename": "TypeError",
          "evalue": "object of type 'NoneType' has no len()",
          "output_type": "error",
          "traceback": [
            "\u001b[1;31m---------------------------------------------------------------------------\u001b[0m",
            "\u001b[1;31mKeyboardInterrupt\u001b[0m                         Traceback (most recent call last)",
            "    \u001b[1;31m[... skipping hidden 1 frame]\u001b[0m\n",
            "\u001b[1;32m~\\AppData\\Local\\Temp/ipykernel_35164/2304619155.py\u001b[0m in \u001b[0;36m<module>\u001b[1;34m\u001b[0m\n\u001b[0;32m      1\u001b[0m \u001b[1;32mfrom\u001b[0m \u001b[0msklearn\u001b[0m\u001b[1;33m.\u001b[0m\u001b[0mmanifold\u001b[0m \u001b[1;32mimport\u001b[0m \u001b[0mTSNE\u001b[0m\u001b[1;33m\u001b[0m\u001b[1;33m\u001b[0m\u001b[0m\n\u001b[1;32m----> 2\u001b[1;33m \u001b[0mtrain_tsne\u001b[0m \u001b[1;33m=\u001b[0m \u001b[0mTSNE\u001b[0m\u001b[1;33m(\u001b[0m\u001b[0mn_components\u001b[0m\u001b[1;33m=\u001b[0m\u001b[1;36m2\u001b[0m\u001b[1;33m)\u001b[0m\u001b[1;33m.\u001b[0m\u001b[0mfit_transform\u001b[0m\u001b[1;33m(\u001b[0m\u001b[0mfeatures\u001b[0m\u001b[1;33m)\u001b[0m\u001b[1;33m\u001b[0m\u001b[1;33m\u001b[0m\u001b[0m\n\u001b[0m\u001b[0;32m      3\u001b[0m tsne_df = pd.DataFrame({'tsne1':train_tsne[:,0],\n",
            "\u001b[1;32m~\\anaconda3\\lib\\site-packages\\sklearn\\manifold\\_t_sne.py\u001b[0m in \u001b[0;36mfit_transform\u001b[1;34m(self, X, y)\u001b[0m\n\u001b[0;32m    931\u001b[0m         \"\"\"\n\u001b[1;32m--> 932\u001b[1;33m         \u001b[0membedding\u001b[0m \u001b[1;33m=\u001b[0m \u001b[0mself\u001b[0m\u001b[1;33m.\u001b[0m\u001b[0m_fit\u001b[0m\u001b[1;33m(\u001b[0m\u001b[0mX\u001b[0m\u001b[1;33m)\u001b[0m\u001b[1;33m\u001b[0m\u001b[1;33m\u001b[0m\u001b[0m\n\u001b[0m\u001b[0;32m    933\u001b[0m         \u001b[0mself\u001b[0m\u001b[1;33m.\u001b[0m\u001b[0membedding_\u001b[0m \u001b[1;33m=\u001b[0m \u001b[0membedding\u001b[0m\u001b[1;33m\u001b[0m\u001b[1;33m\u001b[0m\u001b[0m\n",
            "\u001b[1;32m~\\anaconda3\\lib\\site-packages\\sklearn\\manifold\\_t_sne.py\u001b[0m in \u001b[0;36m_fit\u001b[1;34m(self, X, skip_num_points)\u001b[0m\n\u001b[0;32m    840\u001b[0m \u001b[1;33m\u001b[0m\u001b[0m\n\u001b[1;32m--> 841\u001b[1;33m         return self._tsne(P, degrees_of_freedom, n_samples,\n\u001b[0m\u001b[0;32m    842\u001b[0m                           \u001b[0mX_embedded\u001b[0m\u001b[1;33m=\u001b[0m\u001b[0mX_embedded\u001b[0m\u001b[1;33m,\u001b[0m\u001b[1;33m\u001b[0m\u001b[1;33m\u001b[0m\u001b[0m\n",
            "\u001b[1;32m~\\anaconda3\\lib\\site-packages\\sklearn\\manifold\\_t_sne.py\u001b[0m in \u001b[0;36m_tsne\u001b[1;34m(self, P, degrees_of_freedom, n_samples, X_embedded, neighbors, skip_num_points)\u001b[0m\n\u001b[0;32m    896\u001b[0m             \u001b[0mopt_args\u001b[0m\u001b[1;33m[\u001b[0m\u001b[1;34m'n_iter_without_progress'\u001b[0m\u001b[1;33m]\u001b[0m \u001b[1;33m=\u001b[0m \u001b[0mself\u001b[0m\u001b[1;33m.\u001b[0m\u001b[0mn_iter_without_progress\u001b[0m\u001b[1;33m\u001b[0m\u001b[1;33m\u001b[0m\u001b[0m\n\u001b[1;32m--> 897\u001b[1;33m             params, kl_divergence, it = _gradient_descent(obj_func, params,\n\u001b[0m\u001b[0;32m    898\u001b[0m                                                           **opt_args)\n",
            "\u001b[1;32m~\\anaconda3\\lib\\site-packages\\sklearn\\manifold\\_t_sne.py\u001b[0m in \u001b[0;36m_gradient_descent\u001b[1;34m(objective, p0, it, n_iter, n_iter_check, n_iter_without_progress, momentum, learning_rate, min_gain, min_grad_norm, verbose, args, kwargs)\u001b[0m\n\u001b[0;32m    362\u001b[0m \u001b[1;33m\u001b[0m\u001b[0m\n\u001b[1;32m--> 363\u001b[1;33m         \u001b[0merror\u001b[0m\u001b[1;33m,\u001b[0m \u001b[0mgrad\u001b[0m \u001b[1;33m=\u001b[0m \u001b[0mobjective\u001b[0m\u001b[1;33m(\u001b[0m\u001b[0mp\u001b[0m\u001b[1;33m,\u001b[0m \u001b[1;33m*\u001b[0m\u001b[0margs\u001b[0m\u001b[1;33m,\u001b[0m \u001b[1;33m**\u001b[0m\u001b[0mkwargs\u001b[0m\u001b[1;33m)\u001b[0m\u001b[1;33m\u001b[0m\u001b[1;33m\u001b[0m\u001b[0m\n\u001b[0m\u001b[0;32m    364\u001b[0m         \u001b[0mgrad_norm\u001b[0m \u001b[1;33m=\u001b[0m \u001b[0mlinalg\u001b[0m\u001b[1;33m.\u001b[0m\u001b[0mnorm\u001b[0m\u001b[1;33m(\u001b[0m\u001b[0mgrad\u001b[0m\u001b[1;33m)\u001b[0m\u001b[1;33m\u001b[0m\u001b[1;33m\u001b[0m\u001b[0m\n",
            "\u001b[1;32m~\\anaconda3\\lib\\site-packages\\sklearn\\manifold\\_t_sne.py\u001b[0m in \u001b[0;36m_kl_divergence_bh\u001b[1;34m(params, P, degrees_of_freedom, n_samples, n_components, angle, skip_num_points, verbose, compute_error, num_threads)\u001b[0m\n\u001b[0;32m    262\u001b[0m     \u001b[0mgrad\u001b[0m \u001b[1;33m=\u001b[0m \u001b[0mnp\u001b[0m\u001b[1;33m.\u001b[0m\u001b[0mzeros\u001b[0m\u001b[1;33m(\u001b[0m\u001b[0mX_embedded\u001b[0m\u001b[1;33m.\u001b[0m\u001b[0mshape\u001b[0m\u001b[1;33m,\u001b[0m \u001b[0mdtype\u001b[0m\u001b[1;33m=\u001b[0m\u001b[0mnp\u001b[0m\u001b[1;33m.\u001b[0m\u001b[0mfloat32\u001b[0m\u001b[1;33m)\u001b[0m\u001b[1;33m\u001b[0m\u001b[1;33m\u001b[0m\u001b[0m\n\u001b[1;32m--> 263\u001b[1;33m     error = _barnes_hut_tsne.gradient(val_P, X_embedded, neighbors, indptr,\n\u001b[0m\u001b[0;32m    264\u001b[0m                                       \u001b[0mgrad\u001b[0m\u001b[1;33m,\u001b[0m \u001b[0mangle\u001b[0m\u001b[1;33m,\u001b[0m \u001b[0mn_components\u001b[0m\u001b[1;33m,\u001b[0m \u001b[0mverbose\u001b[0m\u001b[1;33m,\u001b[0m\u001b[1;33m\u001b[0m\u001b[1;33m\u001b[0m\u001b[0m\n",
            "\u001b[1;31mKeyboardInterrupt\u001b[0m: ",
            "\nDuring handling of the above exception, another exception occurred:\n",
            "\u001b[1;31mAttributeError\u001b[0m                            Traceback (most recent call last)",
            "\u001b[1;32m~\\anaconda3\\lib\\site-packages\\IPython\\core\\interactiveshell.py\u001b[0m in \u001b[0;36mshowtraceback\u001b[1;34m(self, exc_tuple, filename, tb_offset, exception_only, running_compiled_code)\u001b[0m\n\u001b[0;32m   2063\u001b[0m                         \u001b[1;31m# in the engines. This should return a list of strings.\u001b[0m\u001b[1;33m\u001b[0m\u001b[1;33m\u001b[0m\u001b[0m\n\u001b[1;32m-> 2064\u001b[1;33m                         \u001b[0mstb\u001b[0m \u001b[1;33m=\u001b[0m \u001b[0mvalue\u001b[0m\u001b[1;33m.\u001b[0m\u001b[0m_render_traceback_\u001b[0m\u001b[1;33m(\u001b[0m\u001b[1;33m)\u001b[0m\u001b[1;33m\u001b[0m\u001b[1;33m\u001b[0m\u001b[0m\n\u001b[0m\u001b[0;32m   2065\u001b[0m                     \u001b[1;32mexcept\u001b[0m \u001b[0mException\u001b[0m\u001b[1;33m:\u001b[0m\u001b[1;33m\u001b[0m\u001b[1;33m\u001b[0m\u001b[0m\n",
            "\u001b[1;31mAttributeError\u001b[0m: 'KeyboardInterrupt' object has no attribute '_render_traceback_'",
            "\nDuring handling of the above exception, another exception occurred:\n",
            "\u001b[1;31mTypeError\u001b[0m                                 Traceback (most recent call last)",
            "    \u001b[1;31m[... skipping hidden 1 frame]\u001b[0m\n",
            "\u001b[1;32m~\\anaconda3\\lib\\site-packages\\IPython\\core\\interactiveshell.py\u001b[0m in \u001b[0;36mshowtraceback\u001b[1;34m(self, exc_tuple, filename, tb_offset, exception_only, running_compiled_code)\u001b[0m\n\u001b[0;32m   2064\u001b[0m                         \u001b[0mstb\u001b[0m \u001b[1;33m=\u001b[0m \u001b[0mvalue\u001b[0m\u001b[1;33m.\u001b[0m\u001b[0m_render_traceback_\u001b[0m\u001b[1;33m(\u001b[0m\u001b[1;33m)\u001b[0m\u001b[1;33m\u001b[0m\u001b[1;33m\u001b[0m\u001b[0m\n\u001b[0;32m   2065\u001b[0m                     \u001b[1;32mexcept\u001b[0m \u001b[0mException\u001b[0m\u001b[1;33m:\u001b[0m\u001b[1;33m\u001b[0m\u001b[1;33m\u001b[0m\u001b[0m\n\u001b[1;32m-> 2066\u001b[1;33m                         stb = self.InteractiveTB.structured_traceback(etype,\n\u001b[0m\u001b[0;32m   2067\u001b[0m                                             value, tb, tb_offset=tb_offset)\n\u001b[0;32m   2068\u001b[0m \u001b[1;33m\u001b[0m\u001b[0m\n",
            "\u001b[1;32m~\\anaconda3\\lib\\site-packages\\IPython\\core\\ultratb.py\u001b[0m in \u001b[0;36mstructured_traceback\u001b[1;34m(self, etype, value, tb, tb_offset, number_of_lines_of_context)\u001b[0m\n\u001b[0;32m   1365\u001b[0m         \u001b[1;32melse\u001b[0m\u001b[1;33m:\u001b[0m\u001b[1;33m\u001b[0m\u001b[1;33m\u001b[0m\u001b[0m\n\u001b[0;32m   1366\u001b[0m             \u001b[0mself\u001b[0m\u001b[1;33m.\u001b[0m\u001b[0mtb\u001b[0m \u001b[1;33m=\u001b[0m \u001b[0mtb\u001b[0m\u001b[1;33m\u001b[0m\u001b[1;33m\u001b[0m\u001b[0m\n\u001b[1;32m-> 1367\u001b[1;33m         return FormattedTB.structured_traceback(\n\u001b[0m\u001b[0;32m   1368\u001b[0m             self, etype, value, tb, tb_offset, number_of_lines_of_context)\n\u001b[0;32m   1369\u001b[0m \u001b[1;33m\u001b[0m\u001b[0m\n",
            "\u001b[1;32m~\\anaconda3\\lib\\site-packages\\IPython\\core\\ultratb.py\u001b[0m in \u001b[0;36mstructured_traceback\u001b[1;34m(self, etype, value, tb, tb_offset, number_of_lines_of_context)\u001b[0m\n\u001b[0;32m   1265\u001b[0m         \u001b[1;32mif\u001b[0m \u001b[0mmode\u001b[0m \u001b[1;32min\u001b[0m \u001b[0mself\u001b[0m\u001b[1;33m.\u001b[0m\u001b[0mverbose_modes\u001b[0m\u001b[1;33m:\u001b[0m\u001b[1;33m\u001b[0m\u001b[1;33m\u001b[0m\u001b[0m\n\u001b[0;32m   1266\u001b[0m             \u001b[1;31m# Verbose modes need a full traceback\u001b[0m\u001b[1;33m\u001b[0m\u001b[1;33m\u001b[0m\u001b[0m\n\u001b[1;32m-> 1267\u001b[1;33m             return VerboseTB.structured_traceback(\n\u001b[0m\u001b[0;32m   1268\u001b[0m                 \u001b[0mself\u001b[0m\u001b[1;33m,\u001b[0m \u001b[0metype\u001b[0m\u001b[1;33m,\u001b[0m \u001b[0mvalue\u001b[0m\u001b[1;33m,\u001b[0m \u001b[0mtb\u001b[0m\u001b[1;33m,\u001b[0m \u001b[0mtb_offset\u001b[0m\u001b[1;33m,\u001b[0m \u001b[0mnumber_of_lines_of_context\u001b[0m\u001b[1;33m\u001b[0m\u001b[1;33m\u001b[0m\u001b[0m\n\u001b[0;32m   1269\u001b[0m             )\n",
            "\u001b[1;32m~\\anaconda3\\lib\\site-packages\\IPython\\core\\ultratb.py\u001b[0m in \u001b[0;36mstructured_traceback\u001b[1;34m(self, etype, evalue, etb, tb_offset, number_of_lines_of_context)\u001b[0m\n\u001b[0;32m   1122\u001b[0m         \u001b[1;34m\"\"\"Return a nice text document describing the traceback.\"\"\"\u001b[0m\u001b[1;33m\u001b[0m\u001b[1;33m\u001b[0m\u001b[0m\n\u001b[0;32m   1123\u001b[0m \u001b[1;33m\u001b[0m\u001b[0m\n\u001b[1;32m-> 1124\u001b[1;33m         formatted_exception = self.format_exception_as_a_whole(etype, evalue, etb, number_of_lines_of_context,\n\u001b[0m\u001b[0;32m   1125\u001b[0m                                                                tb_offset)\n\u001b[0;32m   1126\u001b[0m \u001b[1;33m\u001b[0m\u001b[0m\n",
            "\u001b[1;32m~\\anaconda3\\lib\\site-packages\\IPython\\core\\ultratb.py\u001b[0m in \u001b[0;36mformat_exception_as_a_whole\u001b[1;34m(self, etype, evalue, etb, number_of_lines_of_context, tb_offset)\u001b[0m\n\u001b[0;32m   1080\u001b[0m \u001b[1;33m\u001b[0m\u001b[0m\n\u001b[0;32m   1081\u001b[0m \u001b[1;33m\u001b[0m\u001b[0m\n\u001b[1;32m-> 1082\u001b[1;33m         \u001b[0mlast_unique\u001b[0m\u001b[1;33m,\u001b[0m \u001b[0mrecursion_repeat\u001b[0m \u001b[1;33m=\u001b[0m \u001b[0mfind_recursion\u001b[0m\u001b[1;33m(\u001b[0m\u001b[0morig_etype\u001b[0m\u001b[1;33m,\u001b[0m \u001b[0mevalue\u001b[0m\u001b[1;33m,\u001b[0m \u001b[0mrecords\u001b[0m\u001b[1;33m)\u001b[0m\u001b[1;33m\u001b[0m\u001b[1;33m\u001b[0m\u001b[0m\n\u001b[0m\u001b[0;32m   1083\u001b[0m \u001b[1;33m\u001b[0m\u001b[0m\n\u001b[0;32m   1084\u001b[0m         \u001b[0mframes\u001b[0m \u001b[1;33m=\u001b[0m \u001b[0mself\u001b[0m\u001b[1;33m.\u001b[0m\u001b[0mformat_records\u001b[0m\u001b[1;33m(\u001b[0m\u001b[0mrecords\u001b[0m\u001b[1;33m,\u001b[0m \u001b[0mlast_unique\u001b[0m\u001b[1;33m,\u001b[0m \u001b[0mrecursion_repeat\u001b[0m\u001b[1;33m)\u001b[0m\u001b[1;33m\u001b[0m\u001b[1;33m\u001b[0m\u001b[0m\n",
            "\u001b[1;32m~\\anaconda3\\lib\\site-packages\\IPython\\core\\ultratb.py\u001b[0m in \u001b[0;36mfind_recursion\u001b[1;34m(etype, value, records)\u001b[0m\n\u001b[0;32m    380\u001b[0m     \u001b[1;31m# first frame (from in to out) that looks different.\u001b[0m\u001b[1;33m\u001b[0m\u001b[1;33m\u001b[0m\u001b[0m\n\u001b[0;32m    381\u001b[0m     \u001b[1;32mif\u001b[0m \u001b[1;32mnot\u001b[0m \u001b[0mis_recursion_error\u001b[0m\u001b[1;33m(\u001b[0m\u001b[0metype\u001b[0m\u001b[1;33m,\u001b[0m \u001b[0mvalue\u001b[0m\u001b[1;33m,\u001b[0m \u001b[0mrecords\u001b[0m\u001b[1;33m)\u001b[0m\u001b[1;33m:\u001b[0m\u001b[1;33m\u001b[0m\u001b[1;33m\u001b[0m\u001b[0m\n\u001b[1;32m--> 382\u001b[1;33m         \u001b[1;32mreturn\u001b[0m \u001b[0mlen\u001b[0m\u001b[1;33m(\u001b[0m\u001b[0mrecords\u001b[0m\u001b[1;33m)\u001b[0m\u001b[1;33m,\u001b[0m \u001b[1;36m0\u001b[0m\u001b[1;33m\u001b[0m\u001b[1;33m\u001b[0m\u001b[0m\n\u001b[0m\u001b[0;32m    383\u001b[0m \u001b[1;33m\u001b[0m\u001b[0m\n\u001b[0;32m    384\u001b[0m     \u001b[1;31m# Select filename, lineno, func_name to track frames with\u001b[0m\u001b[1;33m\u001b[0m\u001b[1;33m\u001b[0m\u001b[0m\n",
            "\u001b[1;31mTypeError\u001b[0m: object of type 'NoneType' has no len()"
          ]
        }
      ],
      "source": [
        "from sklearn.manifold import TSNE\n",
        "train_tsne = TSNE(n_components=2).fit_transform(features)\n",
        "tsne_df = pd.DataFrame({'tsne1':train_tsne[:,0],\n",
        "                        'tsne2':train_tsne[:,1],\n",
        "                        'labels':labels})"
      ]
    },
    {
      "cell_type": "code",
      "execution_count": null,
      "id": "edf45f72",
      "metadata": {
        "id": "edf45f72"
      },
      "outputs": [],
      "source": [
        "plt.title('Tor Non Tor')\n",
        "plt.scatter(train_tsne[:,0],train_tsne[:,1],c=labels,cmap=plt.cm.jet)"
      ]
    },
    {
      "cell_type": "code",
      "execution_count": null,
      "id": "236990d3",
      "metadata": {
        "id": "236990d3",
        "outputId": "f2f6e51f-afdb-4f69-ffa8-220a6422b775"
      },
      "outputs": [
        {
          "data": {
            "text/plain": [
              "array([[-0.08163698, -0.00837747],\n",
              "       [-0.08289481, -0.00891791],\n",
              "       [-0.07541383,  0.00245462],\n",
              "       ...,\n",
              "       [ 1.03874426, -0.81068221],\n",
              "       [ 0.98238468, -0.84387302],\n",
              "       [ 0.98218985, -0.8437258 ]])"
            ]
          },
          "execution_count": 22,
          "metadata": {},
          "output_type": "execute_result"
        }
      ],
      "source": [
        "pca = PCA(n_components=2)\n",
        "X_transform = pca.fit_transform(features)\n",
        "X_transform"
      ]
    },
    {
      "cell_type": "code",
      "execution_count": null,
      "id": "ffe27c3d",
      "metadata": {
        "id": "ffe27c3d"
      },
      "outputs": [],
      "source": [
        "X_transform = pd.DataFrame(data = X_transform, columns = [\"principal component 1\", \"principal component 2\"])\n",
        "X_train, X_test, y_train, y_test = train_test_split(X_transform, labels, test_size=0.20, random_state=32)\n",
        "from sklearn.metrics import classification_report"
      ]
    },
    {
      "cell_type": "markdown",
      "id": "e8319ccc",
      "metadata": {
        "id": "e8319ccc"
      },
      "source": [
        "# TSNE Implementation"
      ]
    },
    {
      "cell_type": "code",
      "execution_count": null,
      "id": "9336ee86",
      "metadata": {
        "id": "9336ee86"
      },
      "outputs": [],
      "source": [
        "\n",
        "from sklearn.manifold import TSNE"
      ]
    },
    {
      "cell_type": "code",
      "execution_count": null,
      "id": "46633ff9",
      "metadata": {
        "id": "46633ff9"
      },
      "outputs": [],
      "source": [
        "# ploting the 2d data points with seaborn\n",
        "import seaborn as sn"
      ]
    },
    {
      "cell_type": "code",
      "execution_count": null,
      "id": "cadcd104",
      "metadata": {
        "id": "cadcd104",
        "outputId": "938d3fb0-2169-4ecc-bd76-d6dcffcdd26b"
      },
      "outputs": [
        {
          "name": "stderr",
          "output_type": "stream",
          "text": [
            "C:\\Users\\ASUS\\anaconda3\\lib\\site-packages\\seaborn\\axisgrid.py:337: UserWarning: The `size` parameter has been renamed to `height`; please update your code.\n",
            "  warnings.warn(msg, UserWarning)\n"
          ]
        },
        {
          "data": {
            "image/png": "[encoded data removed]",
            "text/plain": [
              "<Figure size 484x432 with 1 Axes>"
            ]
          },
          "metadata": {
            "needs_background": "light"
          },
          "output_type": "display_data"
        }
      ],
      "source": [
        "\n",
        "model = TSNE(n_components=3, random_state=0)\n",
        "# configuring the parameteres\n",
        "# the number of components = 2\n",
        "# default perplexity = 30\n",
        "# default learning rate = 200\n",
        "# default Maximum number of iterations for the optimization = 1000\n",
        "\n",
        "tsne_data = model.fit_transform(features)\n",
        "# creating a new data frame which help us in ploting the result data\n",
        "tsne_data = np.vstack((tsne_data.T, labels)).T\n",
        "tsne_df = pd.DataFrame(data=tsne_data, columns=(\"Dim_1\", \"Dim_2\",\"Dim_3\", \"label\"))\n",
        "\n",
        "# Ploting the result of tsne\n",
        "sn.FacetGrid(tsne_df, hue=\"label\", size=6).map(plt.scatter, 'Dim_1', 'Dim_3').add_legend()\n",
        "plt.show()"
      ]
    },
    {
      "cell_type": "code",
      "execution_count": null,
      "id": "d9e1525c",
      "metadata": {
        "id": "d9e1525c",
        "outputId": "c9e08add-cea4-4d50-b2e3-d909bbb6f9d3"
      },
      "outputs": [
        {
          "name": "stderr",
          "output_type": "stream",
          "text": [
            "C:\\Users\\ASUS\\anaconda3\\lib\\site-packages\\seaborn\\axisgrid.py:337: UserWarning: The `size` parameter has been renamed to `height`; please update your code.\n",
            "  warnings.warn(msg, UserWarning)\n"
          ]
        },
        {
          "data": {
            "image/png": "[encoded data removed]",
            "text/plain": [
              "<Figure size 484x432 with 1 Axes>"
            ]
          },
          "metadata": {
            "needs_background": "light"
          },
          "output_type": "display_data"
        }
      ],
      "source": [
        "sn.FacetGrid(tsne_df, hue=\"label\", size=6).map(plt.scatter, 'Dim_2', 'Dim_3').add_legend()\n",
        "plt.show()"
      ]
    },
    {
      "cell_type": "code",
      "execution_count": null,
      "id": "0988357a",
      "metadata": {
        "id": "0988357a",
        "outputId": "6f864c0f-32dd-4c7b-ce14-4c56d329ee7f"
      },
      "outputs": [
        {
          "name": "stderr",
          "output_type": "stream",
          "text": [
            "C:\\Users\\ASUS\\anaconda3\\lib\\site-packages\\seaborn\\axisgrid.py:337: UserWarning: The `size` parameter has been renamed to `height`; please update your code.\n",
            "  warnings.warn(msg, UserWarning)\n"
          ]
        },
        {
          "data": {
            "image/png": "[encoded data removed]",
            "text/plain": [
              "<Figure size 484x432 with 1 Axes>"
            ]
          },
          "metadata": {
            "needs_background": "light"
          },
          "output_type": "display_data"
        }
      ],
      "source": [
        "\n",
        "model = TSNE(n_components=2, random_state=0,perplexity=50,  n_iter=5000)\n",
        "# configuring the parameteres\n",
        "# the number of components = 2\n",
        "# default perplexity = 30\n",
        "# default learning rate = 200\n",
        "# default Maximum number of iterations for the optimization = 1000\n",
        "\n",
        "tsne_data = model.fit_transform(features)\n",
        "# creating a new data frame which help us in ploting the result data\n",
        "tsne_data = np.vstack((tsne_data.T, labels)).T\n",
        "tsne_df = pd.DataFrame(data=tsne_data, columns=(\"Dim_1\", \"Dim_2\", \"label\"))\n",
        "\n",
        "# Ploting the result of tsne\n",
        "sn.FacetGrid(tsne_df, hue=\"label\", size=6).map(plt.scatter, 'Dim_1', 'Dim_2').add_legend()\n",
        "plt.show()"
      ]
    },
    {
      "cell_type": "code",
      "execution_count": null,
      "id": "6c8a93d4",
      "metadata": {
        "id": "6c8a93d4"
      },
      "outputs": [],
      "source": [
        "model = TSNE(n_components=2, random_state=0,perplexity=100,  n_iter=5000)"
      ]
    },
    {
      "cell_type": "code",
      "execution_count": null,
      "id": "081bb12b",
      "metadata": {
        "id": "081bb12b",
        "outputId": "0ee95420-a6f1-43d4-f4d7-46a28cb73dfe"
      },
      "outputs": [
        {
          "data": {
            "text/plain": [
              "array([[-45.668167 ,  -1.6954756],\n",
              "       [-34.166073 , -14.001017 ],\n",
              "       [-37.171803 ,   5.1364875],\n",
              "       ...,\n",
              "       [ 49.469555 , -49.24173  ],\n",
              "       [ 50.00762  , -48.843174 ],\n",
              "       [ 49.947502 , -49.283955 ]], dtype=float32)"
            ]
          },
          "execution_count": 54,
          "metadata": {},
          "output_type": "execute_result"
        }
      ],
      "source": [
        "X_transform =  model.fit_transform(features)\n",
        "X_transform"
      ]
    },
    {
      "cell_type": "code",
      "execution_count": null,
      "id": "c2b13dcc",
      "metadata": {
        "id": "c2b13dcc"
      },
      "outputs": [],
      "source": [
        "X_transform = pd.DataFrame(data = X_transform, columns = [\"TSNE component 1\", \"TSNE component 2\"])\n",
        "X_train, X_test, y_train, y_test = train_test_split(X_transform, labels, test_size=0.20, random_state=32)\n",
        "from sklearn.metrics import classification_report"
      ]
    },
    {
      "cell_type": "code",
      "execution_count": null,
      "id": "af65344e",
      "metadata": {
        "id": "af65344e"
      },
      "outputs": [],
      "source": [
        "Scaler_X = StandardScaler()\n",
        "X_train = Scaler_X.fit_transform(X_train)\n",
        "X_test = Scaler_X.transform(X_test)"
      ]
    },
    {
      "cell_type": "code",
      "execution_count": null,
      "id": "f11f3c9b",
      "metadata": {
        "id": "f11f3c9b",
        "outputId": "3908a8b1-a9a2-405c-eeb4-e6b96821dea7"
      },
      "outputs": [
        {
          "name": "stdout",
          "output_type": "stream",
          "text": [
            "0.9969788519637462\n",
            "Time Taken with TSNE for KNN:\n",
            "0.15267252922058105\n"
          ]
        }
      ],
      "source": [
        "import time\n",
        "tic=time.time()\n",
        "model = KNeighborsClassifier(n_neighbors=16,p=1 )\n",
        "model.fit(X_train, y_train)\n",
        "Accuracy = model.score(X_test, y_test)\n",
        "print(Accuracy)\n",
        "print(\"Time Taken with TSNE for KNN:\")\n",
        "toc=time.time()\n",
        "print(toc-tic)"
      ]
    },
    {
      "cell_type": "code",
      "execution_count": null,
      "id": "dd49bed2",
      "metadata": {
        "id": "dd49bed2",
        "outputId": "d630f656-f9e2-4834-b03e-5bc302835601"
      },
      "outputs": [
        {
          "name": "stdout",
          "output_type": "stream",
          "text": [
            "              precision    recall  f1-score   support\n",
            "\n",
            "           0       0.99      1.00      0.99      1796\n",
            "           1       1.00      0.89      0.94       190\n",
            "\n",
            "    accuracy                           0.99      1986\n",
            "   macro avg       0.99      0.95      0.97      1986\n",
            "weighted avg       0.99      0.99      0.99      1986\n",
            "\n",
            "Time Taken with TSNE for SVM:\n",
            "0.35944557189941406\n"
          ]
        }
      ],
      "source": [
        "tic=time.time()\n",
        "clf = svm.SVC(kernel='rbf')\n",
        "clf.fit(X_train,y_train)\n",
        "y_pred=clf.predict(X_test)\n",
        "print(classification_report(y_test,y_pred))\n",
        "toc=time.time()\n",
        "print(\"Time Taken with TSNE for SVM:\")\n",
        "print(toc-tic)"
      ]
    },
    {
      "cell_type": "code",
      "execution_count": null,
      "id": "a566bd27",
      "metadata": {
        "id": "a566bd27",
        "outputId": "daf1ff67-fed0-4bf2-856d-f0ea5f683fd4"
      },
      "outputs": [
        {
          "name": "stdout",
          "output_type": "stream",
          "text": [
            "              precision    recall  f1-score   support\n",
            "\n",
            "           0       1.00      1.00      1.00      1796\n",
            "           1       0.99      0.97      0.98       190\n",
            "\n",
            "    accuracy                           1.00      1986\n",
            "   macro avg       0.99      0.99      0.99      1986\n",
            "weighted avg       1.00      1.00      1.00      1986\n",
            "\n",
            "Time Taken for Decision Tree:\n",
            "0.04224824905395508\n"
          ]
        }
      ],
      "source": [
        "tic=time.time()\n",
        "classifier = DT(criterion='entropy', random_state=0)\n",
        "classifier.fit(X_train,y_train)\n",
        "y_pred = classifier.predict(X_test)\n",
        "print(classification_report(y_test,y_pred))\n",
        "toc=time.time()\n",
        "print(\"Time Taken for Decision Tree:\")\n",
        "print(toc-tic)"
      ]
    },
    {
      "cell_type": "code",
      "execution_count": null,
      "id": "235f1857",
      "metadata": {
        "id": "235f1857",
        "outputId": "01d3ef87-6469-4e86-fb7d-66ec1d00f749"
      },
      "outputs": [
        {
          "name": "stdout",
          "output_type": "stream",
          "text": [
            "              precision    recall  f1-score   support\n",
            "\n",
            "           0       1.00      1.00      1.00      1796\n",
            "           1       0.99      0.98      0.99       190\n",
            "\n",
            "    accuracy                           1.00      1986\n",
            "   macro avg       1.00      0.99      0.99      1986\n",
            "weighted avg       1.00      1.00      1.00      1986\n",
            "\n",
            "Time Taken for Random Forest:\n",
            "0.1317133903503418\n"
          ]
        }
      ],
      "source": [
        "from sklearn.ensemble import RandomForestClassifier as RF\n",
        "tic=time.time()\n",
        "classifier = RF(n_estimators=8, criterion='entropy', random_state=0)\n",
        "classifier.fit(X_train,y_train)\n",
        "y_pred = classifier.predict(X_test)\n",
        "print(classification_report(y_test,y_pred))\n",
        "toc=time.time()\n",
        "print(\"Time Taken for Random Forest:\")\n",
        "print(toc-tic)"
      ]
    },
    {
      "cell_type": "code",
      "execution_count": null,
      "id": "2e560561",
      "metadata": {
        "id": "2e560561",
        "outputId": "4b2bc80b-2d46-4e73-87d1-8d675900bfcc"
      },
      "outputs": [
        {
          "name": "stdout",
          "output_type": "stream",
          "text": [
            "              precision    recall  f1-score   support\n",
            "\n",
            "           0       0.97      0.97      0.97      1796\n",
            "           1       0.73      0.75      0.74       190\n",
            "\n",
            "    accuracy                           0.95      1986\n",
            "   macro avg       0.85      0.86      0.86      1986\n",
            "weighted avg       0.95      0.95      0.95      1986\n",
            "\n",
            "Time Taken for Logistic Regression:\n",
            "0.04629826545715332\n"
          ]
        }
      ],
      "source": [
        "from sklearn.linear_model import LogisticRegression\n",
        "tic=time.time()\n",
        "classifier = LogisticRegression()\n",
        "classifier.fit(X_train,y_train)\n",
        "y_pred = classifier.predict(X_test)\n",
        "print(classification_report(y_test,y_pred))\n",
        "toc=time.time()\n",
        "print(\"Time Taken for Logistic Regression:\")\n",
        "print(toc-tic)"
      ]
    },
    {
      "cell_type": "code",
      "execution_count": null,
      "id": "efe0e20d",
      "metadata": {
        "id": "efe0e20d"
      },
      "outputs": [],
      "source": [
        ""
      ]
    },
    {
      "cell_type": "code",
      "execution_count": null,
      "id": "5d006981",
      "metadata": {
        "id": "5d006981"
      },
      "outputs": [],
      "source": [
        ""
      ]
    },
    {
      "cell_type": "code",
      "execution_count": null,
      "id": "5bf15034",
      "metadata": {
        "id": "5bf15034"
      },
      "outputs": [],
      "source": [
        "from sklearn import svm"
      ]
    },
    {
      "cell_type": "markdown",
      "id": "ba9d87d3",
      "metadata": {
        "id": "ba9d87d3"
      },
      "source": [
        "# SVM "
      ]
    },
    {
      "cell_type": "code",
      "execution_count": null,
      "id": "ae3f6db0",
      "metadata": {
        "id": "ae3f6db0"
      },
      "outputs": [],
      "source": [
        "import time"
      ]
    },
    {
      "cell_type": "code",
      "execution_count": null,
      "id": "67e5bde6",
      "metadata": {
        "id": "67e5bde6"
      },
      "outputs": [],
      "source": [
        "tic=time.time()\n",
        "clf = svm.SVC(kernel='linear')\n",
        "clf.fit(X_train,y_train)\n",
        "y_pred=clf.predict(X_test)\n",
        "print(classification_report(y_test,y_pred))\n",
        "toc=time.time()\n",
        "print(\"Time Taken:\")\n",
        "print(toc-tic)"
      ]
    },
    {
      "cell_type": "code",
      "execution_count": null,
      "id": "e8de8a8d",
      "metadata": {
        "id": "e8de8a8d",
        "outputId": "9f9699f9-6e06-4c04-87bd-3f78cb98108d"
      },
      "outputs": [
        {
          "name": "stdout",
          "output_type": "stream",
          "text": [
            "              precision    recall  f1-score   support\n",
            "\n",
            "           0       0.97      0.97      0.97      1796\n",
            "           1       0.73      0.75      0.74       190\n",
            "\n",
            "    accuracy                           0.95      1986\n",
            "   macro avg       0.85      0.86      0.86      1986\n",
            "weighted avg       0.95      0.95      0.95      1986\n",
            "\n",
            "Time Taken:\n",
            "0.4634876251220703\n"
          ]
        }
      ],
      "source": [
        ""
      ]
    },
    {
      "cell_type": "code",
      "execution_count": null,
      "id": "36ce383c",
      "metadata": {
        "id": "36ce383c"
      },
      "outputs": [],
      "source": [
        "\n"
      ]
    },
    {
      "cell_type": "code",
      "execution_count": null,
      "id": "1c9115c2",
      "metadata": {
        "id": "1c9115c2"
      },
      "outputs": [],
      "source": [
        ""
      ]
    },
    {
      "cell_type": "markdown",
      "id": "fbe4dfee",
      "metadata": {
        "id": "fbe4dfee"
      },
      "source": [
        "# Decision Tree"
      ]
    },
    {
      "cell_type": "code",
      "execution_count": null,
      "id": "caf48fac",
      "metadata": {
        "id": "caf48fac"
      },
      "outputs": [],
      "source": [
        "from sklearn.tree import DecisionTreeClassifier as DT"
      ]
    },
    {
      "cell_type": "code",
      "execution_count": null,
      "id": "93a4136a",
      "metadata": {
        "id": "93a4136a",
        "outputId": "f466fde1-924a-4a88-f5ff-6805378ab764"
      },
      "outputs": [
        {
          "name": "stdout",
          "output_type": "stream",
          "text": [
            "              precision    recall  f1-score   support\n",
            "\n",
            "           0       1.00      1.00      1.00      3569\n",
            "           1       0.99      0.97      0.98       403\n",
            "\n",
            "    accuracy                           1.00      3972\n",
            "   macro avg       0.99      0.99      0.99      3972\n",
            "weighted avg       1.00      1.00      1.00      3972\n",
            "\n",
            "Time Taken:\n",
            "0.04288458824157715\n"
          ]
        }
      ],
      "source": [
        "tic=time.time()\n",
        "classifier = DT(criterion='entropy', random_state=0)\n",
        "classifier.fit(X_train,y_train)\n",
        "y_pred = classifier.predict(X_test)\n",
        "print(classification_report(y_test,y_pred))\n",
        "toc=time.time()\n",
        "print(\"Time Taken:\")\n",
        "print(toc-tic)"
      ]
    },
    {
      "cell_type": "markdown",
      "id": "c2d93ab7",
      "metadata": {
        "id": "c2d93ab7"
      },
      "source": [
        "# Random Forest"
      ]
    },
    {
      "cell_type": "code",
      "execution_count": null,
      "id": "cca0b63f",
      "metadata": {
        "id": "cca0b63f"
      },
      "outputs": [],
      "source": [
        ""
      ]
    },
    {
      "cell_type": "code",
      "execution_count": null,
      "id": "52f1d0ec",
      "metadata": {
        "id": "52f1d0ec",
        "outputId": "98336f0b-7828-4c3b-8202-9a33c80c40bb"
      },
      "outputs": [
        {
          "name": "stdout",
          "output_type": "stream",
          "text": [
            "              precision    recall  f1-score   support\n",
            "\n",
            "           0       1.00      1.00      1.00      1796\n",
            "           1       1.00      0.99      0.99       190\n",
            "\n",
            "    accuracy                           1.00      1986\n",
            "   macro avg       1.00      0.99      1.00      1986\n",
            "weighted avg       1.00      1.00      1.00      1986\n",
            "\n",
            "Time Taken:\n",
            "0.14053916931152344\n"
          ]
        }
      ],
      "source": [
        "from sklearn.ensemble import RandomForestClassifier as RF\n",
        "tic=time.time()\n",
        "classifier = RF(n_estimators=8, criterion='entropy', random_state=0)\n",
        "classifier.fit(X_train,y_train)\n",
        "y_pred = classifier.predict(X_test)\n",
        "print(classification_report(y_test,y_pred))\n",
        "toc=time.time()\n",
        "print(\"Time Taken:\")\n",
        "print(toc-tic)"
      ]
    },
    {
      "cell_type": "markdown",
      "id": "6f956d4c",
      "metadata": {
        "id": "6f956d4c"
      },
      "source": [
        "# Logistic Regression"
      ]
    },
    {
      "cell_type": "code",
      "execution_count": null,
      "id": "919701ee",
      "metadata": {
        "id": "919701ee"
      },
      "outputs": [],
      "source": [
        ""
      ]
    },
    {
      "cell_type": "code",
      "execution_count": null,
      "id": "cacd16a0",
      "metadata": {
        "id": "cacd16a0",
        "outputId": "58b79f32-1b2c-4cd5-8a2f-432cdbd690ee"
      },
      "outputs": [
        {
          "name": "stdout",
          "output_type": "stream",
          "text": [
            "              precision    recall  f1-score   support\n",
            "\n",
            "           0       0.97      1.00      0.99      1796\n",
            "           1       1.00      0.75      0.86       190\n",
            "\n",
            "    accuracy                           0.98      1986\n",
            "   macro avg       0.99      0.87      0.92      1986\n",
            "weighted avg       0.98      0.98      0.97      1986\n",
            "\n",
            "Time Taken:\n",
            "0.04986572265625\n"
          ]
        }
      ],
      "source": [
        "from sklearn.linear_model import LogisticRegression\n",
        "tic=time.time()\n",
        "classifier = LogisticRegression()\n",
        "classifier.fit(X_train,y_train)\n",
        "y_pred = classifier.predict(X_test)\n",
        "print(classification_report(y_test,y_pred))\n",
        "toc=time.time()\n",
        "print(\"Time Taken:\")\n",
        "print(toc-tic)"
      ]
    },
    {
      "cell_type": "code",
      "execution_count": null,
      "id": "1c0518e5",
      "metadata": {
        "id": "1c0518e5"
      },
      "outputs": [],
      "source": [
        ""
      ]
    },
    {
      "cell_type": "code",
      "execution_count": null,
      "id": "2f1df289",
      "metadata": {
        "id": "2f1df289"
      },
      "outputs": [],
      "source": [
        ""
      ]
    },
    {
      "cell_type": "markdown",
      "id": "020975a6",
      "metadata": {
        "id": "020975a6"
      },
      "source": [
        "# KNN"
      ]
    },
    {
      "cell_type": "code",
      "execution_count": null,
      "id": "4e45f7b1",
      "metadata": {
        "id": "4e45f7b1"
      },
      "outputs": [],
      "source": [
        "\n",
        "#clf = svm.SVC(kernel='linear')\n",
        "#clf.fit(X_train,y_train)\n"
      ]
    },
    {
      "cell_type": "code",
      "execution_count": null,
      "id": "64659bb2",
      "metadata": {
        "id": "64659bb2",
        "outputId": "e79d255d-d88b-4369-a7fb-3f8d74a6dca7"
      },
      "outputs": [
        {
          "name": "stdout",
          "output_type": "stream",
          "text": [
            "              precision    recall  f1-score   support\n",
            "\n",
            "           0       0.99      1.00      1.00      1796\n",
            "           1       1.00      0.93      0.96       190\n",
            "\n",
            "    accuracy                           0.99      1986\n",
            "   macro avg       1.00      0.97      0.98      1986\n",
            "weighted avg       0.99      0.99      0.99      1986\n",
            "\n",
            "Time Taken:\n",
            "0.2958250045776367\n"
          ]
        }
      ],
      "source": [
        "tic=time.time()\n",
        "clf = KNeighborsClassifier(n_neighbors=4,p=1 )\n",
        "\n",
        "clf.fit(X_train,y_train)\n",
        "y_pred=clf.predict(X_test)\n",
        "print(classification_report(y_test,y_pred))\n",
        "toc=time.time()\n",
        "print(\"Time Taken:\")\n",
        "print(toc-tic)"
      ]
    },
    {
      "cell_type": "code",
      "execution_count": null,
      "id": "c28233aa",
      "metadata": {
        "id": "c28233aa"
      },
      "outputs": [],
      "source": [
        ""
      ]
    },
    {
      "cell_type": "code",
      "execution_count": null,
      "id": "c6b32367",
      "metadata": {
        "id": "c6b32367"
      },
      "outputs": [],
      "source": [
        ""
      ]
    },
    {
      "cell_type": "code",
      "execution_count": null,
      "id": "494e1d49",
      "metadata": {
        "id": "494e1d49"
      },
      "outputs": [],
      "source": [
        "import numpy as np \n",
        "import pandas as pd\n",
        "import matplotlib.pyplot as plt\n",
        "import seaborn as sns\n",
        "\n",
        "from sklearn.datasets import make_blobs\n",
        "\n",
        "from mpl_toolkits.mplot3d import Axes3D\n",
        "\n",
        "from sklearn.preprocessing import MinMaxScaler\n",
        "\n",
        "from tensorflow.keras.models import Sequential\n",
        "from tensorflow.keras.layers import Dense"
      ]
    },
    {
      "cell_type": "code",
      "execution_count": null,
      "id": "174880b0",
      "metadata": {
        "id": "174880b0"
      },
      "outputs": [],
      "source": [
        "from sklearn.preprocessing import StandardScaler\n",
        "Scaler_X = StandardScaler()\n",
        "X_sm = Scaler_X.fit_transform(features)"
      ]
    },
    {
      "cell_type": "code",
      "execution_count": null,
      "id": "97b3c92b",
      "metadata": {
        "id": "97b3c92b"
      },
      "outputs": [],
      "source": [
        "encoder = Sequential()\n",
        "encoder.add(Dense(units = 2, \n",
        "                  activation = 'sigmoid', \n",
        "                  input_shape = [22]))\n",
        "\n",
        "decoder = Sequential()\n",
        "decoder.add(Dense(units = 22, \n",
        "                  activation = 'sigmoid',\n",
        "                  input_shape = [2]))"
      ]
    },
    {
      "cell_type": "code",
      "execution_count": null,
      "id": "39517465",
      "metadata": {
        "id": "39517465"
      },
      "outputs": [],
      "source": [
        "Autoencoder = Sequential([encoder, decoder])"
      ]
    },
    {
      "cell_type": "code",
      "execution_count": null,
      "id": "e98bb7bc",
      "metadata": {
        "id": "e98bb7bc"
      },
      "outputs": [],
      "source": [
        "\n",
        "from tensorflow.keras.optimizers import Adam\n",
        "\n",
        "Autoencoder.compile(loss = 'mse', optimizer= 'Adam')"
      ]
    },
    {
      "cell_type": "code",
      "execution_count": null,
      "id": "a3eb743c",
      "metadata": {
        "id": "a3eb743c",
        "outputId": "095e22fc-07a8-4429-d510-ba1afcd1b0e8"
      },
      "outputs": [
        {
          "name": "stdout",
          "output_type": "stream",
          "text": [
            "Epoch 1/200\n",
            "311/311 [==============================] - 1s 2ms/step - loss: 1.1737\n",
            "Epoch 2/200\n",
            "311/311 [==============================] - 1s 2ms/step - loss: 1.0300\n",
            "Epoch 3/200\n",
            "311/311 [==============================] - 1s 2ms/step - loss: 0.9678\n",
            "Epoch 4/200\n",
            "311/311 [==============================] - 1s 2ms/step - loss: 0.9404\n",
            "Epoch 5/200\n",
            "311/311 [==============================] - 1s 2ms/step - loss: 0.9241\n",
            "Epoch 6/200\n",
            "311/311 [==============================] - 1s 2ms/step - loss: 0.9114\n",
            "Epoch 7/200\n",
            "311/311 [==============================] - 1s 2ms/step - loss: 0.9000\n",
            "Epoch 8/200\n",
            "311/311 [==============================] - 0s 2ms/step - loss: 0.8892\n",
            "Epoch 9/200\n",
            "311/311 [==============================] - 1s 2ms/step - loss: 0.8787\n",
            "Epoch 10/200\n",
            "311/311 [==============================] - 1s 2ms/step - loss: 0.8685\n",
            "Epoch 11/200\n",
            "311/311 [==============================] - 1s 2ms/step - loss: 0.8588\n",
            "Epoch 12/200\n",
            "311/311 [==============================] - 1s 2ms/step - loss: 0.8495\n",
            "Epoch 13/200\n",
            "311/311 [==============================] - 1s 2ms/step - loss: 0.8407\n",
            "Epoch 14/200\n",
            "311/311 [==============================] - 1s 2ms/step - loss: 0.8324\n",
            "Epoch 15/200\n",
            "311/311 [==============================] - 1s 2ms/step - loss: 0.8243\n",
            "Epoch 16/200\n",
            "311/311 [==============================] - 1s 2ms/step - loss: 0.8168\n",
            "Epoch 17/200\n",
            "311/311 [==============================] - 1s 2ms/step - loss: 0.8098\n",
            "Epoch 18/200\n",
            "311/311 [==============================] - 1s 2ms/step - loss: 0.8036\n",
            "Epoch 19/200\n",
            "311/311 [==============================] - 1s 2ms/step - loss: 0.7980\n",
            "Epoch 20/200\n",
            "311/311 [==============================] - 1s 2ms/step - loss: 0.7930\n",
            "Epoch 21/200\n",
            "311/311 [==============================] - 1s 2ms/step - loss: 0.7884\n",
            "Epoch 22/200\n",
            "311/311 [==============================] - 1s 2ms/step - loss: 0.7844\n",
            "Epoch 23/200\n",
            "311/311 [==============================] - 1s 2ms/step - loss: 0.7808\n",
            "Epoch 24/200\n",
            "311/311 [==============================] - 1s 2ms/step - loss: 0.7775\n",
            "Epoch 25/200\n",
            "311/311 [==============================] - 1s 2ms/step - loss: 0.7746\n",
            "Epoch 26/200\n",
            "311/311 [==============================] - 1s 2ms/step - loss: 0.7719\n",
            "Epoch 27/200\n",
            "311/311 [==============================] - 1s 2ms/step - loss: 0.7694\n",
            "Epoch 28/200\n",
            "311/311 [==============================] - 1s 2ms/step - loss: 0.7672\n",
            "Epoch 29/200\n",
            "311/311 [==============================] - 1s 2ms/step - loss: 0.7651\n",
            "Epoch 30/200\n",
            "311/311 [==============================] - 1s 2ms/step - loss: 0.7633\n",
            "Epoch 31/200\n",
            "311/311 [==============================] - 1s 2ms/step - loss: 0.7616\n",
            "Epoch 32/200\n",
            "311/311 [==============================] - 1s 2ms/step - loss: 0.7601\n",
            "Epoch 33/200\n",
            "311/311 [==============================] - 1s 2ms/step - loss: 0.7587\n",
            "Epoch 34/200\n",
            "311/311 [==============================] - 1s 2ms/step - loss: 0.7574\n",
            "Epoch 35/200\n",
            "311/311 [==============================] - 1s 2ms/step - loss: 0.7562\n",
            "Epoch 36/200\n",
            "311/311 [==============================] - 1s 2ms/step - loss: 0.7550\n",
            "Epoch 37/200\n",
            "311/311 [==============================] - 1s 2ms/step - loss: 0.7540\n",
            "Epoch 38/200\n",
            "311/311 [==============================] - 1s 2ms/step - loss: 0.7530\n",
            "Epoch 39/200\n",
            "311/311 [==============================] - 1s 2ms/step - loss: 0.7521\n",
            "Epoch 40/200\n",
            "311/311 [==============================] - 1s 2ms/step - loss: 0.7513\n",
            "Epoch 41/200\n",
            "311/311 [==============================] - 1s 2ms/step - loss: 0.7505\n",
            "Epoch 42/200\n",
            "311/311 [==============================] - 1s 2ms/step - loss: 0.7498\n",
            "Epoch 43/200\n",
            "311/311 [==============================] - 1s 2ms/step - loss: 0.7491\n",
            "Epoch 44/200\n",
            "311/311 [==============================] - 1s 2ms/step - loss: 0.7485\n",
            "Epoch 45/200\n",
            "311/311 [==============================] - 1s 2ms/step - loss: 0.7479\n",
            "Epoch 46/200\n",
            "311/311 [==============================] - 1s 2ms/step - loss: 0.7474\n",
            "Epoch 47/200\n",
            "311/311 [==============================] - 1s 2ms/step - loss: 0.7469\n",
            "Epoch 48/200\n",
            "311/311 [==============================] - 1s 2ms/step - loss: 0.7464\n",
            "Epoch 49/200\n",
            "311/311 [==============================] - 1s 2ms/step - loss: 0.7459\n",
            "Epoch 50/200\n",
            "311/311 [==============================] - 1s 2ms/step - loss: 0.7455\n",
            "Epoch 51/200\n",
            "311/311 [==============================] - 1s 2ms/step - loss: 0.7451\n",
            "Epoch 52/200\n",
            "311/311 [==============================] - 1s 2ms/step - loss: 0.7447\n",
            "Epoch 53/200\n",
            "311/311 [==============================] - 1s 2ms/step - loss: 0.7443\n",
            "Epoch 54/200\n",
            "311/311 [==============================] - 1s 2ms/step - loss: 0.7440\n",
            "Epoch 55/200\n",
            "311/311 [==============================] - 1s 2ms/step - loss: 0.7436\n",
            "Epoch 56/200\n",
            "311/311 [==============================] - 1s 2ms/step - loss: 0.7433\n",
            "Epoch 57/200\n",
            "311/311 [==============================] - 1s 2ms/step - loss: 0.7430\n",
            "Epoch 58/200\n",
            "311/311 [==============================] - 1s 2ms/step - loss: 0.7427\n",
            "Epoch 59/200\n",
            "311/311 [==============================] - 1s 2ms/step - loss: 0.7424\n",
            "Epoch 60/200\n",
            "311/311 [==============================] - 1s 2ms/step - loss: 0.7421\n",
            "Epoch 61/200\n",
            "311/311 [==============================] - 1s 2ms/step - loss: 0.7418\n",
            "Epoch 62/200\n",
            "311/311 [==============================] - 1s 2ms/step - loss: 0.7416\n",
            "Epoch 63/200\n",
            "311/311 [==============================] - 1s 2ms/step - loss: 0.7413\n",
            "Epoch 64/200\n",
            "311/311 [==============================] - 1s 2ms/step - loss: 0.7411\n",
            "Epoch 65/200\n",
            "311/311 [==============================] - 1s 2ms/step - loss: 0.7408\n",
            "Epoch 66/200\n",
            "311/311 [==============================] - 1s 2ms/step - loss: 0.7406\n",
            "Epoch 67/200\n",
            "311/311 [==============================] - 1s 2ms/step - loss: 0.7403\n",
            "Epoch 68/200\n",
            "311/311 [==============================] - 1s 2ms/step - loss: 0.7401\n",
            "Epoch 69/200\n",
            "311/311 [==============================] - 1s 2ms/step - loss: 0.7399\n",
            "Epoch 70/200\n",
            "311/311 [==============================] - 1s 2ms/step - loss: 0.7397\n",
            "Epoch 71/200\n",
            "311/311 [==============================] - 1s 2ms/step - loss: 0.7395\n",
            "Epoch 72/200\n",
            "311/311 [==============================] - 1s 2ms/step - loss: 0.7393\n",
            "Epoch 73/200\n",
            "311/311 [==============================] - 1s 2ms/step - loss: 0.7391\n",
            "Epoch 74/200\n",
            "311/311 [==============================] - 1s 2ms/step - loss: 0.7389\n",
            "Epoch 75/200\n",
            "311/311 [==============================] - 1s 2ms/step - loss: 0.7387\n",
            "Epoch 76/200\n",
            "311/311 [==============================] - 1s 2ms/step - loss: 0.7385\n",
            "Epoch 77/200\n",
            "311/311 [==============================] - 1s 2ms/step - loss: 0.7384\n",
            "Epoch 78/200\n",
            "311/311 [==============================] - 1s 2ms/step - loss: 0.7382\n",
            "Epoch 79/200\n",
            "311/311 [==============================] - 1s 2ms/step - loss: 0.7380\n",
            "Epoch 80/200\n",
            "311/311 [==============================] - 1s 2ms/step - loss: 0.7379\n",
            "Epoch 81/200\n",
            "311/311 [==============================] - 1s 2ms/step - loss: 0.7377\n",
            "Epoch 82/200\n",
            "311/311 [==============================] - 1s 2ms/step - loss: 0.7376\n",
            "Epoch 83/200\n",
            "311/311 [==============================] - 1s 2ms/step - loss: 0.7374\n",
            "Epoch 84/200\n",
            "311/311 [==============================] - 1s 2ms/step - loss: 0.7373\n",
            "Epoch 85/200\n",
            "311/311 [==============================] - 1s 2ms/step - loss: 0.7372\n",
            "Epoch 86/200\n",
            "311/311 [==============================] - 1s 2ms/step - loss: 0.7371\n",
            "Epoch 87/200\n",
            "311/311 [==============================] - 1s 2ms/step - loss: 0.7369\n",
            "Epoch 88/200\n",
            "311/311 [==============================] - 1s 2ms/step - loss: 0.7368\n",
            "Epoch 89/200\n",
            "311/311 [==============================] - 1s 2ms/step - loss: 0.7367\n",
            "Epoch 90/200\n",
            "311/311 [==============================] - 1s 2ms/step - loss: 0.7366\n",
            "Epoch 91/200\n",
            "311/311 [==============================] - 1s 2ms/step - loss: 0.7364\n",
            "Epoch 92/200\n",
            "311/311 [==============================] - 1s 2ms/step - loss: 0.7363\n",
            "Epoch 93/200\n",
            "311/311 [==============================] - 1s 2ms/step - loss: 0.7362\n",
            "Epoch 94/200\n",
            "311/311 [==============================] - 1s 2ms/step - loss: 0.7361\n",
            "Epoch 95/200\n",
            "311/311 [==============================] - 1s 2ms/step - loss: 0.7360\n",
            "Epoch 96/200\n",
            "311/311 [==============================] - 1s 2ms/step - loss: 0.7359\n",
            "Epoch 97/200\n",
            "311/311 [==============================] - 1s 2ms/step - loss: 0.7358\n",
            "Epoch 98/200\n",
            "311/311 [==============================] - 1s 2ms/step - loss: 0.7357\n",
            "Epoch 99/200\n",
            "311/311 [==============================] - 1s 2ms/step - loss: 0.7356\n",
            "Epoch 100/200\n",
            "311/311 [==============================] - 1s 2ms/step - loss: 0.7355\n",
            "Epoch 101/200\n",
            "311/311 [==============================] - 1s 2ms/step - loss: 0.7354\n",
            "Epoch 102/200\n",
            "311/311 [==============================] - 1s 2ms/step - loss: 0.7353\n",
            "Epoch 103/200\n",
            "311/311 [==============================] - 1s 2ms/step - loss: 0.7352\n",
            "Epoch 104/200\n",
            "311/311 [==============================] - 1s 2ms/step - loss: 0.7352\n",
            "Epoch 105/200\n",
            "311/311 [==============================] - 1s 2ms/step - loss: 0.7351\n",
            "Epoch 106/200\n",
            "311/311 [==============================] - 1s 2ms/step - loss: 0.7350\n",
            "Epoch 107/200\n",
            "311/311 [==============================] - 1s 2ms/step - loss: 0.7349\n",
            "Epoch 108/200\n",
            "311/311 [==============================] - 1s 2ms/step - loss: 0.7348\n",
            "Epoch 109/200\n",
            "311/311 [==============================] - 1s 2ms/step - loss: 0.7348\n",
            "Epoch 110/200\n",
            "311/311 [==============================] - 1s 2ms/step - loss: 0.7347\n",
            "Epoch 111/200\n",
            "311/311 [==============================] - 1s 2ms/step - loss: 0.7346\n",
            "Epoch 112/200\n",
            "311/311 [==============================] - 1s 2ms/step - loss: 0.7345\n",
            "Epoch 113/200\n",
            "311/311 [==============================] - 1s 2ms/step - loss: 0.7344\n",
            "Epoch 114/200\n",
            "311/311 [==============================] - 1s 2ms/step - loss: 0.7344\n",
            "Epoch 115/200\n",
            "311/311 [==============================] - 1s 2ms/step - loss: 0.7343\n",
            "Epoch 116/200\n",
            "311/311 [==============================] - 1s 2ms/step - loss: 0.7342\n",
            "Epoch 117/200\n",
            "311/311 [==============================] - 1s 2ms/step - loss: 0.7342\n",
            "Epoch 118/200\n",
            "311/311 [==============================] - 1s 2ms/step - loss: 0.7341\n",
            "Epoch 119/200\n",
            "311/311 [==============================] - 1s 2ms/step - loss: 0.7340\n",
            "Epoch 120/200\n",
            "311/311 [==============================] - 1s 2ms/step - loss: 0.7340\n",
            "Epoch 121/200\n",
            "311/311 [==============================] - 1s 2ms/step - loss: 0.7339\n",
            "Epoch 122/200\n",
            "311/311 [==============================] - 1s 2ms/step - loss: 0.7338\n",
            "Epoch 123/200\n",
            "311/311 [==============================] - 1s 2ms/step - loss: 0.7338\n",
            "Epoch 124/200\n",
            "311/311 [==============================] - 1s 2ms/step - loss: 0.7337\n",
            "Epoch 125/200\n",
            "311/311 [==============================] - 1s 2ms/step - loss: 0.7337\n",
            "Epoch 126/200\n",
            "311/311 [==============================] - 1s 2ms/step - loss: 0.7336\n",
            "Epoch 127/200\n",
            "311/311 [==============================] - 1s 2ms/step - loss: 0.7335\n",
            "Epoch 128/200\n",
            "311/311 [==============================] - 1s 2ms/step - loss: 0.7335\n",
            "Epoch 129/200\n",
            "311/311 [==============================] - 1s 2ms/step - loss: 0.7334\n",
            "Epoch 130/200\n",
            "311/311 [==============================] - 1s 2ms/step - loss: 0.7334\n",
            "Epoch 131/200\n",
            "311/311 [==============================] - 1s 2ms/step - loss: 0.7333\n",
            "Epoch 132/200\n",
            "311/311 [==============================] - 1s 2ms/step - loss: 0.7332\n",
            "Epoch 133/200\n",
            "311/311 [==============================] - 1s 2ms/step - loss: 0.7332\n",
            "Epoch 134/200\n",
            "311/311 [==============================] - 1s 2ms/step - loss: 0.7332\n",
            "Epoch 135/200\n",
            "311/311 [==============================] - 1s 2ms/step - loss: 0.7331\n",
            "Epoch 136/200\n",
            "311/311 [==============================] - 1s 2ms/step - loss: 0.7330\n",
            "Epoch 137/200\n",
            "311/311 [==============================] - 1s 2ms/step - loss: 0.7330\n",
            "Epoch 138/200\n",
            "311/311 [==============================] - 1s 2ms/step - loss: 0.7330\n",
            "Epoch 139/200\n",
            "311/311 [==============================] - 1s 2ms/step - loss: 0.7329\n",
            "Epoch 140/200\n",
            "311/311 [==============================] - 1s 2ms/step - loss: 0.7329\n",
            "Epoch 141/200\n",
            "311/311 [==============================] - 1s 2ms/step - loss: 0.7328\n",
            "Epoch 142/200\n",
            "311/311 [==============================] - 1s 2ms/step - loss: 0.7328\n",
            "Epoch 143/200\n",
            "311/311 [==============================] - 1s 2ms/step - loss: 0.7327\n",
            "Epoch 144/200\n",
            "311/311 [==============================] - 1s 2ms/step - loss: 0.7327\n",
            "Epoch 145/200\n",
            "311/311 [==============================] - 1s 2ms/step - loss: 0.7326\n",
            "Epoch 146/200\n",
            "311/311 [==============================] - 1s 2ms/step - loss: 0.7326\n",
            "Epoch 147/200\n",
            "311/311 [==============================] - 1s 2ms/step - loss: 0.7325\n",
            "Epoch 148/200\n",
            "311/311 [==============================] - 1s 2ms/step - loss: 0.7325\n",
            "Epoch 149/200\n",
            "311/311 [==============================] - 1s 2ms/step - loss: 0.7325\n",
            "Epoch 150/200\n",
            "311/311 [==============================] - 1s 2ms/step - loss: 0.7324\n",
            "Epoch 151/200\n",
            "311/311 [==============================] - 1s 2ms/step - loss: 0.7324\n",
            "Epoch 152/200\n",
            "311/311 [==============================] - 1s 2ms/step - loss: 0.7324\n",
            "Epoch 153/200\n",
            "311/311 [==============================] - 1s 2ms/step - loss: 0.7323\n",
            "Epoch 154/200\n",
            "311/311 [==============================] - 1s 2ms/step - loss: 0.7322\n",
            "Epoch 155/200\n",
            "311/311 [==============================] - 1s 2ms/step - loss: 0.7322\n",
            "Epoch 156/200\n",
            "311/311 [==============================] - 1s 2ms/step - loss: 0.7322\n",
            "Epoch 157/200\n",
            "311/311 [==============================] - 1s 2ms/step - loss: 0.7321\n",
            "Epoch 158/200\n",
            "311/311 [==============================] - 1s 2ms/step - loss: 0.7321\n",
            "Epoch 159/200\n",
            "311/311 [==============================] - 1s 2ms/step - loss: 0.7321\n",
            "Epoch 160/200\n",
            "311/311 [==============================] - 1s 2ms/step - loss: 0.7320\n",
            "Epoch 161/200\n",
            "311/311 [==============================] - 1s 2ms/step - loss: 0.7320\n",
            "Epoch 162/200\n",
            "311/311 [==============================] - 1s 2ms/step - loss: 0.7320\n",
            "Epoch 163/200\n",
            "311/311 [==============================] - 1s 2ms/step - loss: 0.7319\n",
            "Epoch 164/200\n",
            "311/311 [==============================] - 1s 2ms/step - loss: 0.7319\n",
            "Epoch 165/200\n",
            "311/311 [==============================] - 1s 2ms/step - loss: 0.7318\n",
            "Epoch 166/200\n",
            "311/311 [==============================] - 1s 2ms/step - loss: 0.7318\n",
            "Epoch 167/200\n",
            "311/311 [==============================] - 1s 2ms/step - loss: 0.7318\n",
            "Epoch 168/200\n",
            "311/311 [==============================] - 1s 2ms/step - loss: 0.7318\n",
            "Epoch 169/200\n",
            "311/311 [==============================] - 1s 2ms/step - loss: 0.7317\n",
            "Epoch 170/200\n",
            "311/311 [==============================] - 1s 2ms/step - loss: 0.7317\n",
            "Epoch 171/200\n",
            "311/311 [==============================] - 1s 2ms/step - loss: 0.7317\n",
            "Epoch 172/200\n",
            "311/311 [==============================] - 1s 2ms/step - loss: 0.7316\n",
            "Epoch 173/200\n",
            "311/311 [==============================] - 1s 2ms/step - loss: 0.7316\n",
            "Epoch 174/200\n",
            "311/311 [==============================] - 1s 2ms/step - loss: 0.7316\n",
            "Epoch 175/200\n",
            "311/311 [==============================] - 1s 2ms/step - loss: 0.7315\n",
            "Epoch 176/200\n",
            "311/311 [==============================] - 1s 2ms/step - loss: 0.7315\n",
            "Epoch 177/200\n",
            "311/311 [==============================] - 1s 2ms/step - loss: 0.7315\n",
            "Epoch 178/200\n",
            "311/311 [==============================] - 1s 2ms/step - loss: 0.7314\n",
            "Epoch 179/200\n",
            "311/311 [==============================] - 1s 2ms/step - loss: 0.7314\n",
            "Epoch 180/200\n",
            "311/311 [==============================] - 1s 2ms/step - loss: 0.7314\n",
            "Epoch 181/200\n",
            "311/311 [==============================] - 1s 2ms/step - loss: 0.7313\n",
            "Epoch 182/200\n",
            "311/311 [==============================] - 1s 2ms/step - loss: 0.7313\n",
            "Epoch 183/200\n",
            "311/311 [==============================] - 1s 2ms/step - loss: 0.7313\n",
            "Epoch 184/200\n",
            "311/311 [==============================] - 1s 2ms/step - loss: 0.7313\n",
            "Epoch 185/200\n",
            "311/311 [==============================] - 1s 2ms/step - loss: 0.7312\n",
            "Epoch 186/200\n",
            "311/311 [==============================] - 1s 2ms/step - loss: 0.7312\n",
            "Epoch 187/200\n",
            "311/311 [==============================] - 1s 2ms/step - loss: 0.7311\n",
            "Epoch 188/200\n",
            "311/311 [==============================] - 1s 2ms/step - loss: 0.7311\n",
            "Epoch 189/200\n",
            "311/311 [==============================] - 1s 2ms/step - loss: 0.7311\n",
            "Epoch 190/200\n",
            "311/311 [==============================] - 1s 2ms/step - loss: 0.7311\n",
            "Epoch 191/200\n",
            "311/311 [==============================] - 1s 2ms/step - loss: 0.7310\n",
            "Epoch 192/200\n",
            "311/311 [==============================] - 1s 2ms/step - loss: 0.7310\n",
            "Epoch 193/200\n",
            "311/311 [==============================] - 1s 2ms/step - loss: 0.7310\n",
            "Epoch 194/200\n",
            "311/311 [==============================] - 1s 2ms/step - loss: 0.7309\n",
            "Epoch 195/200\n",
            "311/311 [==============================] - 1s 2ms/step - loss: 0.7309\n",
            "Epoch 196/200\n"
          ]
        },
        {
          "name": "stdout",
          "output_type": "stream",
          "text": [
            "311/311 [==============================] - 1s 2ms/step - loss: 0.7309\n",
            "Epoch 197/200\n",
            "311/311 [==============================] - 1s 2ms/step - loss: 0.7309\n",
            "Epoch 198/200\n",
            "311/311 [==============================] - 1s 2ms/step - loss: 0.7309\n",
            "Epoch 199/200\n",
            "311/311 [==============================] - 1s 2ms/step - loss: 0.7308\n",
            "Epoch 200/200\n",
            "311/311 [==============================] - 1s 2ms/step - loss: 0.7308\n"
          ]
        },
        {
          "data": {
            "text/plain": [
              "<keras.callbacks.History at 0x1d1704626a0>"
            ]
          },
          "execution_count": 239,
          "metadata": {},
          "output_type": "execute_result"
        }
      ],
      "source": [
        "Autoencoder.fit(X_sm,\n",
        "                X_sm,\n",
        "                epochs = 200)"
      ]
    },
    {
      "cell_type": "code",
      "execution_count": null,
      "id": "79751afa",
      "metadata": {
        "id": "79751afa"
      },
      "outputs": [],
      "source": [
        "features_2d = encoder.predict(X_sm)"
      ]
    },
    {
      "cell_type": "code",
      "execution_count": null,
      "id": "a832d3ff",
      "metadata": {
        "id": "a832d3ff",
        "outputId": "3ec524d4-bf53-41d0-b911-04e2008f987f"
      },
      "outputs": [
        {
          "data": {
            "text/plain": [
              "(9928, 2)"
            ]
          },
          "execution_count": 241,
          "metadata": {},
          "output_type": "execute_result"
        }
      ],
      "source": [
        "features_2d.shape"
      ]
    },
    {
      "cell_type": "code",
      "execution_count": null,
      "id": "c80d8826",
      "metadata": {
        "id": "c80d8826",
        "outputId": "a0f6c201-afbf-4564-dd3c-39786da2211c"
      },
      "outputs": [
        {
          "data": {
            "image/png": "[encoded data removed]",
            "text/plain": [
              "<Figure size 432x288 with 1 Axes>"
            ]
          },
          "metadata": {
            "needs_background": "light"
          },
          "output_type": "display_data"
        }
      ],
      "source": [
        "plt.scatter(features_2d[:,0],features_2d[:,1], c = labels);"
      ]
    },
    {
      "cell_type": "code",
      "execution_count": null,
      "id": "91b97b81",
      "metadata": {
        "id": "91b97b81"
      },
      "outputs": [],
      "source": [
        "X_train, X_test, y_train, y_test = train_test_split(X_sm,labels, test_size=0.20, random_state=32)\n",
        "from sklearn.metrics import classification_report"
      ]
    },
    {
      "cell_type": "code",
      "execution_count": null,
      "id": "23e1c401",
      "metadata": {
        "id": "23e1c401",
        "outputId": "37aabeeb-8636-4ef4-8674-25b6d2d8afd4"
      },
      "outputs": [
        {
          "name": "stdout",
          "output_type": "stream",
          "text": [
            "0.998992950654582\n",
            "Time Taken with AutoEncoder for KNN:\n",
            "0.6511878967285156\n"
          ]
        }
      ],
      "source": [
        "import time\n",
        "tic=time.time()\n",
        "model = KNeighborsClassifier(n_neighbors=1,p=1 )\n",
        "model.fit(X_train, y_train)\n",
        "Accuracy = model.score(X_test, y_test)\n",
        "print(Accuracy)\n",
        "print(\"Time Taken with AutoEncoder for KNN:\")\n",
        "toc=time.time()\n",
        "print(toc-tic)"
      ]
    },
    {
      "cell_type": "code",
      "execution_count": null,
      "id": "703d1b6b",
      "metadata": {
        "id": "703d1b6b",
        "outputId": "5e09c11d-9220-4aa8-d45b-e3c89fcea94f"
      },
      "outputs": [
        {
          "name": "stdout",
          "output_type": "stream",
          "text": [
            "              precision    recall  f1-score   support\n",
            "\n",
            "           0       1.00      1.00      1.00      1796\n",
            "           1       1.00      0.97      0.98       190\n",
            "\n",
            "    accuracy                           1.00      1986\n",
            "   macro avg       1.00      0.98      0.99      1986\n",
            "weighted avg       1.00      1.00      1.00      1986\n",
            "\n",
            "Time Taken with autoencoder for SVM:\n",
            "0.18358564376831055\n"
          ]
        }
      ],
      "source": [
        "tic=time.time()\n",
        "clf = svm.SVC(kernel='linear')\n",
        "clf.fit(X_train,y_train)\n",
        "y_pred=clf.predict(X_test)\n",
        "print(classification_report(y_test,y_pred))\n",
        "toc=time.time()\n",
        "print(\"Time Taken with autoencoder for SVM:\")\n",
        "print(toc-tic)"
      ]
    },
    {
      "cell_type": "code",
      "execution_count": null,
      "id": "c967bcdc",
      "metadata": {
        "id": "c967bcdc",
        "outputId": "3d2a745d-4a88-424c-fa40-80a71515f763"
      },
      "outputs": [
        {
          "name": "stdout",
          "output_type": "stream",
          "text": [
            "              precision    recall  f1-score   support\n",
            "\n",
            "           0       1.00      1.00      1.00      1796\n",
            "           1       0.99      0.99      0.99       190\n",
            "\n",
            "    accuracy                           1.00      1986\n",
            "   macro avg       0.99      1.00      1.00      1986\n",
            "weighted avg       1.00      1.00      1.00      1986\n",
            "\n",
            "Time Taken for Decision Tree with autoencoder:\n",
            "0.1146998405456543\n"
          ]
        }
      ],
      "source": [
        "tic=time.time()\n",
        "classifier = DT(criterion='gini', random_state=20)\n",
        "classifier.fit(X_train,y_train)\n",
        "y_pred = classifier.predict(X_test)\n",
        "print(classification_report(y_test,y_pred))\n",
        "toc=time.time()\n",
        "print(\"Time Taken for Decision Tree with autoencoder:\")\n",
        "print(toc-tic)"
      ]
    },
    {
      "cell_type": "code",
      "execution_count": null,
      "id": "d987b502",
      "metadata": {
        "id": "d987b502",
        "outputId": "b84804d7-4286-47a6-d56d-6899956c0d19"
      },
      "outputs": [
        {
          "name": "stdout",
          "output_type": "stream",
          "text": [
            "              precision    recall  f1-score   support\n",
            "\n",
            "           0       1.00      1.00      1.00      1796\n",
            "           1       1.00      0.97      0.98       190\n",
            "\n",
            "    accuracy                           1.00      1986\n",
            "   macro avg       1.00      0.98      0.99      1986\n",
            "weighted avg       1.00      1.00      1.00      1986\n",
            "\n",
            "Time Taken with autoencoder for Logistic Regression:\n",
            "0.10671377182006836\n"
          ]
        }
      ],
      "source": [
        "tic=time.time()\n",
        "classifier = LogisticRegression()\n",
        "classifier.fit(X_train,y_train)\n",
        "y_pred = classifier.predict(X_test)\n",
        "print(classification_report(y_test,y_pred))\n",
        "toc=time.time()\n",
        "print(\"Time Taken with autoencoder for Logistic Regression:\")\n",
        "print(toc-tic)"
      ]
    },
    {
      "cell_type": "code",
      "execution_count": null,
      "id": "3812ea22",
      "metadata": {
        "id": "3812ea22",
        "outputId": "b932d00e-cd9b-4b0f-dc72-5a42eb9c0161"
      },
      "outputs": [
        {
          "name": "stdout",
          "output_type": "stream",
          "text": [
            "              precision    recall  f1-score   support\n",
            "\n",
            "           0       1.00      1.00      1.00      1796\n",
            "           1       1.00      0.97      0.98       190\n",
            "\n",
            "    accuracy                           1.00      1986\n",
            "   macro avg       1.00      0.98      0.99      1986\n",
            "weighted avg       1.00      1.00      1.00      1986\n",
            "\n",
            "Time Taken with autoencoder for Random Forest:\n",
            "0.04088711738586426\n"
          ]
        }
      ],
      "source": [
        "tic=time.time()\n",
        "classifier = RF(n_estimators=2, criterion='gini', random_state=0)\n",
        "classifier.fit(X_train,y_train)\n",
        "y_pred = classifier.predict(X_test)\n",
        "print(classification_report(y_test,y_pred))\n",
        "toc=time.time()\n",
        "print(\"Time Taken with autoencoder for Random Forest:\")\n",
        "print(toc-tic)"
      ]
    },
    {
      "cell_type": "code",
      "execution_count": null,
      "id": "3ee71022",
      "metadata": {
        "id": "3ee71022"
      },
      "outputs": [],
      "source": [
        ""
      ]
    },
    {
      "cell_type": "code",
      "execution_count": null,
      "id": "657897ae",
      "metadata": {
        "id": "657897ae"
      },
      "outputs": [],
      "source": [
        ""
      ]
    },
    {
      "cell_type": "code",
      "execution_count": null,
      "id": "4b0109df",
      "metadata": {
        "id": "4b0109df"
      },
      "outputs": [],
      "source": [
        ""
      ]
    },
    {
      "cell_type": "code",
      "execution_count": null,
      "id": "2ac60da2",
      "metadata": {
        "id": "2ac60da2"
      },
      "outputs": [],
      "source": [
        ""
      ]
    },
    {
      "cell_type": "markdown",
      "id": "d51d5518",
      "metadata": {
        "id": "d51d5518"
      },
      "source": [
        "# SMOTE"
      ]
    },
    {
      "cell_type": "code",
      "execution_count": null,
      "id": "a0080f9b",
      "metadata": {
        "id": "a0080f9b"
      },
      "outputs": [],
      "source": [
        "import pandas as pd \n",
        "import numpy as np \n",
        "import matplotlib.pyplot as plt\n",
        "import seaborn as sns\n",
        "\n",
        "from sklearn.linear_model import LogisticRegression\n",
        "from sklearn.tree import DecisionTreeClassifier as DT\n",
        "from sklearn.ensemble import RandomForestClassifier\n",
        "\n",
        "from imblearn.over_sampling import SMOTE\n",
        "from collections import Counter"
      ]
    },
    {
      "cell_type": "code",
      "execution_count": null,
      "id": "394f32c3",
      "metadata": {
        "id": "394f32c3"
      },
      "outputs": [],
      "source": [
        "mainx = dataset.iloc[:,1:23].values\n",
        "mainy = dataset.iloc [:,24].values"
      ]
    },
    {
      "cell_type": "code",
      "execution_count": null,
      "id": "fe0a53c3",
      "metadata": {
        "id": "fe0a53c3"
      },
      "outputs": [],
      "source": [
        "from sklearn import svm\n",
        "import time\n",
        "from sklearn.ensemble import RandomForestClassifier as RF\n",
        "from sklearn.linear_model import LogisticRegression\n",
        "from sklearn.neighbors import KNeighborsClassifier"
      ]
    },
    {
      "cell_type": "code",
      "execution_count": null,
      "id": "db09553f",
      "metadata": {
        "id": "db09553f"
      },
      "outputs": [],
      "source": [
        "X_train, X_test, y_train, y_test = train_test_split(mainx, mainy, test_size=0.20, random_state=32)"
      ]
    },
    {
      "cell_type": "code",
      "execution_count": null,
      "id": "346111ce",
      "metadata": {
        "id": "346111ce",
        "outputId": "55f2bc7a-9f81-4bb0-8358-2ca456c7e37c"
      },
      "outputs": [
        {
          "name": "stdout",
          "output_type": "stream",
          "text": [
            "Before Counter({0: 8946, 1: 982})\n",
            "After Counter({0: 8946, 1: 8946})\n"
          ]
        }
      ],
      "source": [
        "\n",
        "counter = Counter(mainy)\n",
        "print('Before',counter)\n",
        "smt = SMOTE()\n",
        "x_sm, y_sm = smt.fit_resample(mainx, mainy)\n",
        "counter = Counter(y_sm)\n",
        "print('After',counter)"
      ]
    },
    {
      "cell_type": "code",
      "execution_count": null,
      "id": "daeb70f2",
      "metadata": {
        "id": "daeb70f2"
      },
      "outputs": [],
      "source": [
        "# Splitting the data into train and test\n",
        "X_train,X_test,y_train,y_test=train_test_split(x_sm, y_sm, train_size=0.8, stratify = y_sm, random_state=100)\n",
        "from sklearn.preprocessing import StandardScaler\n",
        "Scaler_X = StandardScaler()\n",
        "X_train = Scaler_X.fit_transform(X_train)\n",
        "X_test = Scaler_X.transform(X_test)"
      ]
    },
    {
      "cell_type": "code",
      "execution_count": null,
      "id": "d1873204",
      "metadata": {
        "id": "d1873204"
      },
      "outputs": [],
      "source": [
        ""
      ]
    },
    {
      "cell_type": "code",
      "execution_count": null,
      "id": "40f0d17e",
      "metadata": {
        "id": "40f0d17e",
        "outputId": "a15ba3e5-269e-4820-e57b-8f364b8db06f"
      },
      "outputs": [
        {
          "name": "stdout",
          "output_type": "stream",
          "text": [
            "0.9983235540653814\n",
            "Time Taken without PCA:\n",
            "3.501553773880005\n"
          ]
        }
      ],
      "source": [
        "tic=time.time()\n",
        "model = KNeighborsClassifier(n_neighbors=4,p=1 )\n",
        "model.fit(X_train, y_train)\n",
        "Accuracy = model.score(X_test, y_test)\n",
        "print(Accuracy)\n",
        "print(\"Time Taken without PCA:\")\n",
        "toc=time.time()\n",
        "print(toc-tic)"
      ]
    },
    {
      "cell_type": "code",
      "execution_count": null,
      "id": "14b73b51",
      "metadata": {
        "id": "14b73b51",
        "outputId": "4703bf7f-7e6c-44a9-caf5-9297cfff103b"
      },
      "outputs": [
        {
          "name": "stdout",
          "output_type": "stream",
          "text": [
            "              precision    recall  f1-score   support\n",
            "\n",
            "           0       0.95      0.90      0.92      1790\n",
            "           1       0.90      0.96      0.93      1789\n",
            "\n",
            "    accuracy                           0.93      3579\n",
            "   macro avg       0.93      0.93      0.93      3579\n",
            "weighted avg       0.93      0.93      0.93      3579\n",
            "\n",
            "Time Taken without PCA:\n",
            "12.821885347366333\n"
          ]
        }
      ],
      "source": [
        "tic=time.time()\n",
        "clf = svm.SVC(kernel='poly')\n",
        "clf.fit(X_train,y_train)\n",
        "y_pred=clf.predict(X_test)\n",
        "print(classification_report(y_test,y_pred))\n",
        "toc=time.time()\n",
        "print(\"Time Taken without PCA:\")\n",
        "print(toc-tic)"
      ]
    },
    {
      "cell_type": "code",
      "execution_count": null,
      "id": "7139b6b1",
      "metadata": {
        "id": "7139b6b1",
        "outputId": "ccd6d0d4-5530-4ed2-df4c-2b4b58560a79"
      },
      "outputs": [
        {
          "name": "stdout",
          "output_type": "stream",
          "text": [
            "              precision    recall  f1-score   support\n",
            "\n",
            "           0       1.00      1.00      1.00      1790\n",
            "           1       1.00      1.00      1.00      1789\n",
            "\n",
            "    accuracy                           1.00      3579\n",
            "   macro avg       1.00      1.00      1.00      3579\n",
            "weighted avg       1.00      1.00      1.00      3579\n",
            "\n",
            "Time Taken without PCA:\n",
            "0.2724893093109131\n"
          ]
        }
      ],
      "source": [
        "tic=time.time()\n",
        "classifier = DT(criterion='gini', random_state=0)\n",
        "classifier.fit(X_train,y_train)\n",
        "y_pred = classifier.predict(X_test)\n",
        "print(classification_report(y_test,y_pred))\n",
        "\n",
        "toc=time.time()\n",
        "print(\"Time Taken without PCA:\")\n",
        "print(toc-tic)"
      ]
    },
    {
      "cell_type": "code",
      "execution_count": null,
      "id": "ecca5263",
      "metadata": {
        "id": "ecca5263",
        "outputId": "f4fc327c-b2d8-4b69-b743-7c2949bfd245"
      },
      "outputs": [
        {
          "name": "stdout",
          "output_type": "stream",
          "text": [
            "              precision    recall  f1-score   support\n",
            "\n",
            "           0       0.97      1.00      0.98      1790\n",
            "           1       1.00      0.96      0.98      1789\n",
            "\n",
            "    accuracy                           0.98      3579\n",
            "   macro avg       0.98      0.98      0.98      3579\n",
            "weighted avg       0.98      0.98      0.98      3579\n",
            "\n",
            "Time Taken without PCA:\n",
            "0.2781407833099365\n"
          ]
        }
      ],
      "source": [
        "tic=time.time()\n",
        "classifier = LogisticRegression()\n",
        "classifier.fit(X_train,y_train)\n",
        "y_pred = classifier.predict(X_test)\n",
        "print(classification_report(y_test,y_pred))\n",
        "toc=time.time()\n",
        "print(\"Time Taken without PCA:\")\n",
        "print(toc-tic)"
      ]
    },
    {
      "cell_type": "code",
      "execution_count": null,
      "id": "ad01430f",
      "metadata": {
        "id": "ad01430f",
        "outputId": "996d07bb-2bf6-4c61-c995-f5824614bc8e"
      },
      "outputs": [
        {
          "name": "stdout",
          "output_type": "stream",
          "text": [
            "              precision    recall  f1-score   support\n",
            "\n",
            "           0       1.00      1.00      1.00      1790\n",
            "           1       1.00      1.00      1.00      1789\n",
            "\n",
            "    accuracy                           1.00      3579\n",
            "   macro avg       1.00      1.00      1.00      3579\n",
            "weighted avg       1.00      1.00      1.00      3579\n",
            "\n",
            "Time Taken without PCA:\n",
            "0.2853076457977295\n"
          ]
        }
      ],
      "source": [
        "tic=time.time()\n",
        "classifier = RF(n_estimators=10, criterion='gini', random_state=0)\n",
        "classifier.fit(X_train,y_train)\n",
        "y_pred = classifier.predict(X_test)\n",
        "print(classification_report(y_test,y_pred))\n",
        "toc=time.time()\n",
        "print(\"Time Taken without PCA:\")\n",
        "print(toc-tic)"
      ]
    },
    {
      "cell_type": "code",
      "execution_count": null,
      "id": "1f0d76a9",
      "metadata": {
        "id": "1f0d76a9"
      },
      "outputs": [],
      "source": [
        "# Splitting the data into train and test\n",
        "\n",
        "from sklearn.preprocessing import StandardScaler\n",
        "Scaler_X = StandardScaler()\n",
        "X_sm = Scaler_X.fit_transform(x_sm)"
      ]
    },
    {
      "cell_type": "code",
      "execution_count": null,
      "id": "998271ed",
      "metadata": {
        "id": "998271ed",
        "outputId": "63c4db27-33e1-4ba1-d418-397506b25743"
      },
      "outputs": [
        {
          "data": {
            "text/plain": [
              "<matplotlib.collections.PathCollection at 0x20ab04be190>"
            ]
          },
          "execution_count": 61,
          "metadata": {},
          "output_type": "execute_result"
        },
        {
          "data": {
            "image/png": "[encoded data removed]",
            "text/plain": [
              "<Figure size 432x288 with 1 Axes>"
            ]
          },
          "metadata": {
            "needs_background": "light"
          },
          "output_type": "display_data"
        }
      ],
      "source": [
        "from sklearn.decomposition import PCA\n",
        "train_PCA = PCA(n_components=2).fit_transform(X_sm)\n",
        "import matplotlib\n",
        "%matplotlib inline\n",
        "matplotlib.rc('xtick', labelsize=10) \n",
        "matplotlib.rc('ytick', labelsize=10)\n",
        "plt.title('Tor Non Tor')\n",
        "plt.scatter(train_PCA[:,0],train_PCA[:,1],c=y_sm,cmap=plt.cm.jet)"
      ]
    },
    {
      "cell_type": "code",
      "execution_count": null,
      "id": "762e65be",
      "metadata": {
        "id": "762e65be"
      },
      "outputs": [],
      "source": [
        "pca = PCA(n_components=2)\n",
        "X_transform = pca.fit_transform(X_sm)"
      ]
    },
    {
      "cell_type": "code",
      "execution_count": null,
      "id": "d3ef594e",
      "metadata": {
        "id": "d3ef594e"
      },
      "outputs": [],
      "source": [
        "X_transform = pd.DataFrame(data = X_transform, columns = [\"principal component 1\", \"principal component 2\"])\n",
        "X_train, X_test, y_train, y_test = train_test_split(X_transform, y_sm, test_size=0.20, random_state=32)\n",
        "Scaler_X = StandardScaler()\n",
        "#X_train = Scaler_X.fit_transform(X_train)\n",
        "#X_test = Scaler_X.transform(X_test)\n",
        "from sklearn.metrics import classification_report"
      ]
    },
    {
      "cell_type": "code",
      "execution_count": null,
      "id": "05dae2e1",
      "metadata": {
        "id": "05dae2e1",
        "outputId": "06f6f3f8-36d3-47f4-a124-4e4f82963fd7"
      },
      "outputs": [
        {
          "data": {
            "text/html": [
              "<div>\n",
              "<style scoped>\n",
              "    .dataframe tbody tr th:only-of-type {\n",
              "        vertical-align: middle;\n",
              "    }\n",
              "\n",
              "    .dataframe tbody tr th {\n",
              "        vertical-align: top;\n",
              "    }\n",
              "\n",
              "    .dataframe thead th {\n",
              "        text-align: right;\n",
              "    }\n",
              "</style>\n",
              "<table border=\"1\" class=\"dataframe\">\n",
              "  <thead>\n",
              "    <tr style=\"text-align: right;\">\n",
              "      <th></th>\n",
              "      <th>principal component 1</th>\n",
              "      <th>principal component 2</th>\n",
              "    </tr>\n",
              "  </thead>\n",
              "  <tbody>\n",
              "    <tr>\n",
              "      <th>12609</th>\n",
              "      <td>-0.546425</td>\n",
              "      <td>-0.088645</td>\n",
              "    </tr>\n",
              "    <tr>\n",
              "      <th>6165</th>\n",
              "      <td>-1.338884</td>\n",
              "      <td>1.073181</td>\n",
              "    </tr>\n",
              "    <tr>\n",
              "      <th>8200</th>\n",
              "      <td>-0.933456</td>\n",
              "      <td>-2.355593</td>\n",
              "    </tr>\n",
              "    <tr>\n",
              "      <th>3726</th>\n",
              "      <td>-1.201002</td>\n",
              "      <td>0.756017</td>\n",
              "    </tr>\n",
              "    <tr>\n",
              "      <th>3076</th>\n",
              "      <td>-0.225872</td>\n",
              "      <td>-0.158185</td>\n",
              "    </tr>\n",
              "    <tr>\n",
              "      <th>...</th>\n",
              "      <td>...</td>\n",
              "      <td>...</td>\n",
              "    </tr>\n",
              "    <tr>\n",
              "      <th>13285</th>\n",
              "      <td>-1.261144</td>\n",
              "      <td>0.219498</td>\n",
              "    </tr>\n",
              "    <tr>\n",
              "      <th>6745</th>\n",
              "      <td>-1.398111</td>\n",
              "      <td>1.169745</td>\n",
              "    </tr>\n",
              "    <tr>\n",
              "      <th>9526</th>\n",
              "      <td>9.723603</td>\n",
              "      <td>-2.881124</td>\n",
              "    </tr>\n",
              "    <tr>\n",
              "      <th>9771</th>\n",
              "      <td>14.887675</td>\n",
              "      <td>-5.089710</td>\n",
              "    </tr>\n",
              "    <tr>\n",
              "      <th>10967</th>\n",
              "      <td>-1.394508</td>\n",
              "      <td>1.153672</td>\n",
              "    </tr>\n",
              "  </tbody>\n",
              "</table>\n",
              "<p>14313 rows × 2 columns</p>\n",
              "</div>"
            ],
            "text/plain": [
              "       principal component 1  principal component 2\n",
              "12609              -0.546425              -0.088645\n",
              "6165               -1.338884               1.073181\n",
              "8200               -0.933456              -2.355593\n",
              "3726               -1.201002               0.756017\n",
              "3076               -0.225872              -0.158185\n",
              "...                      ...                    ...\n",
              "13285              -1.261144               0.219498\n",
              "6745               -1.398111               1.169745\n",
              "9526                9.723603              -2.881124\n",
              "9771               14.887675              -5.089710\n",
              "10967              -1.394508               1.153672\n",
              "\n",
              "[14313 rows x 2 columns]"
            ]
          },
          "execution_count": 81,
          "metadata": {},
          "output_type": "execute_result"
        }
      ],
      "source": [
        "X_train"
      ]
    },
    {
      "cell_type": "code",
      "execution_count": null,
      "id": "97eb4435",
      "metadata": {
        "id": "97eb4435",
        "outputId": "28913d11-54e0-423a-aca6-f3539bebbfba"
      },
      "outputs": [
        {
          "name": "stdout",
          "output_type": "stream",
          "text": [
            "0.9756915339480302\n",
            "Time Taken with PCA:\n",
            "0.2628180980682373\n"
          ]
        }
      ],
      "source": [
        "tic=time.time()\n",
        "model = KNeighborsClassifier(n_neighbors=16,p=1 )\n",
        "model.fit(X_train, y_train)\n",
        "Accuracy = model.score(X_test, y_test)\n",
        "print(Accuracy)\n",
        "print(\"Time Taken with PCA:\")\n",
        "toc=time.time()\n",
        "print(toc-tic)"
      ]
    },
    {
      "cell_type": "code",
      "execution_count": null,
      "id": "6e73c947",
      "metadata": {
        "id": "6e73c947",
        "outputId": "311d7582-9092-4437-b52d-878f27787334"
      },
      "outputs": [
        {
          "name": "stdout",
          "output_type": "stream",
          "text": [
            "              precision    recall  f1-score   support\n",
            "\n",
            "           0       0.96      1.00      0.98      1790\n",
            "           1       1.00      0.96      0.98      1789\n",
            "\n",
            "    accuracy                           0.98      3579\n",
            "   macro avg       0.98      0.98      0.98      3579\n",
            "weighted avg       0.98      0.98      0.98      3579\n",
            "\n",
            "Time Taken with PCA:\n",
            "2.9730098247528076\n"
          ]
        }
      ],
      "source": [
        "tic=time.time()\n",
        "clf = svm.SVC(kernel='rbf')\n",
        "clf.fit(X_train,y_train)\n",
        "y_pred=clf.predict(X_test)\n",
        "print(classification_report(y_test,y_pred))\n",
        "toc=time.time()\n",
        "print(\"Time Taken with PCA:\")\n",
        "print(toc-tic)"
      ]
    },
    {
      "cell_type": "code",
      "execution_count": null,
      "id": "2bdfefd6",
      "metadata": {
        "id": "2bdfefd6",
        "outputId": "10a7fa8e-1daa-4394-f185-0825eb971f35"
      },
      "outputs": [
        {
          "name": "stdout",
          "output_type": "stream",
          "text": [
            "              precision    recall  f1-score   support\n",
            "\n",
            "           0       0.98      0.97      0.98      1785\n",
            "           1       0.97      0.98      0.98      1794\n",
            "\n",
            "    accuracy                           0.98      3579\n",
            "   macro avg       0.98      0.98      0.98      3579\n",
            "weighted avg       0.98      0.98      0.98      3579\n",
            "\n",
            "Time Taken with PCA:\n",
            "0.07618904113769531\n"
          ]
        }
      ],
      "source": [
        "tic=time.time()\n",
        "classifier = DT(criterion='entropy', random_state=0)\n",
        "classifier.fit(X_train,y_train)\n",
        "y_pred = classifier.predict(X_test)\n",
        "print(classification_report(y_test,y_pred))\n",
        "\n",
        "toc=time.time()\n",
        "print(\"Time Taken with PCA:\")\n",
        "print(toc-tic)"
      ]
    },
    {
      "cell_type": "code",
      "execution_count": null,
      "id": "0e683eef",
      "metadata": {
        "id": "0e683eef",
        "outputId": "bdfcbeab-23c1-4806-f137-ff6633c14f40"
      },
      "outputs": [
        {
          "name": "stdout",
          "output_type": "stream",
          "text": [
            "              precision    recall  f1-score   support\n",
            "\n",
            "           0       0.97      0.98      0.98      1785\n",
            "           1       0.98      0.97      0.98      1794\n",
            "\n",
            "    accuracy                           0.98      3579\n",
            "   macro avg       0.98      0.98      0.98      3579\n",
            "weighted avg       0.98      0.98      0.98      3579\n",
            "\n",
            "Time Taken with PCA:\n",
            "0.2569577693939209\n"
          ]
        }
      ],
      "source": [
        "tic=time.time()\n",
        "classifier = RF(n_estimators=10, criterion='gini', random_state=0)\n",
        "classifier.fit(X_train,y_train)\n",
        "y_pred = classifier.predict(X_test)\n",
        "print(classification_report(y_test,y_pred))\n",
        "toc=time.time()\n",
        "print(\"Time Taken with PCA:\")\n",
        "print(toc-tic)"
      ]
    },
    {
      "cell_type": "code",
      "execution_count": null,
      "id": "86d39f78",
      "metadata": {
        "id": "86d39f78",
        "outputId": "f1c7a307-27d8-42a9-e4af-799649270b11"
      },
      "outputs": [
        {
          "name": "stdout",
          "output_type": "stream",
          "text": [
            "              precision    recall  f1-score   support\n",
            "\n",
            "           0       0.92      0.96      0.94      1785\n",
            "           1       0.95      0.92      0.94      1794\n",
            "\n",
            "    accuracy                           0.94      3579\n",
            "   macro avg       0.94      0.94      0.94      3579\n",
            "weighted avg       0.94      0.94      0.94      3579\n",
            "\n",
            "Time Taken with PCA:\n",
            "0.0652170181274414\n"
          ]
        }
      ],
      "source": [
        "tic=time.time()\n",
        "classifier = LogisticRegression()\n",
        "classifier.fit(X_train,y_train)\n",
        "y_pred = classifier.predict(X_test)\n",
        "print(classification_report(y_test,y_pred))\n",
        "toc=time.time()\n",
        "print(\"Time Taken with PCA:\")\n",
        "print(toc-tic)"
      ]
    },
    {
      "cell_type": "code",
      "execution_count": null,
      "id": "809cd277",
      "metadata": {
        "id": "809cd277"
      },
      "outputs": [],
      "source": [
        ""
      ]
    },
    {
      "cell_type": "code",
      "execution_count": null,
      "id": "618973b7",
      "metadata": {
        "id": "618973b7"
      },
      "outputs": [],
      "source": [
        ""
      ]
    },
    {
      "cell_type": "markdown",
      "id": "620732a2",
      "metadata": {
        "id": "620732a2"
      },
      "source": [
        "# SMOTE + AutoEncoder"
      ]
    },
    {
      "cell_type": "code",
      "execution_count": null,
      "id": "fffcf194",
      "metadata": {
        "id": "fffcf194"
      },
      "outputs": [],
      "source": [
        "import numpy as np \n",
        "import pandas as pd\n",
        "import matplotlib.pyplot as plt\n",
        "import seaborn as sns\n",
        "\n",
        "from sklearn.datasets import make_blobs\n",
        "\n",
        "from mpl_toolkits.mplot3d import Axes3D\n",
        "\n",
        "from sklearn.preprocessing import MinMaxScaler\n",
        "\n",
        "from tensorflow.keras.models import Sequential\n",
        "from tensorflow.keras.layers import Dense"
      ]
    },
    {
      "cell_type": "code",
      "execution_count": null,
      "id": "87019984",
      "metadata": {
        "id": "87019984"
      },
      "outputs": [],
      "source": [
        "from sklearn.preprocessing import StandardScaler\n",
        "Scaler_X = StandardScaler()\n",
        "X_sm = Scaler_X.fit_transform(x_sm)\n"
      ]
    },
    {
      "cell_type": "code",
      "execution_count": null,
      "id": "7501ce6f",
      "metadata": {
        "id": "7501ce6f"
      },
      "outputs": [],
      "source": [
        "encoder = Sequential()\n",
        "encoder.add(Dense(units = 2, \n",
        "                  activation = 'relu', \n",
        "                  input_shape = [22]))\n",
        "\n",
        "decoder = Sequential()\n",
        "decoder.add(Dense(units = 22, \n",
        "                  activation = 'relu',\n",
        "                  input_shape = [2]))"
      ]
    },
    {
      "cell_type": "code",
      "execution_count": null,
      "id": "59e5bca4",
      "metadata": {
        "id": "59e5bca4"
      },
      "outputs": [],
      "source": [
        "Autoencoder = Sequential([encoder, decoder])"
      ]
    },
    {
      "cell_type": "code",
      "execution_count": null,
      "id": "0fefd5c0",
      "metadata": {
        "id": "0fefd5c0"
      },
      "outputs": [],
      "source": [
        "\n",
        "from tensorflow.keras.optimizers import Adam\n",
        "\n",
        "Autoencoder.compile(loss = 'mse', optimizer= 'adam')\n",
        "\n"
      ]
    },
    {
      "cell_type": "code",
      "execution_count": null,
      "id": "5f16a1c0",
      "metadata": {
        "id": "5f16a1c0",
        "outputId": "4426b2f8-0905-4c2e-83d7-838c237b92e8"
      },
      "outputs": [
        {
          "name": "stdout",
          "output_type": "stream",
          "text": [
            "Epoch 1/200\n",
            "560/560 [==============================] - 1s 2ms/step - loss: 0.6571\n",
            "Epoch 2/200\n",
            "560/560 [==============================] - 1s 2ms/step - loss: 0.6569\n",
            "Epoch 3/200\n",
            "560/560 [==============================] - 1s 2ms/step - loss: 0.6572\n",
            "Epoch 4/200\n",
            "560/560 [==============================] - 1s 2ms/step - loss: 0.6572\n",
            "Epoch 5/200\n",
            "560/560 [==============================] - 2s 3ms/step - loss: 0.6573\n",
            "Epoch 6/200\n",
            "560/560 [==============================] - 1s 2ms/step - loss: 0.6567\n",
            "Epoch 7/200\n",
            "560/560 [==============================] - 1s 2ms/step - loss: 0.6562\n",
            "Epoch 8/200\n",
            "560/560 [==============================] - 1s 3ms/step - loss: 0.6570\n",
            "Epoch 9/200\n",
            "560/560 [==============================] - 1s 2ms/step - loss: 0.6573\n",
            "Epoch 10/200\n",
            "560/560 [==============================] - 1s 3ms/step - loss: 0.6572\n",
            "Epoch 11/200\n",
            "560/560 [==============================] - 1s 2ms/step - loss: 0.6571\n",
            "Epoch 12/200\n",
            "560/560 [==============================] - 1s 3ms/step - loss: 0.6571\n",
            "Epoch 13/200\n",
            "560/560 [==============================] - 2s 3ms/step - loss: 0.6571\n",
            "Epoch 14/200\n",
            "560/560 [==============================] - 1s 3ms/step - loss: 0.6572\n",
            "Epoch 15/200\n",
            "560/560 [==============================] - 2s 3ms/step - loss: 0.6569\n",
            "Epoch 16/200\n",
            "560/560 [==============================] - 2s 3ms/step - loss: 0.6571\n",
            "Epoch 17/200\n",
            "560/560 [==============================] - 2s 3ms/step - loss: 0.6572\n",
            "Epoch 18/200\n",
            "560/560 [==============================] - 1s 2ms/step - loss: 0.6570\n",
            "Epoch 19/200\n",
            "560/560 [==============================] - 1s 2ms/step - loss: 0.6568\n",
            "Epoch 20/200\n",
            "560/560 [==============================] - 1s 2ms/step - loss: 0.6573\n",
            "Epoch 21/200\n",
            "560/560 [==============================] - 1s 2ms/step - loss: 0.6572\n",
            "Epoch 22/200\n",
            "560/560 [==============================] - 1s 2ms/step - loss: 0.6571\n",
            "Epoch 23/200\n",
            "560/560 [==============================] - 1s 2ms/step - loss: 0.6571\n",
            "Epoch 24/200\n",
            "560/560 [==============================] - 1s 2ms/step - loss: 0.6573\n",
            "Epoch 25/200\n",
            "560/560 [==============================] - 1s 2ms/step - loss: 0.6571\n",
            "Epoch 26/200\n",
            "560/560 [==============================] - 1s 2ms/step - loss: 0.6568\n",
            "Epoch 27/200\n",
            "560/560 [==============================] - 1s 2ms/step - loss: 0.6571\n",
            "Epoch 28/200\n",
            "560/560 [==============================] - 1s 2ms/step - loss: 0.6571\n",
            "Epoch 29/200\n",
            "560/560 [==============================] - 1s 2ms/step - loss: 0.6569\n",
            "Epoch 30/200\n",
            "560/560 [==============================] - 1s 2ms/step - loss: 0.6572\n",
            "Epoch 31/200\n",
            "560/560 [==============================] - 1s 2ms/step - loss: 0.6574\n",
            "Epoch 32/200\n",
            "560/560 [==============================] - 1s 2ms/step - loss: 0.6572\n",
            "Epoch 33/200\n",
            "560/560 [==============================] - 1s 3ms/step - loss: 0.6568\n",
            "Epoch 34/200\n",
            "560/560 [==============================] - 1s 2ms/step - loss: 0.6571\n",
            "Epoch 35/200\n",
            "560/560 [==============================] - 1s 2ms/step - loss: 0.6573\n",
            "Epoch 36/200\n",
            "560/560 [==============================] - 1s 2ms/step - loss: 0.6569\n",
            "Epoch 37/200\n",
            "560/560 [==============================] - 1s 2ms/step - loss: 0.6571\n",
            "Epoch 38/200\n",
            "560/560 [==============================] - 1s 3ms/step - loss: 0.6573\n",
            "Epoch 39/200\n",
            "560/560 [==============================] - 1s 2ms/step - loss: 0.6570\n",
            "Epoch 40/200\n",
            "560/560 [==============================] - 1s 2ms/step - loss: 0.6573\n",
            "Epoch 41/200\n",
            "560/560 [==============================] - 1s 2ms/step - loss: 0.6571\n",
            "Epoch 42/200\n",
            "560/560 [==============================] - 1s 2ms/step - loss: 0.6569\n",
            "Epoch 43/200\n",
            "560/560 [==============================] - 1s 2ms/step - loss: 0.6571\n",
            "Epoch 44/200\n",
            "560/560 [==============================] - 1s 2ms/step - loss: 0.6570\n",
            "Epoch 45/200\n",
            "560/560 [==============================] - 1s 2ms/step - loss: 0.6570\n",
            "Epoch 46/200\n",
            "560/560 [==============================] - 1s 2ms/step - loss: 0.6568\n",
            "Epoch 47/200\n",
            "560/560 [==============================] - 1s 2ms/step - loss: 0.6571\n",
            "Epoch 48/200\n",
            "560/560 [==============================] - 1s 2ms/step - loss: 0.6578\n",
            "Epoch 49/200\n",
            "560/560 [==============================] - 1s 2ms/step - loss: 0.6571\n",
            "Epoch 50/200\n",
            "560/560 [==============================] - 1s 2ms/step - loss: 0.6569\n",
            "Epoch 51/200\n",
            "560/560 [==============================] - 1s 2ms/step - loss: 0.6568\n",
            "Epoch 52/200\n",
            "560/560 [==============================] - 1s 2ms/step - loss: 0.6573\n",
            "Epoch 53/200\n",
            "560/560 [==============================] - 1s 2ms/step - loss: 0.6572\n",
            "Epoch 54/200\n",
            "560/560 [==============================] - 1s 2ms/step - loss: 0.6571\n",
            "Epoch 55/200\n",
            "560/560 [==============================] - 1s 2ms/step - loss: 0.6569\n",
            "Epoch 56/200\n",
            "560/560 [==============================] - 1s 2ms/step - loss: 0.6572\n",
            "Epoch 57/200\n",
            "560/560 [==============================] - 1s 2ms/step - loss: 0.6572\n",
            "Epoch 58/200\n",
            "560/560 [==============================] - 1s 2ms/step - loss: 0.6572\n",
            "Epoch 59/200\n",
            "560/560 [==============================] - 1s 2ms/step - loss: 0.6571\n",
            "Epoch 60/200\n",
            "560/560 [==============================] - 1s 2ms/step - loss: 0.6572\n",
            "Epoch 61/200\n",
            "560/560 [==============================] - 1s 2ms/step - loss: 0.6569\n",
            "Epoch 62/200\n",
            "560/560 [==============================] - 1s 2ms/step - loss: 0.6569\n",
            "Epoch 63/200\n",
            "560/560 [==============================] - 1s 2ms/step - loss: 0.6569\n",
            "Epoch 64/200\n",
            "560/560 [==============================] - 1s 2ms/step - loss: 0.6570\n",
            "Epoch 65/200\n",
            "560/560 [==============================] - 1s 2ms/step - loss: 0.6567\n",
            "Epoch 66/200\n",
            "560/560 [==============================] - 1s 2ms/step - loss: 0.6571\n",
            "Epoch 67/200\n",
            "560/560 [==============================] - 1s 2ms/step - loss: 0.6571\n",
            "Epoch 68/200\n",
            "560/560 [==============================] - 1s 2ms/step - loss: 0.6573\n",
            "Epoch 69/200\n",
            "560/560 [==============================] - 1s 2ms/step - loss: 0.6569\n",
            "Epoch 70/200\n",
            "560/560 [==============================] - 1s 2ms/step - loss: 0.6570\n",
            "Epoch 71/200\n",
            "560/560 [==============================] - 1s 2ms/step - loss: 0.6567\n",
            "Epoch 72/200\n",
            "560/560 [==============================] - 1s 2ms/step - loss: 0.6569\n",
            "Epoch 73/200\n",
            "560/560 [==============================] - 1s 2ms/step - loss: 0.6570\n",
            "Epoch 74/200\n",
            "560/560 [==============================] - 1s 2ms/step - loss: 0.6569\n",
            "Epoch 75/200\n",
            "560/560 [==============================] - 1s 2ms/step - loss: 0.6571\n",
            "Epoch 76/200\n",
            "560/560 [==============================] - 1s 2ms/step - loss: 0.6570\n",
            "Epoch 77/200\n",
            "560/560 [==============================] - 1s 2ms/step - loss: 0.6572\n",
            "Epoch 78/200\n",
            "560/560 [==============================] - 1s 2ms/step - loss: 0.6574\n",
            "Epoch 79/200\n",
            "560/560 [==============================] - 1s 2ms/step - loss: 0.6567\n",
            "Epoch 80/200\n",
            "560/560 [==============================] - 1s 2ms/step - loss: 0.6570\n",
            "Epoch 81/200\n",
            "560/560 [==============================] - 1s 2ms/step - loss: 0.6572\n",
            "Epoch 82/200\n",
            "560/560 [==============================] - 1s 2ms/step - loss: 0.6571\n",
            "Epoch 83/200\n",
            "560/560 [==============================] - 1s 2ms/step - loss: 0.6571\n",
            "Epoch 84/200\n",
            "560/560 [==============================] - 1s 2ms/step - loss: 0.6571\n",
            "Epoch 85/200\n",
            "560/560 [==============================] - 1s 2ms/step - loss: 0.6572\n",
            "Epoch 86/200\n",
            "560/560 [==============================] - 1s 2ms/step - loss: 0.6570\n",
            "Epoch 87/200\n",
            "560/560 [==============================] - 1s 2ms/step - loss: 0.6572\n",
            "Epoch 88/200\n",
            "560/560 [==============================] - 1s 2ms/step - loss: 0.6570\n",
            "Epoch 89/200\n",
            "560/560 [==============================] - 1s 2ms/step - loss: 0.6570\n",
            "Epoch 90/200\n",
            "560/560 [==============================] - 1s 2ms/step - loss: 0.6568\n",
            "Epoch 91/200\n",
            "560/560 [==============================] - 1s 2ms/step - loss: 0.6564\n",
            "Epoch 92/200\n",
            "560/560 [==============================] - 1s 2ms/step - loss: 0.6571\n",
            "Epoch 93/200\n",
            "560/560 [==============================] - 1s 2ms/step - loss: 0.6572\n",
            "Epoch 94/200\n",
            "560/560 [==============================] - 1s 2ms/step - loss: 0.6572\n",
            "Epoch 95/200\n",
            "560/560 [==============================] - 1s 2ms/step - loss: 0.6572\n",
            "Epoch 96/200\n",
            "560/560 [==============================] - 1s 2ms/step - loss: 0.6570\n",
            "Epoch 97/200\n",
            "560/560 [==============================] - 1s 2ms/step - loss: 0.6571\n",
            "Epoch 98/200\n",
            "560/560 [==============================] - 1s 2ms/step - loss: 0.6570\n",
            "Epoch 99/200\n",
            "560/560 [==============================] - 1s 2ms/step - loss: 0.6561\n",
            "Epoch 100/200\n",
            "560/560 [==============================] - 1s 2ms/step - loss: 0.6574\n",
            "Epoch 101/200\n",
            "560/560 [==============================] - 1s 2ms/step - loss: 0.6568\n",
            "Epoch 102/200\n",
            "560/560 [==============================] - 1s 2ms/step - loss: 0.6573\n",
            "Epoch 103/200\n",
            "560/560 [==============================] - 1s 2ms/step - loss: 0.6571\n",
            "Epoch 104/200\n",
            "560/560 [==============================] - 1s 2ms/step - loss: 0.6571\n",
            "Epoch 105/200\n",
            "560/560 [==============================] - 1s 2ms/step - loss: 0.6570\n",
            "Epoch 106/200\n",
            "560/560 [==============================] - 1s 2ms/step - loss: 0.6571\n",
            "Epoch 107/200\n",
            "560/560 [==============================] - 1s 2ms/step - loss: 0.6569\n",
            "Epoch 108/200\n",
            "560/560 [==============================] - 1s 2ms/step - loss: 0.6569\n",
            "Epoch 109/200\n",
            "560/560 [==============================] - 1s 2ms/step - loss: 0.6569\n",
            "Epoch 110/200\n",
            "560/560 [==============================] - 1s 2ms/step - loss: 0.6571\n",
            "Epoch 111/200\n",
            "560/560 [==============================] - 1s 2ms/step - loss: 0.6570\n",
            "Epoch 112/200\n",
            "560/560 [==============================] - 1s 2ms/step - loss: 0.6570\n",
            "Epoch 113/200\n",
            "560/560 [==============================] - 1s 2ms/step - loss: 0.6569\n",
            "Epoch 114/200\n",
            "560/560 [==============================] - 1s 2ms/step - loss: 0.6571\n",
            "Epoch 115/200\n",
            "560/560 [==============================] - 1s 2ms/step - loss: 0.6570\n",
            "Epoch 116/200\n",
            "560/560 [==============================] - 1s 2ms/step - loss: 0.6570\n",
            "Epoch 117/200\n",
            "560/560 [==============================] - 1s 2ms/step - loss: 0.6570\n",
            "Epoch 118/200\n",
            "560/560 [==============================] - 1s 2ms/step - loss: 0.6571\n",
            "Epoch 119/200\n",
            "560/560 [==============================] - 1s 2ms/step - loss: 0.6572\n",
            "Epoch 120/200\n",
            "560/560 [==============================] - 1s 2ms/step - loss: 0.6572\n",
            "Epoch 121/200\n",
            "560/560 [==============================] - 1s 3ms/step - loss: 0.6570\n",
            "Epoch 122/200\n",
            "560/560 [==============================] - 1s 2ms/step - loss: 0.6567\n",
            "Epoch 123/200\n",
            "560/560 [==============================] - 1s 2ms/step - loss: 0.6571\n",
            "Epoch 124/200\n",
            "560/560 [==============================] - 1s 2ms/step - loss: 0.6570\n",
            "Epoch 125/200\n",
            "560/560 [==============================] - 1s 2ms/step - loss: 0.6571\n",
            "Epoch 126/200\n",
            "560/560 [==============================] - 1s 3ms/step - loss: 0.6567\n",
            "Epoch 127/200\n",
            "560/560 [==============================] - 1s 2ms/step - loss: 0.6574\n",
            "Epoch 128/200\n",
            "560/560 [==============================] - 1s 2ms/step - loss: 0.6570\n",
            "Epoch 129/200\n",
            "560/560 [==============================] - 1s 2ms/step - loss: 0.6568\n",
            "Epoch 130/200\n",
            "560/560 [==============================] - 1s 2ms/step - loss: 0.6569\n",
            "Epoch 131/200\n",
            "560/560 [==============================] - 1s 2ms/step - loss: 0.6567\n",
            "Epoch 132/200\n",
            "560/560 [==============================] - 1s 3ms/step - loss: 0.6572\n",
            "Epoch 133/200\n",
            "560/560 [==============================] - 1s 2ms/step - loss: 0.6571\n",
            "Epoch 134/200\n",
            "560/560 [==============================] - 1s 2ms/step - loss: 0.6573\n",
            "Epoch 135/200\n",
            "560/560 [==============================] - 1s 3ms/step - loss: 0.6569\n",
            "Epoch 136/200\n",
            "560/560 [==============================] - 1s 2ms/step - loss: 0.6569\n",
            "Epoch 137/200\n",
            "560/560 [==============================] - 1s 3ms/step - loss: 0.6574\n",
            "Epoch 138/200\n",
            "560/560 [==============================] - 1s 2ms/step - loss: 0.6570\n",
            "Epoch 139/200\n",
            "560/560 [==============================] - 1s 2ms/step - loss: 0.6570\n",
            "Epoch 140/200\n",
            "560/560 [==============================] - 1s 2ms/step - loss: 0.6567\n",
            "Epoch 141/200\n",
            "560/560 [==============================] - 1s 2ms/step - loss: 0.6576\n",
            "Epoch 142/200\n",
            "560/560 [==============================] - 1s 2ms/step - loss: 0.6569\n",
            "Epoch 143/200\n",
            "560/560 [==============================] - 1s 2ms/step - loss: 0.6565\n",
            "Epoch 144/200\n",
            "560/560 [==============================] - 1s 2ms/step - loss: 0.6573\n",
            "Epoch 145/200\n",
            "560/560 [==============================] - 1s 2ms/step - loss: 0.6566\n",
            "Epoch 146/200\n",
            "560/560 [==============================] - 1s 2ms/step - loss: 0.6571\n",
            "Epoch 147/200\n",
            "560/560 [==============================] - 1s 2ms/step - loss: 0.6568\n",
            "Epoch 148/200\n",
            "560/560 [==============================] - 1s 2ms/step - loss: 0.6573\n",
            "Epoch 149/200\n",
            "560/560 [==============================] - 1s 2ms/step - loss: 0.6571\n",
            "Epoch 150/200\n",
            "560/560 [==============================] - 1s 2ms/step - loss: 0.6569\n",
            "Epoch 151/200\n",
            "560/560 [==============================] - 1s 2ms/step - loss: 0.6572\n",
            "Epoch 152/200\n",
            "560/560 [==============================] - 1s 2ms/step - loss: 0.6568\n",
            "Epoch 153/200\n",
            "560/560 [==============================] - 1s 2ms/step - loss: 0.6570\n",
            "Epoch 154/200\n",
            "560/560 [==============================] - 1s 2ms/step - loss: 0.6569\n",
            "Epoch 155/200\n",
            "560/560 [==============================] - 1s 2ms/step - loss: 0.6570\n",
            "Epoch 156/200\n",
            "560/560 [==============================] - 1s 2ms/step - loss: 0.6569\n",
            "Epoch 157/200\n",
            "560/560 [==============================] - 1s 2ms/step - loss: 0.6571\n",
            "Epoch 158/200\n",
            "560/560 [==============================] - 1s 2ms/step - loss: 0.6569\n",
            "Epoch 159/200\n",
            "560/560 [==============================] - 1s 2ms/step - loss: 0.6571\n",
            "Epoch 160/200\n",
            "560/560 [==============================] - 1s 2ms/step - loss: 0.6572\n",
            "Epoch 161/200\n",
            "560/560 [==============================] - 1s 2ms/step - loss: 0.6570\n",
            "Epoch 162/200\n",
            "560/560 [==============================] - 1s 2ms/step - loss: 0.6569\n",
            "Epoch 163/200\n",
            "560/560 [==============================] - 1s 2ms/step - loss: 0.6570\n",
            "Epoch 164/200\n",
            "560/560 [==============================] - 1s 2ms/step - loss: 0.6568\n",
            "Epoch 165/200\n",
            "560/560 [==============================] - 1s 2ms/step - loss: 0.6568\n",
            "Epoch 166/200\n",
            "560/560 [==============================] - 1s 2ms/step - loss: 0.6567\n",
            "Epoch 167/200\n",
            "560/560 [==============================] - 1s 2ms/step - loss: 0.6571\n",
            "Epoch 168/200\n",
            "560/560 [==============================] - 1s 2ms/step - loss: 0.6572\n",
            "Epoch 169/200\n",
            "560/560 [==============================] - 1s 2ms/step - loss: 0.6569\n",
            "Epoch 170/200\n",
            "560/560 [==============================] - 1s 2ms/step - loss: 0.6571\n",
            "Epoch 171/200\n",
            "560/560 [==============================] - 1s 2ms/step - loss: 0.6572\n",
            "Epoch 172/200\n",
            "560/560 [==============================] - 1s 2ms/step - loss: 0.6570\n",
            "Epoch 173/200\n",
            "560/560 [==============================] - 1s 2ms/step - loss: 0.6571\n",
            "Epoch 174/200\n",
            "560/560 [==============================] - 1s 2ms/step - loss: 0.6571\n",
            "Epoch 175/200\n",
            "560/560 [==============================] - 1s 2ms/step - loss: 0.6570\n",
            "Epoch 176/200\n",
            "560/560 [==============================] - 1s 2ms/step - loss: 0.6568\n",
            "Epoch 177/200\n",
            "560/560 [==============================] - 1s 2ms/step - loss: 0.6571\n",
            "Epoch 178/200\n",
            "560/560 [==============================] - 1s 2ms/step - loss: 0.6571\n",
            "Epoch 179/200\n",
            "560/560 [==============================] - 1s 2ms/step - loss: 0.6569\n",
            "Epoch 180/200\n",
            "560/560 [==============================] - 1s 2ms/step - loss: 0.6569\n",
            "Epoch 181/200\n",
            "560/560 [==============================] - 1s 2ms/step - loss: 0.6571\n",
            "Epoch 182/200\n",
            "560/560 [==============================] - 1s 2ms/step - loss: 0.6570\n",
            "Epoch 183/200\n",
            "560/560 [==============================] - 1s 2ms/step - loss: 0.6568\n",
            "Epoch 184/200\n",
            "560/560 [==============================] - 1s 2ms/step - loss: 0.6573\n",
            "Epoch 185/200\n",
            "560/560 [==============================] - 1s 2ms/step - loss: 0.6568\n",
            "Epoch 186/200\n",
            "560/560 [==============================] - 1s 2ms/step - loss: 0.6572\n",
            "Epoch 187/200\n",
            "560/560 [==============================] - 1s 2ms/step - loss: 0.6570\n",
            "Epoch 188/200\n",
            "560/560 [==============================] - 1s 2ms/step - loss: 0.6572\n",
            "Epoch 189/200\n",
            "560/560 [==============================] - 1s 2ms/step - loss: 0.6568\n",
            "Epoch 190/200\n",
            "560/560 [==============================] - 1s 2ms/step - loss: 0.6570\n",
            "Epoch 191/200\n",
            "560/560 [==============================] - 1s 2ms/step - loss: 0.6570\n",
            "Epoch 192/200\n",
            "560/560 [==============================] - 1s 2ms/step - loss: 0.6566\n",
            "Epoch 193/200\n",
            "560/560 [==============================] - 1s 2ms/step - loss: 0.6565\n",
            "Epoch 194/200\n",
            "560/560 [==============================] - 1s 2ms/step - loss: 0.6573\n",
            "Epoch 195/200\n",
            "560/560 [==============================] - 1s 2ms/step - loss: 0.6570\n",
            "Epoch 196/200\n"
          ]
        },
        {
          "name": "stdout",
          "output_type": "stream",
          "text": [
            "560/560 [==============================] - 1s 2ms/step - loss: 0.6570\n",
            "Epoch 197/200\n",
            "560/560 [==============================] - 1s 2ms/step - loss: 0.6568\n",
            "Epoch 198/200\n",
            "560/560 [==============================] - 1s 2ms/step - loss: 0.6571\n",
            "Epoch 199/200\n",
            "560/560 [==============================] - 1s 2ms/step - loss: 0.6572\n",
            "Epoch 200/200\n",
            "560/560 [==============================] - 1s 2ms/step - loss: 0.6572\n"
          ]
        },
        {
          "data": {
            "text/plain": [
              "<keras.callbacks.History at 0x20ac06c4eb0>"
            ]
          },
          "execution_count": 105,
          "metadata": {},
          "output_type": "execute_result"
        }
      ],
      "source": [
        "Autoencoder.fit(X_sm,\n",
        "                X_sm,\n",
        "                epochs = 200)"
      ]
    },
    {
      "cell_type": "code",
      "execution_count": null,
      "id": "149f4e86",
      "metadata": {
        "id": "149f4e86"
      },
      "outputs": [],
      "source": [
        "features_2d = encoder.predict(X_sm)"
      ]
    },
    {
      "cell_type": "code",
      "execution_count": null,
      "id": "e971f6f7",
      "metadata": {
        "id": "e971f6f7",
        "outputId": "162fad71-2e18-4d14-9abc-68c385740b39"
      },
      "outputs": [
        {
          "data": {
            "text/plain": [
              "(17892, 2)"
            ]
          },
          "execution_count": 107,
          "metadata": {},
          "output_type": "execute_result"
        }
      ],
      "source": [
        "features_2d.shape"
      ]
    },
    {
      "cell_type": "code",
      "execution_count": null,
      "id": "b3d48a28",
      "metadata": {
        "id": "b3d48a28",
        "outputId": "9895c9c1-33a4-424c-d556-39bd240bd358"
      },
      "outputs": [
        {
          "data": {
            "image/png": "[encoded data removed]",
            "text/plain": [
              "<Figure size 432x288 with 1 Axes>"
            ]
          },
          "metadata": {
            "needs_background": "light"
          },
          "output_type": "display_data"
        }
      ],
      "source": [
        "plt.scatter(features_2d[:,0],features_2d[:,1], c = y_sm);"
      ]
    },
    {
      "cell_type": "code",
      "execution_count": null,
      "id": "571cc077",
      "metadata": {
        "id": "571cc077"
      },
      "outputs": [],
      "source": [
        "X_train, X_test, y_train, y_test = train_test_split(X_sm, y_sm, test_size=0.20, random_state=32)\n",
        "from sklearn.metrics import classification_report"
      ]
    },
    {
      "cell_type": "code",
      "execution_count": null,
      "id": "e08ba911",
      "metadata": {
        "id": "e08ba911",
        "outputId": "2570b0ef-8a5a-4ffe-839b-a14611715488"
      },
      "outputs": [
        {
          "name": "stdout",
          "output_type": "stream",
          "text": [
            "0.9991617770326907\n",
            "Time Taken with AutoEncoder for KNN:\n",
            "2.6153252124786377\n"
          ]
        }
      ],
      "source": [
        "import time\n",
        "tic=time.time()\n",
        "model = KNeighborsClassifier(n_neighbors=2,p=1 )\n",
        "model.fit(X_train, y_train)\n",
        "Accuracy = model.score(X_test, y_test)\n",
        "print(Accuracy)\n",
        "print(\"Time Taken with AutoEncoder for KNN:\")\n",
        "toc=time.time()\n",
        "print(toc-tic)"
      ]
    },
    {
      "cell_type": "code",
      "execution_count": null,
      "id": "04d03dec",
      "metadata": {
        "id": "04d03dec",
        "outputId": "3a748c10-6d61-4706-a253-ebff634338d1"
      },
      "outputs": [
        {
          "name": "stdout",
          "output_type": "stream",
          "text": [
            "              precision    recall  f1-score   support\n",
            "\n",
            "           0       0.97      1.00      0.98      1785\n",
            "           1       1.00      0.96      0.98      1794\n",
            "\n",
            "    accuracy                           0.98      3579\n",
            "   macro avg       0.98      0.98      0.98      3579\n",
            "weighted avg       0.98      0.98      0.98      3579\n",
            "\n",
            "Time Taken with autoencoder for SVM:\n",
            "2.6503775119781494\n"
          ]
        }
      ],
      "source": [
        "tic=time.time()\n",
        "clf = svm.SVC(kernel='rbf')\n",
        "clf.fit(X_train,y_train)\n",
        "y_pred=clf.predict(X_test)\n",
        "print(classification_report(y_test,y_pred))\n",
        "toc=time.time()\n",
        "print(\"Time Taken with autoencoder for SVM:\")\n",
        "print(toc-tic)"
      ]
    },
    {
      "cell_type": "code",
      "execution_count": null,
      "id": "b6d8994d",
      "metadata": {
        "id": "b6d8994d",
        "outputId": "d3e6cf56-1506-4e85-8761-75837e94fd07"
      },
      "outputs": [
        {
          "name": "stdout",
          "output_type": "stream",
          "text": [
            "              precision    recall  f1-score   support\n",
            "\n",
            "           0       1.00      1.00      1.00      1785\n",
            "           1       1.00      1.00      1.00      1794\n",
            "\n",
            "    accuracy                           1.00      3579\n",
            "   macro avg       1.00      1.00      1.00      3579\n",
            "weighted avg       1.00      1.00      1.00      3579\n",
            "\n",
            "Time Taken for Decision Tree with autoencoder:\n",
            "0.20014452934265137\n"
          ]
        }
      ],
      "source": [
        "tic=time.time()\n",
        "classifier = DT(criterion='gini', random_state=0)\n",
        "classifier.fit(X_train,y_train)\n",
        "y_pred = classifier.predict(X_test)\n",
        "print(classification_report(y_test,y_pred))\n",
        "toc=time.time()\n",
        "print(\"Time Taken for Decision Tree with autoencoder:\")\n",
        "print(toc-tic)"
      ]
    },
    {
      "cell_type": "code",
      "execution_count": null,
      "id": "791a3479",
      "metadata": {
        "id": "791a3479",
        "outputId": "b4aafb6f-6e47-4811-b9e9-159c7cb701ef"
      },
      "outputs": [
        {
          "name": "stdout",
          "output_type": "stream",
          "text": [
            "              precision    recall  f1-score   support\n",
            "\n",
            "           0       0.97      1.00      0.99      1785\n",
            "           1       1.00      0.97      0.98      1794\n",
            "\n",
            "    accuracy                           0.98      3579\n",
            "   macro avg       0.99      0.98      0.98      3579\n",
            "weighted avg       0.99      0.98      0.98      3579\n",
            "\n",
            "Time Taken with autoencoder for Logistic Regression:\n",
            "0.3039989471435547\n"
          ]
        },
        {
          "name": "stderr",
          "output_type": "stream",
          "text": [
            "C:\\Users\\ASUS\\anaconda3\\lib\\site-packages\\sklearn\\linear_model\\_logistic.py:763: ConvergenceWarning: lbfgs failed to converge (status=1):\n",
            "STOP: TOTAL NO. of ITERATIONS REACHED LIMIT.\n",
            "\n",
            "Increase the number of iterations (max_iter) or scale the data as shown in:\n",
            "    https://scikit-learn.org/stable/modules/preprocessing.html\n",
            "Please also refer to the documentation for alternative solver options:\n",
            "    https://scikit-learn.org/stable/modules/linear_model.html#logistic-regression\n",
            "  n_iter_i = _check_optimize_result(\n"
          ]
        }
      ],
      "source": [
        "tic=time.time()\n",
        "classifier = LogisticRegression()\n",
        "classifier.fit(X_train,y_train)\n",
        "y_pred = classifier.predict(X_test)\n",
        "print(classification_report(y_test,y_pred))\n",
        "toc=time.time()\n",
        "print(\"Time Taken with autoencoder for Logistic Regression:\")\n",
        "print(toc-tic)"
      ]
    },
    {
      "cell_type": "code",
      "execution_count": null,
      "id": "61138983",
      "metadata": {
        "id": "61138983",
        "outputId": "a8f04e58-9b8b-4ffa-82e4-1206b55c5361"
      },
      "outputs": [
        {
          "name": "stdout",
          "output_type": "stream",
          "text": [
            "              precision    recall  f1-score   support\n",
            "\n",
            "           0       1.00      1.00      1.00      1785\n",
            "           1       1.00      1.00      1.00      1794\n",
            "\n",
            "    accuracy                           1.00      3579\n",
            "   macro avg       1.00      1.00      1.00      3579\n",
            "weighted avg       1.00      1.00      1.00      3579\n",
            "\n",
            "Time Taken with autoencoder for Random Forest:\n",
            "0.14812397956848145\n"
          ]
        }
      ],
      "source": [
        "tic=time.time()\n",
        "classifier = RF(n_estimators=4, criterion='gini', random_state=0)\n",
        "classifier.fit(X_train,y_train)\n",
        "y_pred = classifier.predict(X_test)\n",
        "print(classification_report(y_test,y_pred))\n",
        "toc=time.time()\n",
        "print(\"Time Taken with autoencoder for Random Forest:\")\n",
        "print(toc-tic)"
      ]
    },
    {
      "cell_type": "code",
      "execution_count": null,
      "id": "e4115e54",
      "metadata": {
        "id": "e4115e54"
      },
      "outputs": [],
      "source": [
        ""
      ]
    },
    {
      "cell_type": "code",
      "execution_count": null,
      "id": "f85c92f6",
      "metadata": {
        "id": "f85c92f6"
      },
      "outputs": [],
      "source": [
        ""
      ]
    },
    {
      "cell_type": "markdown",
      "id": "ffcca098",
      "metadata": {
        "id": "ffcca098"
      },
      "source": [
        "# SMOTE + TSNE"
      ]
    },
    {
      "cell_type": "code",
      "execution_count": null,
      "id": "5335970c",
      "metadata": {
        "id": "5335970c",
        "outputId": "1e2b8bce-a51a-46b1-84fc-d456415a3cfd"
      },
      "outputs": [
        {
          "name": "stderr",
          "output_type": "stream",
          "text": [
            "C:\\Users\\ASUS\\anaconda3\\lib\\site-packages\\seaborn\\axisgrid.py:337: UserWarning: The `size` parameter has been renamed to `height`; please update your code.\n",
            "  warnings.warn(msg, UserWarning)\n"
          ]
        },
        {
          "data": {
            "image/png": "[encoded data removed]",
            "text/plain": [
              "<Figure size 484x432 with 1 Axes>"
            ]
          },
          "metadata": {
            "needs_background": "light"
          },
          "output_type": "display_data"
        }
      ],
      "source": [
        "\n",
        "model = TSNE(n_components=2, random_state=0)\n",
        "# configuring the parameteres\n",
        "# the number of components = 2\n",
        "# default perplexity = 30\n",
        "# default learning rate = 200\n",
        "# default Maximum number of iterations for the optimization = 1000\n",
        "\n",
        "tsne_data = model.fit_transform(X_sm)\n",
        "# creating a new data frame which help us in ploting the result data\n",
        "tsne_data = np.vstack((tsne_data.T, y_sm)).T\n",
        "tsne_df = pd.DataFrame(data=tsne_data, columns=(\"Dim_1\", \"Dim_2\", \"label\"))\n",
        "\n",
        "# Ploting the result of tsne\n",
        "sn.FacetGrid(tsne_df, hue=\"label\", size=6).map(plt.scatter, 'Dim_1', 'Dim_2').add_legend()\n",
        "plt.show()"
      ]
    },
    {
      "cell_type": "code",
      "execution_count": null,
      "id": "44d3cad5",
      "metadata": {
        "id": "44d3cad5",
        "outputId": "a362bf21-0283-4e21-e7a2-1d6cf58e0273"
      },
      "outputs": [
        {
          "data": {
            "text/plain": [
              "array([[-35.086075, -40.966965],\n",
              "       [-53.94424 , -25.542696],\n",
              "       [-27.94728 , -26.443289],\n",
              "       ...,\n",
              "       [ 90.76152 , -28.36036 ],\n",
              "       [ 92.86783 , -28.09871 ],\n",
              "       [ 92.79133 , -28.52181 ]], dtype=float32)"
            ]
          },
          "execution_count": 128,
          "metadata": {},
          "output_type": "execute_result"
        }
      ],
      "source": [
        "X_transform =  model.fit_transform(X_sm)\n",
        "X_transform"
      ]
    },
    {
      "cell_type": "code",
      "execution_count": null,
      "id": "b8030686",
      "metadata": {
        "id": "b8030686"
      },
      "outputs": [],
      "source": [
        "X_transform = pd.DataFrame(data = X_transform, columns = [\"TSNE component 1\", \"TSNE component 2\"])\n",
        "X_train, X_test, y_train, y_test = train_test_split(tsne_data, y_sm, test_size=0.20, random_state=32)\n",
        "from sklearn.metrics import classification_report"
      ]
    },
    {
      "cell_type": "code",
      "execution_count": null,
      "id": "4ea07a4e",
      "metadata": {
        "id": "4ea07a4e",
        "outputId": "59171a55-f3ab-438e-bd8e-13ccacdf4f41"
      },
      "outputs": [
        {
          "name": "stdout",
          "output_type": "stream",
          "text": [
            "0.9988823693769209\n",
            "Time Taken with TSNE for KNN:\n",
            "0.2599954605102539\n"
          ]
        }
      ],
      "source": [
        "import time\n",
        "tic=time.time()\n",
        "model = KNeighborsClassifier(n_neighbors=4,p=1 )\n",
        "model.fit(X_train, y_train)\n",
        "Accuracy = model.score(X_test, y_test)\n",
        "print(Accuracy)\n",
        "print(\"Time Taken with TSNE for KNN:\")\n",
        "toc=time.time()\n",
        "print(toc-tic)"
      ]
    },
    {
      "cell_type": "code",
      "execution_count": null,
      "id": "6c665d49",
      "metadata": {
        "id": "6c665d49",
        "outputId": "80b6d0ca-7723-4d3c-a4c5-4e64d2c27058"
      },
      "outputs": [
        {
          "name": "stdout",
          "output_type": "stream",
          "text": [
            "              precision    recall  f1-score   support\n",
            "\n",
            "           0       1.00      1.00      1.00      1785\n",
            "           1       1.00      1.00      1.00      1794\n",
            "\n",
            "    accuracy                           1.00      3579\n",
            "   macro avg       1.00      1.00      1.00      3579\n",
            "weighted avg       1.00      1.00      1.00      3579\n",
            "\n",
            "Time Taken with TSNE for SVM:\n",
            "0.35479092597961426\n"
          ]
        }
      ],
      "source": [
        "tic=time.time()\n",
        "clf = svm.SVC(kernel='linear')\n",
        "clf.fit(X_train,y_train)\n",
        "y_pred=clf.predict(X_test)\n",
        "print(classification_report(y_test,y_pred))\n",
        "toc=time.time()\n",
        "print(\"Time Taken with TSNE for SVM:\")\n",
        "print(toc-tic)"
      ]
    },
    {
      "cell_type": "code",
      "execution_count": null,
      "id": "340477f7",
      "metadata": {
        "id": "340477f7",
        "outputId": "ed46b762-b02f-4e0e-d1d7-3be677b789db"
      },
      "outputs": [
        {
          "name": "stdout",
          "output_type": "stream",
          "text": [
            "              precision    recall  f1-score   support\n",
            "\n",
            "           0       1.00      1.00      1.00      1785\n",
            "           1       1.00      1.00      1.00      1794\n",
            "\n",
            "    accuracy                           1.00      3579\n",
            "   macro avg       1.00      1.00      1.00      3579\n",
            "weighted avg       1.00      1.00      1.00      3579\n",
            "\n",
            "Time Taken for Decision Tree with TSNE:\n",
            "0.02293705940246582\n"
          ]
        }
      ],
      "source": [
        "tic=time.time()\n",
        "classifier = DT(criterion='gini', random_state=0)\n",
        "classifier.fit(X_train,y_train)\n",
        "y_pred = classifier.predict(X_test)\n",
        "print(classification_report(y_test,y_pred))\n",
        "toc=time.time()\n",
        "print(\"Time Taken for Decision Tree with TSNE:\")\n",
        "print(toc-tic)"
      ]
    },
    {
      "cell_type": "code",
      "execution_count": null,
      "id": "e3b1ecff",
      "metadata": {
        "id": "e3b1ecff",
        "outputId": "ee242abe-03fc-4164-e9d3-0885c155742c"
      },
      "outputs": [
        {
          "name": "stdout",
          "output_type": "stream",
          "text": [
            "              precision    recall  f1-score   support\n",
            "\n",
            "           0       1.00      1.00      1.00      1785\n",
            "           1       1.00      1.00      1.00      1794\n",
            "\n",
            "    accuracy                           1.00      3579\n",
            "   macro avg       1.00      1.00      1.00      3579\n",
            "weighted avg       1.00      1.00      1.00      3579\n",
            "\n",
            "Time Taken with TSNE for Logistic Regression:\n",
            "0.12067556381225586\n"
          ]
        }
      ],
      "source": [
        "tic=time.time()\n",
        "classifier = LogisticRegression()\n",
        "classifier.fit(X_train,y_train)\n",
        "y_pred = classifier.predict(X_test)\n",
        "print(classification_report(y_test,y_pred))\n",
        "toc=time.time()\n",
        "print(\"Time Taken with TSNE for Logistic Regression:\")\n",
        "print(toc-tic)"
      ]
    },
    {
      "cell_type": "code",
      "execution_count": null,
      "id": "9c52ae97",
      "metadata": {
        "id": "9c52ae97",
        "outputId": "952527bb-51fe-4a59-ef84-6dcb6e516851"
      },
      "outputs": [
        {
          "name": "stdout",
          "output_type": "stream",
          "text": [
            "              precision    recall  f1-score   support\n",
            "\n",
            "           0       1.00      1.00      1.00      1785\n",
            "           1       1.00      1.00      1.00      1794\n",
            "\n",
            "    accuracy                           1.00      3579\n",
            "   macro avg       1.00      1.00      1.00      3579\n",
            "weighted avg       1.00      1.00      1.00      3579\n",
            "\n",
            "Time Taken with PCA:\n",
            "0.16256475448608398\n"
          ]
        }
      ],
      "source": [
        "tic=time.time()\n",
        "classifier = RF(n_estimators=10, criterion='gini', random_state=0)\n",
        "classifier.fit(X_train,y_train)\n",
        "y_pred = classifier.predict(X_test)\n",
        "print(classification_report(y_test,y_pred))\n",
        "toc=time.time()\n",
        "print(\"Time Taken with PCA:\")\n",
        "print(toc-tic)"
      ]
    },
    {
      "cell_type": "code",
      "execution_count": null,
      "id": "512dfc66",
      "metadata": {
        "id": "512dfc66"
      },
      "outputs": [],
      "source": [
        ""
      ]
    }
  ],
  "metadata": {
    "kernelspec": {
      "display_name": "Python 3 (ipykernel)",
      "language": "python",
      "name": "python3"
    },
    "language_info": {
      "codemirror_mode": {
        "name": "ipython",
        "version": 3
      },
      "file_extension": ".py",
      "mimetype": "text/x-python",
      "name": "python",
      "nbconvert_exporter": "python",
      "pygments_lexer": "ipython3",
      "version": "3.9.7"
    },
    "colab": {
      "name": "Tor and Non Tor.ipynb",
      "provenance": []
    }
  },
  "nbformat": 4,
  "nbformat_minor": 5
}