{
  "cells": [
    {
      "cell_type": "code",
      "execution_count": null,
      "id": "e94aa78e",
      "metadata": {
        "id": "e94aa78e"
      },
      "outputs": [],
      "source": [
        "\n",
        "\n",
        "import pandas as pd\n",
        "import numpy as np\n",
        "import matplotlib.pyplot as plt\n",
        "from sklearn.preprocessing import MinMaxScaler\n",
        "from sklearn.model_selection import train_test_split \n",
        "# sklearn Models\n",
        "from sklearn.dummy import DummyClassifier\n",
        "from sklearn.tree import DecisionTreeClassifier\n",
        "from sklearn.neighbors import KNeighborsClassifier\n",
        "\n",
        "# Split data with stratified cv\n",
        "from sklearn.model_selection import StratifiedKFold, train_test_split\n",
        "\n",
        "# Encoding of classifications\n",
        "from sklearn.preprocessing import LabelEncoder"
      ]
    },
    {
      "cell_type": "code",
      "execution_count": null,
      "id": "f6310039",
      "metadata": {
        "id": "f6310039"
      },
      "outputs": [],
      "source": [
        "from sklearn.neighbors import KNeighborsClassifier"
      ]
    },
    {
      "cell_type": "code",
      "execution_count": null,
      "id": "ba6e13f8",
      "metadata": {
        "id": "ba6e13f8"
      },
      "outputs": [],
      "source": [
        "import numpy as np\n",
        "from sklearn.metrics import classification_report"
      ]
    },
    {
      "cell_type": "code",
      "execution_count": null,
      "id": "482f4b0d",
      "metadata": {
        "id": "482f4b0d"
      },
      "outputs": [],
      "source": [
        "from sklearn.preprocessing import StandardScaler\n",
        "from sklearn import svm"
      ]
    },
    {
      "cell_type": "code",
      "execution_count": null,
      "id": "56314da5",
      "metadata": {
        "id": "56314da5"
      },
      "outputs": [],
      "source": [
        "from tensorflow.keras.optimizers import Adam\n",
        "from tensorflow.keras.models import Sequential\n",
        "from tensorflow.keras.layers import Dense, Dropout\n",
        "from tensorflow.keras.activations import relu\n",
        "from sklearn.preprocessing import MinMaxScaler\n",
        "from sklearn.model_selection import train_test_split "
      ]
    },
    {
      "cell_type": "code",
      "execution_count": null,
      "id": "d3ee8d9f",
      "metadata": {
        "id": "d3ee8d9f"
      },
      "outputs": [],
      "source": [
        "from tensorflow.keras.metrics import CategoricalAccuracy, Precision, Recall\n",
        "from tensorflow.keras.utils import to_categorical, normalize"
      ]
    },
    {
      "cell_type": "code",
      "execution_count": null,
      "id": "9a7e14c1",
      "metadata": {
        "id": "9a7e14c1"
      },
      "outputs": [],
      "source": [
        "import pandas as pd \n",
        "import numpy as np \n",
        "import matplotlib.pyplot as plt\n",
        "import seaborn as sns\n",
        "\n",
        "from sklearn.linear_model import LogisticRegression as LR\n",
        "from sklearn.tree import DecisionTreeClassifier as DT\n",
        "from sklearn.ensemble import RandomForestClassifier as RF\n",
        "\n",
        "\n",
        "from collections import Counter"
      ]
    },
    {
      "cell_type": "code",
      "execution_count": null,
      "id": "ab611e5a",
      "metadata": {
        "id": "ab611e5a",
        "colab": {
          "base_uri": "https://localhost:8080/",
          "height": 217
        },
        "outputId": "0038620d-db47-41e6-829e-06f516991e92"
      },
      "outputs": [
        {
          "output_type": "error",
          "ename": "NameError",
          "evalue": "ignored",
          "traceback": [
            "\u001b[0;31m---------------------------------------------------------------------------\u001b[0m",
            "\u001b[0;31mNameError\u001b[0m                                 Traceback (most recent call last)",
            "\u001b[0;32m<ipython-input-8-5d032d9c7007>\u001b[0m in \u001b[0;36m<module>\u001b[0;34m()\u001b[0m\n\u001b[1;32m      1\u001b[0m \u001b[0;31m#combine all files in the list\u001b[0m\u001b[0;34m\u001b[0m\u001b[0;34m\u001b[0m\u001b[0;34m\u001b[0m\u001b[0m\n\u001b[0;32m----> 2\u001b[0;31m \u001b[0mcombined_csv\u001b[0m \u001b[0;34m=\u001b[0m \u001b[0mpd\u001b[0m\u001b[0;34m.\u001b[0m\u001b[0mconcat\u001b[0m\u001b[0;34m(\u001b[0m\u001b[0;34m[\u001b[0m\u001b[0mpd\u001b[0m\u001b[0;34m.\u001b[0m\u001b[0mread_csv\u001b[0m\u001b[0;34m(\u001b[0m\u001b[0mf\u001b[0m\u001b[0;34m)\u001b[0m \u001b[0;32mfor\u001b[0m \u001b[0mf\u001b[0m \u001b[0;32min\u001b[0m \u001b[0mall_filenames\u001b[0m \u001b[0;34m]\u001b[0m\u001b[0;34m)\u001b[0m\u001b[0;34m\u001b[0m\u001b[0;34m\u001b[0m\u001b[0m\n\u001b[0m\u001b[1;32m      3\u001b[0m \u001b[0;31m#export to csv\u001b[0m\u001b[0;34m\u001b[0m\u001b[0;34m\u001b[0m\u001b[0;34m\u001b[0m\u001b[0m\n\u001b[1;32m      4\u001b[0m \u001b[0mcombined_csv\u001b[0m\u001b[0;34m.\u001b[0m\u001b[0mto_csv\u001b[0m\u001b[0;34m(\u001b[0m \u001b[0;34m\"Tor_NonTor.csv\"\u001b[0m\u001b[0;34m,\u001b[0m \u001b[0mindex\u001b[0m\u001b[0;34m=\u001b[0m\u001b[0;32mFalse\u001b[0m\u001b[0;34m,\u001b[0m \u001b[0mencoding\u001b[0m\u001b[0;34m=\u001b[0m\u001b[0;34m'utf-8-sig'\u001b[0m\u001b[0;34m)\u001b[0m\u001b[0;34m\u001b[0m\u001b[0;34m\u001b[0m\u001b[0m\n",
            "\u001b[0;31mNameError\u001b[0m: name 'all_filenames' is not defined"
          ]
        }
      ],
      "source": [
        "#combine all files in the list\n",
        "combined_csv = pd.concat([pd.read_csv(f) for f in all_filenames ])\n",
        "#export to csv\n",
        "combined_csv.to_csv( \"Tor_NonTor.csv\", index=False, encoding='utf-8-sig')"
      ]
    },
    {
      "cell_type": "code",
      "source": [
        "\n",
        "\n",
        "from google.colab import drive\n",
        "drive.mount('/content/drive')"
      ],
      "metadata": {
        "colab": {
          "base_uri": "https://localhost:8080/"
        },
        "id": "OJcr0hsG67LI",
        "outputId": "d2cb05e1-98f8-43d7-b6f4-8d54c4b07a99"
      },
      "id": "OJcr0hsG67LI",
      "execution_count": null,
      "outputs": [
        {
          "output_type": "stream",
          "name": "stdout",
          "text": [
            "Drive already mounted at /content/drive; to attempt to forcibly remount, call drive.mount(\"/content/drive\", force_remount=True).\n"
          ]
        }
      ]
    },
    {
      "cell_type": "code",
      "execution_count": null,
      "id": "6e2c92f4",
      "metadata": {
        "colab": {
          "base_uri": "https://localhost:8080/",
          "height": 300
        },
        "id": "6e2c92f4",
        "outputId": "bb0e95bc-8cfe-46c0-a9c7-c547d489bc92"
      },
      "outputs": [
        {
          "output_type": "execute_result",
          "data": {
            "text/plain": [
              "    duration  total_fiat  total_biat  min_fiat  min_biat  max_fiat  max_biat  \\\n",
              "0  116516054   116474040   116516010       918       502  41460623  41459681   \n",
              "1  110542890   110501911   110542850      2880      4140  34532250  34532119   \n",
              "2  101111380   101110992   101111380      2718       283  21385880  21385877   \n",
              "3  115531998   115531950   115531952       935       525  28913072  28913070   \n",
              "4   88160003    88159956    88159952    350915    351697  41467426  41467424   \n",
              "\n",
              "      mean_fiat     mean_biat  flowPktsPerSecond  ...   std_flowiat  \\\n",
              "0  9.706170e+06  9.709668e+06           0.223145  ...  1.040000e+07   \n",
              "1  3.946497e+06  4.421714e+06           0.497544  ...  5.805017e+06   \n",
              "2  4.814809e+06  4.814828e+06           0.435164  ...  5.359914e+06   \n",
              "3  4.621278e+06  4.621278e+06           0.450092  ...  5.481550e+06   \n",
              "4  6.781535e+06  6.781535e+06           0.317604  ...  8.469402e+06   \n",
              "\n",
              "   min_active   mean_active  max_active    std_active  min_idle     mean_idle  \\\n",
              "0     2882883  1.660000e+07    41798626  1.430000e+07   2551209  1.640000e+07   \n",
              "1     1412470  1.100000e+07    34872202  9.840158e+06   1412427  1.070000e+07   \n",
              "2     1383632  9.158663e+06    21714802  7.757389e+06   1383578  8.864222e+06   \n",
              "3     1318581  7.679812e+06    29294644  8.262810e+06   1318537  7.497432e+06   \n",
              "4     1243172  1.100000e+07    41995078  1.340000e+07   1243129  1.080000e+07   \n",
              "\n",
              "   max_idle      std_idle  class1  \n",
              "0  41459595  1.430000e+07    CHAT  \n",
              "1  34532119  9.860561e+06    CHAT  \n",
              "2  21385830  7.606093e+06    CHAT  \n",
              "3  28913021  8.105855e+06    CHAT  \n",
              "4  41467377  1.320000e+07    CHAT  \n",
              "\n",
              "[5 rows x 24 columns]"
            ],
            "text/html": [
              "\n",
              "  <div id=\"df-a345e9b0-1a8e-484c-9d47-66533736cd57\">\n",
              "    <div class=\"colab-df-container\">\n",
              "      <div>\n",
              "<style scoped>\n",
              "    .dataframe tbody tr th:only-of-type {\n",
              "        vertical-align: middle;\n",
              "    }\n",
              "\n",
              "    .dataframe tbody tr th {\n",
              "        vertical-align: top;\n",
              "    }\n",
              "\n",
              "    .dataframe thead th {\n",
              "        text-align: right;\n",
              "    }\n",
              "</style>\n",
              "<table border=\"1\" class=\"dataframe\">\n",
              "  <thead>\n",
              "    <tr style=\"text-align: right;\">\n",
              "      <th></th>\n",
              "      <th>duration</th>\n",
              "      <th>total_fiat</th>\n",
              "      <th>total_biat</th>\n",
              "      <th>min_fiat</th>\n",
              "      <th>min_biat</th>\n",
              "      <th>max_fiat</th>\n",
              "      <th>max_biat</th>\n",
              "      <th>mean_fiat</th>\n",
              "      <th>mean_biat</th>\n",
              "      <th>flowPktsPerSecond</th>\n",
              "      <th>...</th>\n",
              "      <th>std_flowiat</th>\n",
              "      <th>min_active</th>\n",
              "      <th>mean_active</th>\n",
              "      <th>max_active</th>\n",
              "      <th>std_active</th>\n",
              "      <th>min_idle</th>\n",
              "      <th>mean_idle</th>\n",
              "      <th>max_idle</th>\n",
              "      <th>std_idle</th>\n",
              "      <th>class1</th>\n",
              "    </tr>\n",
              "  </thead>\n",
              "  <tbody>\n",
              "    <tr>\n",
              "      <th>0</th>\n",
              "      <td>116516054</td>\n",
              "      <td>116474040</td>\n",
              "      <td>116516010</td>\n",
              "      <td>918</td>\n",
              "      <td>502</td>\n",
              "      <td>41460623</td>\n",
              "      <td>41459681</td>\n",
              "      <td>9.706170e+06</td>\n",
              "      <td>9.709668e+06</td>\n",
              "      <td>0.223145</td>\n",
              "      <td>...</td>\n",
              "      <td>1.040000e+07</td>\n",
              "      <td>2882883</td>\n",
              "      <td>1.660000e+07</td>\n",
              "      <td>41798626</td>\n",
              "      <td>1.430000e+07</td>\n",
              "      <td>2551209</td>\n",
              "      <td>1.640000e+07</td>\n",
              "      <td>41459595</td>\n",
              "      <td>1.430000e+07</td>\n",
              "      <td>CHAT</td>\n",
              "    </tr>\n",
              "    <tr>\n",
              "      <th>1</th>\n",
              "      <td>110542890</td>\n",
              "      <td>110501911</td>\n",
              "      <td>110542850</td>\n",
              "      <td>2880</td>\n",
              "      <td>4140</td>\n",
              "      <td>34532250</td>\n",
              "      <td>34532119</td>\n",
              "      <td>3.946497e+06</td>\n",
              "      <td>4.421714e+06</td>\n",
              "      <td>0.497544</td>\n",
              "      <td>...</td>\n",
              "      <td>5.805017e+06</td>\n",
              "      <td>1412470</td>\n",
              "      <td>1.100000e+07</td>\n",
              "      <td>34872202</td>\n",
              "      <td>9.840158e+06</td>\n",
              "      <td>1412427</td>\n",
              "      <td>1.070000e+07</td>\n",
              "      <td>34532119</td>\n",
              "      <td>9.860561e+06</td>\n",
              "      <td>CHAT</td>\n",
              "    </tr>\n",
              "    <tr>\n",
              "      <th>2</th>\n",
              "      <td>101111380</td>\n",
              "      <td>101110992</td>\n",
              "      <td>101111380</td>\n",
              "      <td>2718</td>\n",
              "      <td>283</td>\n",
              "      <td>21385880</td>\n",
              "      <td>21385877</td>\n",
              "      <td>4.814809e+06</td>\n",
              "      <td>4.814828e+06</td>\n",
              "      <td>0.435164</td>\n",
              "      <td>...</td>\n",
              "      <td>5.359914e+06</td>\n",
              "      <td>1383632</td>\n",
              "      <td>9.158663e+06</td>\n",
              "      <td>21714802</td>\n",
              "      <td>7.757389e+06</td>\n",
              "      <td>1383578</td>\n",
              "      <td>8.864222e+06</td>\n",
              "      <td>21385830</td>\n",
              "      <td>7.606093e+06</td>\n",
              "      <td>CHAT</td>\n",
              "    </tr>\n",
              "    <tr>\n",
              "      <th>3</th>\n",
              "      <td>115531998</td>\n",
              "      <td>115531950</td>\n",
              "      <td>115531952</td>\n",
              "      <td>935</td>\n",
              "      <td>525</td>\n",
              "      <td>28913072</td>\n",
              "      <td>28913070</td>\n",
              "      <td>4.621278e+06</td>\n",
              "      <td>4.621278e+06</td>\n",
              "      <td>0.450092</td>\n",
              "      <td>...</td>\n",
              "      <td>5.481550e+06</td>\n",
              "      <td>1318581</td>\n",
              "      <td>7.679812e+06</td>\n",
              "      <td>29294644</td>\n",
              "      <td>8.262810e+06</td>\n",
              "      <td>1318537</td>\n",
              "      <td>7.497432e+06</td>\n",
              "      <td>28913021</td>\n",
              "      <td>8.105855e+06</td>\n",
              "      <td>CHAT</td>\n",
              "    </tr>\n",
              "    <tr>\n",
              "      <th>4</th>\n",
              "      <td>88160003</td>\n",
              "      <td>88159956</td>\n",
              "      <td>88159952</td>\n",
              "      <td>350915</td>\n",
              "      <td>351697</td>\n",
              "      <td>41467426</td>\n",
              "      <td>41467424</td>\n",
              "      <td>6.781535e+06</td>\n",
              "      <td>6.781535e+06</td>\n",
              "      <td>0.317604</td>\n",
              "      <td>...</td>\n",
              "      <td>8.469402e+06</td>\n",
              "      <td>1243172</td>\n",
              "      <td>1.100000e+07</td>\n",
              "      <td>41995078</td>\n",
              "      <td>1.340000e+07</td>\n",
              "      <td>1243129</td>\n",
              "      <td>1.080000e+07</td>\n",
              "      <td>41467377</td>\n",
              "      <td>1.320000e+07</td>\n",
              "      <td>CHAT</td>\n",
              "    </tr>\n",
              "  </tbody>\n",
              "</table>\n",
              "<p>5 rows × 24 columns</p>\n",
              "</div>\n",
              "      <button class=\"colab-df-convert\" onclick=\"convertToInteractive('df-a345e9b0-1a8e-484c-9d47-66533736cd57')\"\n",
              "              title=\"Convert this dataframe to an interactive table.\"\n",
              "              style=\"display:none;\">\n",
              "        \n",
              "  <svg xmlns=\"http://www.w3.org/2000/svg\" height=\"24px\"viewBox=\"0 0 24 24\"\n",
              "       width=\"24px\">\n",
              "    <path d=\"M0 0h24v24H0V0z\" fill=\"none\"/>\n",
              "    <path d=\"M18.56 5.44l.94 2.06.94-2.06 2.06-.94-2.06-.94-.94-2.06-.94 2.06-2.06.94zm-11 1L8.5 8.5l.94-2.06 2.06-.94-2.06-.94L8.5 2.5l-.94 2.06-2.06.94zm10 10l.94 2.06.94-2.06 2.06-.94-2.06-.94-.94-2.06-.94 2.06-2.06.94z\"/><path d=\"M17.41 7.96l-1.37-1.37c-.4-.4-.92-.59-1.43-.59-.52 0-1.04.2-1.43.59L10.3 9.45l-7.72 7.72c-.78.78-.78 2.05 0 2.83L4 21.41c.39.39.9.59 1.41.59.51 0 1.02-.2 1.41-.59l7.78-7.78 2.81-2.81c.8-.78.8-2.07 0-2.86zM5.41 20L4 18.59l7.72-7.72 1.47 1.35L5.41 20z\"/>\n",
              "  </svg>\n",
              "      </button>\n",
              "      \n",
              "  <style>\n",
              "    .colab-df-container {\n",
              "      display:flex;\n",
              "      flex-wrap:wrap;\n",
              "      gap: 12px;\n",
              "    }\n",
              "\n",
              "    .colab-df-convert {\n",
              "      background-color: #E8F0FE;\n",
              "      border: none;\n",
              "      border-radius: 50%;\n",
              "      cursor: pointer;\n",
              "      display: none;\n",
              "      fill: #1967D2;\n",
              "      height: 32px;\n",
              "      padding: 0 0 0 0;\n",
              "      width: 32px;\n",
              "    }\n",
              "\n",
              "    .colab-df-convert:hover {\n",
              "      background-color: #E2EBFA;\n",
              "      box-shadow: 0px 1px 2px rgba(60, 64, 67, 0.3), 0px 1px 3px 1px rgba(60, 64, 67, 0.15);\n",
              "      fill: #174EA6;\n",
              "    }\n",
              "\n",
              "    [theme=dark] .colab-df-convert {\n",
              "      background-color: #3B4455;\n",
              "      fill: #D2E3FC;\n",
              "    }\n",
              "\n",
              "    [theme=dark] .colab-df-convert:hover {\n",
              "      background-color: #434B5C;\n",
              "      box-shadow: 0px 1px 3px 1px rgba(0, 0, 0, 0.15);\n",
              "      filter: drop-shadow(0px 1px 2px rgba(0, 0, 0, 0.3));\n",
              "      fill: #FFFFFF;\n",
              "    }\n",
              "  </style>\n",
              "\n",
              "      <script>\n",
              "        const buttonEl =\n",
              "          document.querySelector('#df-a345e9b0-1a8e-484c-9d47-66533736cd57 button.colab-df-convert');\n",
              "        buttonEl.style.display =\n",
              "          google.colab.kernel.accessAllowed ? 'block' : 'none';\n",
              "\n",
              "        async function convertToInteractive(key) {\n",
              "          const element = document.querySelector('#df-a345e9b0-1a8e-484c-9d47-66533736cd57');\n",
              "          const dataTable =\n",
              "            await google.colab.kernel.invokeFunction('convertToInteractive',\n",
              "                                                     [key], {});\n",
              "          if (!dataTable) return;\n",
              "\n",
              "          const docLinkHtml = 'Like what you see? Visit the ' +\n",
              "            '<a target=\"_blank\" href=https://colab.research.google.com/notebooks/data_table.ipynb>data table notebook</a>'\n",
              "            + ' to learn more about interactive tables.';\n",
              "          element.innerHTML = '';\n",
              "          dataTable['output_type'] = 'display_data';\n",
              "          await google.colab.output.renderOutput(dataTable, element);\n",
              "          const docLink = document.createElement('div');\n",
              "          docLink.innerHTML = docLinkHtml;\n",
              "          element.appendChild(docLink);\n",
              "        }\n",
              "      </script>\n",
              "    </div>\n",
              "  </div>\n",
              "  "
            ]
          },
          "metadata": {},
          "execution_count": 10
        }
      ],
      "source": [
        "dataset=pd.read_csv(r'/content/drive/MyDrive/Tor_NonTor.csv')\n",
        "dataset.head()"
      ]
    },
    {
      "cell_type": "code",
      "execution_count": null,
      "id": "2e829cea",
      "metadata": {
        "colab": {
          "base_uri": "https://localhost:8080/"
        },
        "id": "2e829cea",
        "outputId": "3a1e85c9-fe23-4143-b74e-8b7b1ad7dc07"
      },
      "outputs": [
        {
          "output_type": "execute_result",
          "data": {
            "text/plain": [
              "VOIP               2841\n",
              "VIDEO-STREAMING    1210\n",
              "FILE-TRANSFER       914\n",
              "CHAT                519\n",
              "BROWSING            474\n",
              "EMAIL               372\n",
              "P2P                 139\n",
              "AUDIO-STREAMING     116\n",
              "Name: class1, dtype: int64"
            ]
          },
          "metadata": {},
          "execution_count": 11
        }
      ],
      "source": [
        "dataset.class1.value_counts()"
      ]
    },
    {
      "cell_type": "code",
      "execution_count": null,
      "id": "dded6bf8",
      "metadata": {
        "id": "dded6bf8"
      },
      "outputs": [],
      "source": [
        "from imblearn.over_sampling import SMOTE\n",
        "import time\n",
        "from sklearn.preprocessing import StandardScaler"
      ]
    },
    {
      "cell_type": "code",
      "source": [
        "from sklearn import preprocessing \n",
        "label_encoder = preprocessing.LabelEncoder() \n",
        "dataset['class1'].unique()\n",
        "dataset['class1']= label_encoder.fit_transform(dataset['class1']) \n",
        "dataset['class1'].unique()\n",
        "\n"
      ],
      "metadata": {
        "colab": {
          "base_uri": "https://localhost:8080/"
        },
        "id": "QPcGTTTTBUKY",
        "outputId": "1cc17c19-cbc1-4fef-c406-801ea5d85894"
      },
      "id": "QPcGTTTTBUKY",
      "execution_count": null,
      "outputs": [
        {
          "output_type": "execute_result",
          "data": {
            "text/plain": [
              "array([2, 7, 3, 4, 1, 0, 5, 6])"
            ]
          },
          "metadata": {},
          "execution_count": 13
        }
      ]
    },
    {
      "cell_type": "code",
      "execution_count": null,
      "id": "fbff6b93",
      "metadata": {
        "id": "fbff6b93"
      },
      "outputs": [],
      "source": [
        "mainx= dataset.iloc[:,0:23].values\n",
        "mainy = dataset.iloc [:,-1].values"
      ]
    },
    {
      "cell_type": "code",
      "source": [
        ""
      ],
      "metadata": {
        "id": "jUIZXiYrBTm3"
      },
      "id": "jUIZXiYrBTm3",
      "execution_count": null,
      "outputs": []
    },
    {
      "cell_type": "code",
      "execution_count": null,
      "id": "436e7df5",
      "metadata": {
        "id": "436e7df5"
      },
      "outputs": [],
      "source": [
        "Scaler_X = StandardScaler()\n",
        "mainx = Scaler_X.fit_transform(mainx)"
      ]
    },
    {
      "cell_type": "code",
      "execution_count": null,
      "id": "40ca4087",
      "metadata": {
        "colab": {
          "base_uri": "https://localhost:8080/"
        },
        "id": "40ca4087",
        "outputId": "9ad8bd2f-f188-4e57-aad9-7566241a5667"
      },
      "outputs": [
        {
          "output_type": "stream",
          "name": "stdout",
          "text": [
            "Before Counter({7: 2841, 6: 1210, 4: 914, 2: 519, 1: 474, 3: 372, 5: 139, 0: 116})\n",
            "After Counter({2: 2841, 7: 2841, 3: 2841, 4: 2841, 1: 2841, 0: 2841, 5: 2841, 6: 2841})\n"
          ]
        }
      ],
      "source": [
        "\n",
        "counter = Counter(mainy)\n",
        "print('Before',counter)\n",
        "smt = SMOTE()\n",
        "x_sm, y_sm = smt.fit_resample(mainx, mainy)\n",
        "counter = Counter(y_sm)\n",
        "print('After',counter)"
      ]
    },
    {
      "cell_type": "code",
      "execution_count": null,
      "id": "907bab47",
      "metadata": {
        "id": "907bab47"
      },
      "outputs": [],
      "source": [
        "# Splitting the data into train and test\n",
        "X_train,X_test,y_train,y_test=train_test_split(x_sm, y_sm, train_size=0.8, stratify = y_sm, random_state=100)"
      ]
    },
    {
      "cell_type": "code",
      "source": [
        "my_tags=['CHAT', 'VOIP', 'VIDEO-STREAMING','FILE-TRANSFER', 'BROWSING','EMAIL','P2P','AUDIO-STREAMING']"
      ],
      "metadata": {
        "id": "e4LuUoah791B"
      },
      "id": "e4LuUoah791B",
      "execution_count": null,
      "outputs": []
    },
    {
      "cell_type": "code",
      "execution_count": null,
      "id": "09b16c7e",
      "metadata": {
        "colab": {
          "base_uri": "https://localhost:8080/"
        },
        "id": "09b16c7e",
        "outputId": "387cc812-9b10-4b28-ee37-e834d10c4a56"
      },
      "outputs": [
        {
          "output_type": "stream",
          "name": "stdout",
          "text": [
            "                 precision    recall  f1-score   support\n",
            "\n",
            "           CHAT       0.86      0.93      0.89       569\n",
            "           VOIP       0.75      0.74      0.74       568\n",
            "VIDEO-STREAMING       0.78      0.80      0.79       568\n",
            "  FILE-TRANSFER       0.77      0.85      0.81       568\n",
            "       BROWSING       0.81      0.78      0.79       568\n",
            "          EMAIL       0.80      0.92      0.85       568\n",
            "            P2P       0.69      0.50      0.58       568\n",
            "AUDIO-STREAMING       1.00      0.95      0.97       569\n",
            "\n",
            "       accuracy                           0.81      4546\n",
            "      macro avg       0.80      0.81      0.80      4546\n",
            "   weighted avg       0.80      0.81      0.80      4546\n",
            "\n",
            "Time Taken without PCA:\n",
            "3.155024766921997\n"
          ]
        }
      ],
      "source": [
        "tic=time.time()\n",
        "model = KNeighborsClassifier(n_neighbors=16,p=1 )\n",
        "model.fit(X_train, y_train)\n",
        "y_pred=model.predict(X_test)\n",
        "print(classification_report(y_test,y_pred,target_names=my_tags))\n",
        "toc=time.time()\n",
        "print(\"Time Taken without PCA:\")\n",
        "print(toc-tic)"
      ]
    },
    {
      "cell_type": "code",
      "source": [
        "from sklearn.metrics import precision_recall_fscore_support as score\n",
        "knprecision,knrecall,knfscore,supportkn=score(y_test,y_pred,average='macro')\n",
        "print ('Precision : {}'.format(knprecision))\n",
        "print ('Recall    : {}'.format(knrecall))\n",
        "print ('F-score   : {}'.format(knfscore))\n",
        "#print ('Support   : {}'.format(support))"
      ],
      "metadata": {
        "colab": {
          "base_uri": "https://localhost:8080/"
        },
        "id": "1oFZBATJ8zrN",
        "outputId": "3384f422-8e40-4989-e03d-d5a25577e09a"
      },
      "id": "1oFZBATJ8zrN",
      "execution_count": null,
      "outputs": [
        {
          "output_type": "stream",
          "name": "stdout",
          "text": [
            "Precision : 0.804492474552811\n",
            "Recall    : 0.8074639069036362\n",
            "F-score   : 0.8029739368841828\n"
          ]
        }
      ]
    },
    {
      "cell_type": "code",
      "source": [
        "knaccuracy=0.81"
      ],
      "metadata": {
        "id": "4dCvgLPfS3RV"
      },
      "id": "4dCvgLPfS3RV",
      "execution_count": null,
      "outputs": []
    },
    {
      "cell_type": "code",
      "execution_count": null,
      "id": "7d8c8568",
      "metadata": {
        "colab": {
          "base_uri": "https://localhost:8080/"
        },
        "id": "7d8c8568",
        "outputId": "c5f2ad5d-ca65-4e94-9163-b7c29e9f39e0"
      },
      "outputs": [
        {
          "output_type": "stream",
          "name": "stdout",
          "text": [
            "                 precision    recall  f1-score   support\n",
            "\n",
            "           CHAT       0.80      0.72      0.76       569\n",
            "           VOIP       0.46      0.40      0.43       568\n",
            "VIDEO-STREAMING       0.46      0.58      0.51       568\n",
            "  FILE-TRANSFER       0.56      0.64      0.60       568\n",
            "       BROWSING       0.42      0.64      0.51       568\n",
            "          EMAIL       0.54      0.49      0.52       568\n",
            "            P2P       0.46      0.10      0.16       568\n",
            "AUDIO-STREAMING       0.80      0.96      0.87       569\n",
            "\n",
            "       accuracy                           0.57      4546\n",
            "      macro avg       0.56      0.57      0.55      4546\n",
            "   weighted avg       0.56      0.57      0.55      4546\n",
            "\n",
            "Time Taken with SVM:\n",
            "29.924743175506592\n"
          ]
        }
      ],
      "source": [
        "tic=time.time()\n",
        "clf = svm.SVC(kernel='rbf')\n",
        "clf.fit(X_train,y_train)\n",
        "y_pred=clf.predict(X_test)\n",
        "print(classification_report(y_test,y_pred,target_names=my_tags))\n",
        "toc=time.time()\n",
        "print(\"Time Taken with SVM:\")\n",
        "print(toc-tic)"
      ]
    },
    {
      "cell_type": "code",
      "source": [
        "from sklearn.metrics import precision_recall_fscore_support as score\n",
        "svprecision,svrecall,svfscore,supportkn=score(y_test,y_pred,average='macro')\n",
        "print ('Precision : {}'.format(svprecision))\n",
        "print ('Recall    : {}'.format(svrecall))\n",
        "print ('F-score   : {}'.format(svfscore))\n",
        "#print ('Support   : {}'.format(support))"
      ],
      "metadata": {
        "colab": {
          "base_uri": "https://localhost:8080/"
        },
        "id": "6nVK2zy_86Q2",
        "outputId": "797fd93b-93b6-4a69-e2c9-9f8ec696621c"
      },
      "id": "6nVK2zy_86Q2",
      "execution_count": null,
      "outputs": [
        {
          "output_type": "stream",
          "name": "stdout",
          "text": [
            "Precision : 0.5640356082622139\n",
            "Recall    : 0.5665328195004826\n",
            "F-score   : 0.5454718684428752\n"
          ]
        }
      ]
    },
    {
      "cell_type": "code",
      "source": [
        "svaccuracy=0.56"
      ],
      "metadata": {
        "id": "ZLp2yU-38yyW"
      },
      "id": "ZLp2yU-38yyW",
      "execution_count": null,
      "outputs": []
    },
    {
      "cell_type": "code",
      "execution_count": null,
      "id": "3f6455ef",
      "metadata": {
        "colab": {
          "base_uri": "https://localhost:8080/"
        },
        "id": "3f6455ef",
        "outputId": "494bb899-4ce0-4c64-b850-2ea13724fb06"
      },
      "outputs": [
        {
          "output_type": "stream",
          "name": "stdout",
          "text": [
            "                 precision    recall  f1-score   support\n",
            "\n",
            "           CHAT       0.95      0.97      0.96       569\n",
            "           VOIP       0.77      0.82      0.79       568\n",
            "VIDEO-STREAMING       0.89      0.88      0.89       568\n",
            "  FILE-TRANSFER       0.84      0.85      0.85       568\n",
            "       BROWSING       0.92      0.90      0.91       568\n",
            "          EMAIL       0.96      0.97      0.97       568\n",
            "            P2P       0.85      0.80      0.83       568\n",
            "AUDIO-STREAMING       0.98      0.97      0.98       569\n",
            "\n",
            "       accuracy                           0.90      4546\n",
            "      macro avg       0.90      0.90      0.90      4546\n",
            "   weighted avg       0.90      0.90      0.90      4546\n",
            "\n",
            "Time Taken:\n",
            "1.2385766506195068\n"
          ]
        }
      ],
      "source": [
        "tic=time.time()\n",
        "classifier = DT(criterion='entropy', random_state=0)\n",
        "classifier.fit(X_train,y_train)\n",
        "y_pred = classifier.predict(X_test)\n",
        "print(classification_report(y_test,y_pred,target_names=my_tags))\n",
        "toc=time.time()\n",
        "print(\"Time Taken:\")\n",
        "print(toc-tic)"
      ]
    },
    {
      "cell_type": "code",
      "source": [
        "from sklearn.metrics import precision_recall_fscore_support as score\n",
        "dtprecision,dtrecall,dtfscore,supportkn=score(y_test,y_pred,average='macro')\n",
        "print ('Precision : {}'.format(dtprecision))\n",
        "print ('Recall    : {}'.format(dtrecall))\n",
        "print ('F-score   : {}'.format(dtfscore))\n",
        "#print ('Support   : {}'.format(support))"
      ],
      "metadata": {
        "colab": {
          "base_uri": "https://localhost:8080/"
        },
        "id": "xbb7RNfESfz2",
        "outputId": "62f81956-de48-48cf-bf10-92115422aeb9"
      },
      "id": "xbb7RNfESfz2",
      "execution_count": null,
      "outputs": [
        {
          "output_type": "stream",
          "name": "stdout",
          "text": [
            "Precision : 0.8945760974024412\n",
            "Recall    : 0.8948214219411372\n",
            "F-score   : 0.8945807746638932\n"
          ]
        }
      ]
    },
    {
      "cell_type": "code",
      "source": [
        "dtaccuracy=0.89"
      ],
      "metadata": {
        "id": "84fyB_--SlI1"
      },
      "id": "84fyB_--SlI1",
      "execution_count": null,
      "outputs": []
    },
    {
      "cell_type": "code",
      "execution_count": null,
      "id": "465c846d",
      "metadata": {
        "colab": {
          "base_uri": "https://localhost:8080/"
        },
        "id": "465c846d",
        "outputId": "35c12edc-1c1c-4d79-a755-4ebb601d4575"
      },
      "outputs": [
        {
          "output_type": "stream",
          "name": "stdout",
          "text": [
            "              precision    recall  f1-score   support\n",
            "\n",
            "           0       0.97      0.98      0.97       569\n",
            "           1       0.88      0.89      0.89       568\n",
            "           2       0.91      0.95      0.93       568\n",
            "           3       0.92      0.95      0.93       568\n",
            "           4       0.97      0.95      0.96       568\n",
            "           5       0.98      0.99      0.99       568\n",
            "           6       0.93      0.86      0.89       568\n",
            "           7       1.00      0.97      0.98       569\n",
            "\n",
            "    accuracy                           0.94      4546\n",
            "   macro avg       0.94      0.94      0.94      4546\n",
            "weighted avg       0.94      0.94      0.94      4546\n",
            "\n",
            "Time Taken:\n",
            "0.8788602352142334\n"
          ]
        }
      ],
      "source": [
        "from sklearn.ensemble import RandomForestClassifier as RF\n",
        "tic=time.time()\n",
        "classifier = RF(n_estimators=16, criterion='gini', random_state=0)\n",
        "classifier.fit(X_train,y_train)\n",
        "y_pred = classifier.predict(X_test)\n",
        "print(classification_report(y_test,y_pred))\n",
        "toc=time.time()\n",
        "print(\"Time Taken:\")\n",
        "print(toc-tic)"
      ]
    },
    {
      "cell_type": "code",
      "source": [
        "from sklearn.metrics import precision_recall_fscore_support as score\n",
        "rfprecision,rfrecall,rffscore,supportkn=score(y_test,y_pred,average='macro')\n",
        "print ('Precision : {}'.format(rfprecision))\n",
        "print ('Recall    : {}'.format(rfrecall))\n",
        "print ('F-score   : {}'.format(rffscore))\n",
        "#print ('Support   : {}'.format(support))"
      ],
      "metadata": {
        "colab": {
          "base_uri": "https://localhost:8080/"
        },
        "id": "vBXHpxLmByr9",
        "outputId": "77fedc5b-ba68-4312-b483-73ba9f8833c4"
      },
      "id": "vBXHpxLmByr9",
      "execution_count": null,
      "outputs": [
        {
          "output_type": "stream",
          "name": "stdout",
          "text": [
            "Precision : 0.9445958784714075\n",
            "Recall    : 0.9441129421520336\n",
            "F-score   : 0.9440043793405848\n"
          ]
        }
      ]
    },
    {
      "cell_type": "code",
      "source": [
        "rfaccuracy=0.94"
      ],
      "metadata": {
        "id": "SrmERbOXByuy"
      },
      "id": "SrmERbOXByuy",
      "execution_count": null,
      "outputs": []
    },
    {
      "cell_type": "code",
      "source": [
        "import numpy as np # linear algebra\n",
        "import pandas as pd # data processing, CSV file I/O (e.g. pd.read_csv)\n",
        "from keras.models import Sequential\n",
        "from keras.layers import Dense\n",
        "from keras.layers import Dropout\n",
        "from keras.layers import Flatten\n",
        "from keras.layers.convolutional import Convolution2D\n",
        "from keras.layers.convolutional import MaxPooling2D\n",
        "from sklearn.preprocessing import LabelEncoder,OneHotEncoder\n",
        "from keras import backend as K\n",
        "\n",
        "\n",
        "# Input data files are available in the \"../input/\" directory.\n",
        "# For example, running this (by clicking run or pressing Shift+Enter) will list the files in the input directory\n",
        "\n",
        "from subprocess import check_output"
      ],
      "metadata": {
        "id": "WJrG53xIByz0"
      },
      "id": "WJrG53xIByz0",
      "execution_count": null,
      "outputs": []
    },
    {
      "cell_type": "code",
      "source": [
        "X_train.shape,X_test.shape,y_train.shape,y_test.shape"
      ],
      "metadata": {
        "colab": {
          "base_uri": "https://localhost:8080/"
        },
        "id": "y6ungoQzBy3s",
        "outputId": "0f2e3827-8373-477b-f42f-6309880b5827"
      },
      "id": "y6ungoQzBy3s",
      "execution_count": null,
      "outputs": [
        {
          "output_type": "execute_result",
          "data": {
            "text/plain": [
              "((18182, 23), (4546, 23), (18182,), (4546,))"
            ]
          },
          "metadata": {},
          "execution_count": 60
        }
      ]
    },
    {
      "cell_type": "code",
      "source": [
        "from sklearn import preprocessing\n",
        "lb = preprocessing.LabelBinarizer()\n",
        "y_train = lb.fit_transform(y_train)\n",
        "y_test = lb.fit_transform(y_test)"
      ],
      "metadata": {
        "id": "D4n9_zjWBy6l"
      },
      "id": "D4n9_zjWBy6l",
      "execution_count": null,
      "outputs": []
    },
    {
      "cell_type": "code",
      "source": [
        "# Import the libraries\n",
        "from tensorflow.keras.models import Sequential\n",
        "from tensorflow.keras.layers import Dense,Flatten,Conv1D,Dropout,BatchNormalization\n",
        "from tensorflow.keras.optimizers import *"
      ],
      "metadata": {
        "id": "Kg5V3wnOB7oA"
      },
      "id": "Kg5V3wnOB7oA",
      "execution_count": null,
      "outputs": []
    },
    {
      "cell_type": "code",
      "source": [
        "import warnings\n",
        "warnings.filterwarnings('ignore')\n",
        "\n",
        "from sklearn.utils import shuffle\n",
        "\n",
        "from tensorflow.keras.preprocessing.image import ImageDataGenerator\n",
        "from tensorflow.keras.models import Sequential\n",
        "from tensorflow.keras.layers import Conv2D, MaxPooling2D, Dense, Dropout, Flatten\n",
        "from tensorflow.keras.optimizers import Adam\n",
        "from tensorflow.keras.losses import binary_crossentropy\n",
        "from tensorflow.keras.callbacks import LearningRateScheduler\n",
        "from tensorflow.keras.metrics import *\n",
        "# v4\n",
        "\n",
        "ACCURACY_LIST = []\n",
        "\n",
        "from tensorflow.keras.layers import GlobalMaxPooling2D\n",
        "from tensorflow.keras.models import Model\n",
        "\n",
        "METRICS = [\n",
        "\n",
        "      BinaryAccuracy(name='accuracy'),\n",
        "      Precision(name='precision'),\n",
        "      Recall(name='recall'),\n",
        "      AUC(name='auc'),\n",
        "]"
      ],
      "metadata": {
        "id": "3alk9CEoB7rC"
      },
      "id": "3alk9CEoB7rC",
      "execution_count": null,
      "outputs": []
    },
    {
      "cell_type": "code",
      "source": [
        "model = Sequential()\n",
        "model.add(Dense(128, input_dim=23, kernel_initializer='RandomUniform', activation='relu'))\n",
        "model.add(Dense(256,  kernel_initializer='RandomUniform', activation='relu'))\n",
        "model.add(Dense(512,  kernel_initializer='RandomUniform', activation='relu'))\n",
        "model.add(Dense(256,  kernel_initializer='RandomUniform', activation='relu'))\n",
        "model.add(Dense(512,  kernel_initializer='RandomUniform', activation='relu'))\n",
        "\n",
        "model.add(Dense(8,activation='softmax'))\n",
        "#model.compile(loss='categorical_crossentropy', optimizer=sgd, metrics=METRICS)"
      ],
      "metadata": {
        "id": "NJpUBPz9B7tV"
      },
      "id": "NJpUBPz9B7tV",
      "execution_count": null,
      "outputs": []
    },
    {
      "cell_type": "code",
      "source": [
        "# compiling the model\n",
        "model.compile(optimizer=Adam(learning_rate=0.001),loss='categorical_crossentropy',metrics=METRICS)"
      ],
      "metadata": {
        "id": "shnYJVHTB7yd"
      },
      "id": "shnYJVHTB7yd",
      "execution_count": null,
      "outputs": []
    },
    {
      "cell_type": "code",
      "source": [
        "%%time\n",
        "#fitting the model\n",
        "import time\n",
        "tic=time.time()\n",
        "history=model.fit(X_train,y_train,epochs=100, validation_data=(X_test,y_test))\n",
        "toc=time.time()\n",
        "print(\"Time Taken is:\")\n",
        "print(toc-tic)"
      ],
      "metadata": {
        "colab": {
          "base_uri": "https://localhost:8080/"
        },
        "id": "vOl894jEB70-",
        "outputId": "2ac207cb-5194-48e2-c0b5-a80bcd475896"
      },
      "id": "vOl894jEB70-",
      "execution_count": null,
      "outputs": [
        {
          "output_type": "stream",
          "name": "stdout",
          "text": [
            "Epoch 1/100\n",
            "569/569 [==============================] - 25s 44ms/step - loss: 0.1230 - accuracy: 0.9893 - precision: 0.9615 - recall: 0.9524 - auc: 0.9980 - val_loss: 0.3343 - val_accuracy: 0.9811 - val_precision: 0.9298 - val_recall: 0.9177 - val_auc: 0.9885\n",
            "Epoch 2/100\n",
            "569/569 [==============================] - 15s 26ms/step - loss: 0.1265 - accuracy: 0.9891 - precision: 0.9609 - recall: 0.9517 - auc: 0.9980 - val_loss: 0.3909 - val_accuracy: 0.9795 - val_precision: 0.9224 - val_recall: 0.9125 - val_auc: 0.9877\n",
            "Epoch 3/100\n",
            "569/569 [==============================] - 16s 29ms/step - loss: 0.1346 - accuracy: 0.9883 - precision: 0.9585 - recall: 0.9476 - auc: 0.9978 - val_loss: 0.3614 - val_accuracy: 0.9790 - val_precision: 0.9219 - val_recall: 0.9092 - val_auc: 0.9877\n",
            "Epoch 4/100\n",
            "569/569 [==============================] - 16s 29ms/step - loss: 0.1034 - accuracy: 0.9911 - precision: 0.9685 - recall: 0.9600 - auc: 0.9988 - val_loss: 0.3024 - val_accuracy: 0.9844 - val_precision: 0.9422 - val_recall: 0.9327 - val_auc: 0.9894\n",
            "Epoch 5/100\n",
            "569/569 [==============================] - 16s 29ms/step - loss: 0.1261 - accuracy: 0.9896 - precision: 0.9634 - recall: 0.9528 - auc: 0.9981 - val_loss: 0.3650 - val_accuracy: 0.9798 - val_precision: 0.9235 - val_recall: 0.9140 - val_auc: 0.9874\n",
            "Epoch 6/100\n",
            "569/569 [==============================] - 17s 30ms/step - loss: 0.1148 - accuracy: 0.9905 - precision: 0.9667 - recall: 0.9566 - auc: 0.9982 - val_loss: 0.4613 - val_accuracy: 0.9763 - val_precision: 0.9090 - val_recall: 0.9006 - val_auc: 0.9829\n",
            "Epoch 7/100\n",
            "569/569 [==============================] - 18s 31ms/step - loss: 0.1300 - accuracy: 0.9892 - precision: 0.9617 - recall: 0.9519 - auc: 0.9978 - val_loss: 0.3725 - val_accuracy: 0.9802 - val_precision: 0.9244 - val_recall: 0.9166 - val_auc: 0.9875\n",
            "Epoch 8/100\n",
            "569/569 [==============================] - 16s 29ms/step - loss: 0.1446 - accuracy: 0.9884 - precision: 0.9589 - recall: 0.9481 - auc: 0.9976 - val_loss: 0.3350 - val_accuracy: 0.9808 - val_precision: 0.9287 - val_recall: 0.9171 - val_auc: 0.9883\n",
            "Epoch 9/100\n",
            "569/569 [==============================] - 17s 30ms/step - loss: 0.1084 - accuracy: 0.9907 - precision: 0.9668 - recall: 0.9584 - auc: 0.9985 - val_loss: 0.3201 - val_accuracy: 0.9819 - val_precision: 0.9335 - val_recall: 0.9206 - val_auc: 0.9876\n",
            "Epoch 10/100\n",
            "569/569 [==============================] - 17s 31ms/step - loss: 0.1070 - accuracy: 0.9905 - precision: 0.9669 - recall: 0.9569 - auc: 0.9985 - val_loss: 0.3710 - val_accuracy: 0.9797 - val_precision: 0.9222 - val_recall: 0.9151 - val_auc: 0.9858\n",
            "Epoch 11/100\n",
            "569/569 [==============================] - 17s 30ms/step - loss: 0.1379 - accuracy: 0.9884 - precision: 0.9589 - recall: 0.9480 - auc: 0.9975 - val_loss: 0.3784 - val_accuracy: 0.9812 - val_precision: 0.9289 - val_recall: 0.9197 - val_auc: 0.9868\n",
            "Epoch 12/100\n",
            "569/569 [==============================] - 11s 19ms/step - loss: 0.1081 - accuracy: 0.9910 - precision: 0.9680 - recall: 0.9597 - auc: 0.9984 - val_loss: 0.3493 - val_accuracy: 0.9829 - val_precision: 0.9358 - val_recall: 0.9270 - val_auc: 0.9868\n",
            "Epoch 13/100\n",
            "569/569 [==============================] - 10s 18ms/step - loss: 0.1236 - accuracy: 0.9896 - precision: 0.9634 - recall: 0.9532 - auc: 0.9979 - val_loss: 0.3187 - val_accuracy: 0.9827 - val_precision: 0.9363 - val_recall: 0.9248 - val_auc: 0.9896\n",
            "Epoch 14/100\n",
            "569/569 [==============================] - 11s 19ms/step - loss: 0.1117 - accuracy: 0.9901 - precision: 0.9650 - recall: 0.9558 - auc: 0.9985 - val_loss: 0.3601 - val_accuracy: 0.9812 - val_precision: 0.9289 - val_recall: 0.9201 - val_auc: 0.9879\n",
            "Epoch 15/100\n",
            "569/569 [==============================] - 10s 18ms/step - loss: 0.1202 - accuracy: 0.9899 - precision: 0.9647 - recall: 0.9545 - auc: 0.9980 - val_loss: 0.4382 - val_accuracy: 0.9811 - val_precision: 0.9283 - val_recall: 0.9199 - val_auc: 0.9860\n",
            "Epoch 16/100\n",
            "569/569 [==============================] - 11s 19ms/step - loss: 0.1636 - accuracy: 0.9894 - precision: 0.9618 - recall: 0.9531 - auc: 0.9977 - val_loss: 0.3208 - val_accuracy: 0.9835 - val_precision: 0.9388 - val_recall: 0.9287 - val_auc: 0.9899\n",
            "Epoch 17/100\n",
            "569/569 [==============================] - 13s 22ms/step - loss: 0.1124 - accuracy: 0.9903 - precision: 0.9655 - recall: 0.9567 - auc: 0.9984 - val_loss: 0.3647 - val_accuracy: 0.9814 - val_precision: 0.9298 - val_recall: 0.9208 - val_auc: 0.9866\n",
            "Epoch 18/100\n",
            "569/569 [==============================] - 14s 25ms/step - loss: 0.1245 - accuracy: 0.9896 - precision: 0.9633 - recall: 0.9535 - auc: 0.9980 - val_loss: 0.4437 - val_accuracy: 0.9777 - val_precision: 0.9166 - val_recall: 0.9039 - val_auc: 0.9836\n",
            "Epoch 19/100\n",
            "569/569 [==============================] - 12s 20ms/step - loss: 0.1087 - accuracy: 0.9903 - precision: 0.9652 - recall: 0.9571 - auc: 0.9985 - val_loss: 0.3559 - val_accuracy: 0.9805 - val_precision: 0.9266 - val_recall: 0.9164 - val_auc: 0.9879\n",
            "Epoch 20/100\n",
            "569/569 [==============================] - 10s 18ms/step - loss: 0.1255 - accuracy: 0.9892 - precision: 0.9614 - recall: 0.9516 - auc: 0.9979 - val_loss: 0.3647 - val_accuracy: 0.9802 - val_precision: 0.9249 - val_recall: 0.9160 - val_auc: 0.9881\n",
            "Epoch 21/100\n",
            "569/569 [==============================] - 13s 23ms/step - loss: 0.1072 - accuracy: 0.9906 - precision: 0.9665 - recall: 0.9579 - auc: 0.9985 - val_loss: 0.3622 - val_accuracy: 0.9814 - val_precision: 0.9308 - val_recall: 0.9197 - val_auc: 0.9875\n",
            "Epoch 22/100\n",
            "569/569 [==============================] - 16s 29ms/step - loss: 0.1172 - accuracy: 0.9900 - precision: 0.9647 - recall: 0.9546 - auc: 0.9981 - val_loss: 0.4257 - val_accuracy: 0.9805 - val_precision: 0.9257 - val_recall: 0.9179 - val_auc: 0.9839\n",
            "Epoch 23/100\n",
            "569/569 [==============================] - 17s 30ms/step - loss: 0.1263 - accuracy: 0.9897 - precision: 0.9631 - recall: 0.9538 - auc: 0.9975 - val_loss: 0.3087 - val_accuracy: 0.9830 - val_precision: 0.9372 - val_recall: 0.9263 - val_auc: 0.9896\n",
            "Epoch 24/100\n",
            "569/569 [==============================] - 18s 31ms/step - loss: 0.1051 - accuracy: 0.9907 - precision: 0.9666 - recall: 0.9585 - auc: 0.9984 - val_loss: 0.3553 - val_accuracy: 0.9830 - val_precision: 0.9354 - val_recall: 0.9276 - val_auc: 0.9881\n",
            "Epoch 25/100\n",
            "569/569 [==============================] - 17s 30ms/step - loss: 0.1112 - accuracy: 0.9904 - precision: 0.9660 - recall: 0.9570 - auc: 0.9983 - val_loss: 0.3802 - val_accuracy: 0.9817 - val_precision: 0.9315 - val_recall: 0.9212 - val_auc: 0.9866\n",
            "Epoch 26/100\n",
            "569/569 [==============================] - 16s 29ms/step - loss: 0.1008 - accuracy: 0.9915 - precision: 0.9698 - recall: 0.9621 - auc: 0.9985 - val_loss: 0.5755 - val_accuracy: 0.9701 - val_precision: 0.8870 - val_recall: 0.8718 - val_auc: 0.9799\n",
            "Epoch 27/100\n",
            "569/569 [==============================] - 18s 31ms/step - loss: 0.1225 - accuracy: 0.9894 - precision: 0.9624 - recall: 0.9522 - auc: 0.9979 - val_loss: 0.3543 - val_accuracy: 0.9809 - val_precision: 0.9284 - val_recall: 0.9184 - val_auc: 0.9889\n",
            "Epoch 28/100\n",
            "569/569 [==============================] - 17s 30ms/step - loss: 0.1273 - accuracy: 0.9898 - precision: 0.9640 - recall: 0.9539 - auc: 0.9976 - val_loss: 0.3705 - val_accuracy: 0.9821 - val_precision: 0.9331 - val_recall: 0.9230 - val_auc: 0.9874\n",
            "Epoch 29/100\n",
            "569/569 [==============================] - 17s 29ms/step - loss: 0.1116 - accuracy: 0.9909 - precision: 0.9671 - recall: 0.9596 - auc: 0.9983 - val_loss: 0.3418 - val_accuracy: 0.9832 - val_precision: 0.9363 - val_recall: 0.9285 - val_auc: 0.9885\n",
            "Epoch 30/100\n",
            "569/569 [==============================] - 15s 26ms/step - loss: 0.1054 - accuracy: 0.9907 - precision: 0.9665 - recall: 0.9592 - auc: 0.9983 - val_loss: 0.3388 - val_accuracy: 0.9814 - val_precision: 0.9319 - val_recall: 0.9182 - val_auc: 0.9883\n",
            "Epoch 31/100\n",
            "569/569 [==============================] - 11s 19ms/step - loss: 0.1227 - accuracy: 0.9900 - precision: 0.9651 - recall: 0.9546 - auc: 0.9980 - val_loss: 0.3317 - val_accuracy: 0.9819 - val_precision: 0.9324 - val_recall: 0.9219 - val_auc: 0.9885\n",
            "Epoch 32/100\n",
            "569/569 [==============================] - 10s 18ms/step - loss: 0.1175 - accuracy: 0.9900 - precision: 0.9640 - recall: 0.9561 - auc: 0.9981 - val_loss: 0.3908 - val_accuracy: 0.9808 - val_precision: 0.9272 - val_recall: 0.9186 - val_auc: 0.9860\n",
            "Epoch 33/100\n",
            "569/569 [==============================] - 10s 18ms/step - loss: 0.1028 - accuracy: 0.9912 - precision: 0.9687 - recall: 0.9609 - auc: 0.9986 - val_loss: 0.3747 - val_accuracy: 0.9803 - val_precision: 0.9242 - val_recall: 0.9177 - val_auc: 0.9864\n",
            "Epoch 34/100\n",
            "569/569 [==============================] - 11s 19ms/step - loss: 0.1169 - accuracy: 0.9904 - precision: 0.9664 - recall: 0.9568 - auc: 0.9982 - val_loss: 0.3714 - val_accuracy: 0.9807 - val_precision: 0.9282 - val_recall: 0.9162 - val_auc: 0.9876\n",
            "Epoch 35/100\n",
            "569/569 [==============================] - 10s 17ms/step - loss: 0.1274 - accuracy: 0.9898 - precision: 0.9636 - recall: 0.9543 - auc: 0.9977 - val_loss: 0.3255 - val_accuracy: 0.9825 - val_precision: 0.9342 - val_recall: 0.9250 - val_auc: 0.9886\n",
            "Epoch 36/100\n",
            "569/569 [==============================] - 18s 31ms/step - loss: 0.1049 - accuracy: 0.9909 - precision: 0.9681 - recall: 0.9588 - auc: 0.9986 - val_loss: 0.4054 - val_accuracy: 0.9817 - val_precision: 0.9313 - val_recall: 0.9217 - val_auc: 0.9884\n",
            "Epoch 37/100\n",
            "569/569 [==============================] - 21s 37ms/step - loss: 0.1200 - accuracy: 0.9901 - precision: 0.9650 - recall: 0.9559 - auc: 0.9980 - val_loss: 0.3858 - val_accuracy: 0.9824 - val_precision: 0.9332 - val_recall: 0.9256 - val_auc: 0.9860\n",
            "Epoch 38/100\n",
            "569/569 [==============================] - 20s 35ms/step - loss: 0.1239 - accuracy: 0.9899 - precision: 0.9639 - recall: 0.9549 - auc: 0.9980 - val_loss: 0.3744 - val_accuracy: 0.9799 - val_precision: 0.9257 - val_recall: 0.9122 - val_auc: 0.9866\n",
            "Epoch 39/100\n",
            "569/569 [==============================] - 20s 35ms/step - loss: 0.1133 - accuracy: 0.9902 - precision: 0.9647 - recall: 0.9564 - auc: 0.9983 - val_loss: 0.4007 - val_accuracy: 0.9773 - val_precision: 0.9143 - val_recall: 0.9034 - val_auc: 0.9851\n",
            "Epoch 40/100\n",
            "569/569 [==============================] - 17s 30ms/step - loss: 0.1091 - accuracy: 0.9909 - precision: 0.9683 - recall: 0.9583 - auc: 0.9984 - val_loss: 0.3668 - val_accuracy: 0.9833 - val_precision: 0.9374 - val_recall: 0.9285 - val_auc: 0.9868\n",
            "Epoch 41/100\n",
            "569/569 [==============================] - 15s 27ms/step - loss: 0.1133 - accuracy: 0.9903 - precision: 0.9650 - recall: 0.9567 - auc: 0.9982 - val_loss: 0.3536 - val_accuracy: 0.9828 - val_precision: 0.9361 - val_recall: 0.9252 - val_auc: 0.9881\n",
            "Epoch 42/100\n",
            "569/569 [==============================] - 14s 25ms/step - loss: 0.1070 - accuracy: 0.9912 - precision: 0.9693 - recall: 0.9596 - auc: 0.9986 - val_loss: 0.3651 - val_accuracy: 0.9787 - val_precision: 0.9191 - val_recall: 0.9096 - val_auc: 0.9868\n",
            "Epoch 43/100\n",
            "569/569 [==============================] - 13s 23ms/step - loss: 0.1141 - accuracy: 0.9901 - precision: 0.9642 - recall: 0.9562 - auc: 0.9981 - val_loss: 0.3571 - val_accuracy: 0.9835 - val_precision: 0.9369 - val_recall: 0.9307 - val_auc: 0.9872\n",
            "Epoch 44/100\n",
            "569/569 [==============================] - 15s 26ms/step - loss: 0.0963 - accuracy: 0.9915 - precision: 0.9697 - recall: 0.9617 - auc: 0.9988 - val_loss: 0.3327 - val_accuracy: 0.9834 - val_precision: 0.9372 - val_recall: 0.9296 - val_auc: 0.9882\n",
            "Epoch 45/100\n",
            "569/569 [==============================] - 16s 29ms/step - loss: 0.1134 - accuracy: 0.9902 - precision: 0.9651 - recall: 0.9561 - auc: 0.9983 - val_loss: 0.4374 - val_accuracy: 0.9796 - val_precision: 0.9225 - val_recall: 0.9133 - val_auc: 0.9846\n",
            "Epoch 46/100\n",
            "569/569 [==============================] - 14s 25ms/step - loss: 0.1098 - accuracy: 0.9908 - precision: 0.9676 - recall: 0.9585 - auc: 0.9982 - val_loss: 0.3548 - val_accuracy: 0.9830 - val_precision: 0.9360 - val_recall: 0.9270 - val_auc: 0.9873\n",
            "Epoch 47/100\n",
            "569/569 [==============================] - 15s 27ms/step - loss: 0.1457 - accuracy: 0.9884 - precision: 0.9592 - recall: 0.9475 - auc: 0.9975 - val_loss: 0.2964 - val_accuracy: 0.9837 - val_precision: 0.9397 - val_recall: 0.9296 - val_auc: 0.9897\n",
            "Epoch 48/100\n",
            "569/569 [==============================] - 16s 28ms/step - loss: 0.1078 - accuracy: 0.9912 - precision: 0.9687 - recall: 0.9603 - auc: 0.9983 - val_loss: 0.3061 - val_accuracy: 0.9841 - val_precision: 0.9405 - val_recall: 0.9316 - val_auc: 0.9891\n",
            "Epoch 49/100\n",
            "569/569 [==============================] - 15s 26ms/step - loss: 0.0974 - accuracy: 0.9916 - precision: 0.9697 - recall: 0.9632 - auc: 0.9986 - val_loss: 0.3547 - val_accuracy: 0.9844 - val_precision: 0.9430 - val_recall: 0.9318 - val_auc: 0.9869\n",
            "Epoch 50/100\n",
            "569/569 [==============================] - 15s 26ms/step - loss: 0.1055 - accuracy: 0.9907 - precision: 0.9673 - recall: 0.9580 - auc: 0.9984 - val_loss: 0.3359 - val_accuracy: 0.9841 - val_precision: 0.9399 - val_recall: 0.9320 - val_auc: 0.9878\n",
            "Epoch 51/100\n",
            "569/569 [==============================] - 16s 27ms/step - loss: 0.1078 - accuracy: 0.9903 - precision: 0.9654 - recall: 0.9570 - auc: 0.9984 - val_loss: 0.3747 - val_accuracy: 0.9799 - val_precision: 0.9255 - val_recall: 0.9125 - val_auc: 0.9862\n",
            "Epoch 52/100\n",
            "569/569 [==============================] - 20s 34ms/step - loss: 0.1106 - accuracy: 0.9911 - precision: 0.9688 - recall: 0.9594 - auc: 0.9981 - val_loss: 0.3663 - val_accuracy: 0.9801 - val_precision: 0.9271 - val_recall: 0.9125 - val_auc: 0.9874\n",
            "Epoch 53/100\n",
            "569/569 [==============================] - 19s 33ms/step - loss: 0.1160 - accuracy: 0.9906 - precision: 0.9670 - recall: 0.9575 - auc: 0.9979 - val_loss: 0.3882 - val_accuracy: 0.9806 - val_precision: 0.9271 - val_recall: 0.9171 - val_auc: 0.9857\n",
            "Epoch 54/100\n",
            "569/569 [==============================] - 19s 33ms/step - loss: 0.1068 - accuracy: 0.9909 - precision: 0.9677 - recall: 0.9589 - auc: 0.9987 - val_loss: 0.3163 - val_accuracy: 0.9850 - val_precision: 0.9456 - val_recall: 0.9336 - val_auc: 0.9887\n",
            "Epoch 55/100\n",
            "569/569 [==============================] - 19s 33ms/step - loss: 0.1151 - accuracy: 0.9904 - precision: 0.9670 - recall: 0.9558 - auc: 0.9982 - val_loss: 0.3609 - val_accuracy: 0.9821 - val_precision: 0.9327 - val_recall: 0.9232 - val_auc: 0.9866\n",
            "Epoch 56/100\n",
            "569/569 [==============================] - 22s 39ms/step - loss: 0.1213 - accuracy: 0.9896 - precision: 0.9627 - recall: 0.9537 - auc: 0.9979 - val_loss: 0.3435 - val_accuracy: 0.9833 - val_precision: 0.9382 - val_recall: 0.9276 - val_auc: 0.9887\n",
            "Epoch 57/100\n",
            "569/569 [==============================] - 18s 32ms/step - loss: 0.0978 - accuracy: 0.9918 - precision: 0.9706 - recall: 0.9633 - auc: 0.9987 - val_loss: 0.3888 - val_accuracy: 0.9826 - val_precision: 0.9343 - val_recall: 0.9259 - val_auc: 0.9881\n",
            "Epoch 58/100\n",
            "569/569 [==============================] - 17s 29ms/step - loss: 0.1116 - accuracy: 0.9906 - precision: 0.9668 - recall: 0.9580 - auc: 0.9982 - val_loss: 0.3612 - val_accuracy: 0.9844 - val_precision: 0.9422 - val_recall: 0.9322 - val_auc: 0.9875\n",
            "Epoch 59/100\n",
            "569/569 [==============================] - 15s 26ms/step - loss: 0.1005 - accuracy: 0.9911 - precision: 0.9689 - recall: 0.9600 - auc: 0.9987 - val_loss: 0.4347 - val_accuracy: 0.9815 - val_precision: 0.9314 - val_recall: 0.9201 - val_auc: 0.9874\n",
            "Epoch 60/100\n",
            "569/569 [==============================] - 15s 26ms/step - loss: 0.1287 - accuracy: 0.9895 - precision: 0.9633 - recall: 0.9524 - auc: 0.9977 - val_loss: 0.3506 - val_accuracy: 0.9825 - val_precision: 0.9346 - val_recall: 0.9245 - val_auc: 0.9885\n",
            "Epoch 61/100\n",
            "569/569 [==============================] - 16s 29ms/step - loss: 0.1148 - accuracy: 0.9901 - precision: 0.9649 - recall: 0.9560 - auc: 0.9980 - val_loss: 0.4388 - val_accuracy: 0.9800 - val_precision: 0.9271 - val_recall: 0.9118 - val_auc: 0.9859\n",
            "Epoch 62/100\n",
            "569/569 [==============================] - 16s 28ms/step - loss: 0.1546 - accuracy: 0.9873 - precision: 0.9562 - recall: 0.9418 - auc: 0.9972 - val_loss: 0.3495 - val_accuracy: 0.9814 - val_precision: 0.9308 - val_recall: 0.9197 - val_auc: 0.9873\n",
            "Epoch 63/100\n",
            "569/569 [==============================] - 17s 29ms/step - loss: 0.0987 - accuracy: 0.9916 - precision: 0.9703 - recall: 0.9619 - auc: 0.9984 - val_loss: 0.3746 - val_accuracy: 0.9836 - val_precision: 0.9397 - val_recall: 0.9287 - val_auc: 0.9875\n",
            "Epoch 64/100\n",
            "569/569 [==============================] - 16s 28ms/step - loss: 0.1201 - accuracy: 0.9902 - precision: 0.9664 - recall: 0.9548 - auc: 0.9979 - val_loss: 0.3301 - val_accuracy: 0.9844 - val_precision: 0.9424 - val_recall: 0.9320 - val_auc: 0.9900\n",
            "Epoch 65/100\n",
            "569/569 [==============================] - 13s 24ms/step - loss: 0.1142 - accuracy: 0.9908 - precision: 0.9681 - recall: 0.9583 - auc: 0.9982 - val_loss: 0.3145 - val_accuracy: 0.9835 - val_precision: 0.9379 - val_recall: 0.9296 - val_auc: 0.9898\n",
            "Epoch 66/100\n",
            "569/569 [==============================] - 16s 27ms/step - loss: 0.0980 - accuracy: 0.9913 - precision: 0.9698 - recall: 0.9603 - auc: 0.9987 - val_loss: 0.3284 - val_accuracy: 0.9860 - val_precision: 0.9479 - val_recall: 0.9399 - val_auc: 0.9900\n",
            "Epoch 67/100\n",
            "569/569 [==============================] - 12s 21ms/step - loss: 0.0904 - accuracy: 0.9921 - precision: 0.9725 - recall: 0.9643 - auc: 0.9990 - val_loss: 0.3596 - val_accuracy: 0.9828 - val_precision: 0.9354 - val_recall: 0.9263 - val_auc: 0.9880\n",
            "Epoch 68/100\n",
            "569/569 [==============================] - 13s 23ms/step - loss: 0.0981 - accuracy: 0.9917 - precision: 0.9708 - recall: 0.9627 - auc: 0.9987 - val_loss: 0.4091 - val_accuracy: 0.9790 - val_precision: 0.9210 - val_recall: 0.9103 - val_auc: 0.9858\n",
            "Epoch 69/100\n",
            "569/569 [==============================] - 16s 29ms/step - loss: 0.1110 - accuracy: 0.9904 - precision: 0.9660 - recall: 0.9569 - auc: 0.9981 - val_loss: 0.3219 - val_accuracy: 0.9825 - val_precision: 0.9348 - val_recall: 0.9243 - val_auc: 0.9888\n",
            "Epoch 70/100\n",
            "569/569 [==============================] - 16s 29ms/step - loss: 0.0996 - accuracy: 0.9915 - precision: 0.9699 - recall: 0.9618 - auc: 0.9986 - val_loss: 0.3655 - val_accuracy: 0.9840 - val_precision: 0.9399 - val_recall: 0.9318 - val_auc: 0.9872\n",
            "Epoch 71/100\n",
            "569/569 [==============================] - 17s 31ms/step - loss: 0.1154 - accuracy: 0.9908 - precision: 0.9676 - recall: 0.9582 - auc: 0.9982 - val_loss: 0.3663 - val_accuracy: 0.9835 - val_precision: 0.9379 - val_recall: 0.9296 - val_auc: 0.9887\n",
            "Epoch 72/100\n",
            "569/569 [==============================] - 17s 30ms/step - loss: 0.1075 - accuracy: 0.9907 - precision: 0.9663 - recall: 0.9589 - auc: 0.9985 - val_loss: 0.4984 - val_accuracy: 0.9748 - val_precision: 0.9026 - val_recall: 0.8946 - val_auc: 0.9835\n",
            "Epoch 73/100\n",
            "569/569 [==============================] - 17s 30ms/step - loss: 0.1098 - accuracy: 0.9912 - precision: 0.9681 - recall: 0.9612 - auc: 0.9981 - val_loss: 0.3608 - val_accuracy: 0.9835 - val_precision: 0.9367 - val_recall: 0.9307 - val_auc: 0.9890\n",
            "Epoch 74/100\n",
            "569/569 [==============================] - 17s 30ms/step - loss: 0.1044 - accuracy: 0.9911 - precision: 0.9682 - recall: 0.9602 - auc: 0.9984 - val_loss: 0.3518 - val_accuracy: 0.9802 - val_precision: 0.9270 - val_recall: 0.9136 - val_auc: 0.9884\n",
            "Epoch 75/100\n",
            "569/569 [==============================] - 17s 29ms/step - loss: 0.0973 - accuracy: 0.9918 - precision: 0.9713 - recall: 0.9630 - auc: 0.9985 - val_loss: 0.3466 - val_accuracy: 0.9831 - val_precision: 0.9353 - val_recall: 0.9287 - val_auc: 0.9894\n",
            "Epoch 76/100\n",
            "569/569 [==============================] - 16s 28ms/step - loss: 0.1736 - accuracy: 0.9916 - precision: 0.9690 - recall: 0.9634 - auc: 0.9984 - val_loss: 0.3689 - val_accuracy: 0.9782 - val_precision: 0.9210 - val_recall: 0.9030 - val_auc: 0.9877\n",
            "Epoch 77/100\n",
            "569/569 [==============================] - 16s 27ms/step - loss: 0.0912 - accuracy: 0.9917 - precision: 0.9702 - recall: 0.9628 - auc: 0.9991 - val_loss: 0.3765 - val_accuracy: 0.9843 - val_precision: 0.9412 - val_recall: 0.9329 - val_auc: 0.9873\n",
            "Epoch 78/100\n",
            "569/569 [==============================] - 15s 26ms/step - loss: 0.1247 - accuracy: 0.9901 - precision: 0.9646 - recall: 0.9559 - auc: 0.9978 - val_loss: 0.3333 - val_accuracy: 0.9823 - val_precision: 0.9357 - val_recall: 0.9221 - val_auc: 0.9884\n",
            "Epoch 79/100\n",
            "569/569 [==============================] - 15s 26ms/step - loss: 0.1023 - accuracy: 0.9916 - precision: 0.9695 - recall: 0.9634 - auc: 0.9986 - val_loss: 0.5048 - val_accuracy: 0.9790 - val_precision: 0.9202 - val_recall: 0.9107 - val_auc: 0.9819\n",
            "Epoch 80/100\n",
            "569/569 [==============================] - 14s 24ms/step - loss: 0.1229 - accuracy: 0.9904 - precision: 0.9660 - recall: 0.9569 - auc: 0.9978 - val_loss: 0.4024 - val_accuracy: 0.9813 - val_precision: 0.9284 - val_recall: 0.9217 - val_auc: 0.9869\n",
            "Epoch 81/100\n",
            "569/569 [==============================] - 15s 26ms/step - loss: 0.0999 - accuracy: 0.9916 - precision: 0.9704 - recall: 0.9621 - auc: 0.9985 - val_loss: 0.3692 - val_accuracy: 0.9854 - val_precision: 0.9442 - val_recall: 0.9384 - val_auc: 0.9883\n",
            "Epoch 82/100\n",
            "569/569 [==============================] - 14s 25ms/step - loss: 0.0907 - accuracy: 0.9924 - precision: 0.9725 - recall: 0.9666 - auc: 0.9987 - val_loss: 0.4374 - val_accuracy: 0.9821 - val_precision: 0.9317 - val_recall: 0.9243 - val_auc: 0.9860\n",
            "Epoch 83/100\n",
            "569/569 [==============================] - 13s 24ms/step - loss: 0.1060 - accuracy: 0.9914 - precision: 0.9693 - recall: 0.9621 - auc: 0.9983 - val_loss: 0.3691 - val_accuracy: 0.9857 - val_precision: 0.9469 - val_recall: 0.9380 - val_auc: 0.9874\n",
            "Epoch 84/100\n",
            "569/569 [==============================] - 15s 26ms/step - loss: 0.1124 - accuracy: 0.9910 - precision: 0.9678 - recall: 0.9597 - auc: 0.9981 - val_loss: 0.3760 - val_accuracy: 0.9815 - val_precision: 0.9320 - val_recall: 0.9195 - val_auc: 0.9876\n",
            "Epoch 85/100\n",
            "569/569 [==============================] - 11s 19ms/step - loss: 0.1176 - accuracy: 0.9902 - precision: 0.9645 - recall: 0.9567 - auc: 0.9983 - val_loss: 0.3197 - val_accuracy: 0.9856 - val_precision: 0.9467 - val_recall: 0.9377 - val_auc: 0.9887\n",
            "Epoch 86/100\n",
            "569/569 [==============================] - 11s 19ms/step - loss: 0.1179 - accuracy: 0.9907 - precision: 0.9667 - recall: 0.9590 - auc: 0.9978 - val_loss: 0.3447 - val_accuracy: 0.9838 - val_precision: 0.9386 - val_recall: 0.9316 - val_auc: 0.9874\n",
            "Epoch 87/100\n",
            "569/569 [==============================] - 15s 27ms/step - loss: 0.1012 - accuracy: 0.9918 - precision: 0.9708 - recall: 0.9634 - auc: 0.9987 - val_loss: 0.3178 - val_accuracy: 0.9844 - val_precision: 0.9418 - val_recall: 0.9329 - val_auc: 0.9894\n",
            "Epoch 88/100\n",
            "569/569 [==============================] - 14s 25ms/step - loss: 0.1017 - accuracy: 0.9915 - precision: 0.9691 - recall: 0.9623 - auc: 0.9983 - val_loss: 0.3553 - val_accuracy: 0.9833 - val_precision: 0.9407 - val_recall: 0.9248 - val_auc: 0.9885\n",
            "Epoch 89/100\n",
            "569/569 [==============================] - 14s 25ms/step - loss: 0.0986 - accuracy: 0.9916 - precision: 0.9705 - recall: 0.9624 - auc: 0.9987 - val_loss: 0.4311 - val_accuracy: 0.9833 - val_precision: 0.9370 - val_recall: 0.9285 - val_auc: 0.9873\n",
            "Epoch 90/100\n",
            "569/569 [==============================] - 16s 28ms/step - loss: 0.0966 - accuracy: 0.9921 - precision: 0.9709 - recall: 0.9658 - auc: 0.9986 - val_loss: 0.3736 - val_accuracy: 0.9844 - val_precision: 0.9410 - val_recall: 0.9338 - val_auc: 0.9877\n",
            "Epoch 91/100\n",
            "569/569 [==============================] - 15s 26ms/step - loss: 0.1013 - accuracy: 0.9918 - precision: 0.9702 - recall: 0.9636 - auc: 0.9984 - val_loss: 0.4225 - val_accuracy: 0.9792 - val_precision: 0.9209 - val_recall: 0.9116 - val_auc: 0.9849\n",
            "Epoch 92/100\n",
            "569/569 [==============================] - 16s 29ms/step - loss: 0.1128 - accuracy: 0.9911 - precision: 0.9683 - recall: 0.9601 - auc: 0.9980 - val_loss: 0.3582 - val_accuracy: 0.9824 - val_precision: 0.9352 - val_recall: 0.9234 - val_auc: 0.9866\n",
            "Epoch 93/100\n",
            "569/569 [==============================] - 15s 26ms/step - loss: 0.1305 - accuracy: 0.9903 - precision: 0.9653 - recall: 0.9564 - auc: 0.9976 - val_loss: 0.3856 - val_accuracy: 0.9804 - val_precision: 0.9288 - val_recall: 0.9131 - val_auc: 0.9889\n",
            "Epoch 94/100\n",
            "569/569 [==============================] - 14s 25ms/step - loss: 0.0917 - accuracy: 0.9922 - precision: 0.9720 - recall: 0.9655 - auc: 0.9987 - val_loss: 0.3662 - val_accuracy: 0.9856 - val_precision: 0.9457 - val_recall: 0.9384 - val_auc: 0.9891\n",
            "Epoch 95/100\n",
            "569/569 [==============================] - 14s 25ms/step - loss: 0.0950 - accuracy: 0.9921 - precision: 0.9713 - recall: 0.9656 - auc: 0.9985 - val_loss: 0.4395 - val_accuracy: 0.9823 - val_precision: 0.9334 - val_recall: 0.9248 - val_auc: 0.9873\n",
            "Epoch 96/100\n",
            "569/569 [==============================] - 14s 24ms/step - loss: 0.0879 - accuracy: 0.9925 - precision: 0.9727 - recall: 0.9673 - auc: 0.9987 - val_loss: 0.4062 - val_accuracy: 0.9828 - val_precision: 0.9373 - val_recall: 0.9241 - val_auc: 0.9866\n",
            "Epoch 97/100\n",
            "569/569 [==============================] - 15s 27ms/step - loss: 0.1014 - accuracy: 0.9918 - precision: 0.9706 - recall: 0.9632 - auc: 0.9983 - val_loss: 0.4469 - val_accuracy: 0.9839 - val_precision: 0.9379 - val_recall: 0.9333 - val_auc: 0.9876\n",
            "Epoch 98/100\n",
            "569/569 [==============================] - 15s 26ms/step - loss: 0.1116 - accuracy: 0.9912 - precision: 0.9684 - recall: 0.9613 - auc: 0.9980 - val_loss: 0.3833 - val_accuracy: 0.9809 - val_precision: 0.9270 - val_recall: 0.9195 - val_auc: 0.9869\n",
            "Epoch 99/100\n",
            "569/569 [==============================] - 16s 28ms/step - loss: 0.1115 - accuracy: 0.9912 - precision: 0.9684 - recall: 0.9613 - auc: 0.9978 - val_loss: 0.4412 - val_accuracy: 0.9815 - val_precision: 0.9322 - val_recall: 0.9193 - val_auc: 0.9868\n",
            "Epoch 100/100\n",
            "569/569 [==============================] - 16s 29ms/step - loss: 0.0888 - accuracy: 0.9924 - precision: 0.9727 - recall: 0.9662 - auc: 0.9989 - val_loss: 0.4244 - val_accuracy: 0.9804 - val_precision: 0.9279 - val_recall: 0.9142 - val_auc: 0.9862\n",
            "Time Taken is:\n",
            "1534.6788082122803\n",
            "CPU times: user 14min 52s, sys: 15min 8s, total: 30min 1s\n",
            "Wall time: 25min 34s\n"
          ]
        }
      ]
    },
    {
      "cell_type": "code",
      "source": [
        ""
      ],
      "metadata": {
        "id": "LVcA6bIgv2dl"
      },
      "id": "LVcA6bIgv2dl",
      "execution_count": null,
      "outputs": []
    },
    {
      "cell_type": "code",
      "source": [
        "ann_accuracy=0.987\n",
        "ann_recall=0.94\n",
        "ann_precision=0.94\n",
        "ann_f1score=0.94"
      ],
      "metadata": {
        "id": "ffWJzpAvSEkS"
      },
      "id": "ffWJzpAvSEkS",
      "execution_count": null,
      "outputs": []
    },
    {
      "cell_type": "code",
      "source": [
        ""
      ],
      "metadata": {
        "id": "T_ap8oWMB73L"
      },
      "id": "T_ap8oWMB73L",
      "execution_count": null,
      "outputs": []
    },
    {
      "cell_type": "code",
      "source": [
        "tic=time.time()\n",
        "from xgboost import XGBClassifier\n",
        "from sklearn.metrics import accuracy_score\n",
        "xgb = XGBClassifier(n_estimators=150)\n",
        "xgb.fit(X_train, y_train)\n",
        "y_pred = xgb.predict(X_test)\n",
        "print(classification_report(y_test,y_pred,target_names=my_tags))\n",
        "toc=time.time()\n",
        "print(\"Time Taken for Xgboost:\")\n",
        "print(toc-tic)\n",
        "\n"
      ],
      "metadata": {
        "colab": {
          "base_uri": "https://localhost:8080/"
        },
        "id": "DA3MZUSYB79-",
        "outputId": "733a25a8-9443-4055-90bc-5264d8651755"
      },
      "id": "DA3MZUSYB79-",
      "execution_count": null,
      "outputs": [
        {
          "output_type": "stream",
          "name": "stdout",
          "text": [
            "                 precision    recall  f1-score   support\n",
            "\n",
            "           CHAT       0.94      0.96      0.95       569\n",
            "           VOIP       0.70      0.69      0.70       568\n",
            "VIDEO-STREAMING       0.74      0.84      0.79       568\n",
            "  FILE-TRANSFER       0.81      0.80      0.81       568\n",
            "       BROWSING       0.92      0.85      0.88       568\n",
            "          EMAIL       0.96      0.98      0.97       568\n",
            "            P2P       0.77      0.75      0.76       568\n",
            "AUDIO-STREAMING       1.00      0.97      0.98       569\n",
            "\n",
            "       accuracy                           0.85      4546\n",
            "      macro avg       0.86      0.85      0.86      4546\n",
            "   weighted avg       0.86      0.85      0.86      4546\n",
            "\n",
            "Time Taken for Xgboost:\n",
            "24.8429958820343\n"
          ]
        }
      ]
    },
    {
      "cell_type": "code",
      "source": [
        "from sklearn.metrics import precision_recall_fscore_support as score\n",
        "xgprecision,xgrecall,xgfscore,xgkn=score(y_test,y_pred,average='macro')\n",
        "print ('Precision : {}'.format(xgprecision))\n",
        "print ('Recall    : {}'.format(xgrecall))\n",
        "print ('F-score   : {}'.format(xgfscore))\n",
        "#print ('Support   : {}'.format(support))"
      ],
      "metadata": {
        "colab": {
          "base_uri": "https://localhost:8080/"
        },
        "id": "-O0wRrnaB8A-",
        "outputId": "7f41e044-eaeb-43b6-d296-fb497d084b2d"
      },
      "id": "-O0wRrnaB8A-",
      "execution_count": null,
      "outputs": [
        {
          "output_type": "stream",
          "name": "stdout",
          "text": [
            "Precision : 0.8596134060166029\n",
            "Recall    : 0.8576295205326865\n",
            "F-score   : 0.8575692611353536\n"
          ]
        }
      ]
    },
    {
      "cell_type": "code",
      "source": [
        "xgaccuracy=0.86"
      ],
      "metadata": {
        "id": "7qHQlzUaR6ch"
      },
      "id": "7qHQlzUaR6ch",
      "execution_count": null,
      "outputs": []
    },
    {
      "cell_type": "code",
      "source": [
        ""
      ],
      "metadata": {
        "id": "zFcWIkXBB8Db"
      },
      "id": "zFcWIkXBB8Db",
      "execution_count": null,
      "outputs": []
    },
    {
      "cell_type": "code",
      "source": [
        "df_results = pd.DataFrame({'classifier':['Accuracy','Accuracy','Accuracy','Accuracy','Recall','Recall','Recall','Recall','Precision','Precision','Precision','Precision','F1-Score','F1-Score','F1-Score','F1-Score'],\n",
        "                           'data_set':['Random Forest','Gradient Boosting','SVM','ANN']*4,\n",
        "                           'accuracy':[rfaccuracy,gbaccuracy,svaccuracy,ann_accuracy,rfrecall,gbrecall,svrecall,ann_recall,rfprecision,gbprecision,svprecision,ann_precision,rffscore,gbfscore,svfscore,ann_f1score]\n",
        "                           })"
      ],
      "metadata": {
        "id": "xVi50-ycS9WT"
      },
      "id": "xVi50-ycS9WT",
      "execution_count": null,
      "outputs": []
    },
    {
      "cell_type": "code",
      "source": [
        "sns.set_style(\"whitegrid\")\n",
        "plt.figure(figsize=(10, 6))\n",
        "ax = sns.barplot(x = 'classifier', y = 'accuracy', hue = 'data_set', data = df_results,palette = \"Blues\")\n",
        "ax.set_xlabel('Measures', fontsize = 15)\n",
        "ax.set_ylabel('Ratio', fontsize = 15)\n",
        "ax.tick_params(labelsize = 15)\n",
        "\n",
        "#Separate legend from graph\n",
        "plt.legend(bbox_to_anchor = (1.05, 1), loc = 2, borderaxespad = 0., fontsize = 15)"
      ],
      "metadata": {
        "colab": {
          "base_uri": "https://localhost:8080/",
          "height": 415
        },
        "id": "dLxKHm8WS9Zb",
        "outputId": "c2988044-b8d9-4375-867c-ade2ca7c21e9"
      },
      "id": "dLxKHm8WS9Zb",
      "execution_count": null,
      "outputs": [
        {
          "output_type": "execute_result",
          "data": {
            "text/plain": [
              "<matplotlib.legend.Legend at 0x7f9238fbbd50>"
            ]
          },
          "metadata": {},
          "execution_count": 46
        },
        {
          "output_type": "display_data",
          "data": {
            "text/plain": [
              "<Figure size 720x432 with 1 Axes>"
            ],
            "image/png": "[encoded data removed]"
          },
          "metadata": {}
        }
      ]
    },
    {
      "cell_type": "code",
      "source": [
        "knn_time=3.15\n",
        "svm_time=28.3\n",
        "dt_time=2.33\n",
        "rf_time=1.5\n",
        "xg_time=30\n",
        "ann_time=1535"
      ],
      "metadata": {
        "id": "WU-mj1uQS9ct"
      },
      "id": "WU-mj1uQS9ct",
      "execution_count": null,
      "outputs": []
    },
    {
      "cell_type": "code",
      "execution_count": null,
      "id": "61e507ec",
      "metadata": {
        "id": "61e507ec"
      },
      "outputs": [],
      "source": [
        "df_results = pd.DataFrame({'classifier':['KNN','SVM','DecisionTree','Random Forest','XgBoost','ANN'],\n",
        "                           'data_set':['KNN','SVM','DecisionTree','Random Forest','XgBoost','ANN'],\n",
        "                           'accuracy':[knn_time,svm_time,dt_time,rf_time,xg_time,ann_time]\n",
        "                           })"
      ]
    },
    {
      "cell_type": "code",
      "execution_count": null,
      "id": "0cafcdf0",
      "metadata": {
        "colab": {
          "base_uri": "https://localhost:8080/",
          "height": 419
        },
        "id": "0cafcdf0",
        "outputId": "14a62a66-838e-48de-bf43-4aa98d62c706"
      },
      "outputs": [
        {
          "output_type": "execute_result",
          "data": {
            "text/plain": [
              "<matplotlib.legend.Legend at 0x7efc90b79290>"
            ]
          },
          "metadata": {},
          "execution_count": 13
        },
        {
          "output_type": "display_data",
          "data": {
            "text/plain": [
              "<Figure size 720x432 with 1 Axes>"
            ],
            "image/png": "[encoded data removed]"
          },
          "metadata": {}
        }
      ],
      "source": [
        "sns.set_style(\"whitegrid\")\n",
        "plt.figure(figsize=(10, 6))\n",
        "ax = sns.barplot(x = 'classifier', y = 'accuracy', hue = 'data_set', data = df_results,palette = \"Blues\")\n",
        "ax.set_xlabel('Measures', fontsize = 15)\n",
        "ax.set_ylabel('Ratio', fontsize = 15)\n",
        "ax.tick_params(labelsize = 15)\n",
        "\n",
        "#Separate legend from graph\n",
        "plt.legend(bbox_to_anchor = (1.05, 1), loc = 2, borderaxespad = 0., fontsize = 15)"
      ]
    },
    {
      "cell_type": "code",
      "source": [
        ""
      ],
      "metadata": {
        "id": "2q1KyNeNp9_j"
      },
      "id": "2q1KyNeNp9_j",
      "execution_count": null,
      "outputs": []
    },
    {
      "cell_type": "code",
      "source": [
        ""
      ],
      "metadata": {
        "id": "W9bGiLMd3mqN"
      },
      "id": "W9bGiLMd3mqN",
      "execution_count": null,
      "outputs": []
    },
    {
      "cell_type": "code",
      "source": [
        "from sklearn.ensemble import GradientBoostingClassifier\n",
        "import time"
      ],
      "metadata": {
        "id": "TvmfzQWqpZAz"
      },
      "id": "TvmfzQWqpZAz",
      "execution_count": null,
      "outputs": []
    },
    {
      "cell_type": "code",
      "source": [
        "learning_rates = [0.5]\n",
        "for learning_rate in learning_rates:\n",
        "    gb = GradientBoostingClassifier(n_estimators=200, learning_rate = learning_rate, max_features=22, max_depth = 10, random_state = 0)\n",
        "    gb.fit(X_train, y_train)\n",
        "    print(\"Learning rate: \", learning_rate)\n",
        "    print(\"Accuracy score (training): {0:.3f}\".format(gb.score(X_train, y_train)))\n",
        "    print(\"Accuracy score (validation): {0:.3f}\".format(gb.score(X_test, y_test)))"
      ],
      "metadata": {
        "colab": {
          "base_uri": "https://localhost:8080/"
        },
        "id": "POuIxJfSpZDa",
        "outputId": "969bb905-647e-43f5-8e23-7a4a9b91343b"
      },
      "id": "POuIxJfSpZDa",
      "execution_count": null,
      "outputs": [
        {
          "output_type": "stream",
          "name": "stdout",
          "text": [
            "Learning rate:  0.5\n",
            "Accuracy score (training): 1.000\n",
            "Accuracy score (validation): 0.966\n"
          ]
        }
      ]
    },
    {
      "cell_type": "code",
      "source": [
        "tic=time.time()\n",
        "gb = GradientBoostingClassifier(n_estimators=200, learning_rate = learning_rate, max_features=22, max_depth = 12, random_state = 0)\n",
        "gb.fit(X_train, y_train)\n",
        "y_pred = gb.predict(X_test)\n",
        "print(classification_report(y_test,y_pred,target_names=my_tags))\n",
        "toc=time.time()\n",
        "print(\"Time Taken for Xgboost:\")\n",
        "print(toc-tic)"
      ],
      "metadata": {
        "colab": {
          "base_uri": "https://localhost:8080/"
        },
        "id": "WN6UAS88pZG6",
        "outputId": "cf45201c-a4c0-4915-9e56-6fb560cecf1d"
      },
      "id": "WN6UAS88pZG6",
      "execution_count": null,
      "outputs": [
        {
          "output_type": "stream",
          "name": "stdout",
          "text": [
            "                 precision    recall  f1-score   support\n",
            "\n",
            "           CHAT       0.98      0.99      0.99       569\n",
            "           VOIP       0.92      0.91      0.91       568\n",
            "VIDEO-STREAMING       0.93      0.96      0.95       568\n",
            "  FILE-TRANSFER       0.93      0.97      0.95       568\n",
            "       BROWSING       0.99      0.97      0.98       568\n",
            "          EMAIL       0.99      0.99      0.99       568\n",
            "            P2P       0.94      0.92      0.93       568\n",
            "AUDIO-STREAMING       1.00      0.98      0.99       569\n",
            "\n",
            "       accuracy                           0.96      4546\n",
            "      macro avg       0.96      0.96      0.96      4546\n",
            "   weighted avg       0.96      0.96      0.96      4546\n",
            "\n",
            "Time Taken for Xgboost:\n",
            "172.59633374214172\n"
          ]
        }
      ]
    },
    {
      "cell_type": "code",
      "source": [
        "from sklearn.metrics import precision_recall_fscore_support as score\n",
        "gbprecision,gbrecall,gbfscore,gbkn=score(y_test,y_pred,average='macro')\n",
        "print ('Precision : {}'.format(gbprecision))\n",
        "print ('Recall    : {}'.format(gbrecall))\n",
        "print ('F-score   : {}'.format(gbfscore))"
      ],
      "metadata": {
        "colab": {
          "base_uri": "https://localhost:8080/"
        },
        "id": "URuub7RxpZJU",
        "outputId": "d2d57d27-4d44-4852-e871-58f69710eecf"
      },
      "id": "URuub7RxpZJU",
      "execution_count": null,
      "outputs": [
        {
          "output_type": "stream",
          "name": "stdout",
          "text": [
            "Precision : 0.9608676515213443\n",
            "Recall    : 0.9606151297061809\n",
            "F-score   : 0.960631351702389\n"
          ]
        }
      ]
    },
    {
      "cell_type": "code",
      "source": [
        "gbaccuracy=0.96"
      ],
      "metadata": {
        "id": "ex18BenrpZNy"
      },
      "id": "ex18BenrpZNy",
      "execution_count": null,
      "outputs": []
    },
    {
      "cell_type": "code",
      "source": [
        ""
      ],
      "metadata": {
        "id": "J78fQTTy3mtL"
      },
      "id": "J78fQTTy3mtL",
      "execution_count": null,
      "outputs": []
    },
    {
      "cell_type": "code",
      "source": [
        ""
      ],
      "metadata": {
        "id": "YMCrxCT13mvr"
      },
      "id": "YMCrxCT13mvr",
      "execution_count": null,
      "outputs": []
    },
    {
      "cell_type": "code",
      "source": [
        ""
      ],
      "metadata": {
        "id": "B63OyTMa3myJ"
      },
      "id": "B63OyTMa3myJ",
      "execution_count": null,
      "outputs": []
    },
    {
      "cell_type": "markdown",
      "id": "5895fce3",
      "metadata": {
        "id": "5895fce3"
      },
      "source": [
        "# PCA"
      ]
    },
    {
      "cell_type": "code",
      "execution_count": null,
      "id": "a96a9beb",
      "metadata": {
        "colab": {
          "base_uri": "https://localhost:8080/"
        },
        "id": "a96a9beb",
        "outputId": "96974691-8208-4257-db31-42272798f753"
      },
      "outputs": [
        {
          "output_type": "execute_result",
          "data": {
            "text/plain": [
              "array([2, 7, 3, 4, 1, 0, 5, 6])"
            ]
          },
          "metadata": {},
          "execution_count": 17
        }
      ],
      "source": [
        "from sklearn import preprocessing \n",
        "label_encoder = preprocessing.LabelEncoder() \n",
        "dataset['class1']= label_encoder.fit_transform(dataset['class1']) \n",
        "dataset['class1'].unique()"
      ]
    },
    {
      "cell_type": "code",
      "execution_count": null,
      "id": "25e47048",
      "metadata": {
        "id": "25e47048"
      },
      "outputs": [],
      "source": [
        ""
      ]
    },
    {
      "cell_type": "code",
      "execution_count": null,
      "id": "1b952914",
      "metadata": {
        "id": "1b952914"
      },
      "outputs": [],
      "source": [
        "from sklearn import preprocessing \n",
        "label_encoder = preprocessing.LabelEncoder() \n",
        "y_sm= label_encoder.fit_transform(y_sm) \n",
        "#dataset['class1'].unique()"
      ]
    },
    {
      "cell_type": "code",
      "execution_count": null,
      "id": "2f6e024e",
      "metadata": {
        "id": "2f6e024e"
      },
      "outputs": [],
      "source": [
        "from sklearn.decomposition import PCA"
      ]
    },
    {
      "cell_type": "code",
      "execution_count": null,
      "id": "46a1a2dc",
      "metadata": {
        "id": "46a1a2dc"
      },
      "outputs": [],
      "source": [
        "from sklearn.decomposition import PCA\n",
        "train_PCA = PCA(n_components=15).fit_transform(x_sm)\n"
      ]
    },
    {
      "cell_type": "code",
      "execution_count": null,
      "id": "2453ce63",
      "metadata": {
        "colab": {
          "base_uri": "https://localhost:8080/",
          "height": 298
        },
        "id": "2453ce63",
        "outputId": "c78d0914-847d-4a9d-816c-c9f02b7ec32b"
      },
      "outputs": [
        {
          "output_type": "execute_result",
          "data": {
            "text/plain": [
              "<matplotlib.collections.PathCollection at 0x7f9238174950>"
            ]
          },
          "metadata": {},
          "execution_count": 56
        },
        {
          "output_type": "display_data",
          "data": {
            "text/plain": [
              "<Figure size 432x288 with 1 Axes>"
            ],
            "image/png": "[encoded data removed]"
          },
          "metadata": {
            "needs_background": "light"
          }
        }
      ],
      "source": [
        "import matplotlib\n",
        "%matplotlib inline\n",
        "matplotlib.rc('xtick', labelsize=10) \n",
        "matplotlib.rc('ytick', labelsize=10)\n",
        "plt.title('Tor Non Tor')\n",
        "plt.scatter(train_PCA[:,0],train_PCA[:,9],c=y_sm,cmap=plt.cm.jet)"
      ]
    },
    {
      "cell_type": "code",
      "execution_count": null,
      "id": "5178f1bc",
      "metadata": {
        "id": "5178f1bc"
      },
      "outputs": [],
      "source": [
        "X_transform = pd.DataFrame(data =train_PCA, columns = [\"principal component 1\", \"principal component 2\",\"principal component 3\", \"principal component 4\",\"principal component 5\", \"principal component 6\",\"principal component 7\", \"principal component 8\",\"principal component 9\", \"principal component 10\",\"principal component 11\",\"principal component 12\", \"principal component 13\",\"principal component 14\", \"principal component 15\"])\n",
        "X_train, X_test, y_train, y_test = train_test_split(X_transform, y_sm, test_size=0.15, random_state=32)\n",
        "from sklearn.metrics import classification_report"
      ]
    },
    {
      "cell_type": "code",
      "execution_count": null,
      "id": "0f617921",
      "metadata": {
        "colab": {
          "base_uri": "https://localhost:8080/"
        },
        "id": "0f617921",
        "outputId": "e76f8670-520c-4f80-c248-8ce68d375d71"
      },
      "outputs": [
        {
          "output_type": "stream",
          "name": "stdout",
          "text": [
            "                 precision    recall  f1-score   support\n",
            "\n",
            "           CHAT       0.94      0.97      0.95       432\n",
            "           VOIP       0.91      0.90      0.91       431\n",
            "VIDEO-STREAMING       0.92      0.95      0.94       464\n",
            "  FILE-TRANSFER       0.93      0.92      0.93       411\n",
            "       BROWSING       0.89      0.90      0.90       419\n",
            "          EMAIL       0.93      0.95      0.94       394\n",
            "            P2P       0.86      0.82      0.84       439\n",
            "AUDIO-STREAMING       1.00      0.96      0.98       420\n",
            "\n",
            "       accuracy                           0.92      3410\n",
            "      macro avg       0.92      0.92      0.92      3410\n",
            "   weighted avg       0.92      0.92      0.92      3410\n",
            "\n",
            "Time Taken with PCA:\n",
            "0.2841672897338867\n"
          ]
        }
      ],
      "source": [
        "tic=time.time()\n",
        "model = KNeighborsClassifier(n_neighbors=1,p=1 )\n",
        "model.fit(X_train, y_train)\n",
        "y_pred=model.predict(X_test)\n",
        "print(classification_report(y_test,y_pred,target_names=my_tags))\n",
        "toc=time.time()\n",
        "print(\"Time Taken with PCA:\")\n",
        "print(toc-tic)"
      ]
    },
    {
      "cell_type": "code",
      "source": [
        "tic=time.time()\n",
        "gb = GradientBoostingClassifier(n_estimators=300, learning_rate = learning_rate, max_features=15, max_depth = 10, random_state = 0)\n",
        "gb.fit(X_train, y_train)\n",
        "y_pred = gb.predict(X_test)\n",
        "print(classification_report(y_test,y_pred,target_names=my_tags))\n",
        "toc=time.time()\n",
        "print(\"Time Taken for Xgboost:\")\n",
        "print(toc-tic)"
      ],
      "metadata": {
        "id": "pDEhZcugUCzf",
        "colab": {
          "base_uri": "https://localhost:8080/"
        },
        "outputId": "00d5bb4c-20b9-4a81-ea61-a7303bb82f35"
      },
      "id": "pDEhZcugUCzf",
      "execution_count": null,
      "outputs": [
        {
          "output_type": "stream",
          "name": "stdout",
          "text": [
            "                 precision    recall  f1-score   support\n",
            "\n",
            "           CHAT       0.97      0.97      0.97       432\n",
            "           VOIP       0.92      0.89      0.90       431\n",
            "VIDEO-STREAMING       0.93      0.97      0.95       464\n",
            "  FILE-TRANSFER       0.92      0.96      0.94       411\n",
            "       BROWSING       0.94      0.94      0.94       419\n",
            "          EMAIL       0.97      0.99      0.98       394\n",
            "            P2P       0.89      0.84      0.87       439\n",
            "AUDIO-STREAMING       1.00      0.97      0.98       420\n",
            "\n",
            "       accuracy                           0.94      3410\n",
            "      macro avg       0.94      0.94      0.94      3410\n",
            "   weighted avg       0.94      0.94      0.94      3410\n",
            "\n",
            "Time Taken for Xgboost:\n",
            "260.34009981155396\n"
          ]
        }
      ]
    },
    {
      "cell_type": "code",
      "source": [
        "from sklearn.metrics import precision_recall_fscore_support as score\n",
        "gbprecision,gbrecall,gbfscore,supportkn=score(y_test,y_pred,average='macro')\n",
        "print ('Precision : {}'.format(gbprecision))\n",
        "print ('Recall    : {}'.format(gbrecall))\n",
        "print ('F-score   : {}'.format(gbfscore))\n",
        "#print ('Support   : {}'.format(support))"
      ],
      "metadata": {
        "colab": {
          "base_uri": "https://localhost:8080/"
        },
        "id": "RCcY01QYT48p",
        "outputId": "85da5663-0821-4c36-d1de-75ea8e625864"
      },
      "id": "RCcY01QYT48p",
      "execution_count": null,
      "outputs": [
        {
          "output_type": "stream",
          "name": "stdout",
          "text": [
            "Precision : 0.9420695706161012\n",
            "Recall    : 0.9423050830145197\n",
            "F-score   : 0.9418757149944202\n"
          ]
        }
      ]
    },
    {
      "cell_type": "code",
      "source": [
        "gbaccuracy=0.95"
      ],
      "metadata": {
        "id": "0FsK5ICRUGmp"
      },
      "id": "0FsK5ICRUGmp",
      "execution_count": null,
      "outputs": []
    },
    {
      "cell_type": "code",
      "execution_count": null,
      "id": "18e57e97",
      "metadata": {
        "colab": {
          "base_uri": "https://localhost:8080/"
        },
        "id": "18e57e97",
        "outputId": "638c6994-1349-4c97-9775-ebcd35e52cc6"
      },
      "outputs": [
        {
          "output_type": "stream",
          "name": "stdout",
          "text": [
            "                 precision    recall  f1-score   support\n",
            "\n",
            "           CHAT       0.77      0.70      0.73       432\n",
            "           VOIP       0.48      0.50      0.49       431\n",
            "VIDEO-STREAMING       0.56      0.59      0.57       464\n",
            "  FILE-TRANSFER       0.55      0.62      0.58       411\n",
            "       BROWSING       0.43      0.68      0.53       419\n",
            "          EMAIL       0.52      0.46      0.49       394\n",
            "            P2P       0.42      0.10      0.16       439\n",
            "AUDIO-STREAMING       0.79      0.96      0.87       420\n",
            "\n",
            "       accuracy                           0.57      3410\n",
            "      macro avg       0.57      0.58      0.55      3410\n",
            "   weighted avg       0.57      0.57      0.55      3410\n",
            "\n",
            "Time Taken with SVM:\n",
            "34.17808771133423\n"
          ]
        }
      ],
      "source": [
        "tic=time.time()\n",
        "clf = svm.SVC(kernel='rbf')\n",
        "clf.fit(X_train,y_train)\n",
        "y_pred=clf.predict(X_test)\n",
        "print(classification_report(y_test,y_pred,target_names=my_tags))\n",
        "toc=time.time()\n",
        "print(\"Time Taken with SVM:\")\n",
        "print(toc-tic)"
      ]
    },
    {
      "cell_type": "code",
      "source": [
        "from sklearn.metrics import precision_recall_fscore_support as score\n",
        "svprecision,svrecall,svfscore,supportkn=score(y_test,y_pred,average='macro')\n",
        "print ('Precision : {}'.format(svprecision))\n",
        "print ('Recall    : {}'.format(svrecall))\n",
        "print ('F-score   : {}'.format(svfscore))\n",
        "#print ('Support   : {}'.format(support))"
      ],
      "metadata": {
        "colab": {
          "base_uri": "https://localhost:8080/"
        },
        "id": "lvrb_vuzUNBJ",
        "outputId": "8d6db3b9-82d3-4289-df6b-466b43ed1670"
      },
      "id": "lvrb_vuzUNBJ",
      "execution_count": null,
      "outputs": [
        {
          "output_type": "stream",
          "name": "stdout",
          "text": [
            "Precision : 0.5660044182823534\n",
            "Recall    : 0.5755392108783446\n",
            "F-score   : 0.5531318386659951\n"
          ]
        }
      ]
    },
    {
      "cell_type": "code",
      "source": [
        "svaccuracy=0.57"
      ],
      "metadata": {
        "id": "X-_LxvrWUPmy"
      },
      "id": "X-_LxvrWUPmy",
      "execution_count": null,
      "outputs": []
    },
    {
      "cell_type": "code",
      "execution_count": null,
      "id": "27535796",
      "metadata": {
        "colab": {
          "base_uri": "https://localhost:8080/"
        },
        "id": "27535796",
        "outputId": "7648cf75-5de7-47e7-a00e-e3ff5d19e4c2"
      },
      "outputs": [
        {
          "output_type": "stream",
          "name": "stdout",
          "text": [
            "                 precision    recall  f1-score   support\n",
            "\n",
            "           CHAT       0.94      0.94      0.94       432\n",
            "           VOIP       0.83      0.80      0.82       431\n",
            "VIDEO-STREAMING       0.88      0.90      0.89       464\n",
            "  FILE-TRANSFER       0.84      0.89      0.86       411\n",
            "       BROWSING       0.90      0.89      0.89       419\n",
            "          EMAIL       0.91      0.93      0.92       394\n",
            "            P2P       0.81      0.77      0.79       439\n",
            "AUDIO-STREAMING       0.98      0.96      0.97       420\n",
            "\n",
            "       accuracy                           0.88      3410\n",
            "      macro avg       0.88      0.89      0.88      3410\n",
            "   weighted avg       0.88      0.88      0.88      3410\n",
            "\n",
            "Time Taken:\n",
            "1.150254726409912\n"
          ]
        }
      ],
      "source": [
        "tic=time.time()\n",
        "classifier = DT(criterion='entropy', random_state=0)\n",
        "classifier.fit(X_train,y_train)\n",
        "y_pred = classifier.predict(X_test)\n",
        "print(classification_report(y_test,y_pred,target_names=my_tags))\n",
        "toc=time.time()\n",
        "print(\"Time Taken:\")\n",
        "print(toc-tic)"
      ]
    },
    {
      "cell_type": "code",
      "source": [
        "from sklearn.metrics import precision_recall_fscore_support as score\n",
        "dtprecision,dtrecall,dtfscore,supportkn=score(y_test,y_pred,average='macro')\n",
        "print ('Precision : {}'.format(dtprecision))\n",
        "print ('Recall    : {}'.format(dtrecall))\n",
        "print ('F-score   : {}'.format(dtfscore))\n",
        "#print ('Support   : {}'.format(support))"
      ],
      "metadata": {
        "colab": {
          "base_uri": "https://localhost:8080/"
        },
        "id": "GXBTpgYHUTrW",
        "outputId": "67a7598b-4c26-475d-d008-ccd69525cecb"
      },
      "id": "GXBTpgYHUTrW",
      "execution_count": null,
      "outputs": [
        {
          "output_type": "stream",
          "name": "stdout",
          "text": [
            "Precision : 0.5660044182823534\n",
            "Recall    : 0.5755392108783446\n",
            "F-score   : 0.5531318386659951\n"
          ]
        }
      ]
    },
    {
      "cell_type": "code",
      "source": [
        "dtaccuracy=0.85"
      ],
      "metadata": {
        "id": "sCCH2-RlUUsj"
      },
      "id": "sCCH2-RlUUsj",
      "execution_count": null,
      "outputs": []
    },
    {
      "cell_type": "code",
      "execution_count": null,
      "id": "0dc24f10",
      "metadata": {
        "colab": {
          "base_uri": "https://localhost:8080/"
        },
        "id": "0dc24f10",
        "outputId": "2271ada9-9636-4773-dfaa-328cc4b03cfc"
      },
      "outputs": [
        {
          "output_type": "stream",
          "name": "stdout",
          "text": [
            "              precision    recall  f1-score   support\n",
            "\n",
            "           0       0.97      0.98      0.98       432\n",
            "           1       0.91      0.90      0.91       431\n",
            "           2       0.93      0.97      0.95       464\n",
            "           3       0.89      0.97      0.93       411\n",
            "           4       0.94      0.93      0.93       419\n",
            "           5       0.96      0.99      0.97       394\n",
            "           6       0.90      0.80      0.85       439\n",
            "           7       1.00      0.96      0.98       420\n",
            "\n",
            "    accuracy                           0.94      3410\n",
            "   macro avg       0.94      0.94      0.94      3410\n",
            "weighted avg       0.94      0.94      0.94      3410\n",
            "\n",
            "Time Taken:\n",
            "2.4943346977233887\n"
          ]
        }
      ],
      "source": [
        "from sklearn.ensemble import RandomForestClassifier as RF\n",
        "tic=time.time()\n",
        "classifier = RF(n_estimators=32, criterion='gini', random_state=0)\n",
        "classifier.fit(X_train,y_train)\n",
        "y_pred = classifier.predict(X_test)\n",
        "print(classification_report(y_test,y_pred))\n",
        "toc=time.time()\n",
        "print(\"Time Taken:\")\n",
        "print(toc-tic)"
      ]
    },
    {
      "cell_type": "code",
      "execution_count": null,
      "id": "af41a567",
      "metadata": {
        "colab": {
          "base_uri": "https://localhost:8080/"
        },
        "id": "af41a567",
        "outputId": "498dd124-cdb3-489e-d81e-b289d1c1ec49"
      },
      "outputs": [
        {
          "output_type": "stream",
          "name": "stdout",
          "text": [
            "Precision : 0.9375043170490371\n",
            "Recall    : 0.9377103518767673\n",
            "F-score   : 0.9368354168763101\n"
          ]
        }
      ],
      "source": [
        "from sklearn.metrics import precision_recall_fscore_support as score\n",
        "rfprecision,rfrecall,rffscore,supportkn=score(y_test,y_pred,average='macro')\n",
        "print ('Precision : {}'.format(rfprecision))\n",
        "print ('Recall    : {}'.format(rfrecall))\n",
        "print ('F-score   : {}'.format(rffscore))\n",
        "#print ('Support   : {}'.format(support))"
      ]
    },
    {
      "cell_type": "code",
      "execution_count": null,
      "id": "73a1d52b",
      "metadata": {
        "id": "73a1d52b"
      },
      "outputs": [],
      "source": [
        "rfaccuracy=0.94"
      ]
    },
    {
      "cell_type": "code",
      "source": [
        "tic=time.time()\n",
        "from xgboost import XGBClassifier\n",
        "from sklearn.metrics import accuracy_score\n",
        "xgb = XGBClassifier(n_estimators=3000)\n",
        "xgb.fit(X_train, y_train)\n",
        "y_pred = xgb.predict(X_test)\n",
        "print(classification_report(y_test,y_pred,target_names=my_tags))\n",
        "toc=time.time()\n",
        "print(\"Time Taken for Xgboost:\")\n",
        "print(toc-tic)\n",
        "\n"
      ],
      "metadata": {
        "colab": {
          "base_uri": "https://localhost:8080/"
        },
        "id": "ARsxRN-hU3-M",
        "outputId": "50a4657a-bb37-4b47-e47d-9dbb2aa249ec"
      },
      "id": "ARsxRN-hU3-M",
      "execution_count": null,
      "outputs": [
        {
          "output_type": "stream",
          "name": "stdout",
          "text": [
            "                 precision    recall  f1-score   support\n",
            "\n",
            "           CHAT       0.94      0.96      0.95       432\n",
            "           VOIP       0.81      0.84      0.82       431\n",
            "VIDEO-STREAMING       0.88      0.88      0.88       464\n",
            "  FILE-TRANSFER       0.84      0.87      0.85       411\n",
            "       BROWSING       0.88      0.85      0.86       419\n",
            "          EMAIL       0.92      0.93      0.93       394\n",
            "            P2P       0.76      0.72      0.74       439\n",
            "AUDIO-STREAMING       1.00      0.97      0.98       420\n",
            "\n",
            "       accuracy                           0.88      3410\n",
            "      macro avg       0.88      0.88      0.88      3410\n",
            "   weighted avg       0.88      0.88      0.88      3410\n",
            "\n",
            "Time Taken for Xgboost:\n",
            "370.300039768219\n"
          ]
        }
      ]
    },
    {
      "cell_type": "code",
      "source": [
        "from sklearn.metrics import precision_recall_fscore_support as score\n",
        "xgprecision,xgrecall,xgfscore,xgkn=score(y_test,y_pred,average='macro')\n",
        "print ('Precision : {}'.format(xgprecision))\n",
        "print ('Recall    : {}'.format(xgrecall))\n",
        "print ('F-score   : {}'.format(xgfscore))\n",
        "#print ('Support   : {}'.format(support))"
      ],
      "metadata": {
        "colab": {
          "base_uri": "https://localhost:8080/"
        },
        "id": "Y92aLh8GU4Ay",
        "outputId": "b4f847d2-ba05-42b2-d8f7-89b787f7fa59"
      },
      "id": "Y92aLh8GU4Ay",
      "execution_count": null,
      "outputs": [
        {
          "output_type": "stream",
          "name": "stdout",
          "text": [
            "Precision : 0.8779219096372959\n",
            "Recall    : 0.878214652338135\n",
            "F-score   : 0.8778387954732811\n"
          ]
        }
      ]
    },
    {
      "cell_type": "code",
      "source": [
        "xgaccuracy=0.88"
      ],
      "metadata": {
        "id": "bgKG9DzTU4Dr"
      },
      "id": "bgKG9DzTU4Dr",
      "execution_count": null,
      "outputs": []
    },
    {
      "cell_type": "code",
      "source": [
        ""
      ],
      "metadata": {
        "id": "VqNM26LLU4F7"
      },
      "id": "VqNM26LLU4F7",
      "execution_count": null,
      "outputs": []
    },
    {
      "cell_type": "code",
      "source": [
        "from sklearn import preprocessing\n",
        "lb = preprocessing.LabelBinarizer()\n",
        "y_train = lb.fit_transform(y_train)\n",
        "y_test = lb.fit_transform(y_test)"
      ],
      "metadata": {
        "id": "oCR6FHrQU4I7"
      },
      "id": "oCR6FHrQU4I7",
      "execution_count": null,
      "outputs": []
    },
    {
      "cell_type": "code",
      "source": [
        "model = Sequential()\n",
        "model.add(Dense(128, input_dim=10, kernel_initializer='RandomUniform', activation='relu'))\n",
        "model.add(Dense(256,  kernel_initializer='RandomUniform', activation='relu'))\n",
        "model.add(Dense(512,  kernel_initializer='RandomUniform', activation='relu'))\n",
        "model.add(Dense(256,  kernel_initializer='RandomUniform', activation='relu'))\n",
        "model.add(Dense(512,  kernel_initializer='RandomUniform', activation='relu'))\n",
        "\n",
        "model.add(Dense(8,activation='softmax'))\n",
        "#model.compile(loss='categorical_crossentropy', optimizer=sgd, metrics=METRICS)"
      ],
      "metadata": {
        "id": "db596tm-U4LW"
      },
      "id": "db596tm-U4LW",
      "execution_count": null,
      "outputs": []
    },
    {
      "cell_type": "code",
      "source": [
        "# compiling the model\n",
        "model.compile(optimizer=Adam(learning_rate=0.001),loss='categorical_crossentropy',metrics=METRICS)"
      ],
      "metadata": {
        "id": "NGAdG6jgU4Oc"
      },
      "id": "NGAdG6jgU4Oc",
      "execution_count": null,
      "outputs": []
    },
    {
      "cell_type": "code",
      "source": [
        "%%time\n",
        "#fitting the model\n",
        "import time\n",
        "tic=time.time()\n",
        "history=model.fit(X_train,y_train,epochs=200, validation_data=(X_test,y_test))\n",
        "toc=time.time()\n",
        "print(\"Time Taken is:\")\n",
        "print(toc-tic)"
      ],
      "metadata": {
        "colab": {
          "base_uri": "https://localhost:8080/"
        },
        "id": "OavzHU1NU4RJ",
        "outputId": "0cddff0b-dfac-4441-a9cc-618579f62321"
      },
      "id": "OavzHU1NU4RJ",
      "execution_count": null,
      "outputs": [
        {
          "output_type": "stream",
          "name": "stdout",
          "text": [
            "Epoch 1/200\n",
            "604/604 [==============================] - 11s 15ms/step - loss: 1.3803 - accuracy: 0.9091 - precision: 0.8047 - recall: 0.3601 - auc: 0.8981 - val_loss: 1.0799 - val_accuracy: 0.9098 - val_precision: 0.8025 - val_recall: 0.3695 - val_auc: 0.9177\n",
            "Epoch 2/200\n",
            "604/604 [==============================] - 6s 10ms/step - loss: 1.0368 - accuracy: 0.9122 - precision: 0.7512 - recall: 0.4453 - auc: 0.9223 - val_loss: 0.9665 - val_accuracy: 0.9176 - val_precision: 0.7669 - val_recall: 0.4900 - val_auc: 0.9322\n",
            "Epoch 3/200\n",
            "604/604 [==============================] - 6s 9ms/step - loss: 0.9320 - accuracy: 0.9198 - precision: 0.7717 - recall: 0.5092 - auc: 0.9373 - val_loss: 0.8828 - val_accuracy: 0.9235 - val_precision: 0.7784 - val_recall: 0.5428 - val_auc: 0.9437\n",
            "Epoch 4/200\n",
            "604/604 [==============================] - 6s 10ms/step - loss: 0.8695 - accuracy: 0.9253 - precision: 0.7835 - recall: 0.5561 - auc: 0.9455 - val_loss: 0.8690 - val_accuracy: 0.9249 - val_precision: 0.7898 - val_recall: 0.5443 - val_auc: 0.9457\n",
            "Epoch 5/200\n",
            "604/604 [==============================] - 6s 10ms/step - loss: 0.8133 - accuracy: 0.9297 - precision: 0.7925 - recall: 0.5925 - auc: 0.9522 - val_loss: 0.8693 - val_accuracy: 0.9223 - val_precision: 0.7745 - val_recall: 0.5337 - val_auc: 0.9457\n",
            "Epoch 6/200\n",
            "604/604 [==============================] - 6s 10ms/step - loss: 0.7851 - accuracy: 0.9324 - precision: 0.7963 - recall: 0.6173 - auc: 0.9554 - val_loss: 0.7980 - val_accuracy: 0.9309 - val_precision: 0.7923 - val_recall: 0.6065 - val_auc: 0.9540\n",
            "Epoch 7/200\n",
            "604/604 [==============================] - 6s 9ms/step - loss: 0.7378 - accuracy: 0.9350 - precision: 0.8039 - recall: 0.6353 - auc: 0.9605 - val_loss: 0.7465 - val_accuracy: 0.9335 - val_precision: 0.7841 - val_recall: 0.6463 - val_auc: 0.9598\n",
            "Epoch 8/200\n",
            "604/604 [==============================] - 6s 9ms/step - loss: 0.7130 - accuracy: 0.9375 - precision: 0.8064 - recall: 0.6575 - auc: 0.9630 - val_loss: 0.7444 - val_accuracy: 0.9347 - val_precision: 0.7982 - val_recall: 0.6393 - val_auc: 0.9596\n",
            "Epoch 9/200\n",
            "604/604 [==============================] - 6s 9ms/step - loss: 0.6827 - accuracy: 0.9408 - precision: 0.8182 - recall: 0.6771 - auc: 0.9659 - val_loss: 0.6888 - val_accuracy: 0.9394 - val_precision: 0.8042 - val_recall: 0.6806 - val_auc: 0.9655\n",
            "Epoch 10/200\n",
            "604/604 [==============================] - 6s 9ms/step - loss: 0.6491 - accuracy: 0.9424 - precision: 0.8186 - recall: 0.6928 - auc: 0.9693 - val_loss: 0.6342 - val_accuracy: 0.9446 - val_precision: 0.8347 - val_recall: 0.6944 - val_auc: 0.9710\n",
            "Epoch 11/200\n",
            "604/604 [==============================] - 6s 9ms/step - loss: 0.6269 - accuracy: 0.9440 - precision: 0.8241 - recall: 0.7022 - auc: 0.9711 - val_loss: 0.7187 - val_accuracy: 0.9366 - val_precision: 0.7758 - val_recall: 0.6933 - val_auc: 0.9635\n",
            "Epoch 12/200\n",
            "604/604 [==============================] - 6s 10ms/step - loss: 0.6024 - accuracy: 0.9466 - precision: 0.8332 - recall: 0.7160 - auc: 0.9733 - val_loss: 0.6317 - val_accuracy: 0.9460 - val_precision: 0.8316 - val_recall: 0.7123 - val_auc: 0.9702\n",
            "Epoch 13/200\n",
            "604/604 [==============================] - 6s 9ms/step - loss: 0.5868 - accuracy: 0.9481 - precision: 0.8359 - recall: 0.7276 - auc: 0.9745 - val_loss: 0.6198 - val_accuracy: 0.9467 - val_precision: 0.8302 - val_recall: 0.7214 - val_auc: 0.9712\n",
            "Epoch 14/200\n",
            "604/604 [==============================] - 6s 10ms/step - loss: 0.5603 - accuracy: 0.9504 - precision: 0.8434 - recall: 0.7404 - auc: 0.9767 - val_loss: 0.5883 - val_accuracy: 0.9473 - val_precision: 0.8329 - val_recall: 0.7235 - val_auc: 0.9743\n",
            "Epoch 15/200\n",
            "604/604 [==============================] - 6s 9ms/step - loss: 0.5472 - accuracy: 0.9517 - precision: 0.8471 - recall: 0.7485 - auc: 0.9778 - val_loss: 0.5770 - val_accuracy: 0.9485 - val_precision: 0.8348 - val_recall: 0.7334 - val_auc: 0.9750\n",
            "Epoch 16/200\n",
            "604/604 [==============================] - 6s 10ms/step - loss: 0.5238 - accuracy: 0.9536 - precision: 0.8516 - recall: 0.7619 - auc: 0.9795 - val_loss: 0.5642 - val_accuracy: 0.9503 - val_precision: 0.8412 - val_recall: 0.7425 - val_auc: 0.9762\n",
            "Epoch 17/200\n",
            "604/604 [==============================] - 6s 10ms/step - loss: 0.5090 - accuracy: 0.9543 - precision: 0.8545 - recall: 0.7651 - auc: 0.9806 - val_loss: 0.5687 - val_accuracy: 0.9487 - val_precision: 0.8276 - val_recall: 0.7449 - val_auc: 0.9756\n",
            "Epoch 18/200\n",
            "604/604 [==============================] - 6s 9ms/step - loss: 0.4944 - accuracy: 0.9559 - precision: 0.8595 - recall: 0.7734 - auc: 0.9816 - val_loss: 0.5317 - val_accuracy: 0.9515 - val_precision: 0.8424 - val_recall: 0.7525 - val_auc: 0.9788\n",
            "Epoch 19/200\n",
            "604/604 [==============================] - 6s 10ms/step - loss: 0.4835 - accuracy: 0.9568 - precision: 0.8610 - recall: 0.7806 - auc: 0.9825 - val_loss: 0.5586 - val_accuracy: 0.9518 - val_precision: 0.8404 - val_recall: 0.7581 - val_auc: 0.9760\n",
            "Epoch 20/200\n",
            "604/604 [==============================] - 6s 10ms/step - loss: 0.4660 - accuracy: 0.9578 - precision: 0.8643 - recall: 0.7857 - auc: 0.9838 - val_loss: 0.5342 - val_accuracy: 0.9533 - val_precision: 0.8483 - val_recall: 0.7625 - val_auc: 0.9783\n",
            "Epoch 21/200\n",
            "604/604 [==============================] - 6s 10ms/step - loss: 0.4548 - accuracy: 0.9591 - precision: 0.8696 - recall: 0.7911 - auc: 0.9843 - val_loss: 0.4975 - val_accuracy: 0.9570 - val_precision: 0.8600 - val_recall: 0.7839 - val_auc: 0.9807\n",
            "Epoch 22/200\n",
            "604/604 [==============================] - 6s 10ms/step - loss: 0.4505 - accuracy: 0.9593 - precision: 0.8693 - recall: 0.7935 - auc: 0.9845 - val_loss: 0.5143 - val_accuracy: 0.9549 - val_precision: 0.8470 - val_recall: 0.7806 - val_auc: 0.9797\n",
            "Epoch 23/200\n",
            "604/604 [==============================] - 6s 10ms/step - loss: 0.4316 - accuracy: 0.9604 - precision: 0.8720 - recall: 0.8012 - auc: 0.9858 - val_loss: 0.5563 - val_accuracy: 0.9526 - val_precision: 0.8393 - val_recall: 0.7674 - val_auc: 0.9758\n",
            "Epoch 24/200\n",
            "604/604 [==============================] - 6s 9ms/step - loss: 0.4182 - accuracy: 0.9618 - precision: 0.8780 - recall: 0.8068 - auc: 0.9867 - val_loss: 0.5313 - val_accuracy: 0.9541 - val_precision: 0.8428 - val_recall: 0.7783 - val_auc: 0.9785\n",
            "Epoch 25/200\n",
            "604/604 [==============================] - 6s 10ms/step - loss: 0.4109 - accuracy: 0.9621 - precision: 0.8763 - recall: 0.8117 - auc: 0.9871 - val_loss: 0.5042 - val_accuracy: 0.9557 - val_precision: 0.8565 - val_recall: 0.7757 - val_auc: 0.9806\n",
            "Epoch 26/200\n",
            "604/604 [==============================] - 6s 10ms/step - loss: 0.4051 - accuracy: 0.9629 - precision: 0.8811 - recall: 0.8132 - auc: 0.9873 - val_loss: 0.4654 - val_accuracy: 0.9602 - val_precision: 0.8636 - val_recall: 0.8097 - val_auc: 0.9827\n",
            "Epoch 27/200\n",
            "604/604 [==============================] - 6s 10ms/step - loss: 0.3947 - accuracy: 0.9636 - precision: 0.8820 - recall: 0.8178 - auc: 0.9880 - val_loss: 0.4879 - val_accuracy: 0.9575 - val_precision: 0.8512 - val_recall: 0.8000 - val_auc: 0.9806\n",
            "Epoch 28/200\n",
            "604/604 [==============================] - 6s 10ms/step - loss: 0.3876 - accuracy: 0.9644 - precision: 0.8840 - recall: 0.8230 - auc: 0.9884 - val_loss: 0.5005 - val_accuracy: 0.9566 - val_precision: 0.8503 - val_recall: 0.7927 - val_auc: 0.9805\n",
            "Epoch 29/200\n",
            "604/604 [==============================] - 6s 10ms/step - loss: 0.3879 - accuracy: 0.9642 - precision: 0.8830 - recall: 0.8227 - auc: 0.9882 - val_loss: 0.4666 - val_accuracy: 0.9596 - val_precision: 0.8634 - val_recall: 0.8044 - val_auc: 0.9825\n",
            "Epoch 30/200\n",
            "604/604 [==============================] - 6s 9ms/step - loss: 0.3697 - accuracy: 0.9659 - precision: 0.8879 - recall: 0.8324 - auc: 0.9893 - val_loss: 0.5140 - val_accuracy: 0.9563 - val_precision: 0.8534 - val_recall: 0.7853 - val_auc: 0.9787\n",
            "Epoch 31/200\n",
            "604/604 [==============================] - 6s 10ms/step - loss: 0.3634 - accuracy: 0.9664 - precision: 0.8909 - recall: 0.8335 - auc: 0.9897 - val_loss: 0.4802 - val_accuracy: 0.9598 - val_precision: 0.8654 - val_recall: 0.8035 - val_auc: 0.9821\n",
            "Epoch 32/200\n",
            "604/604 [==============================] - 6s 10ms/step - loss: 0.3539 - accuracy: 0.9671 - precision: 0.8930 - recall: 0.8366 - auc: 0.9902 - val_loss: 0.5071 - val_accuracy: 0.9608 - val_precision: 0.8680 - val_recall: 0.8097 - val_auc: 0.9791\n",
            "Epoch 33/200\n",
            "604/604 [==============================] - 6s 10ms/step - loss: 0.3465 - accuracy: 0.9680 - precision: 0.8944 - recall: 0.8433 - auc: 0.9904 - val_loss: 0.5026 - val_accuracy: 0.9581 - val_precision: 0.8531 - val_recall: 0.8035 - val_auc: 0.9802\n",
            "Epoch 34/200\n",
            "604/604 [==============================] - 6s 10ms/step - loss: 0.3437 - accuracy: 0.9681 - precision: 0.8958 - recall: 0.8427 - auc: 0.9907 - val_loss: 0.4645 - val_accuracy: 0.9642 - val_precision: 0.8808 - val_recall: 0.8255 - val_auc: 0.9819\n",
            "Epoch 35/200\n",
            "604/604 [==============================] - 6s 9ms/step - loss: 0.3421 - accuracy: 0.9686 - precision: 0.8973 - recall: 0.8458 - auc: 0.9905 - val_loss: 0.4291 - val_accuracy: 0.9636 - val_precision: 0.8750 - val_recall: 0.8270 - val_auc: 0.9846\n",
            "Epoch 36/200\n",
            "604/604 [==============================] - 6s 9ms/step - loss: 0.3287 - accuracy: 0.9693 - precision: 0.8993 - recall: 0.8499 - auc: 0.9912 - val_loss: 0.4844 - val_accuracy: 0.9597 - val_precision: 0.8628 - val_recall: 0.8059 - val_auc: 0.9813\n",
            "Epoch 37/200\n",
            "604/604 [==============================] - 6s 9ms/step - loss: 0.3252 - accuracy: 0.9697 - precision: 0.9004 - recall: 0.8516 - auc: 0.9916 - val_loss: 0.5110 - val_accuracy: 0.9596 - val_precision: 0.8579 - val_recall: 0.8109 - val_auc: 0.9789\n",
            "Epoch 38/200\n",
            "604/604 [==============================] - 6s 9ms/step - loss: 0.3277 - accuracy: 0.9696 - precision: 0.9010 - recall: 0.8501 - auc: 0.9915 - val_loss: 0.4657 - val_accuracy: 0.9623 - val_precision: 0.8738 - val_recall: 0.8161 - val_auc: 0.9815\n",
            "Epoch 39/200\n",
            "604/604 [==============================] - 6s 10ms/step - loss: 0.3163 - accuracy: 0.9713 - precision: 0.9058 - recall: 0.8595 - auc: 0.9920 - val_loss: 0.4545 - val_accuracy: 0.9630 - val_precision: 0.8753 - val_recall: 0.8211 - val_auc: 0.9829\n",
            "Epoch 40/200\n",
            "604/604 [==============================] - 6s 10ms/step - loss: 0.3163 - accuracy: 0.9709 - precision: 0.9025 - recall: 0.8600 - auc: 0.9918 - val_loss: 0.5013 - val_accuracy: 0.9607 - val_precision: 0.8606 - val_recall: 0.8185 - val_auc: 0.9802\n",
            "Epoch 41/200\n",
            "604/604 [==============================] - 6s 9ms/step - loss: 0.3118 - accuracy: 0.9711 - precision: 0.9037 - recall: 0.8605 - auc: 0.9923 - val_loss: 0.4266 - val_accuracy: 0.9655 - val_precision: 0.8850 - val_recall: 0.8326 - val_auc: 0.9850\n",
            "Epoch 42/200\n",
            "604/604 [==============================] - 6s 9ms/step - loss: 0.3070 - accuracy: 0.9717 - precision: 0.9047 - recall: 0.8643 - auc: 0.9925 - val_loss: 0.4607 - val_accuracy: 0.9643 - val_precision: 0.8750 - val_recall: 0.8337 - val_auc: 0.9826\n",
            "Epoch 43/200\n",
            "604/604 [==============================] - 6s 10ms/step - loss: 0.3060 - accuracy: 0.9718 - precision: 0.9057 - recall: 0.8641 - auc: 0.9925 - val_loss: 0.4888 - val_accuracy: 0.9615 - val_precision: 0.8653 - val_recall: 0.8194 - val_auc: 0.9811\n",
            "Epoch 44/200\n",
            "604/604 [==============================] - 6s 10ms/step - loss: 0.3027 - accuracy: 0.9725 - precision: 0.9085 - recall: 0.8673 - auc: 0.9924 - val_loss: 0.4583 - val_accuracy: 0.9624 - val_precision: 0.8679 - val_recall: 0.8243 - val_auc: 0.9826\n",
            "Epoch 45/200\n",
            "604/604 [==============================] - 6s 10ms/step - loss: 0.2913 - accuracy: 0.9734 - precision: 0.9110 - recall: 0.8723 - auc: 0.9933 - val_loss: 0.4626 - val_accuracy: 0.9639 - val_precision: 0.8769 - val_recall: 0.8276 - val_auc: 0.9823\n",
            "Epoch 46/200\n",
            "604/604 [==============================] - 6s 10ms/step - loss: 0.3042 - accuracy: 0.9717 - precision: 0.9044 - recall: 0.8655 - auc: 0.9926 - val_loss: 0.4722 - val_accuracy: 0.9625 - val_precision: 0.8722 - val_recall: 0.8205 - val_auc: 0.9818\n",
            "Epoch 47/200\n",
            "604/604 [==============================] - 6s 10ms/step - loss: 0.2918 - accuracy: 0.9731 - precision: 0.9105 - recall: 0.8707 - auc: 0.9930 - val_loss: 0.4272 - val_accuracy: 0.9685 - val_precision: 0.8899 - val_recall: 0.8537 - val_auc: 0.9834\n",
            "Epoch 48/200\n",
            "604/604 [==============================] - 6s 11ms/step - loss: 0.2802 - accuracy: 0.9742 - precision: 0.9137 - recall: 0.8766 - auc: 0.9937 - val_loss: 0.4577 - val_accuracy: 0.9667 - val_precision: 0.8839 - val_recall: 0.8443 - val_auc: 0.9828\n",
            "Epoch 49/200\n",
            "604/604 [==============================] - 6s 10ms/step - loss: 0.2946 - accuracy: 0.9733 - precision: 0.9102 - recall: 0.8720 - auc: 0.9929 - val_loss: 0.4311 - val_accuracy: 0.9670 - val_precision: 0.8856 - val_recall: 0.8449 - val_auc: 0.9838\n",
            "Epoch 50/200\n",
            "604/604 [==============================] - 6s 10ms/step - loss: 0.2887 - accuracy: 0.9733 - precision: 0.9106 - recall: 0.8721 - auc: 0.9933 - val_loss: 0.5412 - val_accuracy: 0.9570 - val_precision: 0.8430 - val_recall: 0.8062 - val_auc: 0.9768\n",
            "Epoch 51/200\n",
            "604/604 [==============================] - 6s 10ms/step - loss: 0.2846 - accuracy: 0.9740 - precision: 0.9134 - recall: 0.8745 - auc: 0.9934 - val_loss: 0.5023 - val_accuracy: 0.9629 - val_precision: 0.8690 - val_recall: 0.8284 - val_auc: 0.9811\n",
            "Epoch 52/200\n",
            "604/604 [==============================] - 6s 10ms/step - loss: 0.2736 - accuracy: 0.9750 - precision: 0.9161 - recall: 0.8809 - auc: 0.9939 - val_loss: 0.4457 - val_accuracy: 0.9666 - val_precision: 0.8776 - val_recall: 0.8516 - val_auc: 0.9833\n",
            "Epoch 53/200\n",
            "604/604 [==============================] - 6s 10ms/step - loss: 0.2805 - accuracy: 0.9742 - precision: 0.9136 - recall: 0.8769 - auc: 0.9936 - val_loss: 0.4263 - val_accuracy: 0.9663 - val_precision: 0.8819 - val_recall: 0.8431 - val_auc: 0.9845\n",
            "Epoch 54/200\n",
            "604/604 [==============================] - 6s 10ms/step - loss: 0.2764 - accuracy: 0.9746 - precision: 0.9147 - recall: 0.8787 - auc: 0.9937 - val_loss: 0.4464 - val_accuracy: 0.9660 - val_precision: 0.8816 - val_recall: 0.8408 - val_auc: 0.9836\n",
            "Epoch 55/200\n",
            "604/604 [==============================] - 6s 10ms/step - loss: 0.2793 - accuracy: 0.9741 - precision: 0.9127 - recall: 0.8769 - auc: 0.9936 - val_loss: 0.4642 - val_accuracy: 0.9682 - val_precision: 0.8859 - val_recall: 0.8560 - val_auc: 0.9815\n",
            "Epoch 56/200\n",
            "604/604 [==============================] - 6s 10ms/step - loss: 0.2580 - accuracy: 0.9759 - precision: 0.9199 - recall: 0.8839 - auc: 0.9946 - val_loss: 0.4932 - val_accuracy: 0.9640 - val_precision: 0.8697 - val_recall: 0.8378 - val_auc: 0.9810\n",
            "Epoch 57/200\n",
            "604/604 [==============================] - 6s 10ms/step - loss: 0.2732 - accuracy: 0.9749 - precision: 0.9157 - recall: 0.8806 - auc: 0.9938 - val_loss: 0.5172 - val_accuracy: 0.9606 - val_precision: 0.8609 - val_recall: 0.8170 - val_auc: 0.9794\n",
            "Epoch 58/200\n",
            "604/604 [==============================] - 6s 10ms/step - loss: 0.2610 - accuracy: 0.9758 - precision: 0.9196 - recall: 0.8838 - auc: 0.9942 - val_loss: 0.4580 - val_accuracy: 0.9658 - val_precision: 0.8842 - val_recall: 0.8355 - val_auc: 0.9835\n",
            "Epoch 59/200\n",
            "604/604 [==============================] - 6s 10ms/step - loss: 0.2640 - accuracy: 0.9759 - precision: 0.9191 - recall: 0.8854 - auc: 0.9943 - val_loss: 0.4520 - val_accuracy: 0.9687 - val_precision: 0.8896 - val_recall: 0.8557 - val_auc: 0.9828\n",
            "Epoch 60/200\n",
            "604/604 [==============================] - 6s 10ms/step - loss: 0.2654 - accuracy: 0.9756 - precision: 0.9188 - recall: 0.8832 - auc: 0.9942 - val_loss: 0.4675 - val_accuracy: 0.9672 - val_precision: 0.8832 - val_recall: 0.8496 - val_auc: 0.9827\n",
            "Epoch 61/200\n",
            "604/604 [==============================] - 6s 10ms/step - loss: 0.2652 - accuracy: 0.9755 - precision: 0.9179 - recall: 0.8833 - auc: 0.9940 - val_loss: 0.4620 - val_accuracy: 0.9680 - val_precision: 0.8866 - val_recall: 0.8531 - val_auc: 0.9824\n",
            "Epoch 62/200\n",
            "604/604 [==============================] - 6s 10ms/step - loss: 0.2621 - accuracy: 0.9764 - precision: 0.9209 - recall: 0.8873 - auc: 0.9943 - val_loss: 0.4548 - val_accuracy: 0.9678 - val_precision: 0.8864 - val_recall: 0.8513 - val_auc: 0.9828\n",
            "Epoch 63/200\n",
            "604/604 [==============================] - 6s 10ms/step - loss: 0.2547 - accuracy: 0.9768 - precision: 0.9227 - recall: 0.8893 - auc: 0.9946 - val_loss: 0.4342 - val_accuracy: 0.9685 - val_precision: 0.8859 - val_recall: 0.8587 - val_auc: 0.9839\n",
            "Epoch 64/200\n",
            "604/604 [==============================] - 6s 10ms/step - loss: 0.2579 - accuracy: 0.9763 - precision: 0.9207 - recall: 0.8869 - auc: 0.9941 - val_loss: 0.4523 - val_accuracy: 0.9681 - val_precision: 0.8854 - val_recall: 0.8560 - val_auc: 0.9835\n",
            "Epoch 65/200\n",
            "604/604 [==============================] - 11s 18ms/step - loss: 0.2525 - accuracy: 0.9767 - precision: 0.9209 - recall: 0.8897 - auc: 0.9947 - val_loss: 0.4663 - val_accuracy: 0.9671 - val_precision: 0.8848 - val_recall: 0.8472 - val_auc: 0.9829\n",
            "Epoch 66/200\n",
            "604/604 [==============================] - 12s 19ms/step - loss: 0.2476 - accuracy: 0.9776 - precision: 0.9248 - recall: 0.8932 - auc: 0.9946 - val_loss: 0.4476 - val_accuracy: 0.9692 - val_precision: 0.8925 - val_recall: 0.8566 - val_auc: 0.9840\n",
            "Epoch 67/200\n",
            "604/604 [==============================] - 13s 22ms/step - loss: 0.2520 - accuracy: 0.9768 - precision: 0.9209 - recall: 0.8910 - auc: 0.9946 - val_loss: 0.4334 - val_accuracy: 0.9675 - val_precision: 0.8831 - val_recall: 0.8528 - val_auc: 0.9838\n",
            "Epoch 68/200\n",
            "604/604 [==============================] - 18s 30ms/step - loss: 0.2605 - accuracy: 0.9761 - precision: 0.9190 - recall: 0.8869 - auc: 0.9942 - val_loss: 0.4424 - val_accuracy: 0.9691 - val_precision: 0.8874 - val_recall: 0.8625 - val_auc: 0.9833\n",
            "Epoch 69/200\n",
            "604/604 [==============================] - 18s 30ms/step - loss: 0.2432 - accuracy: 0.9772 - precision: 0.9226 - recall: 0.8928 - auc: 0.9951 - val_loss: 0.4368 - val_accuracy: 0.9695 - val_precision: 0.8906 - val_recall: 0.8622 - val_auc: 0.9842\n",
            "Epoch 70/200\n",
            "604/604 [==============================] - 16s 27ms/step - loss: 0.2401 - accuracy: 0.9781 - precision: 0.9252 - recall: 0.8971 - auc: 0.9950 - val_loss: 0.5269 - val_accuracy: 0.9623 - val_precision: 0.8631 - val_recall: 0.8299 - val_auc: 0.9784\n",
            "Epoch 71/200\n",
            "604/604 [==============================] - 16s 27ms/step - loss: 0.2589 - accuracy: 0.9765 - precision: 0.9200 - recall: 0.8895 - auc: 0.9942 - val_loss: 0.4602 - val_accuracy: 0.9675 - val_precision: 0.8815 - val_recall: 0.8551 - val_auc: 0.9831\n",
            "Epoch 72/200\n",
            "604/604 [==============================] - 16s 27ms/step - loss: 0.2434 - accuracy: 0.9776 - precision: 0.9242 - recall: 0.8939 - auc: 0.9950 - val_loss: 0.4413 - val_accuracy: 0.9707 - val_precision: 0.8922 - val_recall: 0.8713 - val_auc: 0.9839\n",
            "Epoch 73/200\n",
            "604/604 [==============================] - 9s 15ms/step - loss: 0.2398 - accuracy: 0.9779 - precision: 0.9254 - recall: 0.8954 - auc: 0.9953 - val_loss: 0.4520 - val_accuracy: 0.9698 - val_precision: 0.8915 - val_recall: 0.8630 - val_auc: 0.9834\n",
            "Epoch 74/200\n",
            "604/604 [==============================] - 6s 10ms/step - loss: 0.2314 - accuracy: 0.9788 - precision: 0.9284 - recall: 0.8995 - auc: 0.9955 - val_loss: 0.4651 - val_accuracy: 0.9670 - val_precision: 0.8848 - val_recall: 0.8466 - val_auc: 0.9832\n",
            "Epoch 75/200\n",
            "604/604 [==============================] - 6s 10ms/step - loss: 0.2530 - accuracy: 0.9767 - precision: 0.9205 - recall: 0.8908 - auc: 0.9944 - val_loss: 0.4527 - val_accuracy: 0.9667 - val_precision: 0.8779 - val_recall: 0.8522 - val_auc: 0.9848\n",
            "Epoch 76/200\n",
            "604/604 [==============================] - 6s 10ms/step - loss: 0.2389 - accuracy: 0.9782 - precision: 0.9260 - recall: 0.8971 - auc: 0.9953 - val_loss: 0.4613 - val_accuracy: 0.9670 - val_precision: 0.8852 - val_recall: 0.8460 - val_auc: 0.9826\n",
            "Epoch 77/200\n",
            "604/604 [==============================] - 6s 10ms/step - loss: 0.2400 - accuracy: 0.9783 - precision: 0.9261 - recall: 0.8979 - auc: 0.9950 - val_loss: 0.4827 - val_accuracy: 0.9661 - val_precision: 0.8773 - val_recall: 0.8472 - val_auc: 0.9821\n",
            "Epoch 78/200\n",
            "604/604 [==============================] - 6s 10ms/step - loss: 0.2271 - accuracy: 0.9790 - precision: 0.9289 - recall: 0.9013 - auc: 0.9957 - val_loss: 0.4731 - val_accuracy: 0.9691 - val_precision: 0.8864 - val_recall: 0.8630 - val_auc: 0.9834\n",
            "Epoch 79/200\n",
            "604/604 [==============================] - 6s 10ms/step - loss: 0.2449 - accuracy: 0.9783 - precision: 0.9261 - recall: 0.8984 - auc: 0.9947 - val_loss: 0.4667 - val_accuracy: 0.9693 - val_precision: 0.8907 - val_recall: 0.8601 - val_auc: 0.9821\n",
            "Epoch 80/200\n",
            "604/604 [==============================] - 6s 10ms/step - loss: 0.2371 - accuracy: 0.9784 - precision: 0.9268 - recall: 0.8982 - auc: 0.9951 - val_loss: 0.4671 - val_accuracy: 0.9674 - val_precision: 0.8805 - val_recall: 0.8557 - val_auc: 0.9825\n",
            "Epoch 81/200\n",
            "604/604 [==============================] - 6s 10ms/step - loss: 0.2497 - accuracy: 0.9774 - precision: 0.9241 - recall: 0.8928 - auc: 0.9946 - val_loss: 0.5146 - val_accuracy: 0.9670 - val_precision: 0.8810 - val_recall: 0.8510 - val_auc: 0.9784\n",
            "Epoch 82/200\n",
            "604/604 [==============================] - 6s 10ms/step - loss: 0.2305 - accuracy: 0.9791 - precision: 0.9288 - recall: 0.9017 - auc: 0.9955 - val_loss: 0.4411 - val_accuracy: 0.9716 - val_precision: 0.8982 - val_recall: 0.8718 - val_auc: 0.9845\n",
            "Epoch 83/200\n",
            "604/604 [==============================] - 6s 10ms/step - loss: 0.2349 - accuracy: 0.9783 - precision: 0.9259 - recall: 0.8981 - auc: 0.9953 - val_loss: 0.4506 - val_accuracy: 0.9709 - val_precision: 0.8952 - val_recall: 0.8692 - val_auc: 0.9823\n",
            "Epoch 84/200\n",
            "604/604 [==============================] - 6s 10ms/step - loss: 0.2273 - accuracy: 0.9789 - precision: 0.9282 - recall: 0.9010 - auc: 0.9956 - val_loss: 0.4446 - val_accuracy: 0.9682 - val_precision: 0.8833 - val_recall: 0.8592 - val_auc: 0.9854\n",
            "Epoch 85/200\n",
            "604/604 [==============================] - 6s 11ms/step - loss: 0.2256 - accuracy: 0.9793 - precision: 0.9293 - recall: 0.9030 - auc: 0.9956 - val_loss: 0.4720 - val_accuracy: 0.9687 - val_precision: 0.8870 - val_recall: 0.8589 - val_auc: 0.9824\n",
            "Epoch 86/200\n",
            "604/604 [==============================] - 6s 10ms/step - loss: 0.2270 - accuracy: 0.9790 - precision: 0.9272 - recall: 0.9028 - auc: 0.9954 - val_loss: 0.4712 - val_accuracy: 0.9683 - val_precision: 0.8874 - val_recall: 0.8548 - val_auc: 0.9828\n",
            "Epoch 87/200\n",
            "604/604 [==============================] - 6s 10ms/step - loss: 0.2306 - accuracy: 0.9791 - precision: 0.9288 - recall: 0.9018 - auc: 0.9953 - val_loss: 0.4699 - val_accuracy: 0.9699 - val_precision: 0.8924 - val_recall: 0.8636 - val_auc: 0.9824\n",
            "Epoch 88/200\n",
            "604/604 [==============================] - 6s 10ms/step - loss: 0.2329 - accuracy: 0.9791 - precision: 0.9290 - recall: 0.9013 - auc: 0.9954 - val_loss: 0.5091 - val_accuracy: 0.9660 - val_precision: 0.8809 - val_recall: 0.8416 - val_auc: 0.9809\n",
            "Epoch 89/200\n",
            "604/604 [==============================] - 6s 11ms/step - loss: 0.2281 - accuracy: 0.9795 - precision: 0.9312 - recall: 0.9029 - auc: 0.9955 - val_loss: 0.4556 - val_accuracy: 0.9723 - val_precision: 0.8992 - val_recall: 0.8768 - val_auc: 0.9827\n",
            "Epoch 90/200\n",
            "604/604 [==============================] - 6s 10ms/step - loss: 0.2202 - accuracy: 0.9801 - precision: 0.9319 - recall: 0.9070 - auc: 0.9959 - val_loss: 0.4877 - val_accuracy: 0.9669 - val_precision: 0.8802 - val_recall: 0.8510 - val_auc: 0.9821\n",
            "Epoch 91/200\n",
            "604/604 [==============================] - 6s 10ms/step - loss: 0.2284 - accuracy: 0.9790 - precision: 0.9280 - recall: 0.9022 - auc: 0.9954 - val_loss: 0.4823 - val_accuracy: 0.9696 - val_precision: 0.8895 - val_recall: 0.8639 - val_auc: 0.9821\n",
            "Epoch 92/200\n",
            "604/604 [==============================] - 6s 10ms/step - loss: 0.2201 - accuracy: 0.9799 - precision: 0.9327 - recall: 0.9049 - auc: 0.9958 - val_loss: 0.4675 - val_accuracy: 0.9709 - val_precision: 0.8956 - val_recall: 0.8680 - val_auc: 0.9841\n",
            "Epoch 93/200\n",
            "604/604 [==============================] - 6s 10ms/step - loss: 0.2143 - accuracy: 0.9802 - precision: 0.9324 - recall: 0.9070 - auc: 0.9960 - val_loss: 0.4976 - val_accuracy: 0.9671 - val_precision: 0.8779 - val_recall: 0.8560 - val_auc: 0.9825\n",
            "Epoch 94/200\n",
            "604/604 [==============================] - 6s 10ms/step - loss: 0.2382 - accuracy: 0.9785 - precision: 0.9259 - recall: 0.8997 - auc: 0.9949 - val_loss: 0.4831 - val_accuracy: 0.9693 - val_precision: 0.8871 - val_recall: 0.8642 - val_auc: 0.9827\n",
            "Epoch 95/200\n",
            "604/604 [==============================] - 6s 10ms/step - loss: 0.2140 - accuracy: 0.9806 - precision: 0.9344 - recall: 0.9084 - auc: 0.9959 - val_loss: 0.4784 - val_accuracy: 0.9690 - val_precision: 0.8925 - val_recall: 0.8548 - val_auc: 0.9822\n",
            "Epoch 96/200\n",
            "604/604 [==============================] - 6s 10ms/step - loss: 0.2116 - accuracy: 0.9803 - precision: 0.9328 - recall: 0.9074 - auc: 0.9961 - val_loss: 0.4874 - val_accuracy: 0.9703 - val_precision: 0.8918 - val_recall: 0.8677 - val_auc: 0.9823\n",
            "Epoch 97/200\n",
            "604/604 [==============================] - 11s 19ms/step - loss: 0.2311 - accuracy: 0.9790 - precision: 0.9287 - recall: 0.9013 - auc: 0.9953 - val_loss: 0.4522 - val_accuracy: 0.9719 - val_precision: 0.8987 - val_recall: 0.8739 - val_auc: 0.9838\n",
            "Epoch 98/200\n",
            "604/604 [==============================] - 12s 20ms/step - loss: 0.2098 - accuracy: 0.9807 - precision: 0.9332 - recall: 0.9106 - auc: 0.9960 - val_loss: 0.5126 - val_accuracy: 0.9680 - val_precision: 0.8840 - val_recall: 0.8563 - val_auc: 0.9809\n",
            "Epoch 99/200\n",
            "604/604 [==============================] - 13s 21ms/step - loss: 0.2169 - accuracy: 0.9798 - precision: 0.9299 - recall: 0.9064 - auc: 0.9958 - val_loss: 0.4599 - val_accuracy: 0.9707 - val_precision: 0.8943 - val_recall: 0.8683 - val_auc: 0.9839\n",
            "Epoch 100/200\n",
            "604/604 [==============================] - 13s 22ms/step - loss: 0.2309 - accuracy: 0.9795 - precision: 0.9307 - recall: 0.9037 - auc: 0.9953 - val_loss: 0.5275 - val_accuracy: 0.9647 - val_precision: 0.8714 - val_recall: 0.8422 - val_auc: 0.9798\n",
            "Epoch 101/200\n",
            "604/604 [==============================] - 14s 23ms/step - loss: 0.2081 - accuracy: 0.9809 - precision: 0.9359 - recall: 0.9098 - auc: 0.9963 - val_loss: 0.4878 - val_accuracy: 0.9708 - val_precision: 0.8937 - val_recall: 0.8701 - val_auc: 0.9840\n",
            "Epoch 102/200\n",
            "604/604 [==============================] - 14s 23ms/step - loss: 0.2185 - accuracy: 0.9806 - precision: 0.9344 - recall: 0.9085 - auc: 0.9958 - val_loss: 0.4542 - val_accuracy: 0.9713 - val_precision: 0.8970 - val_recall: 0.8707 - val_auc: 0.9846\n",
            "Epoch 103/200\n",
            "604/604 [==============================] - 16s 27ms/step - loss: 0.2100 - accuracy: 0.9807 - precision: 0.9343 - recall: 0.9093 - auc: 0.9962 - val_loss: 0.4531 - val_accuracy: 0.9708 - val_precision: 0.8951 - val_recall: 0.8680 - val_auc: 0.9837\n",
            "Epoch 104/200\n",
            "604/604 [==============================] - 16s 26ms/step - loss: 0.2250 - accuracy: 0.9795 - precision: 0.9298 - recall: 0.9040 - auc: 0.9956 - val_loss: 0.4580 - val_accuracy: 0.9728 - val_precision: 0.9011 - val_recall: 0.8792 - val_auc: 0.9842\n",
            "Epoch 105/200\n",
            "604/604 [==============================] - 15s 24ms/step - loss: 0.2179 - accuracy: 0.9804 - precision: 0.9333 - recall: 0.9081 - auc: 0.9957 - val_loss: 0.4376 - val_accuracy: 0.9702 - val_precision: 0.8924 - val_recall: 0.8660 - val_auc: 0.9855\n",
            "Epoch 106/200\n",
            "604/604 [==============================] - 13s 21ms/step - loss: 0.2051 - accuracy: 0.9811 - precision: 0.9363 - recall: 0.9111 - auc: 0.9964 - val_loss: 0.4864 - val_accuracy: 0.9687 - val_precision: 0.8863 - val_recall: 0.8598 - val_auc: 0.9826\n",
            "Epoch 107/200\n",
            "604/604 [==============================] - 13s 21ms/step - loss: 0.2199 - accuracy: 0.9798 - precision: 0.9312 - recall: 0.9051 - auc: 0.9958 - val_loss: 0.4888 - val_accuracy: 0.9707 - val_precision: 0.8946 - val_recall: 0.8683 - val_auc: 0.9816\n",
            "Epoch 108/200\n",
            "604/604 [==============================] - 9s 15ms/step - loss: 0.2198 - accuracy: 0.9799 - precision: 0.9316 - recall: 0.9056 - auc: 0.9956 - val_loss: 0.4546 - val_accuracy: 0.9705 - val_precision: 0.8948 - val_recall: 0.8654 - val_auc: 0.9836\n",
            "Epoch 109/200\n",
            "604/604 [==============================] - 8s 14ms/step - loss: 0.2053 - accuracy: 0.9812 - precision: 0.9358 - recall: 0.9121 - auc: 0.9964 - val_loss: 0.4764 - val_accuracy: 0.9721 - val_precision: 0.8993 - val_recall: 0.8748 - val_auc: 0.9839\n",
            "Epoch 110/200\n",
            "604/604 [==============================] - 7s 12ms/step - loss: 0.2147 - accuracy: 0.9804 - precision: 0.9325 - recall: 0.9088 - auc: 0.9958 - val_loss: 0.5001 - val_accuracy: 0.9694 - val_precision: 0.8895 - val_recall: 0.8619 - val_auc: 0.9819\n",
            "Epoch 111/200\n",
            "604/604 [==============================] - 6s 10ms/step - loss: 0.2057 - accuracy: 0.9814 - precision: 0.9372 - recall: 0.9122 - auc: 0.9964 - val_loss: 0.4946 - val_accuracy: 0.9720 - val_precision: 0.8977 - val_recall: 0.8754 - val_auc: 0.9823\n",
            "Epoch 112/200\n",
            "604/604 [==============================] - 6s 10ms/step - loss: 0.2075 - accuracy: 0.9809 - precision: 0.9345 - recall: 0.9110 - auc: 0.9962 - val_loss: 0.4857 - val_accuracy: 0.9713 - val_precision: 0.8965 - val_recall: 0.8713 - val_auc: 0.9832\n",
            "Epoch 113/200\n",
            "604/604 [==============================] - 6s 10ms/step - loss: 0.2159 - accuracy: 0.9802 - precision: 0.9333 - recall: 0.9066 - auc: 0.9957 - val_loss: 0.4711 - val_accuracy: 0.9722 - val_precision: 0.9004 - val_recall: 0.8745 - val_auc: 0.9843\n",
            "Epoch 114/200\n",
            "604/604 [==============================] - 6s 11ms/step - loss: 0.2075 - accuracy: 0.9808 - precision: 0.9342 - recall: 0.9104 - auc: 0.9962 - val_loss: 0.4960 - val_accuracy: 0.9711 - val_precision: 0.8963 - val_recall: 0.8695 - val_auc: 0.9816\n",
            "Epoch 115/200\n",
            "604/604 [==============================] - 6s 10ms/step - loss: 0.2171 - accuracy: 0.9810 - precision: 0.9348 - recall: 0.9117 - auc: 0.9957 - val_loss: 0.4911 - val_accuracy: 0.9718 - val_precision: 0.8971 - val_recall: 0.8748 - val_auc: 0.9839\n",
            "Epoch 116/200\n",
            "604/604 [==============================] - 9s 14ms/step - loss: 0.2128 - accuracy: 0.9807 - precision: 0.9333 - recall: 0.9103 - auc: 0.9959 - val_loss: 0.4961 - val_accuracy: 0.9700 - val_precision: 0.8901 - val_recall: 0.8669 - val_auc: 0.9809\n",
            "Epoch 117/200\n",
            "604/604 [==============================] - 8s 14ms/step - loss: 0.2054 - accuracy: 0.9810 - precision: 0.9352 - recall: 0.9111 - auc: 0.9961 - val_loss: 0.5113 - val_accuracy: 0.9716 - val_precision: 0.8962 - val_recall: 0.8739 - val_auc: 0.9811\n",
            "Epoch 118/200\n",
            "604/604 [==============================] - 13s 22ms/step - loss: 0.2130 - accuracy: 0.9804 - precision: 0.9338 - recall: 0.9078 - auc: 0.9958 - val_loss: 0.4746 - val_accuracy: 0.9727 - val_precision: 0.8995 - val_recall: 0.8795 - val_auc: 0.9841\n",
            "Epoch 119/200\n",
            "604/604 [==============================] - 13s 22ms/step - loss: 0.1989 - accuracy: 0.9820 - precision: 0.9394 - recall: 0.9152 - auc: 0.9964 - val_loss: 0.5228 - val_accuracy: 0.9716 - val_precision: 0.8953 - val_recall: 0.8754 - val_auc: 0.9817\n",
            "Epoch 120/200\n",
            "604/604 [==============================] - 15s 25ms/step - loss: 0.2112 - accuracy: 0.9810 - precision: 0.9356 - recall: 0.9104 - auc: 0.9960 - val_loss: 0.4453 - val_accuracy: 0.9733 - val_precision: 0.9039 - val_recall: 0.8798 - val_auc: 0.9854\n",
            "Epoch 121/200\n",
            "604/604 [==============================] - 14s 23ms/step - loss: 0.2071 - accuracy: 0.9815 - precision: 0.9368 - recall: 0.9135 - auc: 0.9961 - val_loss: 0.5505 - val_accuracy: 0.9665 - val_precision: 0.8778 - val_recall: 0.8507 - val_auc: 0.9812\n",
            "Epoch 122/200\n",
            "604/604 [==============================] - 15s 25ms/step - loss: 0.2155 - accuracy: 0.9812 - precision: 0.9367 - recall: 0.9109 - auc: 0.9959 - val_loss: 0.5074 - val_accuracy: 0.9677 - val_precision: 0.8819 - val_recall: 0.8563 - val_auc: 0.9802\n",
            "Epoch 123/200\n",
            "604/604 [==============================] - 15s 25ms/step - loss: 0.2095 - accuracy: 0.9810 - precision: 0.9358 - recall: 0.9104 - auc: 0.9959 - val_loss: 0.4912 - val_accuracy: 0.9711 - val_precision: 0.8923 - val_recall: 0.8745 - val_auc: 0.9830\n",
            "Epoch 124/200\n",
            "604/604 [==============================] - 16s 26ms/step - loss: 0.2080 - accuracy: 0.9808 - precision: 0.9338 - recall: 0.9113 - auc: 0.9962 - val_loss: 0.5234 - val_accuracy: 0.9697 - val_precision: 0.8891 - val_recall: 0.8654 - val_auc: 0.9815\n",
            "Epoch 125/200\n",
            "604/604 [==============================] - 16s 27ms/step - loss: 0.2048 - accuracy: 0.9819 - precision: 0.9375 - recall: 0.9159 - auc: 0.9961 - val_loss: 0.5274 - val_accuracy: 0.9726 - val_precision: 0.9005 - val_recall: 0.8780 - val_auc: 0.9823\n",
            "Epoch 126/200\n",
            "604/604 [==============================] - 16s 26ms/step - loss: 0.2124 - accuracy: 0.9805 - precision: 0.9333 - recall: 0.9092 - auc: 0.9960 - val_loss: 0.4804 - val_accuracy: 0.9723 - val_precision: 0.9004 - val_recall: 0.8751 - val_auc: 0.9832\n",
            "Epoch 127/200\n",
            "604/604 [==============================] - 16s 27ms/step - loss: 0.1922 - accuracy: 0.9821 - precision: 0.9392 - recall: 0.9161 - auc: 0.9968 - val_loss: 0.5213 - val_accuracy: 0.9702 - val_precision: 0.8926 - val_recall: 0.8654 - val_auc: 0.9831\n",
            "Epoch 128/200\n",
            "604/604 [==============================] - 17s 29ms/step - loss: 0.2012 - accuracy: 0.9814 - precision: 0.9367 - recall: 0.9130 - auc: 0.9963 - val_loss: 0.5192 - val_accuracy: 0.9727 - val_precision: 0.9003 - val_recall: 0.8789 - val_auc: 0.9827\n",
            "Epoch 129/200\n",
            "604/604 [==============================] - 16s 27ms/step - loss: 0.2136 - accuracy: 0.9806 - precision: 0.9336 - recall: 0.9092 - auc: 0.9960 - val_loss: 0.5144 - val_accuracy: 0.9715 - val_precision: 0.8952 - val_recall: 0.8742 - val_auc: 0.9826\n",
            "Epoch 130/200\n",
            "604/604 [==============================] - 16s 27ms/step - loss: 0.2091 - accuracy: 0.9814 - precision: 0.9364 - recall: 0.9135 - auc: 0.9959 - val_loss: 0.5009 - val_accuracy: 0.9711 - val_precision: 0.8956 - val_recall: 0.8701 - val_auc: 0.9829\n",
            "Epoch 131/200\n",
            "604/604 [==============================] - 15s 25ms/step - loss: 0.2045 - accuracy: 0.9816 - precision: 0.9377 - recall: 0.9132 - auc: 0.9963 - val_loss: 0.5034 - val_accuracy: 0.9724 - val_precision: 0.8969 - val_recall: 0.8804 - val_auc: 0.9820\n",
            "Epoch 132/200\n",
            "604/604 [==============================] - 16s 27ms/step - loss: 0.1929 - accuracy: 0.9822 - precision: 0.9396 - recall: 0.9168 - auc: 0.9967 - val_loss: 0.5267 - val_accuracy: 0.9701 - val_precision: 0.8912 - val_recall: 0.8669 - val_auc: 0.9807\n",
            "Epoch 133/200\n",
            "604/604 [==============================] - 17s 27ms/step - loss: 0.1917 - accuracy: 0.9824 - precision: 0.9408 - recall: 0.9167 - auc: 0.9967 - val_loss: 0.4817 - val_accuracy: 0.9744 - val_precision: 0.9069 - val_recall: 0.8859 - val_auc: 0.9851\n",
            "Epoch 134/200\n",
            "604/604 [==============================] - 14s 23ms/step - loss: 0.2093 - accuracy: 0.9811 - precision: 0.9357 - recall: 0.9112 - auc: 0.9961 - val_loss: 0.5142 - val_accuracy: 0.9718 - val_precision: 0.8957 - val_recall: 0.8762 - val_auc: 0.9832\n",
            "Epoch 135/200\n",
            "604/604 [==============================] - 14s 24ms/step - loss: 0.1992 - accuracy: 0.9819 - precision: 0.9387 - recall: 0.9153 - auc: 0.9967 - val_loss: 0.5420 - val_accuracy: 0.9734 - val_precision: 0.9040 - val_recall: 0.8806 - val_auc: 0.9810\n",
            "Epoch 136/200\n",
            "604/604 [==============================] - 14s 23ms/step - loss: 0.2045 - accuracy: 0.9813 - precision: 0.9361 - recall: 0.9125 - auc: 0.9961 - val_loss: 0.5831 - val_accuracy: 0.9715 - val_precision: 0.8955 - val_recall: 0.8742 - val_auc: 0.9809\n",
            "Epoch 137/200\n",
            "604/604 [==============================] - 15s 25ms/step - loss: 0.2087 - accuracy: 0.9818 - precision: 0.9380 - recall: 0.9153 - auc: 0.9963 - val_loss: 0.5107 - val_accuracy: 0.9742 - val_precision: 0.9060 - val_recall: 0.8850 - val_auc: 0.9835\n",
            "Epoch 138/200\n",
            "604/604 [==============================] - 15s 25ms/step - loss: 0.1895 - accuracy: 0.9823 - precision: 0.9411 - recall: 0.9159 - auc: 0.9969 - val_loss: 0.4851 - val_accuracy: 0.9729 - val_precision: 0.9024 - val_recall: 0.8786 - val_auc: 0.9840\n",
            "Epoch 139/200\n",
            "604/604 [==============================] - 16s 27ms/step - loss: 0.1980 - accuracy: 0.9820 - precision: 0.9386 - recall: 0.9160 - auc: 0.9967 - val_loss: 0.5608 - val_accuracy: 0.9726 - val_precision: 0.8990 - val_recall: 0.8798 - val_auc: 0.9815\n",
            "Epoch 140/200\n",
            "604/604 [==============================] - 17s 28ms/step - loss: 0.1887 - accuracy: 0.9826 - precision: 0.9407 - recall: 0.9188 - auc: 0.9967 - val_loss: 0.5221 - val_accuracy: 0.9721 - val_precision: 0.8986 - val_recall: 0.8757 - val_auc: 0.9830\n",
            "Epoch 141/200\n",
            "604/604 [==============================] - 16s 27ms/step - loss: 0.2112 - accuracy: 0.9812 - precision: 0.9359 - recall: 0.9124 - auc: 0.9960 - val_loss: 0.4943 - val_accuracy: 0.9723 - val_precision: 0.9004 - val_recall: 0.8748 - val_auc: 0.9826\n",
            "Epoch 142/200\n",
            "604/604 [==============================] - 14s 24ms/step - loss: 0.1911 - accuracy: 0.9825 - precision: 0.9411 - recall: 0.9172 - auc: 0.9967 - val_loss: 0.5832 - val_accuracy: 0.9732 - val_precision: 0.9014 - val_recall: 0.8821 - val_auc: 0.9818\n",
            "Epoch 143/200\n",
            "604/604 [==============================] - 14s 24ms/step - loss: 0.2020 - accuracy: 0.9817 - precision: 0.9385 - recall: 0.9137 - auc: 0.9963 - val_loss: 0.5635 - val_accuracy: 0.9695 - val_precision: 0.8873 - val_recall: 0.8657 - val_auc: 0.9809\n",
            "Epoch 144/200\n",
            "604/604 [==============================] - 14s 23ms/step - loss: 0.1942 - accuracy: 0.9823 - precision: 0.9406 - recall: 0.9159 - auc: 0.9966 - val_loss: 0.5537 - val_accuracy: 0.9711 - val_precision: 0.8968 - val_recall: 0.8689 - val_auc: 0.9815\n",
            "Epoch 145/200\n",
            "604/604 [==============================] - 14s 23ms/step - loss: 0.1970 - accuracy: 0.9820 - precision: 0.9390 - recall: 0.9154 - auc: 0.9965 - val_loss: 0.5028 - val_accuracy: 0.9720 - val_precision: 0.9014 - val_recall: 0.8716 - val_auc: 0.9827\n",
            "Epoch 146/200\n",
            "604/604 [==============================] - 15s 25ms/step - loss: 0.1994 - accuracy: 0.9822 - precision: 0.9394 - recall: 0.9167 - auc: 0.9961 - val_loss: 0.5238 - val_accuracy: 0.9712 - val_precision: 0.8947 - val_recall: 0.8721 - val_auc: 0.9815\n",
            "Epoch 147/200\n",
            "604/604 [==============================] - 20s 33ms/step - loss: 0.1909 - accuracy: 0.9828 - precision: 0.9418 - recall: 0.9193 - auc: 0.9967 - val_loss: 0.4715 - val_accuracy: 0.9721 - val_precision: 0.8981 - val_recall: 0.8762 - val_auc: 0.9834\n",
            "Epoch 148/200\n",
            "604/604 [==============================] - 23s 39ms/step - loss: 0.1982 - accuracy: 0.9818 - precision: 0.9376 - recall: 0.9153 - auc: 0.9963 - val_loss: 0.4809 - val_accuracy: 0.9722 - val_precision: 0.8986 - val_recall: 0.8762 - val_auc: 0.9840\n",
            "Epoch 149/200\n",
            "604/604 [==============================] - 25s 41ms/step - loss: 0.1935 - accuracy: 0.9825 - precision: 0.9417 - recall: 0.9163 - auc: 0.9964 - val_loss: 0.4783 - val_accuracy: 0.9739 - val_precision: 0.9031 - val_recall: 0.8859 - val_auc: 0.9822\n",
            "Epoch 150/200\n",
            "604/604 [==============================] - 25s 42ms/step - loss: 0.1921 - accuracy: 0.9827 - precision: 0.9411 - recall: 0.9193 - auc: 0.9966 - val_loss: 0.4920 - val_accuracy: 0.9725 - val_precision: 0.8982 - val_recall: 0.8801 - val_auc: 0.9838\n",
            "Epoch 151/200\n",
            "604/604 [==============================] - 19s 31ms/step - loss: 0.2114 - accuracy: 0.9812 - precision: 0.9374 - recall: 0.9109 - auc: 0.9958 - val_loss: 0.4945 - val_accuracy: 0.9732 - val_precision: 0.9019 - val_recall: 0.8815 - val_auc: 0.9830\n",
            "Epoch 152/200\n",
            "604/604 [==============================] - 21s 34ms/step - loss: 0.1978 - accuracy: 0.9824 - precision: 0.9399 - recall: 0.9176 - auc: 0.9963 - val_loss: 0.4546 - val_accuracy: 0.9758 - val_precision: 0.9114 - val_recall: 0.8930 - val_auc: 0.9836\n",
            "Epoch 153/200\n",
            "604/604 [==============================] - 18s 30ms/step - loss: 0.1840 - accuracy: 0.9830 - precision: 0.9415 - recall: 0.9212 - auc: 0.9968 - val_loss: 0.5559 - val_accuracy: 0.9687 - val_precision: 0.8856 - val_recall: 0.8607 - val_auc: 0.9814\n",
            "Epoch 154/200\n",
            "604/604 [==============================] - 18s 31ms/step - loss: 0.1935 - accuracy: 0.9824 - precision: 0.9398 - recall: 0.9177 - auc: 0.9967 - val_loss: 0.5386 - val_accuracy: 0.9733 - val_precision: 0.9049 - val_recall: 0.8789 - val_auc: 0.9820\n",
            "Epoch 155/200\n",
            "604/604 [==============================] - 18s 30ms/step - loss: 0.1882 - accuracy: 0.9830 - precision: 0.9420 - recall: 0.9203 - auc: 0.9967 - val_loss: 0.5284 - val_accuracy: 0.9723 - val_precision: 0.8966 - val_recall: 0.8798 - val_auc: 0.9826\n",
            "Epoch 156/200\n",
            "604/604 [==============================] - 17s 29ms/step - loss: 0.1768 - accuracy: 0.9838 - precision: 0.9461 - recall: 0.9233 - auc: 0.9972 - val_loss: 0.5953 - val_accuracy: 0.9715 - val_precision: 0.8961 - val_recall: 0.8730 - val_auc: 0.9787\n",
            "Epoch 157/200\n",
            "604/604 [==============================] - 16s 27ms/step - loss: 0.1965 - accuracy: 0.9825 - precision: 0.9409 - recall: 0.9176 - auc: 0.9963 - val_loss: 0.4940 - val_accuracy: 0.9710 - val_precision: 0.8940 - val_recall: 0.8710 - val_auc: 0.9840\n",
            "Epoch 158/200\n",
            "604/604 [==============================] - 15s 25ms/step - loss: 0.1978 - accuracy: 0.9823 - precision: 0.9404 - recall: 0.9162 - auc: 0.9966 - val_loss: 0.5571 - val_accuracy: 0.9717 - val_precision: 0.8966 - val_recall: 0.8748 - val_auc: 0.9805\n",
            "Epoch 159/200\n",
            "604/604 [==============================] - 14s 23ms/step - loss: 0.1994 - accuracy: 0.9823 - precision: 0.9400 - recall: 0.9171 - auc: 0.9963 - val_loss: 0.5153 - val_accuracy: 0.9725 - val_precision: 0.8994 - val_recall: 0.8786 - val_auc: 0.9826\n",
            "Epoch 160/200\n",
            "604/604 [==============================] - 14s 23ms/step - loss: 0.1867 - accuracy: 0.9830 - precision: 0.9415 - recall: 0.9210 - auc: 0.9968 - val_loss: 0.6135 - val_accuracy: 0.9692 - val_precision: 0.8875 - val_recall: 0.8633 - val_auc: 0.9789\n",
            "Epoch 161/200\n",
            "604/604 [==============================] - 15s 24ms/step - loss: 0.1794 - accuracy: 0.9835 - precision: 0.9441 - recall: 0.9226 - auc: 0.9969 - val_loss: 0.5497 - val_accuracy: 0.9723 - val_precision: 0.8973 - val_recall: 0.8792 - val_auc: 0.9818\n",
            "Epoch 162/200\n",
            "604/604 [==============================] - 14s 24ms/step - loss: 0.1987 - accuracy: 0.9823 - precision: 0.9403 - recall: 0.9170 - auc: 0.9963 - val_loss: 0.5322 - val_accuracy: 0.9725 - val_precision: 0.9001 - val_recall: 0.8771 - val_auc: 0.9821\n",
            "Epoch 163/200\n",
            "604/604 [==============================] - 15s 24ms/step - loss: 0.1953 - accuracy: 0.9827 - precision: 0.9409 - recall: 0.9194 - auc: 0.9963 - val_loss: 0.5988 - val_accuracy: 0.9716 - val_precision: 0.8979 - val_recall: 0.8721 - val_auc: 0.9807\n",
            "Epoch 164/200\n",
            "604/604 [==============================] - 14s 24ms/step - loss: 0.1980 - accuracy: 0.9823 - precision: 0.9398 - recall: 0.9171 - auc: 0.9963 - val_loss: 0.5120 - val_accuracy: 0.9728 - val_precision: 0.9023 - val_recall: 0.8777 - val_auc: 0.9827\n",
            "Epoch 165/200\n",
            "604/604 [==============================] - 16s 26ms/step - loss: 0.1776 - accuracy: 0.9837 - precision: 0.9447 - recall: 0.9240 - auc: 0.9972 - val_loss: 0.5245 - val_accuracy: 0.9724 - val_precision: 0.8993 - val_recall: 0.8771 - val_auc: 0.9820\n",
            "Epoch 166/200\n",
            "604/604 [==============================] - 16s 26ms/step - loss: 0.1885 - accuracy: 0.9833 - precision: 0.9433 - recall: 0.9221 - auc: 0.9964 - val_loss: 0.5585 - val_accuracy: 0.9690 - val_precision: 0.8829 - val_recall: 0.8666 - val_auc: 0.9814\n",
            "Epoch 167/200\n",
            "604/604 [==============================] - 13s 22ms/step - loss: 0.1938 - accuracy: 0.9825 - precision: 0.9396 - recall: 0.9190 - auc: 0.9965 - val_loss: 0.5490 - val_accuracy: 0.9735 - val_precision: 0.9036 - val_recall: 0.8821 - val_auc: 0.9838\n",
            "Epoch 168/200\n",
            "604/604 [==============================] - 13s 21ms/step - loss: 0.1985 - accuracy: 0.9822 - precision: 0.9396 - recall: 0.9166 - auc: 0.9963 - val_loss: 0.5844 - val_accuracy: 0.9707 - val_precision: 0.8905 - val_recall: 0.8727 - val_auc: 0.9816\n",
            "Epoch 169/200\n",
            "604/604 [==============================] - 18s 29ms/step - loss: 0.1872 - accuracy: 0.9828 - precision: 0.9409 - recall: 0.9204 - auc: 0.9967 - val_loss: 0.5636 - val_accuracy: 0.9740 - val_precision: 0.9033 - val_recall: 0.8874 - val_auc: 0.9831\n",
            "Epoch 170/200\n",
            "604/604 [==============================] - 17s 27ms/step - loss: 0.1686 - accuracy: 0.9845 - precision: 0.9475 - recall: 0.9271 - auc: 0.9975 - val_loss: 0.6402 - val_accuracy: 0.9710 - val_precision: 0.8939 - val_recall: 0.8718 - val_auc: 0.9811\n",
            "Epoch 171/200\n",
            "604/604 [==============================] - 18s 29ms/step - loss: 0.2125 - accuracy: 0.9822 - precision: 0.9392 - recall: 0.9166 - auc: 0.9962 - val_loss: 0.5938 - val_accuracy: 0.9687 - val_precision: 0.8856 - val_recall: 0.8607 - val_auc: 0.9782\n",
            "Epoch 172/200\n",
            "604/604 [==============================] - 18s 30ms/step - loss: 0.1972 - accuracy: 0.9825 - precision: 0.9408 - recall: 0.9178 - auc: 0.9968 - val_loss: 0.5358 - val_accuracy: 0.9738 - val_precision: 0.9070 - val_recall: 0.8809 - val_auc: 0.9836\n",
            "Epoch 173/200\n",
            "604/604 [==============================] - 18s 29ms/step - loss: 0.1828 - accuracy: 0.9834 - precision: 0.9437 - recall: 0.9219 - auc: 0.9968 - val_loss: 0.5359 - val_accuracy: 0.9732 - val_precision: 0.8993 - val_recall: 0.8850 - val_auc: 0.9809\n",
            "Epoch 174/200\n",
            "604/604 [==============================] - 17s 28ms/step - loss: 0.1975 - accuracy: 0.9825 - precision: 0.9404 - recall: 0.9186 - auc: 0.9962 - val_loss: 0.5074 - val_accuracy: 0.9727 - val_precision: 0.8972 - val_recall: 0.8830 - val_auc: 0.9834\n",
            "Epoch 175/200\n",
            "604/604 [==============================] - 17s 29ms/step - loss: 0.1802 - accuracy: 0.9835 - precision: 0.9435 - recall: 0.9233 - auc: 0.9968 - val_loss: 0.4965 - val_accuracy: 0.9718 - val_precision: 0.8974 - val_recall: 0.8742 - val_auc: 0.9826\n",
            "Epoch 176/200\n",
            "604/604 [==============================] - 19s 31ms/step - loss: 0.1906 - accuracy: 0.9828 - precision: 0.9412 - recall: 0.9197 - auc: 0.9966 - val_loss: 0.5090 - val_accuracy: 0.9736 - val_precision: 0.9008 - val_recall: 0.8868 - val_auc: 0.9847\n",
            "Epoch 177/200\n",
            "604/604 [==============================] - 17s 28ms/step - loss: 0.1923 - accuracy: 0.9834 - precision: 0.9433 - recall: 0.9229 - auc: 0.9966 - val_loss: 0.4949 - val_accuracy: 0.9743 - val_precision: 0.9061 - val_recall: 0.8859 - val_auc: 0.9832\n",
            "Epoch 178/200\n",
            "604/604 [==============================] - 15s 25ms/step - loss: 0.1946 - accuracy: 0.9828 - precision: 0.9406 - recall: 0.9206 - auc: 0.9963 - val_loss: 0.5064 - val_accuracy: 0.9710 - val_precision: 0.8929 - val_recall: 0.8724 - val_auc: 0.9814\n",
            "Epoch 179/200\n",
            "604/604 [==============================] - 14s 24ms/step - loss: 0.1787 - accuracy: 0.9838 - precision: 0.9451 - recall: 0.9241 - auc: 0.9971 - val_loss: 0.5685 - val_accuracy: 0.9720 - val_precision: 0.8973 - val_recall: 0.8765 - val_auc: 0.9802\n",
            "Epoch 180/200\n",
            "604/604 [==============================] - 17s 27ms/step - loss: 0.1913 - accuracy: 0.9829 - precision: 0.9428 - recall: 0.9193 - auc: 0.9966 - val_loss: 0.5287 - val_accuracy: 0.9739 - val_precision: 0.9061 - val_recall: 0.8824 - val_auc: 0.9820\n",
            "Epoch 181/200\n",
            "604/604 [==============================] - 14s 24ms/step - loss: 0.1848 - accuracy: 0.9832 - precision: 0.9432 - recall: 0.9208 - auc: 0.9967 - val_loss: 0.5874 - val_accuracy: 0.9703 - val_precision: 0.8906 - val_recall: 0.8689 - val_auc: 0.9793\n",
            "Epoch 182/200\n",
            "604/604 [==============================] - 14s 23ms/step - loss: 0.1814 - accuracy: 0.9838 - precision: 0.9454 - recall: 0.9235 - auc: 0.9968 - val_loss: 0.5142 - val_accuracy: 0.9740 - val_precision: 0.9059 - val_recall: 0.8836 - val_auc: 0.9828\n",
            "Epoch 183/200\n",
            "604/604 [==============================] - 14s 23ms/step - loss: 0.1782 - accuracy: 0.9834 - precision: 0.9443 - recall: 0.9217 - auc: 0.9969 - val_loss: 0.5510 - val_accuracy: 0.9746 - val_precision: 0.9042 - val_recall: 0.8912 - val_auc: 0.9826\n",
            "Epoch 184/200\n",
            "604/604 [==============================] - 14s 23ms/step - loss: 0.1924 - accuracy: 0.9826 - precision: 0.9408 - recall: 0.9190 - auc: 0.9966 - val_loss: 0.5019 - val_accuracy: 0.9732 - val_precision: 0.9048 - val_recall: 0.8783 - val_auc: 0.9842\n",
            "Epoch 185/200\n",
            "604/604 [==============================] - 16s 27ms/step - loss: 0.1839 - accuracy: 0.9835 - precision: 0.9442 - recall: 0.9222 - auc: 0.9969 - val_loss: 0.5689 - val_accuracy: 0.9707 - val_precision: 0.8917 - val_recall: 0.8718 - val_auc: 0.9812\n",
            "Epoch 186/200\n",
            "604/604 [==============================] - 17s 27ms/step - loss: 0.1969 - accuracy: 0.9825 - precision: 0.9402 - recall: 0.9189 - auc: 0.9964 - val_loss: 0.5540 - val_accuracy: 0.9736 - val_precision: 0.9046 - val_recall: 0.8818 - val_auc: 0.9813\n",
            "Epoch 187/200\n",
            "604/604 [==============================] - 16s 26ms/step - loss: 0.1797 - accuracy: 0.9839 - precision: 0.9472 - recall: 0.9231 - auc: 0.9970 - val_loss: 0.5343 - val_accuracy: 0.9733 - val_precision: 0.9051 - val_recall: 0.8783 - val_auc: 0.9846\n",
            "Epoch 188/200\n",
            "604/604 [==============================] - 17s 27ms/step - loss: 0.1799 - accuracy: 0.9839 - precision: 0.9450 - recall: 0.9249 - auc: 0.9969 - val_loss: 0.5981 - val_accuracy: 0.9727 - val_precision: 0.9001 - val_recall: 0.8795 - val_auc: 0.9817\n",
            "Epoch 189/200\n",
            "604/604 [==============================] - 17s 29ms/step - loss: 0.1779 - accuracy: 0.9836 - precision: 0.9438 - recall: 0.9235 - auc: 0.9969 - val_loss: 0.6017 - val_accuracy: 0.9727 - val_precision: 0.8988 - val_recall: 0.8806 - val_auc: 0.9819\n",
            "Epoch 190/200\n",
            "604/604 [==============================] - 17s 28ms/step - loss: 0.1785 - accuracy: 0.9840 - precision: 0.9458 - recall: 0.9251 - auc: 0.9971 - val_loss: 0.6088 - val_accuracy: 0.9702 - val_precision: 0.8886 - val_recall: 0.8704 - val_auc: 0.9815\n",
            "Epoch 191/200\n",
            "604/604 [==============================] - 17s 28ms/step - loss: 0.1948 - accuracy: 0.9830 - precision: 0.9431 - recall: 0.9199 - auc: 0.9963 - val_loss: 0.5246 - val_accuracy: 0.9727 - val_precision: 0.9002 - val_recall: 0.8786 - val_auc: 0.9838\n",
            "Epoch 192/200\n",
            "604/604 [==============================] - 17s 29ms/step - loss: 0.1787 - accuracy: 0.9841 - precision: 0.9465 - recall: 0.9253 - auc: 0.9969 - val_loss: 0.5781 - val_accuracy: 0.9732 - val_precision: 0.9024 - val_recall: 0.8812 - val_auc: 0.9815\n",
            "Epoch 193/200\n",
            "604/604 [==============================] - 16s 26ms/step - loss: 0.1757 - accuracy: 0.9840 - precision: 0.9456 - recall: 0.9253 - auc: 0.9972 - val_loss: 0.5756 - val_accuracy: 0.9730 - val_precision: 0.9000 - val_recall: 0.8818 - val_auc: 0.9822\n",
            "Epoch 194/200\n",
            "604/604 [==============================] - 16s 27ms/step - loss: 0.2084 - accuracy: 0.9824 - precision: 0.9390 - recall: 0.9186 - auc: 0.9962 - val_loss: 0.5873 - val_accuracy: 0.9710 - val_precision: 0.8943 - val_recall: 0.8710 - val_auc: 0.9811\n",
            "Epoch 195/200\n",
            "604/604 [==============================] - 17s 27ms/step - loss: 0.1767 - accuracy: 0.9838 - precision: 0.9462 - recall: 0.9229 - auc: 0.9971 - val_loss: 0.6065 - val_accuracy: 0.9729 - val_precision: 0.9024 - val_recall: 0.8786 - val_auc: 0.9804\n",
            "Epoch 196/200\n",
            "604/604 [==============================] - 17s 28ms/step - loss: 0.1777 - accuracy: 0.9842 - precision: 0.9459 - recall: 0.9266 - auc: 0.9970 - val_loss: 0.5653 - val_accuracy: 0.9727 - val_precision: 0.8986 - val_recall: 0.8809 - val_auc: 0.9804\n",
            "Epoch 197/200\n",
            "604/604 [==============================] - 17s 28ms/step - loss: 0.2028 - accuracy: 0.9830 - precision: 0.9423 - recall: 0.9202 - auc: 0.9962 - val_loss: 0.6031 - val_accuracy: 0.9723 - val_precision: 0.8985 - val_recall: 0.8771 - val_auc: 0.9814\n",
            "Epoch 198/200\n",
            "604/604 [==============================] - 17s 28ms/step - loss: 0.1737 - accuracy: 0.9844 - precision: 0.9467 - recall: 0.9272 - auc: 0.9971 - val_loss: 0.5900 - val_accuracy: 0.9704 - val_precision: 0.8884 - val_recall: 0.8730 - val_auc: 0.9823\n",
            "Epoch 199/200\n",
            "604/604 [==============================] - 17s 28ms/step - loss: 0.1904 - accuracy: 0.9829 - precision: 0.9417 - recall: 0.9205 - auc: 0.9965 - val_loss: 0.5096 - val_accuracy: 0.9742 - val_precision: 0.9051 - val_recall: 0.8868 - val_auc: 0.9849\n",
            "Epoch 200/200\n",
            "604/604 [==============================] - 16s 27ms/step - loss: 0.1716 - accuracy: 0.9841 - precision: 0.9451 - recall: 0.9264 - auc: 0.9972 - val_loss: 0.4867 - val_accuracy: 0.9709 - val_precision: 0.8925 - val_recall: 0.8718 - val_auc: 0.9834\n",
            "Time Taken is:\n",
            "2244.141547203064\n",
            "CPU times: user 29min, sys: 16min 11s, total: 45min 11s\n",
            "Wall time: 37min 24s\n"
          ]
        }
      ]
    },
    {
      "cell_type": "code",
      "source": [
        "ann_accuracy=0.975\n",
        "ann_recall=0.88\n",
        "ann_precision=0.90\n",
        "ann_f1score=0.91"
      ],
      "metadata": {
        "id": "OvaF-AFJYbG0"
      },
      "id": "OvaF-AFJYbG0",
      "execution_count": null,
      "outputs": []
    },
    {
      "cell_type": "code",
      "source": [
        "df_results = pd.DataFrame({'classifier':['Accuracy','Accuracy','Accuracy','Accuracy','Recall','Recall','Recall','Recall','Precision','Precision','Precision','Precision','F1-Score','F1-Score','F1-Score','F1-Score'],\n",
        "                           'data_set':['Random Forest','Gradient Boosting','SVM','ANN']*4,\n",
        "                           'accuracy':[rfaccuracy,gbaccuracy,svaccuracy,ann_accuracy,rfrecall,gbrecall,svrecall,ann_recall,rfprecision,gbprecision,svprecision,ann_precision,rffscore,gbfscore,svfscore,ann_f1score]\n",
        "                           })"
      ],
      "metadata": {
        "id": "qf0lwQJFYbJb"
      },
      "id": "qf0lwQJFYbJb",
      "execution_count": null,
      "outputs": []
    },
    {
      "cell_type": "code",
      "source": [
        "sns.set_style(\"whitegrid\")\n",
        "plt.figure(figsize=(10, 6))\n",
        "ax = sns.barplot(x = 'classifier', y = 'accuracy', hue = 'data_set', data = df_results,palette = \"Blues\")\n",
        "ax.set_xlabel('Measures', fontsize = 15)\n",
        "ax.set_ylabel('Ratio', fontsize = 15)\n",
        "ax.tick_params(labelsize = 15)\n",
        "\n",
        "#Separate legend from graph\n",
        "plt.legend(bbox_to_anchor = (1.05, 1), loc = 2, borderaxespad = 0., fontsize = 15)"
      ],
      "metadata": {
        "colab": {
          "base_uri": "https://localhost:8080/",
          "height": 415
        },
        "id": "zy6hzDOwYbMi",
        "outputId": "306da5a2-30c8-47d6-ace6-8423c37281a9"
      },
      "id": "zy6hzDOwYbMi",
      "execution_count": null,
      "outputs": [
        {
          "output_type": "execute_result",
          "data": {
            "text/plain": [
              "<matplotlib.legend.Legend at 0x7fa3848f60d0>"
            ]
          },
          "metadata": {},
          "execution_count": 79
        },
        {
          "output_type": "display_data",
          "data": {
            "text/plain": [
              "<Figure size 720x432 with 1 Axes>"
            ],
            "image/png": "[encoded data removed]"
          },
          "metadata": {}
        }
      ]
    },
    {
      "cell_type": "code",
      "source": [
        ""
      ],
      "metadata": {
        "id": "gTzb_NOMYbUb"
      },
      "id": "gTzb_NOMYbUb",
      "execution_count": null,
      "outputs": []
    },
    {
      "cell_type": "markdown",
      "id": "875db5ff",
      "metadata": {
        "id": "875db5ff"
      },
      "source": [
        "# TSNE"
      ]
    },
    {
      "cell_type": "code",
      "execution_count": null,
      "id": "9b0bafbf",
      "metadata": {
        "id": "9b0bafbf"
      },
      "outputs": [],
      "source": [
        "from sklearn.manifold import TSNE\n",
        "# ploting the 2d data points with seaborn\n",
        "import seaborn as sn"
      ]
    },
    {
      "cell_type": "code",
      "execution_count": null,
      "id": "3f889389",
      "metadata": {
        "colab": {
          "base_uri": "https://localhost:8080/"
        },
        "id": "3f889389",
        "outputId": "37831a9c-7bb8-45a5-f870-1fa8fa66f67c"
      },
      "outputs": [
        {
          "output_type": "stream",
          "name": "stderr",
          "text": [
            "/usr/local/lib/python3.7/dist-packages/sklearn/manifold/_t_sne.py:986: FutureWarning: The PCA initialization in TSNE will change to have the standard deviation of PC1 equal to 1e-4 in 1.2. This will ensure better convergence.\n",
            "  FutureWarning,\n"
          ]
        }
      ],
      "source": [
        "\n",
        "model = TSNE(n_components=2, perplexity = 20,random_state=0,learning_rate = 100,init='pca')\n",
        "# configuring the parameteres\n",
        "# the number of components = 2\n",
        "# default perplexity = 30\n",
        "# default learning rate = 200\n",
        "# default Maximum number of iterations for the optimization = 1000\n",
        "\n",
        "tsne_data = model.fit_transform(train_PCA)\n",
        "# creating a new data frame which help us in ploting the result data\n",
        "tsne_data = np.vstack((tsne_data.T, y_sm)).T\n"
      ]
    },
    {
      "cell_type": "code",
      "source": [
        "tsne_data = np.vstack((tsne_data.T, y_sm)).T"
      ],
      "metadata": {
        "id": "LzzwOIy5EdZZ"
      },
      "id": "LzzwOIy5EdZZ",
      "execution_count": null,
      "outputs": []
    },
    {
      "cell_type": "code",
      "source": [
        "tsne_df = pd.DataFrame(data=tsne_data, columns=(\"Dim_1\", \"Dim_2\",\"label\"))\n",
        "\n",
        "# Ploting the result of tsne\n",
        "sn.FacetGrid(tsne_df, hue=\"label\", size=6).map(plt.scatter, 'Dim_1', 'Dim_2').add_legend()\n",
        "plt.show()"
      ],
      "metadata": {
        "id": "gYEV3OIr59d2",
        "colab": {
          "base_uri": "https://localhost:8080/",
          "height": 476
        },
        "outputId": "9a96ea57-c25b-4469-b366-42118a66215e"
      },
      "id": "gYEV3OIr59d2",
      "execution_count": null,
      "outputs": [
        {
          "output_type": "stream",
          "name": "stderr",
          "text": [
            "/usr/local/lib/python3.7/dist-packages/seaborn/axisgrid.py:337: UserWarning: The `size` parameter has been renamed to `height`; please update your code.\n",
            "  warnings.warn(msg, UserWarning)\n"
          ]
        },
        {
          "output_type": "display_data",
          "data": {
            "text/plain": [
              "<Figure size 483.875x432 with 1 Axes>"
            ],
            "image/png": "[encoded data removed]"
          },
          "metadata": {
            "needs_background": "light"
          }
        }
      ]
    },
    {
      "cell_type": "code",
      "execution_count": null,
      "id": "fe11155f",
      "metadata": {
        "colab": {
          "base_uri": "https://localhost:8080/",
          "height": 476
        },
        "id": "fe11155f",
        "outputId": "4e32c1a6-3e55-4212-a4aa-f7f96b32e3fe"
      },
      "outputs": [
        {
          "output_type": "stream",
          "name": "stderr",
          "text": [
            "/usr/local/lib/python3.7/dist-packages/seaborn/axisgrid.py:337: UserWarning: The `size` parameter has been renamed to `height`; please update your code.\n",
            "  warnings.warn(msg, UserWarning)\n"
          ]
        },
        {
          "output_type": "display_data",
          "data": {
            "text/plain": [
              "<Figure size 483.875x432 with 1 Axes>"
            ],
            "image/png": "[encoded data removed]"
          },
          "metadata": {
            "needs_background": "light"
          }
        }
      ],
      "source": [
        "sn.FacetGrid(tsne_df, hue=\"label\", size=6).map(plt.scatter, 'Dim_3', 'Dim_1').add_legend()\n",
        "plt.show()"
      ]
    },
    {
      "cell_type": "code",
      "execution_count": null,
      "id": "64562ef1",
      "metadata": {
        "id": "64562ef1"
      },
      "outputs": [],
      "source": [
        "X_transform = pd.DataFrame(data = tsne_data, columns = [\"TSNE component 1\", \"TSNE component 2\",\"y_sm\"])\n",
        "X_train, X_test, y_train, y_test = train_test_split(X_transform, y_sm, test_size=0.20, random_state=32)\n",
        "from sklearn.metrics import classification_report"
      ]
    },
    {
      "cell_type": "code",
      "execution_count": null,
      "id": "85cfbae4",
      "metadata": {
        "id": "85cfbae4",
        "colab": {
          "base_uri": "https://localhost:8080/"
        },
        "outputId": "2b6a4150-d715-456f-937e-65cabb5bb118"
      },
      "outputs": [
        {
          "output_type": "stream",
          "name": "stdout",
          "text": [
            "                 precision    recall  f1-score   support\n",
            "\n",
            "           CHAT       0.99      1.00      1.00       573\n",
            "           VOIP       0.99      0.99      0.99       581\n",
            "VIDEO-STREAMING       0.99      0.98      0.99       594\n",
            "  FILE-TRANSFER       0.97      0.98      0.98       544\n",
            "       BROWSING       0.96      0.97      0.97       562\n",
            "          EMAIL       0.96      0.98      0.97       526\n",
            "            P2P       0.98      0.95      0.96       601\n",
            "AUDIO-STREAMING       0.99      0.98      0.99       565\n",
            "\n",
            "       accuracy                           0.98      4546\n",
            "      macro avg       0.98      0.98      0.98      4546\n",
            "   weighted avg       0.98      0.98      0.98      4546\n",
            "\n",
            "Time Taken without PCA:\n",
            "0.12688612937927246\n"
          ]
        }
      ],
      "source": [
        "tic=time.time()\n",
        "model = KNeighborsClassifier(n_neighbors=1,p=1 )\n",
        "model.fit(X_train, y_train)\n",
        "y_pred=model.predict(X_test)\n",
        "print(classification_report(y_test,y_pred,target_names=my_tags))\n",
        "toc=time.time()\n",
        "print(\"Time Taken without PCA:\")\n",
        "print(toc-tic)"
      ]
    },
    {
      "cell_type": "code",
      "source": [
        "from sklearn.metrics import precision_recall_fscore_support as score\n",
        "knprecision,knrecall,knfscore,supportkn=score(y_test,y_pred,average='macro')\n",
        "print ('Precision : {}'.format(knprecision))\n",
        "print ('Recall    : {}'.format(knrecall))\n",
        "print ('F-score   : {}'.format(knfscore))\n",
        "#print ('Support   : {}'.format(support))"
      ],
      "metadata": {
        "id": "BRwUiPx2kgAL",
        "colab": {
          "base_uri": "https://localhost:8080/"
        },
        "outputId": "ee9bb1e2-7017-43f7-8753-52a6dfe88fa0"
      },
      "id": "BRwUiPx2kgAL",
      "execution_count": null,
      "outputs": [
        {
          "output_type": "stream",
          "name": "stdout",
          "text": [
            "Precision : 0.9790863320383418\n",
            "Recall    : 0.9794850484943669\n",
            "F-score   : 0.9792315640645202\n"
          ]
        }
      ]
    },
    {
      "cell_type": "code",
      "source": [
        "knaccuracy=0.98"
      ],
      "metadata": {
        "id": "DutKJMICkgD6"
      },
      "id": "DutKJMICkgD6",
      "execution_count": null,
      "outputs": []
    },
    {
      "cell_type": "code",
      "execution_count": null,
      "id": "9712464c",
      "metadata": {
        "id": "9712464c",
        "colab": {
          "base_uri": "https://localhost:8080/"
        },
        "outputId": "0c41a8ea-7ad8-404a-f6a4-fd37aa75648b"
      },
      "outputs": [
        {
          "output_type": "stream",
          "name": "stdout",
          "text": [
            "                 precision    recall  f1-score   support\n",
            "\n",
            "           CHAT       0.82      0.95      0.88       573\n",
            "           VOIP       0.73      0.65      0.69       581\n",
            "VIDEO-STREAMING       0.70      0.59      0.64       594\n",
            "  FILE-TRANSFER       0.70      0.81      0.75       544\n",
            "       BROWSING       0.74      0.77      0.75       562\n",
            "          EMAIL       0.65      0.72      0.68       526\n",
            "            P2P       0.84      0.71      0.77       601\n",
            "AUDIO-STREAMING       0.98      0.95      0.97       565\n",
            "\n",
            "       accuracy                           0.77      4546\n",
            "      macro avg       0.77      0.77      0.77      4546\n",
            "   weighted avg       0.77      0.77      0.77      4546\n",
            "\n",
            "Time Taken with SVM:\n",
            "14.906667947769165\n"
          ]
        }
      ],
      "source": [
        "tic=time.time()\n",
        "clf = svm.SVC(kernel='rbf')\n",
        "clf.fit(X_train,y_train)\n",
        "y_pred=clf.predict(X_test)\n",
        "print(classification_report(y_test,y_pred,target_names=my_tags))\n",
        "toc=time.time()\n",
        "print(\"Time Taken with SVM:\")\n",
        "print(toc-tic)"
      ]
    },
    {
      "cell_type": "code",
      "source": [
        "from sklearn.metrics import precision_recall_fscore_support as score\n",
        "svprecision,svrecall,svfscore,supportkn=score(y_test,y_pred,average='macro')\n",
        "print ('Precision : {}'.format(svprecision))\n",
        "print ('Recall    : {}'.format(svrecall))\n",
        "print ('F-score   : {}'.format(svfscore))\n",
        "#print ('Support   : {}'.format(support))"
      ],
      "metadata": {
        "colab": {
          "base_uri": "https://localhost:8080/"
        },
        "id": "W7PD1ingkoro",
        "outputId": "6580d1df-cb4d-46c2-b3bf-dd4c608944a9"
      },
      "id": "W7PD1ingkoro",
      "execution_count": null,
      "outputs": [
        {
          "output_type": "stream",
          "name": "stdout",
          "text": [
            "Precision : 0.7682138396224212\n",
            "Recall    : 0.7689819239708957\n",
            "F-score   : 0.7654940038919172\n"
          ]
        }
      ]
    },
    {
      "cell_type": "code",
      "source": [
        "svaccuracy=0.777"
      ],
      "metadata": {
        "id": "DQc9n0Jfkou3"
      },
      "id": "DQc9n0Jfkou3",
      "execution_count": null,
      "outputs": []
    },
    {
      "cell_type": "code",
      "source": [
        "tic=time.time()\n",
        "gb = GradientBoostingClassifier(n_estimators=300, learning_rate =0.5, max_features=2, max_depth = 10, random_state = 0)\n",
        "gb.fit(X_train, y_train)\n",
        "y_pred = gb.predict(X_test)\n",
        "print(classification_report(y_test,y_pred,target_names=my_tags))\n",
        "toc=time.time()\n",
        "print(\"Time Taken for Xgboost:\")\n",
        "print(toc-tic)"
      ],
      "metadata": {
        "colab": {
          "base_uri": "https://localhost:8080/"
        },
        "id": "-2Foenb5FKU7",
        "outputId": "ba4b16bb-9752-4b89-f718-687483936f74"
      },
      "id": "-2Foenb5FKU7",
      "execution_count": null,
      "outputs": [
        {
          "output_type": "stream",
          "name": "stdout",
          "text": [
            "                 precision    recall  f1-score   support\n",
            "\n",
            "           CHAT       1.00      1.00      1.00       573\n",
            "           VOIP       1.00      1.00      1.00       581\n",
            "VIDEO-STREAMING       1.00      1.00      1.00       594\n",
            "  FILE-TRANSFER       1.00      1.00      1.00       544\n",
            "       BROWSING       1.00      1.00      1.00       562\n",
            "          EMAIL       1.00      1.00      1.00       526\n",
            "            P2P       1.00      1.00      1.00       601\n",
            "AUDIO-STREAMING       1.00      1.00      1.00       565\n",
            "\n",
            "       accuracy                           1.00      4546\n",
            "      macro avg       1.00      1.00      1.00      4546\n",
            "   weighted avg       1.00      1.00      1.00      4546\n",
            "\n",
            "Time Taken for Xgboost:\n",
            "17.766650438308716\n"
          ]
        }
      ]
    },
    {
      "cell_type": "code",
      "source": [
        "gbaccuracy=0.98\n",
        "gbprecision=0.98\n",
        "gbrecal=0.99\n",
        "gbfscore=0.99"
      ],
      "metadata": {
        "id": "J6Mbaf4HFm66"
      },
      "id": "J6Mbaf4HFm66",
      "execution_count": null,
      "outputs": []
    },
    {
      "cell_type": "code",
      "source": [
        "from sklearn.metrics import precision_recall_fscore_support as score\n",
        "gbprecision,gbrecall,gbfscore,supportkn=score(y_test,y_pred,average='macro')\n",
        "print ('Precision : {}'.format(gbprecision))\n",
        "print ('Recall    : {}'.format(gbrecall))\n",
        "print ('F-score   : {}'.format(gbfscore))\n",
        "#print ('Support   : {}'.format(support))"
      ],
      "metadata": {
        "colab": {
          "base_uri": "https://localhost:8080/"
        },
        "id": "OvqJY9iLFaQC",
        "outputId": "3ac91c19-aaca-4480-d16e-7b5cd75b39a3"
      },
      "id": "OvqJY9iLFaQC",
      "execution_count": null,
      "outputs": [
        {
          "output_type": "stream",
          "name": "stdout",
          "text": [
            "Precision : 1.0\n",
            "Recall    : 1.0\n",
            "F-score   : 1.0\n"
          ]
        }
      ]
    },
    {
      "cell_type": "code",
      "execution_count": null,
      "id": "00dc3c50",
      "metadata": {
        "colab": {
          "base_uri": "https://localhost:8080/"
        },
        "id": "00dc3c50",
        "outputId": "4decb654-4565-4c6b-d89c-a46c03089f0a"
      },
      "outputs": [
        {
          "output_type": "stream",
          "name": "stdout",
          "text": [
            "                 precision    recall  f1-score   support\n",
            "\n",
            "           CHAT       1.00      1.00      1.00       573\n",
            "           VOIP       1.00      1.00      1.00       581\n",
            "VIDEO-STREAMING       1.00      1.00      1.00       594\n",
            "  FILE-TRANSFER       1.00      1.00      1.00       544\n",
            "       BROWSING       1.00      1.00      1.00       562\n",
            "          EMAIL       1.00      1.00      1.00       526\n",
            "            P2P       1.00      1.00      1.00       601\n",
            "AUDIO-STREAMING       1.00      1.00      1.00       565\n",
            "\n",
            "       accuracy                           1.00      4546\n",
            "      macro avg       1.00      1.00      1.00      4546\n",
            "   weighted avg       1.00      1.00      1.00      4546\n",
            "\n",
            "Time Taken:\n",
            "0.05721879005432129\n"
          ]
        }
      ],
      "source": [
        "tic=time.time()\n",
        "classifier = DT(criterion='entropy', random_state=0)\n",
        "classifier.fit(X_train,y_train)\n",
        "y_pred = classifier.predict(X_test)\n",
        "print(classification_report(y_test,y_pred,target_names=my_tags))\n",
        "toc=time.time()\n",
        "print(\"Time Taken:\")\n",
        "print(toc-tic)"
      ]
    },
    {
      "cell_type": "code",
      "source": [
        ""
      ],
      "metadata": {
        "id": "a6kYZgjEFYxg"
      },
      "id": "a6kYZgjEFYxg",
      "execution_count": null,
      "outputs": []
    },
    {
      "cell_type": "code",
      "source": [
        ""
      ],
      "metadata": {
        "id": "oRgbY-3GFS3z"
      },
      "id": "oRgbY-3GFS3z",
      "execution_count": null,
      "outputs": []
    },
    {
      "cell_type": "code",
      "source": [
        "from sklearn.metrics import precision_recall_fscore_support as score\n",
        "dtprecision,dtrecall,dtfscore,supportkn=score(y_test,y_pred,average='macro')\n",
        "print ('Precision : {}'.format(dtprecision))\n",
        "print ('Recall    : {}'.format(dtrecall))\n",
        "print ('F-score   : {}'.format(dtfscore))\n",
        "#print ('Support   : {}'.format(support))"
      ],
      "metadata": {
        "colab": {
          "base_uri": "https://localhost:8080/"
        },
        "id": "iAQ9vh9_kxkA",
        "outputId": "acc7d393-50d9-493d-df0b-53f9c046ac79"
      },
      "id": "iAQ9vh9_kxkA",
      "execution_count": null,
      "outputs": [
        {
          "output_type": "stream",
          "name": "stdout",
          "text": [
            "Precision : 1.0\n",
            "Recall    : 1.0\n",
            "F-score   : 1.0\n"
          ]
        }
      ]
    },
    {
      "cell_type": "code",
      "source": [
        "dtaccuracy=1.00"
      ],
      "metadata": {
        "id": "iEjpYuGmk0Hg"
      },
      "id": "iEjpYuGmk0Hg",
      "execution_count": null,
      "outputs": []
    },
    {
      "cell_type": "code",
      "execution_count": null,
      "id": "e393c857",
      "metadata": {
        "colab": {
          "base_uri": "https://localhost:8080/"
        },
        "id": "e393c857",
        "outputId": "e9cb2fd3-a13a-4aac-b24f-3c9600338b2f"
      },
      "outputs": [
        {
          "output_type": "stream",
          "name": "stdout",
          "text": [
            "              precision    recall  f1-score   support\n",
            "\n",
            "           0       1.00      1.00      1.00       573\n",
            "           1       1.00      1.00      1.00       581\n",
            "           2       1.00      1.00      1.00       594\n",
            "           3       1.00      1.00      1.00       544\n",
            "           4       1.00      1.00      1.00       562\n",
            "           5       1.00      1.00      1.00       526\n",
            "           6       1.00      1.00      1.00       601\n",
            "           7       1.00      1.00      1.00       565\n",
            "\n",
            "    accuracy                           1.00      4546\n",
            "   macro avg       1.00      1.00      1.00      4546\n",
            "weighted avg       1.00      1.00      1.00      4546\n",
            "\n",
            "Time Taken:\n",
            "0.22034668922424316\n"
          ]
        }
      ],
      "source": [
        "from sklearn.ensemble import RandomForestClassifier as RF\n",
        "tic=time.time()\n",
        "classifier = RF(n_estimators=16, criterion='gini', random_state=0)\n",
        "classifier.fit(X_train,y_train)\n",
        "y_pred = classifier.predict(X_test)\n",
        "print(classification_report(y_test,y_pred))\n",
        "toc=time.time()\n",
        "print(\"Time Taken:\")\n",
        "print(toc-tic)"
      ]
    },
    {
      "cell_type": "code",
      "execution_count": null,
      "id": "87047b35",
      "metadata": {
        "colab": {
          "base_uri": "https://localhost:8080/"
        },
        "id": "87047b35",
        "outputId": "1e32546c-8de7-4fd8-df90-c2c751358405"
      },
      "outputs": [
        {
          "output_type": "stream",
          "name": "stdout",
          "text": [
            "Precision : 0.9997852233676976\n",
            "Recall    : 0.9997895622895623\n",
            "F-score   : 0.9997872118486237\n"
          ]
        }
      ],
      "source": [
        "from sklearn.metrics import precision_recall_fscore_support as score\n",
        "rfprecision,rfrecall,rffscore,supportkn=score(y_test,y_pred,average='macro')\n",
        "print ('Precision : {}'.format(rfprecision))\n",
        "print ('Recall    : {}'.format(rfrecall))\n",
        "print ('F-score   : {}'.format(rffscore))\n",
        "#print ('Support   : {}'.format(support))"
      ]
    },
    {
      "cell_type": "code",
      "source": [
        "rfaccuracy=0.99\n",
        "rfprecision=1.00\n",
        "rfrecal=0.99\n",
        "rffscore=0.99"
      ],
      "metadata": {
        "id": "ORNH62WMFzVC"
      },
      "id": "ORNH62WMFzVC",
      "execution_count": null,
      "outputs": []
    },
    {
      "cell_type": "code",
      "source": [
        "rfaccuracy=1.00"
      ],
      "metadata": {
        "id": "6sJCD3uYk8Hw"
      },
      "id": "6sJCD3uYk8Hw",
      "execution_count": null,
      "outputs": []
    },
    {
      "cell_type": "code",
      "source": [
        "tic=time.time()\n",
        "from xgboost import XGBClassifier\n",
        "from sklearn.metrics import accuracy_score\n",
        "xgb = XGBClassifier(n_estimators=150)\n",
        "xgb.fit(X_train, y_train)\n",
        "y_pred = xgb.predict(X_test)\n",
        "print(classification_report(y_test,y_pred,target_names=my_tags))\n",
        "toc=time.time()\n",
        "print(\"Time Taken for Xgboost:\")\n",
        "print(toc-tic)\n",
        "\n"
      ],
      "metadata": {
        "colab": {
          "base_uri": "https://localhost:8080/"
        },
        "id": "QDpFdfT5k8Ku",
        "outputId": "a78b6a05-53b0-419d-8f41-34c80e1c71f2"
      },
      "id": "QDpFdfT5k8Ku",
      "execution_count": null,
      "outputs": [
        {
          "output_type": "stream",
          "name": "stdout",
          "text": [
            "                 precision    recall  f1-score   support\n",
            "\n",
            "           CHAT       1.00      1.00      1.00       573\n",
            "           VOIP       1.00      1.00      1.00       581\n",
            "VIDEO-STREAMING       1.00      1.00      1.00       594\n",
            "  FILE-TRANSFER       1.00      1.00      1.00       544\n",
            "       BROWSING       1.00      1.00      1.00       562\n",
            "          EMAIL       1.00      1.00      1.00       526\n",
            "            P2P       1.00      1.00      1.00       601\n",
            "AUDIO-STREAMING       1.00      1.00      1.00       565\n",
            "\n",
            "       accuracy                           1.00      4546\n",
            "      macro avg       1.00      1.00      1.00      4546\n",
            "   weighted avg       1.00      1.00      1.00      4546\n",
            "\n",
            "Time Taken for Xgboost:\n",
            "3.5832104682922363\n"
          ]
        }
      ]
    },
    {
      "cell_type": "code",
      "source": [
        "from sklearn.metrics import precision_recall_fscore_support as score\n",
        "xgprecision,xgrecall,xgfscore,xgkn=score(y_test,y_pred,average='macro')\n",
        "print ('Precision : {}'.format(xgprecision))\n",
        "print ('Recall    : {}'.format(xgrecall))\n",
        "print ('F-score   : {}'.format(xgfscore))\n",
        "#print ('Support   : {}'.format(support))"
      ],
      "metadata": {
        "colab": {
          "base_uri": "https://localhost:8080/"
        },
        "id": "7im12hX6k8NX",
        "outputId": "25b105dd-68dd-4300-d128-1baa7e73ce8c"
      },
      "id": "7im12hX6k8NX",
      "execution_count": null,
      "outputs": [
        {
          "output_type": "stream",
          "name": "stdout",
          "text": [
            "Precision : 1.0\n",
            "Recall    : 1.0\n",
            "F-score   : 1.0\n"
          ]
        }
      ]
    },
    {
      "cell_type": "code",
      "source": [
        "xgaccuracy=1.0"
      ],
      "metadata": {
        "id": "I70YNlc8k8P4"
      },
      "id": "I70YNlc8k8P4",
      "execution_count": null,
      "outputs": []
    },
    {
      "cell_type": "code",
      "source": [
        ""
      ],
      "metadata": {
        "id": "4PCXE15xk8Sq"
      },
      "id": "4PCXE15xk8Sq",
      "execution_count": null,
      "outputs": []
    },
    {
      "cell_type": "code",
      "source": [
        ""
      ],
      "metadata": {
        "id": "egX6nyYYE5cq"
      },
      "id": "egX6nyYYE5cq",
      "execution_count": null,
      "outputs": []
    },
    {
      "cell_type": "code",
      "source": [
        ""
      ],
      "metadata": {
        "id": "c5PLyitsE5fb"
      },
      "id": "c5PLyitsE5fb",
      "execution_count": null,
      "outputs": []
    },
    {
      "cell_type": "code",
      "source": [
        ""
      ],
      "metadata": {
        "id": "LZ0Mp_OhE5iI"
      },
      "id": "LZ0Mp_OhE5iI",
      "execution_count": null,
      "outputs": []
    },
    {
      "cell_type": "code",
      "source": [
        ""
      ],
      "metadata": {
        "id": "OYWE_yc5E5lw"
      },
      "id": "OYWE_yc5E5lw",
      "execution_count": null,
      "outputs": []
    },
    {
      "cell_type": "code",
      "source": [
        ""
      ],
      "metadata": {
        "id": "NdilRRx5E5o4"
      },
      "id": "NdilRRx5E5o4",
      "execution_count": null,
      "outputs": []
    },
    {
      "cell_type": "code",
      "source": [
        ""
      ],
      "metadata": {
        "id": "UH1DbuPyk8a-"
      },
      "id": "UH1DbuPyk8a-",
      "execution_count": null,
      "outputs": []
    },
    {
      "cell_type": "code",
      "source": [
        ""
      ],
      "metadata": {
        "id": "1jB2nHPYlSQN"
      },
      "id": "1jB2nHPYlSQN",
      "execution_count": null,
      "outputs": []
    },
    {
      "cell_type": "code",
      "source": [
        "from sklearn import preprocessing\n",
        "lb = preprocessing.LabelBinarizer()\n",
        "y_train = lb.fit_transform(y_train)\n",
        "y_test = lb.fit_transform(y_test)"
      ],
      "metadata": {
        "id": "29p3JaOilSS_"
      },
      "id": "29p3JaOilSS_",
      "execution_count": null,
      "outputs": []
    },
    {
      "cell_type": "code",
      "source": [
        "model = Sequential()\n",
        "model.add(Dense(128, input_dim=4, kernel_initializer='RandomUniform', activation='relu'))\n",
        "model.add(Dense(256,  kernel_initializer='RandomUniform', activation='relu'))\n",
        "model.add(Dense(512,  kernel_initializer='RandomUniform', activation='relu'))\n",
        "model.add(Dense(256,  kernel_initializer='RandomUniform', activation='relu'))\n",
        "model.add(Dense(512,  kernel_initializer='RandomUniform', activation='relu'))\n",
        "\n",
        "model.add(Dense(8,activation='softmax'))\n",
        "#model.compile(loss='categorical_crossentropy', optimizer=sgd, metrics=METRICS)\n",
        "# compiling the model\n",
        "model.compile(optimizer=Adam(learning_rate=0.001),loss='categorical_crossentropy',metrics=METRICS)"
      ],
      "metadata": {
        "id": "NMcPgXOJlSVr"
      },
      "id": "NMcPgXOJlSVr",
      "execution_count": null,
      "outputs": []
    },
    {
      "cell_type": "code",
      "source": [
        "%%time\n",
        "#fitting the model\n",
        "import time\n",
        "tic=time.time()\n",
        "history=model.fit(X_train,y_train,epochs=100, validation_data=(X_test,y_test))\n",
        "toc=time.time()\n",
        "print(\"Time Taken is:\")\n",
        "print(toc-tic)"
      ],
      "metadata": {
        "colab": {
          "base_uri": "https://localhost:8080/"
        },
        "id": "CM-QV1UKlSYz",
        "outputId": "d6c5e355-4df7-4015-ff17-bc4af0e5719f"
      },
      "id": "CM-QV1UKlSYz",
      "execution_count": null,
      "outputs": [
        {
          "output_type": "stream",
          "name": "stdout",
          "text": [
            "Epoch 1/100\n",
            "569/569 [==============================] - 9s 11ms/step - loss: 0.5359 - accuracy: 0.9579 - precision: 0.8889 - recall: 0.7580 - auc: 0.9796 - val_loss: 0.0600 - val_accuracy: 0.9958 - val_precision: 0.9833 - val_recall: 0.9828 - val_auc: 0.9998\n",
            "Epoch 2/100\n",
            "569/569 [==============================] - 6s 10ms/step - loss: 0.0802 - accuracy: 0.9941 - precision: 0.9766 - recall: 0.9764 - auc: 0.9983 - val_loss: 0.0057 - val_accuracy: 0.9999 - val_precision: 0.9998 - val_recall: 0.9998 - val_auc: 1.0000\n",
            "Epoch 3/100\n",
            "569/569 [==============================] - 6s 10ms/step - loss: 0.0014 - accuracy: 1.0000 - precision: 0.9999 - recall: 0.9999 - auc: 1.0000 - val_loss: 2.2348e-04 - val_accuracy: 1.0000 - val_precision: 1.0000 - val_recall: 1.0000 - val_auc: 1.0000\n",
            "Epoch 4/100\n",
            "569/569 [==============================] - 6s 10ms/step - loss: 1.2089e-04 - accuracy: 1.0000 - precision: 1.0000 - recall: 1.0000 - auc: 1.0000 - val_loss: 6.2560e-05 - val_accuracy: 1.0000 - val_precision: 1.0000 - val_recall: 1.0000 - val_auc: 1.0000\n",
            "Epoch 5/100\n",
            "569/569 [==============================] - 6s 10ms/step - loss: 4.1224e-05 - accuracy: 1.0000 - precision: 1.0000 - recall: 1.0000 - auc: 1.0000 - val_loss: 2.7250e-05 - val_accuracy: 1.0000 - val_precision: 1.0000 - val_recall: 1.0000 - val_auc: 1.0000\n",
            "Epoch 6/100\n",
            "569/569 [==============================] - 6s 10ms/step - loss: 1.9135e-05 - accuracy: 1.0000 - precision: 1.0000 - recall: 1.0000 - auc: 1.0000 - val_loss: 1.4003e-05 - val_accuracy: 1.0000 - val_precision: 1.0000 - val_recall: 1.0000 - val_auc: 1.0000\n",
            "Epoch 7/100\n",
            "569/569 [==============================] - 6s 10ms/step - loss: 1.0296e-05 - accuracy: 1.0000 - precision: 1.0000 - recall: 1.0000 - auc: 1.0000 - val_loss: 8.9943e-06 - val_accuracy: 1.0000 - val_precision: 1.0000 - val_recall: 1.0000 - val_auc: 1.0000\n",
            "Epoch 8/100\n",
            "569/569 [==============================] - 6s 10ms/step - loss: 5.9364e-06 - accuracy: 1.0000 - precision: 1.0000 - recall: 1.0000 - auc: 1.0000 - val_loss: 4.7550e-06 - val_accuracy: 1.0000 - val_precision: 1.0000 - val_recall: 1.0000 - val_auc: 1.0000\n",
            "Epoch 9/100\n",
            "569/569 [==============================] - 6s 10ms/step - loss: 3.6525e-06 - accuracy: 1.0000 - precision: 1.0000 - recall: 1.0000 - auc: 1.0000 - val_loss: 3.0480e-06 - val_accuracy: 1.0000 - val_precision: 1.0000 - val_recall: 1.0000 - val_auc: 1.0000\n",
            "Epoch 10/100\n",
            "569/569 [==============================] - 6s 10ms/step - loss: 2.3002e-06 - accuracy: 1.0000 - precision: 1.0000 - recall: 1.0000 - auc: 1.0000 - val_loss: 1.8678e-06 - val_accuracy: 1.0000 - val_precision: 1.0000 - val_recall: 1.0000 - val_auc: 1.0000\n",
            "Epoch 11/100\n",
            "569/569 [==============================] - 6s 10ms/step - loss: 1.3402e-06 - accuracy: 1.0000 - precision: 1.0000 - recall: 1.0000 - auc: 1.0000 - val_loss: 9.8652e-07 - val_accuracy: 1.0000 - val_precision: 1.0000 - val_recall: 1.0000 - val_auc: 1.0000\n",
            "Epoch 12/100\n",
            "569/569 [==============================] - 6s 10ms/step - loss: 7.0226e-07 - accuracy: 1.0000 - precision: 1.0000 - recall: 1.0000 - auc: 1.0000 - val_loss: 5.1512e-07 - val_accuracy: 1.0000 - val_precision: 1.0000 - val_recall: 1.0000 - val_auc: 1.0000\n",
            "Epoch 13/100\n",
            "569/569 [==============================] - 6s 10ms/step - loss: 3.7850e-07 - accuracy: 1.0000 - precision: 1.0000 - recall: 1.0000 - auc: 1.0000 - val_loss: 3.0256e-07 - val_accuracy: 1.0000 - val_precision: 1.0000 - val_recall: 1.0000 - val_auc: 1.0000\n",
            "Epoch 14/100\n",
            "569/569 [==============================] - 6s 10ms/step - loss: 2.3384e-07 - accuracy: 1.0000 - precision: 1.0000 - recall: 1.0000 - auc: 1.0000 - val_loss: 1.9151e-07 - val_accuracy: 1.0000 - val_precision: 1.0000 - val_recall: 1.0000 - val_auc: 1.0000\n",
            "Epoch 15/100\n",
            "569/569 [==============================] - 6s 10ms/step - loss: 1.5244e-07 - accuracy: 1.0000 - precision: 1.0000 - recall: 1.0000 - auc: 1.0000 - val_loss: 1.3025e-07 - val_accuracy: 1.0000 - val_precision: 1.0000 - val_recall: 1.0000 - val_auc: 1.0000\n",
            "Epoch 16/100\n",
            "569/569 [==============================] - 6s 10ms/step - loss: 1.0675e-07 - accuracy: 1.0000 - precision: 1.0000 - recall: 1.0000 - auc: 1.0000 - val_loss: 9.4455e-08 - val_accuracy: 1.0000 - val_precision: 1.0000 - val_recall: 1.0000 - val_auc: 1.0000\n",
            "Epoch 17/100\n",
            "569/569 [==============================] - 6s 10ms/step - loss: 7.6278e-08 - accuracy: 1.0000 - precision: 1.0000 - recall: 1.0000 - auc: 1.0000 - val_loss: 6.6527e-08 - val_accuracy: 1.0000 - val_precision: 1.0000 - val_recall: 1.0000 - val_auc: 1.0000\n",
            "Epoch 18/100\n",
            "569/569 [==============================] - 6s 10ms/step - loss: 5.5782e-08 - accuracy: 1.0000 - precision: 1.0000 - recall: 1.0000 - auc: 1.0000 - val_loss: 5.0820e-08 - val_accuracy: 1.0000 - val_precision: 1.0000 - val_recall: 1.0000 - val_auc: 1.0000\n",
            "Epoch 19/100\n",
            "569/569 [==============================] - 6s 10ms/step - loss: 4.2663e-08 - accuracy: 1.0000 - precision: 1.0000 - recall: 1.0000 - auc: 1.0000 - val_loss: 3.8862e-08 - val_accuracy: 1.0000 - val_precision: 1.0000 - val_recall: 1.0000 - val_auc: 1.0000\n",
            "Epoch 20/100\n",
            "569/569 [==============================] - 6s 10ms/step - loss: 3.4166e-08 - accuracy: 1.0000 - precision: 1.0000 - recall: 1.0000 - auc: 1.0000 - val_loss: 3.0864e-08 - val_accuracy: 1.0000 - val_precision: 1.0000 - val_recall: 1.0000 - val_auc: 1.0000\n",
            "Epoch 21/100\n",
            "569/569 [==============================] - 6s 10ms/step - loss: 2.7150e-08 - accuracy: 1.0000 - precision: 1.0000 - recall: 1.0000 - auc: 1.0000 - val_loss: 2.5200e-08 - val_accuracy: 1.0000 - val_precision: 1.0000 - val_recall: 1.0000 - val_auc: 1.0000\n",
            "Epoch 22/100\n",
            "569/569 [==============================] - 6s 10ms/step - loss: 2.1938e-08 - accuracy: 1.0000 - precision: 1.0000 - recall: 1.0000 - auc: 1.0000 - val_loss: 2.1424e-08 - val_accuracy: 1.0000 - val_precision: 1.0000 - val_recall: 1.0000 - val_auc: 1.0000\n",
            "Epoch 23/100\n",
            "569/569 [==============================] - 6s 10ms/step - loss: 1.7965e-08 - accuracy: 1.0000 - precision: 1.0000 - recall: 1.0000 - auc: 1.0000 - val_loss: 1.7019e-08 - val_accuracy: 1.0000 - val_precision: 1.0000 - val_recall: 1.0000 - val_auc: 1.0000\n",
            "Epoch 24/100\n",
            "569/569 [==============================] - 6s 11ms/step - loss: 1.5113e-08 - accuracy: 1.0000 - precision: 1.0000 - recall: 1.0000 - auc: 1.0000 - val_loss: 1.4265e-08 - val_accuracy: 1.0000 - val_precision: 1.0000 - val_recall: 1.0000 - val_auc: 1.0000\n",
            "Epoch 25/100\n",
            "569/569 [==============================] - 6s 10ms/step - loss: 1.3100e-08 - accuracy: 1.0000 - precision: 1.0000 - recall: 1.0000 - auc: 1.0000 - val_loss: 1.2954e-08 - val_accuracy: 1.0000 - val_precision: 1.0000 - val_recall: 1.0000 - val_auc: 1.0000\n",
            "Epoch 26/100\n",
            "569/569 [==============================] - 6s 10ms/step - loss: 1.1336e-08 - accuracy: 1.0000 - precision: 1.0000 - recall: 1.0000 - auc: 1.0000 - val_loss: 1.1486e-08 - val_accuracy: 1.0000 - val_precision: 1.0000 - val_recall: 1.0000 - val_auc: 1.0000\n",
            "Epoch 27/100\n",
            "569/569 [==============================] - 6s 10ms/step - loss: 1.0241e-08 - accuracy: 1.0000 - precision: 1.0000 - recall: 1.0000 - auc: 1.0000 - val_loss: 1.0804e-08 - val_accuracy: 1.0000 - val_precision: 1.0000 - val_recall: 1.0000 - val_auc: 1.0000\n",
            "Epoch 28/100\n",
            "569/569 [==============================] - 6s 10ms/step - loss: 9.5527e-09 - accuracy: 1.0000 - precision: 1.0000 - recall: 1.0000 - auc: 1.0000 - val_loss: 1.1066e-08 - val_accuracy: 1.0000 - val_precision: 1.0000 - val_recall: 1.0000 - val_auc: 1.0000\n",
            "Epoch 29/100\n",
            "569/569 [==============================] - 6s 10ms/step - loss: 8.7135e-09 - accuracy: 1.0000 - precision: 1.0000 - recall: 1.0000 - auc: 1.0000 - val_loss: 8.7847e-09 - val_accuracy: 1.0000 - val_precision: 1.0000 - val_recall: 1.0000 - val_auc: 1.0000\n",
            "Epoch 30/100\n",
            "569/569 [==============================] - 6s 10ms/step - loss: 8.2742e-09 - accuracy: 1.0000 - precision: 1.0000 - recall: 1.0000 - auc: 1.0000 - val_loss: 8.4438e-09 - val_accuracy: 1.0000 - val_precision: 1.0000 - val_recall: 1.0000 - val_auc: 1.0000\n",
            "Epoch 31/100\n",
            "569/569 [==============================] - 6s 10ms/step - loss: 7.6317e-09 - accuracy: 1.0000 - precision: 1.0000 - recall: 1.0000 - auc: 1.0000 - val_loss: 7.4211e-09 - val_accuracy: 1.0000 - val_precision: 1.0000 - val_recall: 1.0000 - val_auc: 1.0000\n",
            "Epoch 32/100\n",
            "569/569 [==============================] - 6s 10ms/step - loss: 7.1203e-09 - accuracy: 1.0000 - precision: 1.0000 - recall: 1.0000 - auc: 1.0000 - val_loss: 7.8144e-09 - val_accuracy: 1.0000 - val_precision: 1.0000 - val_recall: 1.0000 - val_auc: 1.0000\n",
            "Epoch 33/100\n",
            "569/569 [==============================] - 6s 10ms/step - loss: 6.8712e-09 - accuracy: 1.0000 - precision: 1.0000 - recall: 1.0000 - auc: 1.0000 - val_loss: 6.2673e-09 - val_accuracy: 1.0000 - val_precision: 1.0000 - val_recall: 1.0000 - val_auc: 1.0000\n",
            "Epoch 34/100\n",
            "569/569 [==============================] - 6s 10ms/step - loss: 6.1827e-09 - accuracy: 1.0000 - precision: 1.0000 - recall: 1.0000 - auc: 1.0000 - val_loss: 1.0751e-08 - val_accuracy: 1.0000 - val_precision: 1.0000 - val_recall: 1.0000 - val_auc: 1.0000\n",
            "Epoch 35/100\n",
            "569/569 [==============================] - 6s 10ms/step - loss: 5.8549e-09 - accuracy: 1.0000 - precision: 1.0000 - recall: 1.0000 - auc: 1.0000 - val_loss: 6.2935e-09 - val_accuracy: 1.0000 - val_precision: 1.0000 - val_recall: 1.0000 - val_auc: 1.0000\n",
            "Epoch 36/100\n",
            "569/569 [==============================] - 6s 10ms/step - loss: 5.4025e-09 - accuracy: 1.0000 - precision: 1.0000 - recall: 1.0000 - auc: 1.0000 - val_loss: 6.0575e-09 - val_accuracy: 1.0000 - val_precision: 1.0000 - val_recall: 1.0000 - val_auc: 1.0000\n",
            "Epoch 37/100\n",
            "569/569 [==============================] - 6s 10ms/step - loss: 5.0812e-09 - accuracy: 1.0000 - precision: 1.0000 - recall: 1.0000 - auc: 1.0000 - val_loss: 3.7237e-09 - val_accuracy: 1.0000 - val_precision: 1.0000 - val_recall: 1.0000 - val_auc: 1.0000\n",
            "Epoch 38/100\n",
            "569/569 [==============================] - 6s 10ms/step - loss: 4.3338e-09 - accuracy: 1.0000 - precision: 1.0000 - recall: 1.0000 - auc: 1.0000 - val_loss: 3.6188e-09 - val_accuracy: 1.0000 - val_precision: 1.0000 - val_recall: 1.0000 - val_auc: 1.0000\n",
            "Epoch 39/100\n",
            "569/569 [==============================] - 6s 10ms/step - loss: 0.3540 - accuracy: 0.9902 - precision: 0.9695 - recall: 0.9517 - auc: 0.9930 - val_loss: 0.0059 - val_accuracy: 1.0000 - val_precision: 1.0000 - val_recall: 1.0000 - val_auc: 1.0000\n",
            "Epoch 40/100\n",
            "569/569 [==============================] - 6s 10ms/step - loss: 0.0033 - accuracy: 0.9999 - precision: 0.9997 - recall: 0.9997 - auc: 1.0000 - val_loss: 0.0012 - val_accuracy: 1.0000 - val_precision: 1.0000 - val_recall: 1.0000 - val_auc: 1.0000\n",
            "Epoch 41/100\n",
            "569/569 [==============================] - 6s 10ms/step - loss: 2.4817e-04 - accuracy: 1.0000 - precision: 1.0000 - recall: 1.0000 - auc: 1.0000 - val_loss: 1.2258e-04 - val_accuracy: 1.0000 - val_precision: 1.0000 - val_recall: 1.0000 - val_auc: 1.0000\n",
            "Epoch 42/100\n",
            "569/569 [==============================] - 6s 10ms/step - loss: 8.2166e-05 - accuracy: 1.0000 - precision: 1.0000 - recall: 1.0000 - auc: 1.0000 - val_loss: 5.4311e-05 - val_accuracy: 1.0000 - val_precision: 1.0000 - val_recall: 1.0000 - val_auc: 1.0000\n",
            "Epoch 43/100\n",
            "569/569 [==============================] - 6s 10ms/step - loss: 3.9629e-05 - accuracy: 1.0000 - precision: 1.0000 - recall: 1.0000 - auc: 1.0000 - val_loss: 2.8865e-05 - val_accuracy: 1.0000 - val_precision: 1.0000 - val_recall: 1.0000 - val_auc: 1.0000\n",
            "Epoch 44/100\n",
            "569/569 [==============================] - 6s 10ms/step - loss: 2.2193e-05 - accuracy: 1.0000 - precision: 1.0000 - recall: 1.0000 - auc: 1.0000 - val_loss: 1.7678e-05 - val_accuracy: 1.0000 - val_precision: 1.0000 - val_recall: 1.0000 - val_auc: 1.0000\n",
            "Epoch 45/100\n",
            "569/569 [==============================] - 6s 10ms/step - loss: 1.3542e-05 - accuracy: 1.0000 - precision: 1.0000 - recall: 1.0000 - auc: 1.0000 - val_loss: 1.0875e-05 - val_accuracy: 1.0000 - val_precision: 1.0000 - val_recall: 1.0000 - val_auc: 1.0000\n",
            "Epoch 46/100\n",
            "569/569 [==============================] - 6s 10ms/step - loss: 8.3601e-06 - accuracy: 1.0000 - precision: 1.0000 - recall: 1.0000 - auc: 1.0000 - val_loss: 8.1700e-06 - val_accuracy: 1.0000 - val_precision: 1.0000 - val_recall: 1.0000 - val_auc: 1.0000\n",
            "Epoch 47/100\n",
            "569/569 [==============================] - 6s 10ms/step - loss: 5.4781e-06 - accuracy: 1.0000 - precision: 1.0000 - recall: 1.0000 - auc: 1.0000 - val_loss: 5.1833e-06 - val_accuracy: 1.0000 - val_precision: 1.0000 - val_recall: 1.0000 - val_auc: 1.0000\n",
            "Epoch 48/100\n",
            "569/569 [==============================] - 6s 10ms/step - loss: 3.6204e-06 - accuracy: 1.0000 - precision: 1.0000 - recall: 1.0000 - auc: 1.0000 - val_loss: 3.4240e-06 - val_accuracy: 1.0000 - val_precision: 1.0000 - val_recall: 1.0000 - val_auc: 1.0000\n",
            "Epoch 49/100\n",
            "569/569 [==============================] - 6s 10ms/step - loss: 2.3669e-06 - accuracy: 1.0000 - precision: 1.0000 - recall: 1.0000 - auc: 1.0000 - val_loss: 2.5295e-06 - val_accuracy: 1.0000 - val_precision: 1.0000 - val_recall: 1.0000 - val_auc: 1.0000\n",
            "Epoch 50/100\n",
            "569/569 [==============================] - 6s 10ms/step - loss: 1.7224e-06 - accuracy: 1.0000 - precision: 1.0000 - recall: 1.0000 - auc: 1.0000 - val_loss: 1.7424e-06 - val_accuracy: 1.0000 - val_precision: 1.0000 - val_recall: 1.0000 - val_auc: 1.0000\n",
            "Epoch 51/100\n",
            "569/569 [==============================] - 6s 10ms/step - loss: 1.1623e-06 - accuracy: 1.0000 - precision: 1.0000 - recall: 1.0000 - auc: 1.0000 - val_loss: 1.2771e-06 - val_accuracy: 1.0000 - val_precision: 1.0000 - val_recall: 1.0000 - val_auc: 1.0000\n",
            "Epoch 52/100\n",
            "569/569 [==============================] - 7s 13ms/step - loss: 8.0962e-07 - accuracy: 1.0000 - precision: 1.0000 - recall: 1.0000 - auc: 1.0000 - val_loss: 8.2232e-07 - val_accuracy: 1.0000 - val_precision: 1.0000 - val_recall: 1.0000 - val_auc: 1.0000\n",
            "Epoch 53/100\n",
            "569/569 [==============================] - 8s 15ms/step - loss: 5.6038e-07 - accuracy: 1.0000 - precision: 1.0000 - recall: 1.0000 - auc: 1.0000 - val_loss: 6.2632e-07 - val_accuracy: 1.0000 - val_precision: 1.0000 - val_recall: 1.0000 - val_auc: 1.0000\n",
            "Epoch 54/100\n",
            "569/569 [==============================] - 9s 16ms/step - loss: 3.9083e-07 - accuracy: 1.0000 - precision: 1.0000 - recall: 1.0000 - auc: 1.0000 - val_loss: 4.9222e-07 - val_accuracy: 1.0000 - val_precision: 1.0000 - val_recall: 1.0000 - val_auc: 1.0000\n",
            "Epoch 55/100\n",
            "569/569 [==============================] - 9s 15ms/step - loss: 2.9131e-07 - accuracy: 1.0000 - precision: 1.0000 - recall: 1.0000 - auc: 1.0000 - val_loss: 2.8973e-07 - val_accuracy: 1.0000 - val_precision: 1.0000 - val_recall: 1.0000 - val_auc: 1.0000\n",
            "Epoch 56/100\n",
            "569/569 [==============================] - 8s 14ms/step - loss: 1.9996e-07 - accuracy: 1.0000 - precision: 1.0000 - recall: 1.0000 - auc: 1.0000 - val_loss: 2.2900e-07 - val_accuracy: 1.0000 - val_precision: 1.0000 - val_recall: 1.0000 - val_auc: 1.0000\n",
            "Epoch 57/100\n",
            "569/569 [==============================] - 9s 15ms/step - loss: 1.4273e-07 - accuracy: 1.0000 - precision: 1.0000 - recall: 1.0000 - auc: 1.0000 - val_loss: 1.6463e-07 - val_accuracy: 1.0000 - val_precision: 1.0000 - val_recall: 1.0000 - val_auc: 1.0000\n",
            "Epoch 58/100\n",
            "569/569 [==============================] - 10s 17ms/step - loss: 1.0340e-07 - accuracy: 1.0000 - precision: 1.0000 - recall: 1.0000 - auc: 1.0000 - val_loss: 1.1716e-07 - val_accuracy: 1.0000 - val_precision: 1.0000 - val_recall: 1.0000 - val_auc: 1.0000\n",
            "Epoch 59/100\n",
            "569/569 [==============================] - 10s 17ms/step - loss: 7.3688e-08 - accuracy: 1.0000 - precision: 1.0000 - recall: 1.0000 - auc: 1.0000 - val_loss: 1.0911e-07 - val_accuracy: 1.0000 - val_precision: 1.0000 - val_recall: 1.0000 - val_auc: 1.0000\n",
            "Epoch 60/100\n",
            "569/569 [==============================] - 10s 17ms/step - loss: 5.4491e-08 - accuracy: 1.0000 - precision: 1.0000 - recall: 1.0000 - auc: 1.0000 - val_loss: 5.7192e-08 - val_accuracy: 1.0000 - val_precision: 1.0000 - val_recall: 1.0000 - val_auc: 1.0000\n",
            "Epoch 61/100\n",
            "569/569 [==============================] - 10s 18ms/step - loss: 3.6375e-08 - accuracy: 1.0000 - precision: 1.0000 - recall: 1.0000 - auc: 1.0000 - val_loss: 6.7548e-08 - val_accuracy: 1.0000 - val_precision: 1.0000 - val_recall: 1.0000 - val_auc: 1.0000\n",
            "Epoch 62/100\n",
            "569/569 [==============================] - 6s 11ms/step - loss: 2.7819e-08 - accuracy: 1.0000 - precision: 1.0000 - recall: 1.0000 - auc: 1.0000 - val_loss: 3.5243e-08 - val_accuracy: 1.0000 - val_precision: 1.0000 - val_recall: 1.0000 - val_auc: 1.0000\n",
            "Epoch 63/100\n",
            "569/569 [==============================] - 6s 10ms/step - loss: 1.9492e-08 - accuracy: 1.0000 - precision: 1.0000 - recall: 1.0000 - auc: 1.0000 - val_loss: 2.4964e-08 - val_accuracy: 1.0000 - val_precision: 1.0000 - val_recall: 1.0000 - val_auc: 1.0000\n",
            "Epoch 64/100\n",
            "569/569 [==============================] - 6s 10ms/step - loss: 1.4857e-08 - accuracy: 1.0000 - precision: 1.0000 - recall: 1.0000 - auc: 1.0000 - val_loss: 2.6957e-08 - val_accuracy: 1.0000 - val_precision: 1.0000 - val_recall: 1.0000 - val_auc: 1.0000\n",
            "Epoch 65/100\n",
            "569/569 [==============================] - 6s 10ms/step - loss: 1.0871e-08 - accuracy: 1.0000 - precision: 1.0000 - recall: 1.0000 - auc: 1.0000 - val_loss: 1.7097e-08 - val_accuracy: 1.0000 - val_precision: 1.0000 - val_recall: 1.0000 - val_auc: 1.0000\n",
            "Epoch 66/100\n",
            "569/569 [==============================] - 6s 10ms/step - loss: 8.5496e-09 - accuracy: 1.0000 - precision: 1.0000 - recall: 1.0000 - auc: 1.0000 - val_loss: 1.4685e-08 - val_accuracy: 1.0000 - val_precision: 1.0000 - val_recall: 1.0000 - val_auc: 1.0000\n",
            "Epoch 67/100\n",
            "569/569 [==============================] - 6s 10ms/step - loss: 6.7990e-09 - accuracy: 1.0000 - precision: 1.0000 - recall: 1.0000 - auc: 1.0000 - val_loss: 7.1588e-09 - val_accuracy: 1.0000 - val_precision: 1.0000 - val_recall: 1.0000 - val_auc: 1.0000\n",
            "Epoch 68/100\n",
            "569/569 [==============================] - 6s 10ms/step - loss: 5.2517e-09 - accuracy: 1.0000 - precision: 1.0000 - recall: 1.0000 - auc: 1.0000 - val_loss: 1.3452e-08 - val_accuracy: 1.0000 - val_precision: 1.0000 - val_recall: 1.0000 - val_auc: 1.0000\n",
            "Epoch 69/100\n",
            "569/569 [==============================] - 6s 10ms/step - loss: 4.8124e-09 - accuracy: 1.0000 - precision: 1.0000 - recall: 1.0000 - auc: 1.0000 - val_loss: 6.1624e-09 - val_accuracy: 1.0000 - val_precision: 1.0000 - val_recall: 1.0000 - val_auc: 1.0000\n",
            "Epoch 70/100\n",
            "569/569 [==============================] - 6s 10ms/step - loss: 4.9829e-09 - accuracy: 1.0000 - precision: 1.0000 - recall: 1.0000 - auc: 1.0000 - val_loss: 6.6344e-09 - val_accuracy: 1.0000 - val_precision: 1.0000 - val_recall: 1.0000 - val_auc: 1.0000\n",
            "Epoch 71/100\n",
            "569/569 [==============================] - 6s 10ms/step - loss: 5.3238e-09 - accuracy: 1.0000 - precision: 1.0000 - recall: 1.0000 - auc: 1.0000 - val_loss: 1.6494e-08 - val_accuracy: 1.0000 - val_precision: 1.0000 - val_recall: 1.0000 - val_auc: 1.0000\n",
            "Epoch 72/100\n",
            "569/569 [==============================] - 6s 10ms/step - loss: 0.2795 - accuracy: 0.9918 - precision: 0.9698 - recall: 0.9646 - auc: 0.9931 - val_loss: 0.0110 - val_accuracy: 1.0000 - val_precision: 1.0000 - val_recall: 1.0000 - val_auc: 1.0000\n",
            "Epoch 73/100\n",
            "569/569 [==============================] - 6s 10ms/step - loss: 0.0018 - accuracy: 1.0000 - precision: 1.0000 - recall: 1.0000 - auc: 1.0000 - val_loss: 2.0592e-04 - val_accuracy: 1.0000 - val_precision: 1.0000 - val_recall: 1.0000 - val_auc: 1.0000\n",
            "Epoch 74/100\n",
            "569/569 [==============================] - 6s 10ms/step - loss: 1.0120e-04 - accuracy: 1.0000 - precision: 1.0000 - recall: 1.0000 - auc: 1.0000 - val_loss: 3.6160e-05 - val_accuracy: 1.0000 - val_precision: 1.0000 - val_recall: 1.0000 - val_auc: 1.0000\n",
            "Epoch 75/100\n",
            "569/569 [==============================] - 6s 10ms/step - loss: 2.9787e-05 - accuracy: 1.0000 - precision: 1.0000 - recall: 1.0000 - auc: 1.0000 - val_loss: 1.6350e-05 - val_accuracy: 1.0000 - val_precision: 1.0000 - val_recall: 1.0000 - val_auc: 1.0000\n",
            "Epoch 76/100\n",
            "569/569 [==============================] - 6s 10ms/step - loss: 9.9858e-06 - accuracy: 1.0000 - precision: 1.0000 - recall: 1.0000 - auc: 1.0000 - val_loss: 7.4063e-06 - val_accuracy: 1.0000 - val_precision: 1.0000 - val_recall: 1.0000 - val_auc: 1.0000\n",
            "Epoch 77/100\n",
            "569/569 [==============================] - 6s 10ms/step - loss: 5.8676e-06 - accuracy: 1.0000 - precision: 1.0000 - recall: 1.0000 - auc: 1.0000 - val_loss: 6.0923e-06 - val_accuracy: 1.0000 - val_precision: 1.0000 - val_recall: 1.0000 - val_auc: 1.0000\n",
            "Epoch 78/100\n",
            "569/569 [==============================] - 6s 10ms/step - loss: 3.4537e-06 - accuracy: 1.0000 - precision: 1.0000 - recall: 1.0000 - auc: 1.0000 - val_loss: 2.7804e-06 - val_accuracy: 1.0000 - val_precision: 1.0000 - val_recall: 1.0000 - val_auc: 1.0000\n",
            "Epoch 79/100\n",
            "569/569 [==============================] - 6s 10ms/step - loss: 1.9737e-06 - accuracy: 1.0000 - precision: 1.0000 - recall: 1.0000 - auc: 1.0000 - val_loss: 1.7069e-06 - val_accuracy: 1.0000 - val_precision: 1.0000 - val_recall: 1.0000 - val_auc: 1.0000\n",
            "Epoch 80/100\n",
            "569/569 [==============================] - 6s 10ms/step - loss: 1.3954e-06 - accuracy: 1.0000 - precision: 1.0000 - recall: 1.0000 - auc: 1.0000 - val_loss: 1.2565e-06 - val_accuracy: 1.0000 - val_precision: 1.0000 - val_recall: 1.0000 - val_auc: 1.0000\n",
            "Epoch 81/100\n",
            "569/569 [==============================] - 6s 10ms/step - loss: 9.0887e-07 - accuracy: 1.0000 - precision: 1.0000 - recall: 1.0000 - auc: 1.0000 - val_loss: 8.7336e-07 - val_accuracy: 1.0000 - val_precision: 1.0000 - val_recall: 1.0000 - val_auc: 1.0000\n",
            "Epoch 82/100\n",
            "569/569 [==============================] - 6s 10ms/step - loss: 6.3957e-07 - accuracy: 1.0000 - precision: 1.0000 - recall: 1.0000 - auc: 1.0000 - val_loss: 6.2399e-07 - val_accuracy: 1.0000 - val_precision: 1.0000 - val_recall: 1.0000 - val_auc: 1.0000\n",
            "Epoch 83/100\n",
            "569/569 [==============================] - 6s 10ms/step - loss: 4.8964e-07 - accuracy: 1.0000 - precision: 1.0000 - recall: 1.0000 - auc: 1.0000 - val_loss: 4.4533e-07 - val_accuracy: 1.0000 - val_precision: 1.0000 - val_recall: 1.0000 - val_auc: 1.0000\n",
            "Epoch 84/100\n",
            "569/569 [==============================] - 6s 10ms/step - loss: 3.2676e-07 - accuracy: 1.0000 - precision: 1.0000 - recall: 1.0000 - auc: 1.0000 - val_loss: 3.1727e-07 - val_accuracy: 1.0000 - val_precision: 1.0000 - val_recall: 1.0000 - val_auc: 1.0000\n",
            "Epoch 85/100\n",
            "569/569 [==============================] - 6s 10ms/step - loss: 2.2813e-07 - accuracy: 1.0000 - precision: 1.0000 - recall: 1.0000 - auc: 1.0000 - val_loss: 2.3183e-07 - val_accuracy: 1.0000 - val_precision: 1.0000 - val_recall: 1.0000 - val_auc: 1.0000\n",
            "Epoch 86/100\n",
            "569/569 [==============================] - 6s 10ms/step - loss: 1.5271e-07 - accuracy: 1.0000 - precision: 1.0000 - recall: 1.0000 - auc: 1.0000 - val_loss: 1.5422e-07 - val_accuracy: 1.0000 - val_precision: 1.0000 - val_recall: 1.0000 - val_auc: 1.0000\n",
            "Epoch 87/100\n",
            "569/569 [==============================] - 6s 10ms/step - loss: 1.1168e-07 - accuracy: 1.0000 - precision: 1.0000 - recall: 1.0000 - auc: 1.0000 - val_loss: 1.0835e-07 - val_accuracy: 1.0000 - val_precision: 1.0000 - val_recall: 1.0000 - val_auc: 1.0000\n",
            "Epoch 88/100\n",
            "569/569 [==============================] - 6s 10ms/step - loss: 7.5792e-08 - accuracy: 1.0000 - precision: 1.0000 - recall: 1.0000 - auc: 1.0000 - val_loss: 2.7982e-07 - val_accuracy: 1.0000 - val_precision: 1.0000 - val_recall: 1.0000 - val_auc: 1.0000\n",
            "Epoch 89/100\n",
            "569/569 [==============================] - 6s 11ms/step - loss: 5.2392e-08 - accuracy: 1.0000 - precision: 1.0000 - recall: 1.0000 - auc: 1.0000 - val_loss: 7.0408e-08 - val_accuracy: 1.0000 - val_precision: 1.0000 - val_recall: 1.0000 - val_auc: 1.0000\n",
            "Epoch 90/100\n",
            "569/569 [==============================] - 6s 11ms/step - loss: 3.8808e-08 - accuracy: 1.0000 - precision: 1.0000 - recall: 1.0000 - auc: 1.0000 - val_loss: 4.3609e-08 - val_accuracy: 1.0000 - val_precision: 1.0000 - val_recall: 1.0000 - val_auc: 1.0000\n",
            "Epoch 91/100\n",
            "569/569 [==============================] - 6s 11ms/step - loss: 2.9635e-08 - accuracy: 1.0000 - precision: 1.0000 - recall: 1.0000 - auc: 1.0000 - val_loss: 3.5899e-08 - val_accuracy: 1.0000 - val_precision: 1.0000 - val_recall: 1.0000 - val_auc: 1.0000\n",
            "Epoch 92/100\n",
            "569/569 [==============================] - 6s 10ms/step - loss: 2.0122e-08 - accuracy: 1.0000 - precision: 1.0000 - recall: 1.0000 - auc: 1.0000 - val_loss: 2.5515e-08 - val_accuracy: 1.0000 - val_precision: 1.0000 - val_recall: 1.0000 - val_auc: 1.0000\n",
            "Epoch 93/100\n",
            "569/569 [==============================] - 6s 10ms/step - loss: 1.6621e-08 - accuracy: 1.0000 - precision: 1.0000 - recall: 1.0000 - auc: 1.0000 - val_loss: 1.9038e-08 - val_accuracy: 1.0000 - val_precision: 1.0000 - val_recall: 1.0000 - val_auc: 1.0000\n",
            "Epoch 94/100\n",
            "569/569 [==============================] - 6s 10ms/step - loss: 1.0667e-08 - accuracy: 1.0000 - precision: 1.0000 - recall: 1.0000 - auc: 1.0000 - val_loss: 1.6756e-08 - val_accuracy: 1.0000 - val_precision: 1.0000 - val_recall: 1.0000 - val_auc: 1.0000\n",
            "Epoch 95/100\n",
            "569/569 [==============================] - 6s 10ms/step - loss: 8.3857e-09 - accuracy: 1.0000 - precision: 1.0000 - recall: 1.0000 - auc: 1.0000 - val_loss: 1.1617e-08 - val_accuracy: 1.0000 - val_precision: 1.0000 - val_recall: 1.0000 - val_auc: 1.0000\n",
            "Epoch 96/100\n",
            "569/569 [==============================] - 6s 10ms/step - loss: 5.5926e-09 - accuracy: 1.0000 - precision: 1.0000 - recall: 1.0000 - auc: 1.0000 - val_loss: 1.2875e-08 - val_accuracy: 1.0000 - val_precision: 1.0000 - val_recall: 1.0000 - val_auc: 1.0000\n",
            "Epoch 97/100\n",
            "569/569 [==============================] - 6s 10ms/step - loss: 4.9042e-09 - accuracy: 1.0000 - precision: 1.0000 - recall: 1.0000 - auc: 1.0000 - val_loss: 8.1553e-09 - val_accuracy: 1.0000 - val_precision: 1.0000 - val_recall: 1.0000 - val_auc: 1.0000\n",
            "Epoch 98/100\n",
            "569/569 [==============================] - 6s 11ms/step - loss: 3.7765e-09 - accuracy: 1.0000 - precision: 1.0000 - recall: 1.0000 - auc: 1.0000 - val_loss: 6.3722e-09 - val_accuracy: 1.0000 - val_precision: 1.0000 - val_recall: 1.0000 - val_auc: 1.0000\n",
            "Epoch 99/100\n",
            "569/569 [==============================] - 6s 10ms/step - loss: 2.8783e-09 - accuracy: 1.0000 - precision: 1.0000 - recall: 1.0000 - auc: 1.0000 - val_loss: 5.2183e-09 - val_accuracy: 1.0000 - val_precision: 1.0000 - val_recall: 1.0000 - val_auc: 1.0000\n",
            "Epoch 100/100\n",
            "569/569 [==============================] - 6s 10ms/step - loss: 2.1571e-09 - accuracy: 1.0000 - precision: 1.0000 - recall: 1.0000 - auc: 1.0000 - val_loss: 5.7952e-09 - val_accuracy: 1.0000 - val_precision: 1.0000 - val_recall: 1.0000 - val_auc: 1.0000\n",
            "Time Taken is:\n",
            "614.5320432186127\n",
            "CPU times: user 13min 17s, sys: 46.7 s, total: 14min 4s\n",
            "Wall time: 10min 14s\n"
          ]
        }
      ]
    },
    {
      "cell_type": "code",
      "source": [
        "ann_accuracy=0.99\n",
        "ann_recall=0.99\n",
        "ann_precision=0.99\n",
        "ann_f1score=0.99"
      ],
      "metadata": {
        "id": "Y5ZhTYznlSb1"
      },
      "id": "Y5ZhTYznlSb1",
      "execution_count": null,
      "outputs": []
    },
    {
      "cell_type": "code",
      "source": [
        "df_results = pd.DataFrame({'classifier':['Accuracy','Accuracy','Accuracy','Accuracy','Accuracy','Accuracy','Recall','Recall','Recall','Recall','Recall','Recall','Precision','Precision','Precision','Precision','Precision','Precision','F1-Score','F1-Score','F1-Score','F1-Score','F1-Score','F1-Score'],\n",
        "                           'data_set':['Decision Tree','Random Forest','XGBoost','KNN','SVM','ANN']*4,\n",
        "                           'accuracy':[dtaccuracy,rfaccuracy,xgaccuracy,knaccuracy,svaccuracy,ann_accuracy,dtrecall,rfrecall,xgrecall,knrecall,svrecall,ann_recall,dtprecision,rfprecision,xgprecision,knprecision,svprecision,ann_precision,dtfscore,rffscore,xgfscore,knfscore,svfscore,ann_f1score]\n",
        "                           })"
      ],
      "metadata": {
        "id": "lMpTeg67lSe0"
      },
      "id": "lMpTeg67lSe0",
      "execution_count": null,
      "outputs": []
    },
    {
      "cell_type": "code",
      "source": [
        "sns.set_style(\"whitegrid\")\n",
        "plt.figure(figsize=(10, 6))\n",
        "ax = sns.barplot(x = 'classifier', y = 'accuracy', hue = 'data_set', data = df_results,palette = \"Blues\")\n",
        "ax.set_xlabel('Measures', fontsize = 15)\n",
        "ax.set_ylabel('Ratio', fontsize = 15)\n",
        "ax.tick_params(labelsize = 15)\n",
        "\n",
        "#Separate legend from graph\n",
        "plt.legend(bbox_to_anchor = (1.05, 1), loc = 2, borderaxespad = 0., fontsize = 15)"
      ],
      "metadata": {
        "colab": {
          "base_uri": "https://localhost:8080/",
          "height": 415
        },
        "id": "FzM8OKs9k8gf",
        "outputId": "c45e3bfb-e0ee-470e-9e7d-b3d308cb46b2"
      },
      "id": "FzM8OKs9k8gf",
      "execution_count": null,
      "outputs": [
        {
          "output_type": "execute_result",
          "data": {
            "text/plain": [
              "<matplotlib.legend.Legend at 0x7ffb3e248d90>"
            ]
          },
          "metadata": {},
          "execution_count": 171
        },
        {
          "output_type": "display_data",
          "data": {
            "text/plain": [
              "<Figure size 720x432 with 1 Axes>"
            ],
            "image/png": "[encoded data removed]"
          },
          "metadata": {}
        }
      ]
    },
    {
      "cell_type": "markdown",
      "source": [
        "# Hyperparaeter Tunig"
      ],
      "metadata": {
        "id": "6RLriBnZ-GFZ"
      },
      "id": "6RLriBnZ-GFZ"
    },
    {
      "cell_type": "code",
      "source": [
        "dt = DecisionTreeClassifier(random_state=42)"
      ],
      "metadata": {
        "id": "AX5jgoSQ-Kdu"
      },
      "id": "AX5jgoSQ-Kdu",
      "execution_count": null,
      "outputs": []
    },
    {
      "cell_type": "code",
      "source": [
        "from sklearn.model_selection import GridSearchCV"
      ],
      "metadata": {
        "id": "NSLiE9W0-Mx2"
      },
      "id": "NSLiE9W0-Mx2",
      "execution_count": null,
      "outputs": []
    },
    {
      "cell_type": "code",
      "source": [
        "# Create the parameter grid based on the results of random search \n",
        "params = {\n",
        "    'max_depth': [2, 3, 5, 10, 20],\n",
        "    'min_samples_leaf': [5, 10, 20, 50, 100],\n",
        "    'criterion': [\"gini\", \"entropy\"]\n",
        "}"
      ],
      "metadata": {
        "id": "uyMEuFXf-Q70"
      },
      "id": "uyMEuFXf-Q70",
      "execution_count": null,
      "outputs": []
    },
    {
      "cell_type": "code",
      "source": [
        "# Instantiate the grid search model\n",
        "grid_search = GridSearchCV(estimator=dt, \n",
        "                           param_grid=params, \n",
        "                           cv=4, n_jobs=-1, verbose=1, scoring = \"accuracy\")"
      ],
      "metadata": {
        "id": "ibp5WP4q-TIH"
      },
      "id": "ibp5WP4q-TIH",
      "execution_count": null,
      "outputs": []
    },
    {
      "cell_type": "code",
      "source": [
        "%%time\n",
        "grid_search.fit(X_train, y_train)"
      ],
      "metadata": {
        "colab": {
          "base_uri": "https://localhost:8080/"
        },
        "id": "Facmd3Tp-WEU",
        "outputId": "1a1931a6-c26d-404e-8807-b2455ba7aa12"
      },
      "id": "Facmd3Tp-WEU",
      "execution_count": null,
      "outputs": [
        {
          "output_type": "stream",
          "name": "stdout",
          "text": [
            "Fitting 4 folds for each of 50 candidates, totalling 200 fits\n",
            "CPU times: user 2.97 s, sys: 164 ms, total: 3.13 s\n",
            "Wall time: 1min 19s\n"
          ]
        },
        {
          "output_type": "execute_result",
          "data": {
            "text/plain": [
              "GridSearchCV(cv=4, estimator=DecisionTreeClassifier(random_state=42), n_jobs=-1,\n",
              "             param_grid={'criterion': ['gini', 'entropy'],\n",
              "                         'max_depth': [2, 3, 5, 10, 20],\n",
              "                         'min_samples_leaf': [5, 10, 20, 50, 100]},\n",
              "             scoring='accuracy', verbose=1)"
            ]
          },
          "metadata": {},
          "execution_count": 34
        }
      ]
    },
    {
      "cell_type": "code",
      "source": [
        "score_df = pd.DataFrame(grid_search.cv_results_)\n",
        "score_df.head()"
      ],
      "metadata": {
        "colab": {
          "base_uri": "https://localhost:8080/",
          "height": 617
        },
        "id": "HYqqhMsJ-YcP",
        "outputId": "4d80381d-b289-4bab-e1e6-5f811577830e"
      },
      "id": "HYqqhMsJ-YcP",
      "execution_count": null,
      "outputs": [
        {
          "output_type": "execute_result",
          "data": {
            "text/plain": [
              "   mean_fit_time  std_fit_time  mean_score_time  std_score_time  \\\n",
              "0       0.240945      0.024471         0.024230        0.012914   \n",
              "1       0.246965      0.025528         0.014933        0.005936   \n",
              "2       0.273537      0.043953         0.016335        0.005304   \n",
              "3       0.211529      0.035078         0.010037        0.000308   \n",
              "4       0.235198      0.035260         0.017574        0.009206   \n",
              "\n",
              "  param_criterion param_max_depth param_min_samples_leaf  \\\n",
              "0            gini               2                      5   \n",
              "1            gini               2                     10   \n",
              "2            gini               2                     20   \n",
              "3            gini               2                     50   \n",
              "4            gini               2                    100   \n",
              "\n",
              "                                              params  split0_test_score  \\\n",
              "0  {'criterion': 'gini', 'max_depth': 2, 'min_sam...           0.377475   \n",
              "1  {'criterion': 'gini', 'max_depth': 2, 'min_sam...           0.377475   \n",
              "2  {'criterion': 'gini', 'max_depth': 2, 'min_sam...           0.377475   \n",
              "3  {'criterion': 'gini', 'max_depth': 2, 'min_sam...           0.377475   \n",
              "4  {'criterion': 'gini', 'max_depth': 2, 'min_sam...           0.377475   \n",
              "\n",
              "   split1_test_score  split2_test_score  split3_test_score  mean_test_score  \\\n",
              "0           0.372415           0.377778           0.377118         0.376196   \n",
              "1           0.372415           0.377778           0.377118         0.376196   \n",
              "2           0.372415           0.377778           0.377118         0.376196   \n",
              "3           0.372415           0.377778           0.377118         0.376196   \n",
              "4           0.372415           0.377778           0.377118         0.376196   \n",
              "\n",
              "   std_test_score  rank_test_score  \n",
              "0        0.002195               46  \n",
              "1        0.002195               46  \n",
              "2        0.002195               46  \n",
              "3        0.002195               46  \n",
              "4        0.002195               46  "
            ],
            "text/html": [
              "\n",
              "  <div id=\"df-a584ba97-19a1-46bc-96cd-3e1191c4f1b6\">\n",
              "    <div class=\"colab-df-container\">\n",
              "      <div>\n",
              "<style scoped>\n",
              "    .dataframe tbody tr th:only-of-type {\n",
              "        vertical-align: middle;\n",
              "    }\n",
              "\n",
              "    .dataframe tbody tr th {\n",
              "        vertical-align: top;\n",
              "    }\n",
              "\n",
              "    .dataframe thead th {\n",
              "        text-align: right;\n",
              "    }\n",
              "</style>\n",
              "<table border=\"1\" class=\"dataframe\">\n",
              "  <thead>\n",
              "    <tr style=\"text-align: right;\">\n",
              "      <th></th>\n",
              "      <th>mean_fit_time</th>\n",
              "      <th>std_fit_time</th>\n",
              "      <th>mean_score_time</th>\n",
              "      <th>std_score_time</th>\n",
              "      <th>param_criterion</th>\n",
              "      <th>param_max_depth</th>\n",
              "      <th>param_min_samples_leaf</th>\n",
              "      <th>params</th>\n",
              "      <th>split0_test_score</th>\n",
              "      <th>split1_test_score</th>\n",
              "      <th>split2_test_score</th>\n",
              "      <th>split3_test_score</th>\n",
              "      <th>mean_test_score</th>\n",
              "      <th>std_test_score</th>\n",
              "      <th>rank_test_score</th>\n",
              "    </tr>\n",
              "  </thead>\n",
              "  <tbody>\n",
              "    <tr>\n",
              "      <th>0</th>\n",
              "      <td>0.240945</td>\n",
              "      <td>0.024471</td>\n",
              "      <td>0.024230</td>\n",
              "      <td>0.012914</td>\n",
              "      <td>gini</td>\n",
              "      <td>2</td>\n",
              "      <td>5</td>\n",
              "      <td>{'criterion': 'gini', 'max_depth': 2, 'min_sam...</td>\n",
              "      <td>0.377475</td>\n",
              "      <td>0.372415</td>\n",
              "      <td>0.377778</td>\n",
              "      <td>0.377118</td>\n",
              "      <td>0.376196</td>\n",
              "      <td>0.002195</td>\n",
              "      <td>46</td>\n",
              "    </tr>\n",
              "    <tr>\n",
              "      <th>1</th>\n",
              "      <td>0.246965</td>\n",
              "      <td>0.025528</td>\n",
              "      <td>0.014933</td>\n",
              "      <td>0.005936</td>\n",
              "      <td>gini</td>\n",
              "      <td>2</td>\n",
              "      <td>10</td>\n",
              "      <td>{'criterion': 'gini', 'max_depth': 2, 'min_sam...</td>\n",
              "      <td>0.377475</td>\n",
              "      <td>0.372415</td>\n",
              "      <td>0.377778</td>\n",
              "      <td>0.377118</td>\n",
              "      <td>0.376196</td>\n",
              "      <td>0.002195</td>\n",
              "      <td>46</td>\n",
              "    </tr>\n",
              "    <tr>\n",
              "      <th>2</th>\n",
              "      <td>0.273537</td>\n",
              "      <td>0.043953</td>\n",
              "      <td>0.016335</td>\n",
              "      <td>0.005304</td>\n",
              "      <td>gini</td>\n",
              "      <td>2</td>\n",
              "      <td>20</td>\n",
              "      <td>{'criterion': 'gini', 'max_depth': 2, 'min_sam...</td>\n",
              "      <td>0.377475</td>\n",
              "      <td>0.372415</td>\n",
              "      <td>0.377778</td>\n",
              "      <td>0.377118</td>\n",
              "      <td>0.376196</td>\n",
              "      <td>0.002195</td>\n",
              "      <td>46</td>\n",
              "    </tr>\n",
              "    <tr>\n",
              "      <th>3</th>\n",
              "      <td>0.211529</td>\n",
              "      <td>0.035078</td>\n",
              "      <td>0.010037</td>\n",
              "      <td>0.000308</td>\n",
              "      <td>gini</td>\n",
              "      <td>2</td>\n",
              "      <td>50</td>\n",
              "      <td>{'criterion': 'gini', 'max_depth': 2, 'min_sam...</td>\n",
              "      <td>0.377475</td>\n",
              "      <td>0.372415</td>\n",
              "      <td>0.377778</td>\n",
              "      <td>0.377118</td>\n",
              "      <td>0.376196</td>\n",
              "      <td>0.002195</td>\n",
              "      <td>46</td>\n",
              "    </tr>\n",
              "    <tr>\n",
              "      <th>4</th>\n",
              "      <td>0.235198</td>\n",
              "      <td>0.035260</td>\n",
              "      <td>0.017574</td>\n",
              "      <td>0.009206</td>\n",
              "      <td>gini</td>\n",
              "      <td>2</td>\n",
              "      <td>100</td>\n",
              "      <td>{'criterion': 'gini', 'max_depth': 2, 'min_sam...</td>\n",
              "      <td>0.377475</td>\n",
              "      <td>0.372415</td>\n",
              "      <td>0.377778</td>\n",
              "      <td>0.377118</td>\n",
              "      <td>0.376196</td>\n",
              "      <td>0.002195</td>\n",
              "      <td>46</td>\n",
              "    </tr>\n",
              "  </tbody>\n",
              "</table>\n",
              "</div>\n",
              "      <button class=\"colab-df-convert\" onclick=\"convertToInteractive('df-a584ba97-19a1-46bc-96cd-3e1191c4f1b6')\"\n",
              "              title=\"Convert this dataframe to an interactive table.\"\n",
              "              style=\"display:none;\">\n",
              "        \n",
              "  <svg xmlns=\"http://www.w3.org/2000/svg\" height=\"24px\"viewBox=\"0 0 24 24\"\n",
              "       width=\"24px\">\n",
              "    <path d=\"M0 0h24v24H0V0z\" fill=\"none\"/>\n",
              "    <path d=\"M18.56 5.44l.94 2.06.94-2.06 2.06-.94-2.06-.94-.94-2.06-.94 2.06-2.06.94zm-11 1L8.5 8.5l.94-2.06 2.06-.94-2.06-.94L8.5 2.5l-.94 2.06-2.06.94zm10 10l.94 2.06.94-2.06 2.06-.94-2.06-.94-.94-2.06-.94 2.06-2.06.94z\"/><path d=\"M17.41 7.96l-1.37-1.37c-.4-.4-.92-.59-1.43-.59-.52 0-1.04.2-1.43.59L10.3 9.45l-7.72 7.72c-.78.78-.78 2.05 0 2.83L4 21.41c.39.39.9.59 1.41.59.51 0 1.02-.2 1.41-.59l7.78-7.78 2.81-2.81c.8-.78.8-2.07 0-2.86zM5.41 20L4 18.59l7.72-7.72 1.47 1.35L5.41 20z\"/>\n",
              "  </svg>\n",
              "      </button>\n",
              "      \n",
              "  <style>\n",
              "    .colab-df-container {\n",
              "      display:flex;\n",
              "      flex-wrap:wrap;\n",
              "      gap: 12px;\n",
              "    }\n",
              "\n",
              "    .colab-df-convert {\n",
              "      background-color: #E8F0FE;\n",
              "      border: none;\n",
              "      border-radius: 50%;\n",
              "      cursor: pointer;\n",
              "      display: none;\n",
              "      fill: #1967D2;\n",
              "      height: 32px;\n",
              "      padding: 0 0 0 0;\n",
              "      width: 32px;\n",
              "    }\n",
              "\n",
              "    .colab-df-convert:hover {\n",
              "      background-color: #E2EBFA;\n",
              "      box-shadow: 0px 1px 2px rgba(60, 64, 67, 0.3), 0px 1px 3px 1px rgba(60, 64, 67, 0.15);\n",
              "      fill: #174EA6;\n",
              "    }\n",
              "\n",
              "    [theme=dark] .colab-df-convert {\n",
              "      background-color: #3B4455;\n",
              "      fill: #D2E3FC;\n",
              "    }\n",
              "\n",
              "    [theme=dark] .colab-df-convert:hover {\n",
              "      background-color: #434B5C;\n",
              "      box-shadow: 0px 1px 3px 1px rgba(0, 0, 0, 0.15);\n",
              "      filter: drop-shadow(0px 1px 2px rgba(0, 0, 0, 0.3));\n",
              "      fill: #FFFFFF;\n",
              "    }\n",
              "  </style>\n",
              "\n",
              "      <script>\n",
              "        const buttonEl =\n",
              "          document.querySelector('#df-a584ba97-19a1-46bc-96cd-3e1191c4f1b6 button.colab-df-convert');\n",
              "        buttonEl.style.display =\n",
              "          google.colab.kernel.accessAllowed ? 'block' : 'none';\n",
              "\n",
              "        async function convertToInteractive(key) {\n",
              "          const element = document.querySelector('#df-a584ba97-19a1-46bc-96cd-3e1191c4f1b6');\n",
              "          const dataTable =\n",
              "            await google.colab.kernel.invokeFunction('convertToInteractive',\n",
              "                                                     [key], {});\n",
              "          if (!dataTable) return;\n",
              "\n",
              "          const docLinkHtml = 'Like what you see? Visit the ' +\n",
              "            '<a target=\"_blank\" href=https://colab.research.google.com/notebooks/data_table.ipynb>data table notebook</a>'\n",
              "            + ' to learn more about interactive tables.';\n",
              "          element.innerHTML = '';\n",
              "          dataTable['output_type'] = 'display_data';\n",
              "          await google.colab.output.renderOutput(dataTable, element);\n",
              "          const docLink = document.createElement('div');\n",
              "          docLink.innerHTML = docLinkHtml;\n",
              "          element.appendChild(docLink);\n",
              "        }\n",
              "      </script>\n",
              "    </div>\n",
              "  </div>\n",
              "  "
            ]
          },
          "metadata": {},
          "execution_count": 35
        }
      ]
    },
    {
      "cell_type": "code",
      "source": [
        "grid_search.best_estimator_"
      ],
      "metadata": {
        "colab": {
          "base_uri": "https://localhost:8080/"
        },
        "id": "7Hb6I2Ls-bXm",
        "outputId": "c2542165-b1b7-4afd-dc0a-d5a529b2738f"
      },
      "id": "7Hb6I2Ls-bXm",
      "execution_count": null,
      "outputs": [
        {
          "output_type": "execute_result",
          "data": {
            "text/plain": [
              "DecisionTreeClassifier(max_depth=20, min_samples_leaf=5, random_state=42)"
            ]
          },
          "metadata": {},
          "execution_count": 36
        }
      ]
    },
    {
      "cell_type": "code",
      "source": [
        ""
      ],
      "metadata": {
        "id": "9Iig7Uzd-fOH"
      },
      "id": "9Iig7Uzd-fOH",
      "execution_count": null,
      "outputs": []
    }
  ],
  "metadata": {
    "kernelspec": {
      "display_name": "Python 3 (ipykernel)",
      "language": "python",
      "name": "python3"
    },
    "language_info": {
      "codemirror_mode": {
        "name": "ipython",
        "version": 3
      },
      "file_extension": ".py",
      "mimetype": "text/x-python",
      "name": "python",
      "nbconvert_exporter": "python",
      "pygments_lexer": "ipython3",
      "version": "3.9.7"
    },
    "colab": {
      "name": "Multiclasss Tor nontor.ipynb",
      "provenance": [],
      "toc_visible": true
    }
  },
  "nbformat": 4,
  "nbformat_minor": 5
}